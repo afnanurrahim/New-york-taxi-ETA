{
 "cells": [
  {
   "cell_type": "code",
   "execution_count": 1,
   "id": "38c2ef5a",
   "metadata": {},
   "outputs": [],
   "source": [
    "import pandas as pd"
   ]
  },
  {
   "cell_type": "code",
   "execution_count": 2,
   "id": "5b74d2b4",
   "metadata": {},
   "outputs": [],
   "source": [
    "path = \"/Users/afnan/Desktop/python/Data_science_Notes/Uber_data/dataset\""
   ]
  },
  {
   "cell_type": "code",
   "execution_count": 3,
   "id": "45ad48ab",
   "metadata": {},
   "outputs": [],
   "source": [
    "jan_df = pd.read_parquet(f'{path}/january.parquet')\n",
    "feb_df = pd.read_parquet(f'{path}/february.parquet')\n",
    "march_df = pd.read_parquet(f'{path}/march.parquet')\n",
    "april_df = pd.read_parquet(f'{path}/april.parquet')\n",
    "may_df = pd.read_parquet(f'{path}/may.parquet')\n",
    "june_df = pd.read_parquet(f'{path}/june.parquet')\n",
    "july_df = pd.read_parquet(f'{path}/july.parquet')\n",
    "aug_df = pd.read_parquet(f'{path}/august.parquet')\n",
    "sep_df = pd.read_parquet(f'{path}/september.parquet')\n",
    "oct_df = pd.read_parquet(f'{path}/october.parquet')\n",
    "nov_df = pd.read_parquet(f'{path}/november.parquet')\n",
    "dec_df = pd.read_parquet(f'{path}/december.parquet')"
   ]
  },
  {
   "cell_type": "code",
   "execution_count": 4,
   "id": "08a4ebb5",
   "metadata": {},
   "outputs": [],
   "source": [
    "month_var = [jan_df, feb_df, march_df, april_df, may_df, june_df, july_df, aug_df, sep_df, oct_df, nov_df, dec_df,]"
   ]
  },
  {
   "cell_type": "code",
   "execution_count": 9,
   "id": "c2ceb8d0",
   "metadata": {},
   "outputs": [],
   "source": [
    "month_name = [\"january\", \"february\", \"march\", \"april\", \"may\", \"june\", \"july\", \"august\", \"september\", \"october\", \"november\", \"december\"]"
   ]
  },
  {
   "cell_type": "code",
   "execution_count": 10,
   "id": "00ab46c4",
   "metadata": {},
   "outputs": [],
   "source": [
    "month_dict = dict(zip(month_name, month_var))"
   ]
  },
  {
   "cell_type": "code",
   "execution_count": 14,
   "id": "80270d86",
   "metadata": {},
   "outputs": [],
   "source": [
    "for month in month_dict:\n",
    "    sampled_df = month_dict[month].iloc[::10]\n",
    "    sampled_df.to_parquet(f'systematic_sample_dataset/{month}_sample.parquet')"
   ]
  },
  {
   "cell_type": "code",
   "execution_count": null,
   "id": "b902a8b5",
   "metadata": {},
   "outputs": [],
   "source": []
  }
 ],
 "metadata": {
  "kernelspec": {
   "display_name": "Python 3.10 (tensorflow)",
   "language": "python",
   "name": "tensorflow"
  },
  "language_info": {
   "codemirror_mode": {
    "name": "ipython",
    "version": 3
   },
   "file_extension": ".py",
   "mimetype": "text/x-python",
   "name": "python",
   "nbconvert_exporter": "python",
   "pygments_lexer": "ipython3",
   "version": "3.10.11"
  }
 },
 "nbformat": 4,
 "nbformat_minor": 5
}
