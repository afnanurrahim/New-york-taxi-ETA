{
 "cells": [
  {
   "cell_type": "code",
   "execution_count": 1,
   "id": "45a80b74",
   "metadata": {},
   "outputs": [],
   "source": [
    "import os \n",
    "import polars as pl\n",
    "import pickle"
   ]
  },
  {
   "cell_type": "code",
   "execution_count": 2,
   "id": "50694729",
   "metadata": {},
   "outputs": [],
   "source": [
    "path = \"/Users/afnan/Desktop/python/Data_science_Notes/Uber_data\""
   ]
  },
  {
   "cell_type": "code",
   "execution_count": 3,
   "id": "009cf8fa",
   "metadata": {},
   "outputs": [],
   "source": [
    "all_files = os.listdir(f\"{path}/4_ETA/preprocessed\")\n",
    "parquet_files = [file for file in all_files if file.endswith(\".parquet\")]"
   ]
  },
  {
   "cell_type": "code",
   "execution_count": 4,
   "id": "75fe1b5c",
   "metadata": {},
   "outputs": [],
   "source": [
    "feature_cols = ['taxi_company', 'trip_miles',  'wav_request_flag', 'wav_match_flag', 'dispatching_base_num', \n",
    "                'PULocationID', 'PUBorough', 'PUservice_zone', 'DOLocationID', 'DOBorough', 'DOservice_zone', \n",
    "                'any_tolls', 'hour_of_day', 'day_of_week', 'month', 'traffic',\n",
    "                'feel', 'humidity', 'BR', 'CLR', 'SN', 'wind_speed', 'wind_direction',\n",
    "                'trip_time', 'minutes_per_mile']"
   ]
  },
  {
   "cell_type": "code",
   "execution_count": 5,
   "id": "755afcae",
   "metadata": {},
   "outputs": [],
   "source": [
    "df1 = pl.read_parquet(f\"{path}/4_ETA/preprocessed/{parquet_files[0]}\", columns=feature_cols)\n",
    "df2 = pl.read_parquet(f\"{path}/4_ETA/preprocessed/{parquet_files[1]}\", columns=feature_cols)\n",
    "df3 = pl.read_parquet(f\"{path}/4_ETA/preprocessed/{parquet_files[2]}\", columns=feature_cols)\n",
    "df4 = pl.read_parquet(f\"{path}/4_ETA/preprocessed/{parquet_files[3]}\", columns=feature_cols)\n",
    "df5 = pl.read_parquet(f\"{path}/4_ETA/preprocessed/{parquet_files[4]}\", columns=feature_cols)\n",
    "df6 = pl.read_parquet(f\"{path}/4_ETA/preprocessed/{parquet_files[5]}\", columns=feature_cols)\n",
    "df7 = pl.read_parquet(f\"{path}/4_ETA/preprocessed/{parquet_files[6]}\", columns=feature_cols)\n",
    "df8 = pl.read_parquet(f\"{path}/4_ETA/preprocessed/{parquet_files[7]}\", columns=feature_cols)"
   ]
  },
  {
   "cell_type": "code",
   "execution_count": 6,
   "id": "3b0c6564",
   "metadata": {},
   "outputs": [],
   "source": [
    "dfs = [df1, df2, df3, df4, df5, df6, df7, df8]"
   ]
  },
  {
   "cell_type": "code",
   "execution_count": 7,
   "id": "fab73308",
   "metadata": {},
   "outputs": [],
   "source": [
    "combined_df = pl.concat(dfs)"
   ]
  },
  {
   "cell_type": "code",
   "execution_count": 8,
   "id": "869d7ff4",
   "metadata": {},
   "outputs": [],
   "source": [
    "test_df = combined_df[::100]"
   ]
  },
  {
   "cell_type": "code",
   "execution_count": 9,
   "id": "faab7873",
   "metadata": {},
   "outputs": [
    {
     "data": {
      "text/plain": [
       "(162772, 25)"
      ]
     },
     "execution_count": 9,
     "metadata": {},
     "output_type": "execute_result"
    }
   ],
   "source": [
    "test_df.shape"
   ]
  },
  {
   "cell_type": "code",
   "execution_count": 10,
   "id": "1318a817",
   "metadata": {},
   "outputs": [],
   "source": [
    "encoded_df = test_df"
   ]
  },
  {
   "cell_type": "markdown",
   "id": "ea9bd2ba",
   "metadata": {},
   "source": [
    "##### Label encoding"
   ]
  },
  {
   "cell_type": "code",
   "execution_count": 11,
   "id": "ca14c1ed",
   "metadata": {},
   "outputs": [],
   "source": [
    "month_mapping = { \"January\": 1, \"February\": 2, \"March\": 3, \"April\": 4, \"May\": 5, \"June\": 6, \"July\": 7,\n",
    "                  \"August\": 8, \"September\": 9, \"October\": 10, \"November\": 11, \"December\": 12\n",
    "                }\n",
    "\n",
    "day_of_week_mapping = {\n",
    "    \"Monday\": 1, \"Tuesday\": 2, \"Wednesday\": 3, \"Thursday\": 4, \"Friday\": 5, \"Saturday\": 6, \"Sunday\": 7\n",
    "}\n",
    "\n",
    "taxi_mapping = {'Lyft': 0, 'Uber': 1, 'Via': 2}\n",
    "dbn_mapping = {'B02510': 1, 'B02866': 13, 'B02764': 5, 'B02836': 9, 'B02872': 18, 'B02887': 28, 'B02765': 6, \n",
    "               'B02867': 14, 'B02877': 21, 'B02835': 8, 'B02883': 26, 'B02682': 4, 'B02876': 20, 'B02617': 3, \n",
    "               'B02882': 25, 'B02512': 2, 'B02869': 15, 'B02871': 17, 'B02878': 22, 'B02870': 16, 'B02864': 11, \n",
    "               'B02884': 27, 'B02395': 0, 'B02875': 19, 'B02865': 12, 'B02880': 24, 'B02889': 30, 'B02888': 29, \n",
    "               'B02879': 23, 'B02800': 7, 'B02844': 10, 'B03136': 31, 'B03406': 33, 'B03404': 32}\n",
    "wind_mapping = {'SE': 5, 'NW': 3, 'NE': 2, 'S': 4, 'N': 1, 'E': 0, 'SW': 6, 'W': 7}\n",
    "\n",
    "borough_mapping = { \"Queens\": 1, \"Manhattan\": 2, \"Bronx\": 3, \"Staten Island\": 4, \"Brooklyn\": 5, \"EWR\": 6 }\n",
    "zone_mapping = {\"Yellow Zone\":1, \"Boro Zone\":2, \"Airports\":3}"
   ]
  },
  {
   "cell_type": "code",
   "execution_count": 12,
   "id": "95624f93",
   "metadata": {},
   "outputs": [],
   "source": [
    "categories = {\n",
    "              'day_of_week': day_of_week_mapping, \n",
    "              'dispatching_base_num': dbn_mapping,\n",
    "              'month': month_mapping, \n",
    "              'taxi_company': taxi_mapping, \n",
    "              'wind_direction' : wind_mapping,\n",
    "              'PUBorough': borough_mapping,\n",
    "              'DOBorough': borough_mapping,\n",
    "              'PUservice_zone': zone_mapping,\n",
    "              'DOservice_zone': zone_mapping\n",
    "}"
   ]
  },
  {
   "cell_type": "code",
   "execution_count": 13,
   "id": "26251191",
   "metadata": {},
   "outputs": [],
   "source": [
    "for cat in categories:\n",
    "    encoded_df = encoded_df.with_columns(pl.col(cat).replace(categories[cat]).cast(pl.Int64, strict=False))"
   ]
  },
  {
   "cell_type": "markdown",
   "id": "36b743dc",
   "metadata": {},
   "source": [
    "##### Load model"
   ]
  },
  {
   "cell_type": "code",
   "execution_count": 14,
   "id": "466488e7",
   "metadata": {},
   "outputs": [],
   "source": [
    "model = pickle.load(open(f\"{path}/4_ETA/xgb_model.pkl\", 'rb'))"
   ]
  },
  {
   "cell_type": "code",
   "execution_count": 15,
   "id": "d44bb58d",
   "metadata": {},
   "outputs": [],
   "source": [
    "train_cols = feature_cols[:-2]"
   ]
  },
  {
   "cell_type": "code",
   "execution_count": 16,
   "id": "2ac50b85",
   "metadata": {},
   "outputs": [],
   "source": [
    "test_df = test_df.with_columns((model.predict(encoded_df[train_cols])*encoded_df['trip_miles']).alias(\"prediction\"))"
   ]
  },
  {
   "cell_type": "code",
   "execution_count": 17,
   "id": "600f63c1",
   "metadata": {},
   "outputs": [],
   "source": [
    "test_df = test_df.drop(\"minutes_per_mile\")"
   ]
  },
  {
   "cell_type": "code",
   "execution_count": 18,
   "id": "67a8cc91",
   "metadata": {},
   "outputs": [],
   "source": [
    "test_df = test_df.with_columns((abs(test_df['trip_time'] - test_df['prediction'])).alias(\"error\"))"
   ]
  },
  {
   "cell_type": "code",
   "execution_count": 19,
   "id": "d0e9e10c",
   "metadata": {},
   "outputs": [
    {
     "data": {
      "text/html": [
       "<div><style>\n",
       ".dataframe > thead > tr,\n",
       ".dataframe > tbody > tr {\n",
       "  text-align: right;\n",
       "  white-space: pre-wrap;\n",
       "}\n",
       "</style>\n",
       "<small>shape: (5, 4)</small><table border=\"1\" class=\"dataframe\"><thead><tr><th>LocationID</th><th>Borough</th><th>Zone</th><th>service_zone</th></tr><tr><td>i64</td><td>str</td><td>str</td><td>str</td></tr></thead><tbody><tr><td>1</td><td>&quot;EWR&quot;</td><td>&quot;Newark Airport…</td><td>&quot;EWR&quot;</td></tr><tr><td>2</td><td>&quot;Queens&quot;</td><td>&quot;Jamaica Bay&quot;</td><td>&quot;Boro Zone&quot;</td></tr><tr><td>3</td><td>&quot;Bronx&quot;</td><td>&quot;Allerton/Pelha…</td><td>&quot;Boro Zone&quot;</td></tr><tr><td>4</td><td>&quot;Manhattan&quot;</td><td>&quot;Alphabet City&quot;</td><td>&quot;Yellow Zone&quot;</td></tr><tr><td>5</td><td>&quot;Staten Island&quot;</td><td>&quot;Arden Heights&quot;</td><td>&quot;Boro Zone&quot;</td></tr></tbody></table></div>"
      ],
      "text/plain": [
       "shape: (5, 4)\n",
       "┌────────────┬───────────────┬─────────────────────────┬──────────────┐\n",
       "│ LocationID ┆ Borough       ┆ Zone                    ┆ service_zone │\n",
       "│ ---        ┆ ---           ┆ ---                     ┆ ---          │\n",
       "│ i64        ┆ str           ┆ str                     ┆ str          │\n",
       "╞════════════╪═══════════════╪═════════════════════════╪══════════════╡\n",
       "│ 1          ┆ EWR           ┆ Newark Airport          ┆ EWR          │\n",
       "│ 2          ┆ Queens        ┆ Jamaica Bay             ┆ Boro Zone    │\n",
       "│ 3          ┆ Bronx         ┆ Allerton/Pelham Gardens ┆ Boro Zone    │\n",
       "│ 4          ┆ Manhattan     ┆ Alphabet City           ┆ Yellow Zone  │\n",
       "│ 5          ┆ Staten Island ┆ Arden Heights           ┆ Boro Zone    │\n",
       "└────────────┴───────────────┴─────────────────────────┴──────────────┘"
      ]
     },
     "execution_count": 19,
     "metadata": {},
     "output_type": "execute_result"
    }
   ],
   "source": [
    "taxi_zone_lookup = pl.read_csv(f'{path}/dataset/taxi_zone_lookup.csv')\n",
    "taxi_zone_lookup.head()"
   ]
  },
  {
   "cell_type": "code",
   "execution_count": 20,
   "id": "fc851ec7",
   "metadata": {},
   "outputs": [],
   "source": [
    "test_df = test_df.join(taxi_zone_lookup[[\"LocationID\", \"Zone\"]], left_on=\"PULocationID\", right_on=\"LocationID\")\\\n",
    "                    .rename({\"Zone\":\"PUZone\"})\n",
    "test_df = test_df.join(taxi_zone_lookup[[\"LocationID\", \"Zone\"]], left_on=\"DOLocationID\", right_on=\"LocationID\")\\\n",
    "                    .rename({\"Zone\":\"DOZone\"})"
   ]
  },
  {
   "cell_type": "code",
   "execution_count": 22,
   "id": "b7c6b0e2",
   "metadata": {},
   "outputs": [
    {
     "data": {
      "text/html": [
       "<div><style>\n",
       ".dataframe > thead > tr,\n",
       ".dataframe > tbody > tr {\n",
       "  text-align: right;\n",
       "  white-space: pre-wrap;\n",
       "}\n",
       "</style>\n",
       "<small>shape: (5, 28)</small><table border=\"1\" class=\"dataframe\"><thead><tr><th>taxi_company</th><th>trip_miles</th><th>wav_request_flag</th><th>wav_match_flag</th><th>dispatching_base_num</th><th>PULocationID</th><th>PUBorough</th><th>PUservice_zone</th><th>DOLocationID</th><th>DOBorough</th><th>DOservice_zone</th><th>any_tolls</th><th>hour_of_day</th><th>day_of_week</th><th>month</th><th>traffic</th><th>feel</th><th>humidity</th><th>BR</th><th>CLR</th><th>SN</th><th>wind_speed</th><th>wind_direction</th><th>trip_time</th><th>prediction</th><th>error</th><th>PUZone</th><th>DOZone</th></tr><tr><td>str</td><td>f64</td><td>i32</td><td>i32</td><td>str</td><td>i64</td><td>str</td><td>str</td><td>i64</td><td>str</td><td>str</td><td>i32</td><td>i32</td><td>str</td><td>str</td><td>i32</td><td>f64</td><td>f64</td><td>i64</td><td>i64</td><td>i64</td><td>f64</td><td>str</td><td>f64</td><td>f64</td><td>f64</td><td>str</td><td>str</td></tr></thead><tbody><tr><td>&quot;Lyft&quot;</td><td>2.1</td><td>0</td><td>0</td><td>&quot;B02510&quot;</td><td>39</td><td>&quot;Brooklyn&quot;</td><td>&quot;Boro Zone&quot;</td><td>72</td><td>&quot;Brooklyn&quot;</td><td>&quot;Boro Zone&quot;</td><td>0</td><td>14</td><td>&quot;Sunday&quot;</td><td>&quot;July&quot;</td><td>24000</td><td>73.9</td><td>81.82</td><td>0</td><td>1</td><td>0</td><td>9.0</td><td>&quot;SE&quot;</td><td>11.55</td><td>11.324217</td><td>0.225783</td><td>&quot;Canarsie&quot;</td><td>&quot;East Flatbush/…</td></tr><tr><td>&quot;Lyft&quot;</td><td>0.964</td><td>0</td><td>0</td><td>&quot;B02510&quot;</td><td>205</td><td>&quot;Queens&quot;</td><td>&quot;Boro Zone&quot;</td><td>122</td><td>&quot;Queens&quot;</td><td>&quot;Boro Zone&quot;</td><td>0</td><td>14</td><td>&quot;Sunday&quot;</td><td>&quot;July&quot;</td><td>24000</td><td>73.9</td><td>81.82</td><td>0</td><td>1</td><td>0</td><td>9.0</td><td>&quot;SE&quot;</td><td>6.1</td><td>5.226246</td><td>0.873754</td><td>&quot;Saint Albans&quot;</td><td>&quot;Hollis&quot;</td></tr><tr><td>&quot;Lyft&quot;</td><td>5.701</td><td>0</td><td>0</td><td>&quot;B02510&quot;</td><td>129</td><td>&quot;Queens&quot;</td><td>&quot;Boro Zone&quot;</td><td>192</td><td>&quot;Queens&quot;</td><td>&quot;Boro Zone&quot;</td><td>0</td><td>14</td><td>&quot;Sunday&quot;</td><td>&quot;July&quot;</td><td>24000</td><td>73.9</td><td>81.82</td><td>0</td><td>1</td><td>0</td><td>9.0</td><td>&quot;SE&quot;</td><td>14.366667</td><td>20.508784</td><td>6.142117</td><td>&quot;Jackson Height…</td><td>&quot;Queensboro Hil…</td></tr><tr><td>&quot;Uber&quot;</td><td>1.79</td><td>0</td><td>0</td><td>&quot;B02869&quot;</td><td>226</td><td>&quot;Queens&quot;</td><td>&quot;Boro Zone&quot;</td><td>129</td><td>&quot;Queens&quot;</td><td>&quot;Boro Zone&quot;</td><td>0</td><td>14</td><td>&quot;Sunday&quot;</td><td>&quot;July&quot;</td><td>24000</td><td>73.9</td><td>81.82</td><td>0</td><td>1</td><td>0</td><td>9.0</td><td>&quot;SE&quot;</td><td>17.933333</td><td>11.384996</td><td>6.548337</td><td>&quot;Sunnyside&quot;</td><td>&quot;Jackson Height…</td></tr><tr><td>&quot;Uber&quot;</td><td>0.63</td><td>0</td><td>0</td><td>&quot;B02882&quot;</td><td>63</td><td>&quot;Brooklyn&quot;</td><td>&quot;Boro Zone&quot;</td><td>76</td><td>&quot;Brooklyn&quot;</td><td>&quot;Boro Zone&quot;</td><td>0</td><td>14</td><td>&quot;Sunday&quot;</td><td>&quot;July&quot;</td><td>24000</td><td>73.9</td><td>81.82</td><td>0</td><td>1</td><td>0</td><td>9.0</td><td>&quot;SE&quot;</td><td>5.45</td><td>4.766952</td><td>0.683048</td><td>&quot;Cypress Hills&quot;</td><td>&quot;East New York&quot;</td></tr></tbody></table></div>"
      ],
      "text/plain": [
       "shape: (5, 28)\n",
       "┌───────────┬───────────┬───────────┬───────────┬───┬───────────┬──────────┬───────────┬───────────┐\n",
       "│ taxi_comp ┆ trip_mile ┆ wav_reque ┆ wav_match ┆ … ┆ predictio ┆ error    ┆ PUZone    ┆ DOZone    │\n",
       "│ any       ┆ s         ┆ st_flag   ┆ _flag     ┆   ┆ n         ┆ ---      ┆ ---       ┆ ---       │\n",
       "│ ---       ┆ ---       ┆ ---       ┆ ---       ┆   ┆ ---       ┆ f64      ┆ str       ┆ str       │\n",
       "│ str       ┆ f64       ┆ i32       ┆ i32       ┆   ┆ f64       ┆          ┆           ┆           │\n",
       "╞═══════════╪═══════════╪═══════════╪═══════════╪═══╪═══════════╪══════════╪═══════════╪═══════════╡\n",
       "│ Lyft      ┆ 2.1       ┆ 0         ┆ 0         ┆ … ┆ 11.324217 ┆ 0.225783 ┆ Canarsie  ┆ East Flat │\n",
       "│           ┆           ┆           ┆           ┆   ┆           ┆          ┆           ┆ bush/Rems │\n",
       "│           ┆           ┆           ┆           ┆   ┆           ┆          ┆           ┆ en        │\n",
       "│           ┆           ┆           ┆           ┆   ┆           ┆          ┆           ┆ Village   │\n",
       "│ Lyft      ┆ 0.964     ┆ 0         ┆ 0         ┆ … ┆ 5.226246  ┆ 0.873754 ┆ Saint     ┆ Hollis    │\n",
       "│           ┆           ┆           ┆           ┆   ┆           ┆          ┆ Albans    ┆           │\n",
       "│ Lyft      ┆ 5.701     ┆ 0         ┆ 0         ┆ … ┆ 20.508784 ┆ 6.142117 ┆ Jackson   ┆ Queensbor │\n",
       "│           ┆           ┆           ┆           ┆   ┆           ┆          ┆ Heights   ┆ o Hill    │\n",
       "│ Uber      ┆ 1.79      ┆ 0         ┆ 0         ┆ … ┆ 11.384996 ┆ 6.548337 ┆ Sunnyside ┆ Jackson   │\n",
       "│           ┆           ┆           ┆           ┆   ┆           ┆          ┆           ┆ Heights   │\n",
       "│ Uber      ┆ 0.63      ┆ 0         ┆ 0         ┆ … ┆ 4.766952  ┆ 0.683048 ┆ Cypress   ┆ East New  │\n",
       "│           ┆           ┆           ┆           ┆   ┆           ┆          ┆ Hills     ┆ York      │\n",
       "└───────────┴───────────┴───────────┴───────────┴───┴───────────┴──────────┴───────────┴───────────┘"
      ]
     },
     "execution_count": 22,
     "metadata": {},
     "output_type": "execute_result"
    }
   ],
   "source": [
    "test_df.head()"
   ]
  },
  {
   "cell_type": "code",
   "execution_count": 23,
   "id": "f399f5ae",
   "metadata": {},
   "outputs": [],
   "source": [
    "# test_df.write_csv(\"prediction.csv\")"
   ]
  },
  {
   "cell_type": "code",
   "execution_count": null,
   "id": "e2768d50",
   "metadata": {},
   "outputs": [],
   "source": []
  }
 ],
 "metadata": {
  "kernelspec": {
   "display_name": "Python 3.10 (tensorflow)",
   "language": "python",
   "name": "tensorflow"
  },
  "language_info": {
   "codemirror_mode": {
    "name": "ipython",
    "version": 3
   },
   "file_extension": ".py",
   "mimetype": "text/x-python",
   "name": "python",
   "nbconvert_exporter": "python",
   "pygments_lexer": "ipython3",
   "version": "3.10.11"
  }
 },
 "nbformat": 4,
 "nbformat_minor": 5
}
