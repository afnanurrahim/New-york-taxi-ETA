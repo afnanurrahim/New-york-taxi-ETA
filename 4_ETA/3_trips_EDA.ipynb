{
 "cells": [
  {
   "cell_type": "markdown",
   "id": "0a1cb3c3",
   "metadata": {},
   "source": [
    "### Importing libraries"
   ]
  },
  {
   "cell_type": "code",
   "execution_count": 1,
   "id": "41895b19",
   "metadata": {},
   "outputs": [],
   "source": [
    "import os\n",
    "import sys\n",
    "from pyspark.sql import SparkSession\n",
    "import pandas as pd\n",
    "import numpy as np\n",
    "from pyspark.ml.feature import StringIndexer\n",
    "from pyspark.sql.types import StructType, StructField, IntegerType, StringType, DateType\n",
    "from pyspark.sql.functions import coalesce, col, lit, when, date_format, hour, to_date, unix_timestamp, expr, mean\n",
    "import matplotlib.pyplot as plt\n",
    "import seaborn as sns\n",
    "from pyspark.sql import functions as F"
   ]
  },
  {
   "cell_type": "code",
   "execution_count": 2,
   "id": "f8520428",
   "metadata": {},
   "outputs": [],
   "source": [
    "os.environ['PYSPARK_PYTHON'] = sys.executable\n",
    "os.environ['PYSPARK_DRIVER_PYTHON'] = sys.executable"
   ]
  },
  {
   "cell_type": "markdown",
   "id": "29020416",
   "metadata": {},
   "source": [
    "### Loading data"
   ]
  },
  {
   "cell_type": "code",
   "execution_count": 3,
   "id": "485d48f1",
   "metadata": {},
   "outputs": [
    {
     "name": "stderr",
     "output_type": "stream",
     "text": [
      "Setting default log level to \"WARN\".\n",
      "To adjust logging level use sc.setLogLevel(newLevel). For SparkR, use setLogLevel(newLevel).\n",
      "24/01/24 11:44:15 WARN NativeCodeLoader: Unable to load native-hadoop library for your platform... using builtin-java classes where applicable\n"
     ]
    }
   ],
   "source": [
    "spark = SparkSession.builder.appName(\"Taxi\").getOrCreate()"
   ]
  },
  {
   "cell_type": "code",
   "execution_count": 4,
   "id": "fe87bdbb",
   "metadata": {
    "scrolled": true
   },
   "outputs": [
    {
     "data": {
      "text/html": [
       "\n",
       "            <div>\n",
       "                <p><b>SparkSession - in-memory</b></p>\n",
       "                \n",
       "        <div>\n",
       "            <p><b>SparkContext</b></p>\n",
       "\n",
       "            <p><a href=\"http://192.168.29.10:4040\">Spark UI</a></p>\n",
       "\n",
       "            <dl>\n",
       "              <dt>Version</dt>\n",
       "                <dd><code>v3.5.0</code></dd>\n",
       "              <dt>Master</dt>\n",
       "                <dd><code>local[*]</code></dd>\n",
       "              <dt>AppName</dt>\n",
       "                <dd><code>Taxi</code></dd>\n",
       "            </dl>\n",
       "        </div>\n",
       "        \n",
       "            </div>\n",
       "        "
      ],
      "text/plain": [
       "<pyspark.sql.session.SparkSession at 0x18597ef50>"
      ]
     },
     "execution_count": 4,
     "metadata": {},
     "output_type": "execute_result"
    }
   ],
   "source": [
    "spark"
   ]
  },
  {
   "cell_type": "code",
   "execution_count": 5,
   "id": "79fd9580",
   "metadata": {},
   "outputs": [],
   "source": [
    "path = \"/Users/afnan/Desktop/python/Data_science_Notes/Uber_data\""
   ]
  },
  {
   "cell_type": "code",
   "execution_count": 6,
   "id": "5ec41625",
   "metadata": {},
   "outputs": [
    {
     "name": "stderr",
     "output_type": "stream",
     "text": [
      "                                                                                \r"
     ]
    }
   ],
   "source": [
    "combined_df = spark.read.parquet('sample.parquet')"
   ]
  },
  {
   "cell_type": "code",
   "execution_count": 7,
   "id": "6e5feb0e",
   "metadata": {},
   "outputs": [
    {
     "name": "stderr",
     "output_type": "stream",
     "text": [
      "\r",
      "[Stage 1:>                                                          (0 + 8) / 8]\r"
     ]
    },
    {
     "name": "stdout",
     "output_type": "stream",
     "text": [
      "shape: (17459672, 25)\n"
     ]
    },
    {
     "name": "stderr",
     "output_type": "stream",
     "text": [
      "\r",
      "                                                                                \r"
     ]
    }
   ],
   "source": [
    "print(f\"shape: ({combined_df.count()}, {len(combined_df.columns)})\")"
   ]
  },
  {
   "cell_type": "markdown",
   "id": "3b244c2c",
   "metadata": {},
   "source": [
    "# 1. Data cleaning"
   ]
  },
  {
   "cell_type": "code",
   "execution_count": 8,
   "id": "346f1d1b",
   "metadata": {},
   "outputs": [
    {
     "data": {
      "text/plain": [
       "[('hvfhs_license_num', 'string'),\n",
       " ('dispatching_base_num', 'string'),\n",
       " ('originating_base_num', 'string'),\n",
       " ('request_datetime', 'timestamp_ntz'),\n",
       " ('on_scene_datetime', 'timestamp_ntz'),\n",
       " ('pickup_datetime', 'timestamp_ntz'),\n",
       " ('dropoff_datetime', 'timestamp_ntz'),\n",
       " ('PULocationID', 'bigint'),\n",
       " ('DOLocationID', 'bigint'),\n",
       " ('trip_miles', 'double'),\n",
       " ('trip_time', 'bigint'),\n",
       " ('base_passenger_fare', 'double'),\n",
       " ('tolls', 'double'),\n",
       " ('bcf', 'double'),\n",
       " ('sales_tax', 'double'),\n",
       " ('congestion_surcharge', 'double'),\n",
       " ('airport_fee', 'double'),\n",
       " ('tips', 'double'),\n",
       " ('driver_pay', 'double'),\n",
       " ('shared_request_flag', 'string'),\n",
       " ('shared_match_flag', 'string'),\n",
       " ('access_a_ride_flag', 'string'),\n",
       " ('wav_request_flag', 'string'),\n",
       " ('wav_match_flag', 'string'),\n",
       " ('__index_level_0__', 'bigint')]"
      ]
     },
     "execution_count": 8,
     "metadata": {},
     "output_type": "execute_result"
    }
   ],
   "source": [
    "column_types = combined_df.dtypes\n",
    "column_types"
   ]
  },
  {
   "cell_type": "code",
   "execution_count": null,
   "id": "dac0a6c2",
   "metadata": {},
   "outputs": [],
   "source": []
  },
  {
   "cell_type": "markdown",
   "id": "aaf9b601",
   "metadata": {},
   "source": [
    "## 1.1 Categorical data cleaning"
   ]
  },
  {
   "cell_type": "code",
   "execution_count": 9,
   "id": "bd28b2f4",
   "metadata": {},
   "outputs": [
    {
     "data": {
      "text/plain": [
       "['hvfhs_license_num',\n",
       " 'dispatching_base_num',\n",
       " 'originating_base_num',\n",
       " 'shared_request_flag',\n",
       " 'shared_match_flag',\n",
       " 'access_a_ride_flag',\n",
       " 'wav_request_flag',\n",
       " 'wav_match_flag']"
      ]
     },
     "execution_count": 9,
     "metadata": {},
     "output_type": "execute_result"
    }
   ],
   "source": [
    "string_col = [col_name for col_name, col_type in column_types if col_type == \"string\"]\n",
    "string_col"
   ]
  },
  {
   "cell_type": "code",
   "execution_count": 10,
   "id": "4e97efae",
   "metadata": {},
   "outputs": [
    {
     "name": "stderr",
     "output_type": "stream",
     "text": [
      "                                                                                \r"
     ]
    },
    {
     "name": "stdout",
     "output_type": "stream",
     "text": [
      "<function col at 0x115679360>:  4841601\n"
     ]
    }
   ],
   "source": [
    "# checking null values\n",
    "for column in string_col:\n",
    "    null_count = combined_df.filter(combined_df[column].isNull()).count()\n",
    "    if null_count>0:\n",
    "        print(f\"{col}: \", null_count)"
   ]
  },
  {
   "cell_type": "code",
   "execution_count": 11,
   "id": "77a50ea0",
   "metadata": {
    "scrolled": true
   },
   "outputs": [
    {
     "name": "stderr",
     "output_type": "stream",
     "text": [
      "                                                                                \r"
     ]
    },
    {
     "name": "stdout",
     "output_type": "stream",
     "text": [
      "hvfhs_license_num:  3\n"
     ]
    },
    {
     "name": "stderr",
     "output_type": "stream",
     "text": [
      "                                                                                \r"
     ]
    },
    {
     "name": "stdout",
     "output_type": "stream",
     "text": [
      "dispatching_base_num:  34\n"
     ]
    },
    {
     "name": "stderr",
     "output_type": "stream",
     "text": [
      "                                                                                \r"
     ]
    },
    {
     "name": "stdout",
     "output_type": "stream",
     "text": [
      "originating_base_num:  41\n"
     ]
    },
    {
     "name": "stderr",
     "output_type": "stream",
     "text": [
      "                                                                                \r"
     ]
    },
    {
     "name": "stdout",
     "output_type": "stream",
     "text": [
      "shared_request_flag:  2\n",
      "shared_match_flag:  2\n",
      "access_a_ride_flag:  2\n",
      "wav_request_flag:  2\n",
      "wav_match_flag:  2\n"
     ]
    }
   ],
   "source": [
    "# value counts of each categorical variable\n",
    "for column in string_col:\n",
    "    print(f\"{column}: \", combined_df.select(column).distinct().count())"
   ]
  },
  {
   "cell_type": "markdown",
   "id": "05680b15",
   "metadata": {},
   "source": [
    "**hvfhs_license_num** - Indicate whether the taxi was of Uber, Lyft or Via\n",
    "\n",
    "    - HV0003: Uber\n",
    "    - HV0004: Via\n",
    "    - HV0005: Lyft\n",
    "**dispatching_base_num / originating_base_num** - License plate number of vehicle\n",
    "\n",
    "All the other are boolean columns"
   ]
  },
  {
   "cell_type": "code",
   "execution_count": 12,
   "id": "86796a0d",
   "metadata": {},
   "outputs": [],
   "source": [
    "# Encoding all the binary columns"
   ]
  },
  {
   "cell_type": "code",
   "execution_count": 13,
   "id": "81b36dd3",
   "metadata": {},
   "outputs": [],
   "source": [
    "binary_col = ['shared_request_flag', 'shared_match_flag', 'access_a_ride_flag', \n",
    "              'wav_request_flag', 'wav_match_flag']"
   ]
  },
  {
   "cell_type": "code",
   "execution_count": 14,
   "id": "b1c1bb01",
   "metadata": {
    "scrolled": true
   },
   "outputs": [
    {
     "name": "stderr",
     "output_type": "stream",
     "text": [
      "                                                                                \r"
     ]
    }
   ],
   "source": [
    "for bincol in binary_col:\n",
    "    string_indexer = StringIndexer(inputCol=bincol, outputCol=\"index\")\n",
    "    model = string_indexer.fit(combined_df)\n",
    "    combined_df = model.transform(combined_df)\n",
    "    combined_df = combined_df.drop(bincol).withColumnRenamed(\"index\", bincol)\n",
    "    combined_df = combined_df.withColumn(bincol, col(bincol).cast(\"int\"))\n",
    "    "
   ]
  },
  {
   "cell_type": "code",
   "execution_count": 15,
   "id": "b91d2da4",
   "metadata": {},
   "outputs": [
    {
     "data": {
      "text/plain": [
       "[('shared_request_flag', 'int'),\n",
       " ('shared_match_flag', 'int'),\n",
       " ('access_a_ride_flag', 'int'),\n",
       " ('wav_request_flag', 'int'),\n",
       " ('wav_match_flag', 'int')]"
      ]
     },
     "execution_count": 15,
     "metadata": {},
     "output_type": "execute_result"
    }
   ],
   "source": [
    "combined_df.select(binary_col).dtypes"
   ]
  },
  {
   "cell_type": "code",
   "execution_count": 16,
   "id": "0ea9a187",
   "metadata": {},
   "outputs": [],
   "source": [
    "# Renaming the values in hvfhs_license_num"
   ]
  },
  {
   "cell_type": "code",
   "execution_count": 17,
   "id": "38d50e54",
   "metadata": {},
   "outputs": [],
   "source": [
    "combined_df = combined_df.withColumnRenamed(\"hvfhs_license_num\",\"taxi_company\")"
   ]
  },
  {
   "cell_type": "code",
   "execution_count": 18,
   "id": "353a5330",
   "metadata": {},
   "outputs": [],
   "source": [
    "combined_df = combined_df.na.replace(['HV0003', 'HV0004', 'HV0005'], ['Uber', 'Via', 'Lyft'], 'taxi_company')"
   ]
  },
  {
   "cell_type": "code",
   "execution_count": 19,
   "id": "4ebe6709",
   "metadata": {},
   "outputs": [
    {
     "name": "stderr",
     "output_type": "stream",
     "text": [
      "[Stage 91:=====================>                                    (3 + 5) / 8]\r"
     ]
    },
    {
     "name": "stdout",
     "output_type": "stream",
     "text": [
      "+------------+--------+\n",
      "|taxi_company|   count|\n",
      "+------------+--------+\n",
      "|        Lyft| 4756545|\n",
      "|         Via|   88923|\n",
      "|        Uber|12614204|\n",
      "+------------+--------+\n",
      "\n"
     ]
    },
    {
     "name": "stderr",
     "output_type": "stream",
     "text": [
      "\r",
      "                                                                                \r"
     ]
    }
   ],
   "source": [
    "combined_df.groupBy('taxi_company').count().show()"
   ]
  },
  {
   "cell_type": "markdown",
   "id": "a7bb6b80",
   "metadata": {},
   "source": [
    "**'PULocationID'** & **'DOLocationID'** are also categorical values"
   ]
  },
  {
   "cell_type": "code",
   "execution_count": 20,
   "id": "7a3b120b",
   "metadata": {},
   "outputs": [
    {
     "name": "stderr",
     "output_type": "stream",
     "text": [
      "                                                                                \r"
     ]
    },
    {
     "name": "stdout",
     "output_type": "stream",
     "text": [
      "263\n",
      "263\n"
     ]
    }
   ],
   "source": [
    "print(combined_df.select(\"PULocationID\").distinct().count())\n",
    "print(combined_df.select(\"DOLocationID\").distinct().count())"
   ]
  },
  {
   "cell_type": "code",
   "execution_count": 21,
   "id": "0ed02464",
   "metadata": {},
   "outputs": [
    {
     "data": {
      "text/html": [
       "<div>\n",
       "<style scoped>\n",
       "    .dataframe tbody tr th:only-of-type {\n",
       "        vertical-align: middle;\n",
       "    }\n",
       "\n",
       "    .dataframe tbody tr th {\n",
       "        vertical-align: top;\n",
       "    }\n",
       "\n",
       "    .dataframe thead th {\n",
       "        text-align: right;\n",
       "    }\n",
       "</style>\n",
       "<table border=\"1\" class=\"dataframe\">\n",
       "  <thead>\n",
       "    <tr style=\"text-align: right;\">\n",
       "      <th></th>\n",
       "      <th>LocationID</th>\n",
       "      <th>Borough</th>\n",
       "      <th>Zone</th>\n",
       "      <th>service_zone</th>\n",
       "    </tr>\n",
       "  </thead>\n",
       "  <tbody>\n",
       "    <tr>\n",
       "      <th>0</th>\n",
       "      <td>1</td>\n",
       "      <td>EWR</td>\n",
       "      <td>Newark Airport</td>\n",
       "      <td>EWR</td>\n",
       "    </tr>\n",
       "    <tr>\n",
       "      <th>1</th>\n",
       "      <td>2</td>\n",
       "      <td>Queens</td>\n",
       "      <td>Jamaica Bay</td>\n",
       "      <td>Boro Zone</td>\n",
       "    </tr>\n",
       "    <tr>\n",
       "      <th>2</th>\n",
       "      <td>3</td>\n",
       "      <td>Bronx</td>\n",
       "      <td>Allerton/Pelham Gardens</td>\n",
       "      <td>Boro Zone</td>\n",
       "    </tr>\n",
       "    <tr>\n",
       "      <th>3</th>\n",
       "      <td>4</td>\n",
       "      <td>Manhattan</td>\n",
       "      <td>Alphabet City</td>\n",
       "      <td>Yellow Zone</td>\n",
       "    </tr>\n",
       "    <tr>\n",
       "      <th>4</th>\n",
       "      <td>5</td>\n",
       "      <td>Staten Island</td>\n",
       "      <td>Arden Heights</td>\n",
       "      <td>Boro Zone</td>\n",
       "    </tr>\n",
       "  </tbody>\n",
       "</table>\n",
       "</div>"
      ],
      "text/plain": [
       "   LocationID        Borough                     Zone service_zone\n",
       "0           1            EWR           Newark Airport          EWR\n",
       "1           2         Queens              Jamaica Bay    Boro Zone\n",
       "2           3          Bronx  Allerton/Pelham Gardens    Boro Zone\n",
       "3           4      Manhattan            Alphabet City  Yellow Zone\n",
       "4           5  Staten Island            Arden Heights    Boro Zone"
      ]
     },
     "execution_count": 21,
     "metadata": {},
     "output_type": "execute_result"
    }
   ],
   "source": [
    "taxi_zone_lookup = pd.read_csv(f'{path}/dataset/taxi_zone_lookup.csv')\n",
    "taxi_zone_lookup.head()"
   ]
  },
  {
   "cell_type": "code",
   "execution_count": 22,
   "id": "b41863ed",
   "metadata": {},
   "outputs": [
    {
     "data": {
      "text/plain": [
       "(265, 4)"
      ]
     },
     "execution_count": 22,
     "metadata": {},
     "output_type": "execute_result"
    }
   ],
   "source": [
    "taxi_zone_lookup.shape"
   ]
  },
  {
   "cell_type": "code",
   "execution_count": 23,
   "id": "01b5c8e2",
   "metadata": {},
   "outputs": [
    {
     "data": {
      "text/plain": [
       "Zone\n",
       "Governor's Island/Ellis Island/Liberty Island    3\n",
       "Corona                                           2\n",
       "Newark Airport                                   1\n",
       "Name: count, dtype: int64"
      ]
     },
     "execution_count": 23,
     "metadata": {},
     "output_type": "execute_result"
    }
   ],
   "source": [
    "taxi_zone_lookup['Zone'].value_counts()[:3]"
   ]
  },
  {
   "cell_type": "markdown",
   "id": "5afe0abe",
   "metadata": {},
   "source": [
    "Zone Governor's Island/Ellis Island/Liberty Island and Corona have multiple values"
   ]
  },
  {
   "cell_type": "code",
   "execution_count": 24,
   "id": "8166b679",
   "metadata": {},
   "outputs": [
    {
     "data": {
      "text/html": [
       "<div>\n",
       "<style scoped>\n",
       "    .dataframe tbody tr th:only-of-type {\n",
       "        vertical-align: middle;\n",
       "    }\n",
       "\n",
       "    .dataframe tbody tr th {\n",
       "        vertical-align: top;\n",
       "    }\n",
       "\n",
       "    .dataframe thead th {\n",
       "        text-align: right;\n",
       "    }\n",
       "</style>\n",
       "<table border=\"1\" class=\"dataframe\">\n",
       "  <thead>\n",
       "    <tr style=\"text-align: right;\">\n",
       "      <th></th>\n",
       "      <th>LocationID</th>\n",
       "      <th>Borough</th>\n",
       "      <th>Zone</th>\n",
       "      <th>service_zone</th>\n",
       "    </tr>\n",
       "  </thead>\n",
       "  <tbody>\n",
       "    <tr>\n",
       "      <th>55</th>\n",
       "      <td>56</td>\n",
       "      <td>Queens</td>\n",
       "      <td>Corona</td>\n",
       "      <td>Boro Zone</td>\n",
       "    </tr>\n",
       "    <tr>\n",
       "      <th>56</th>\n",
       "      <td>57</td>\n",
       "      <td>Queens</td>\n",
       "      <td>Corona</td>\n",
       "      <td>Boro Zone</td>\n",
       "    </tr>\n",
       "    <tr>\n",
       "      <th>102</th>\n",
       "      <td>103</td>\n",
       "      <td>Manhattan</td>\n",
       "      <td>Governor's Island/Ellis Island/Liberty Island</td>\n",
       "      <td>Yellow Zone</td>\n",
       "    </tr>\n",
       "    <tr>\n",
       "      <th>103</th>\n",
       "      <td>104</td>\n",
       "      <td>Manhattan</td>\n",
       "      <td>Governor's Island/Ellis Island/Liberty Island</td>\n",
       "      <td>Yellow Zone</td>\n",
       "    </tr>\n",
       "    <tr>\n",
       "      <th>104</th>\n",
       "      <td>105</td>\n",
       "      <td>Manhattan</td>\n",
       "      <td>Governor's Island/Ellis Island/Liberty Island</td>\n",
       "      <td>Yellow Zone</td>\n",
       "    </tr>\n",
       "  </tbody>\n",
       "</table>\n",
       "</div>"
      ],
      "text/plain": [
       "     LocationID    Borough                                           Zone   \n",
       "55           56     Queens                                         Corona  \\\n",
       "56           57     Queens                                         Corona   \n",
       "102         103  Manhattan  Governor's Island/Ellis Island/Liberty Island   \n",
       "103         104  Manhattan  Governor's Island/Ellis Island/Liberty Island   \n",
       "104         105  Manhattan  Governor's Island/Ellis Island/Liberty Island   \n",
       "\n",
       "    service_zone  \n",
       "55     Boro Zone  \n",
       "56     Boro Zone  \n",
       "102  Yellow Zone  \n",
       "103  Yellow Zone  \n",
       "104  Yellow Zone  "
      ]
     },
     "execution_count": 24,
     "metadata": {},
     "output_type": "execute_result"
    }
   ],
   "source": [
    "taxi_zone_lookup[taxi_zone_lookup['Zone'].isin([\"Governor's Island/Ellis Island/Liberty Island\", \"Corona\"])]"
   ]
  },
  {
   "cell_type": "code",
   "execution_count": 25,
   "id": "b5777c61",
   "metadata": {},
   "outputs": [
    {
     "name": "stdout",
     "output_type": "stream",
     "text": [
      "56:  54291\n",
      "57:  4012\n",
      "103:  0\n",
      "104:  0\n",
      "105:  2\n"
     ]
    }
   ],
   "source": [
    "print(\"56: \", combined_df.filter(combined_df.PULocationID==56).count())\n",
    "print(\"57: \", combined_df.filter(combined_df.PULocationID==57).count())\n",
    "print(\"103: \", combined_df.filter(combined_df.PULocationID==103).count())\n",
    "print(\"104: \", combined_df.filter(combined_df.PULocationID==104).count())\n",
    "print(\"105: \", combined_df.filter(combined_df.PULocationID==105).count())"
   ]
  },
  {
   "cell_type": "code",
   "execution_count": 26,
   "id": "9a2db216",
   "metadata": {},
   "outputs": [
    {
     "name": "stdout",
     "output_type": "stream",
     "text": [
      "56:  47590\n",
      "57:  3689\n",
      "103:  0\n",
      "104:  1\n",
      "105:  11\n"
     ]
    }
   ],
   "source": [
    "print(\"56: \", combined_df.filter(combined_df.DOLocationID==56).count())\n",
    "print(\"57: \", combined_df.filter(combined_df.DOLocationID==57).count())\n",
    "print(\"103: \", combined_df.filter(combined_df.DOLocationID==103).count())\n",
    "print(\"104: \", combined_df.filter(combined_df.DOLocationID==104).count())\n",
    "print(\"105: \", combined_df.filter(combined_df.DOLocationID==105).count())"
   ]
  },
  {
   "cell_type": "code",
   "execution_count": 27,
   "id": "0bf84fee",
   "metadata": {},
   "outputs": [],
   "source": [
    "PUlocations = combined_df.select(\"PULocationID\").distinct().collect()"
   ]
  },
  {
   "cell_type": "code",
   "execution_count": 28,
   "id": "29b66ba9",
   "metadata": {},
   "outputs": [],
   "source": [
    "PUlocations = [l[0] for l in PUlocations]"
   ]
  },
  {
   "cell_type": "code",
   "execution_count": 29,
   "id": "3e983aa8",
   "metadata": {},
   "outputs": [
    {
     "data": {
      "text/plain": [
       "{103, 104}"
      ]
     },
     "execution_count": 29,
     "metadata": {},
     "output_type": "execute_result"
    }
   ],
   "source": [
    "set(taxi_zone_lookup['LocationID'])^set(PUlocations)"
   ]
  },
  {
   "cell_type": "code",
   "execution_count": 30,
   "id": "6e5e9828",
   "metadata": {},
   "outputs": [],
   "source": [
    "DOlocations = combined_df.select(\"DOLocationID\").distinct().collect()"
   ]
  },
  {
   "cell_type": "code",
   "execution_count": 31,
   "id": "baf9c13e",
   "metadata": {},
   "outputs": [],
   "source": [
    "DOlocations = [l[0] for l in DOlocations]"
   ]
  },
  {
   "cell_type": "code",
   "execution_count": 32,
   "id": "ca321981",
   "metadata": {},
   "outputs": [
    {
     "data": {
      "text/plain": [
       "{103, 199}"
      ]
     },
     "execution_count": 32,
     "metadata": {},
     "output_type": "execute_result"
    }
   ],
   "source": [
    "set(taxi_zone_lookup['LocationID'])^set(DOlocations)"
   ]
  },
  {
   "cell_type": "code",
   "execution_count": 33,
   "id": "a4afc5a6",
   "metadata": {},
   "outputs": [
    {
     "data": {
      "text/plain": [
       "0"
      ]
     },
     "execution_count": 33,
     "metadata": {},
     "output_type": "execute_result"
    }
   ],
   "source": [
    "combined_df.filter(combined_df.DOLocationID==199).count()"
   ]
  },
  {
   "cell_type": "code",
   "execution_count": 34,
   "id": "02fd5a81",
   "metadata": {},
   "outputs": [
    {
     "data": {
      "text/plain": [
       "2"
      ]
     },
     "execution_count": 34,
     "metadata": {},
     "output_type": "execute_result"
    }
   ],
   "source": [
    "combined_df.filter(combined_df.PULocationID==199).count()"
   ]
  },
  {
   "cell_type": "markdown",
   "id": "d6ba4513",
   "metadata": {},
   "source": [
    "LocationID 103, 104, 105 and 199 are all islands that have no connecting route to them. Dropping the values as they are outliers."
   ]
  },
  {
   "cell_type": "code",
   "execution_count": 35,
   "id": "441dd782",
   "metadata": {},
   "outputs": [],
   "source": [
    "combined_df = combined_df.filter(~(combined_df.PULocationID.isin([103, 104, 105, 199])))\n",
    "combined_df = combined_df.filter(~(combined_df.DOLocationID.isin([103, 104, 105, 199])))"
   ]
  },
  {
   "cell_type": "markdown",
   "id": "ca346400",
   "metadata": {},
   "source": [
    "Combining LocationID 56 and 57."
   ]
  },
  {
   "cell_type": "code",
   "execution_count": 36,
   "id": "efbaf45b",
   "metadata": {
    "scrolled": true
   },
   "outputs": [],
   "source": [
    "combined_df = combined_df.na.replace(57, 56, ['PULocationID', 'DOLocationID'])"
   ]
  },
  {
   "cell_type": "markdown",
   "id": "f62c7f0d",
   "metadata": {},
   "source": [
    "Checking value counts"
   ]
  },
  {
   "cell_type": "code",
   "execution_count": 37,
   "id": "e8fedad8",
   "metadata": {},
   "outputs": [
    {
     "name": "stderr",
     "output_type": "stream",
     "text": [
      "                                                                                \r"
     ]
    },
    {
     "data": {
      "text/html": [
       "<div>\n",
       "<style scoped>\n",
       "    .dataframe tbody tr th:only-of-type {\n",
       "        vertical-align: middle;\n",
       "    }\n",
       "\n",
       "    .dataframe tbody tr th {\n",
       "        vertical-align: top;\n",
       "    }\n",
       "\n",
       "    .dataframe thead th {\n",
       "        text-align: right;\n",
       "    }\n",
       "</style>\n",
       "<table border=\"1\" class=\"dataframe\">\n",
       "  <thead>\n",
       "    <tr style=\"text-align: right;\">\n",
       "      <th></th>\n",
       "      <th>PULocationID</th>\n",
       "      <th>count</th>\n",
       "    </tr>\n",
       "  </thead>\n",
       "  <tbody>\n",
       "    <tr>\n",
       "      <th>259</th>\n",
       "      <td>264</td>\n",
       "      <td>8</td>\n",
       "    </tr>\n",
       "    <tr>\n",
       "      <th>32</th>\n",
       "      <td>110</td>\n",
       "      <td>31</td>\n",
       "    </tr>\n",
       "    <tr>\n",
       "      <th>169</th>\n",
       "      <td>2</td>\n",
       "      <td>57</td>\n",
       "    </tr>\n",
       "    <tr>\n",
       "      <th>104</th>\n",
       "      <td>1</td>\n",
       "      <td>252</td>\n",
       "    </tr>\n",
       "    <tr>\n",
       "      <th>232</th>\n",
       "      <td>99</td>\n",
       "      <td>444</td>\n",
       "    </tr>\n",
       "  </tbody>\n",
       "</table>\n",
       "</div>"
      ],
      "text/plain": [
       "     PULocationID  count\n",
       "259           264      8\n",
       "32            110     31\n",
       "169             2     57\n",
       "104             1    252\n",
       "232            99    444"
      ]
     },
     "execution_count": 37,
     "metadata": {},
     "output_type": "execute_result"
    }
   ],
   "source": [
    "pul = combined_df.groupBy(\"PULocationID\").count().toPandas()\n",
    "pul.sort_values('count').head()"
   ]
  },
  {
   "cell_type": "code",
   "execution_count": 38,
   "id": "a97197a3",
   "metadata": {},
   "outputs": [
    {
     "name": "stderr",
     "output_type": "stream",
     "text": [
      "\r",
      "[Stage 151:>                                                        (0 + 8) / 8]\r",
      "\r",
      "                                                                                \r"
     ]
    },
    {
     "data": {
      "text/html": [
       "<div>\n",
       "<style scoped>\n",
       "    .dataframe tbody tr th:only-of-type {\n",
       "        vertical-align: middle;\n",
       "    }\n",
       "\n",
       "    .dataframe tbody tr th {\n",
       "        vertical-align: top;\n",
       "    }\n",
       "\n",
       "    .dataframe thead th {\n",
       "        text-align: right;\n",
       "    }\n",
       "</style>\n",
       "<table border=\"1\" class=\"dataframe\">\n",
       "  <thead>\n",
       "    <tr style=\"text-align: right;\">\n",
       "      <th></th>\n",
       "      <th>DOLocationID</th>\n",
       "      <th>count</th>\n",
       "    </tr>\n",
       "  </thead>\n",
       "  <tbody>\n",
       "    <tr>\n",
       "      <th>259</th>\n",
       "      <td>264</td>\n",
       "      <td>8</td>\n",
       "    </tr>\n",
       "    <tr>\n",
       "      <th>32</th>\n",
       "      <td>110</td>\n",
       "      <td>36</td>\n",
       "    </tr>\n",
       "    <tr>\n",
       "      <th>169</th>\n",
       "      <td>2</td>\n",
       "      <td>63</td>\n",
       "    </tr>\n",
       "    <tr>\n",
       "      <th>232</th>\n",
       "      <td>99</td>\n",
       "      <td>432</td>\n",
       "    </tr>\n",
       "    <tr>\n",
       "      <th>160</th>\n",
       "      <td>8</td>\n",
       "      <td>747</td>\n",
       "    </tr>\n",
       "  </tbody>\n",
       "</table>\n",
       "</div>"
      ],
      "text/plain": [
       "     DOLocationID  count\n",
       "259           264      8\n",
       "32            110     36\n",
       "169             2     63\n",
       "232            99    432\n",
       "160             8    747"
      ]
     },
     "execution_count": 38,
     "metadata": {},
     "output_type": "execute_result"
    }
   ],
   "source": [
    "dol = combined_df.groupBy(\"DOLocationID\").count().toPandas()\n",
    "dol.sort_values('count').head()"
   ]
  },
  {
   "cell_type": "code",
   "execution_count": 39,
   "id": "667e157a",
   "metadata": {},
   "outputs": [
    {
     "data": {
      "text/html": [
       "<div>\n",
       "<style scoped>\n",
       "    .dataframe tbody tr th:only-of-type {\n",
       "        vertical-align: middle;\n",
       "    }\n",
       "\n",
       "    .dataframe tbody tr th {\n",
       "        vertical-align: top;\n",
       "    }\n",
       "\n",
       "    .dataframe thead th {\n",
       "        text-align: right;\n",
       "    }\n",
       "</style>\n",
       "<table border=\"1\" class=\"dataframe\">\n",
       "  <thead>\n",
       "    <tr style=\"text-align: right;\">\n",
       "      <th></th>\n",
       "      <th>LocationID</th>\n",
       "      <th>Borough</th>\n",
       "      <th>Zone</th>\n",
       "      <th>service_zone</th>\n",
       "    </tr>\n",
       "  </thead>\n",
       "  <tbody>\n",
       "    <tr>\n",
       "      <th>1</th>\n",
       "      <td>2</td>\n",
       "      <td>Queens</td>\n",
       "      <td>Jamaica Bay</td>\n",
       "      <td>Boro Zone</td>\n",
       "    </tr>\n",
       "    <tr>\n",
       "      <th>109</th>\n",
       "      <td>110</td>\n",
       "      <td>Staten Island</td>\n",
       "      <td>Great Kills Park</td>\n",
       "      <td>Boro Zone</td>\n",
       "    </tr>\n",
       "  </tbody>\n",
       "</table>\n",
       "</div>"
      ],
      "text/plain": [
       "     LocationID        Borough              Zone service_zone\n",
       "1             2         Queens       Jamaica Bay    Boro Zone\n",
       "109         110  Staten Island  Great Kills Park    Boro Zone"
      ]
     },
     "execution_count": 39,
     "metadata": {},
     "output_type": "execute_result"
    }
   ],
   "source": [
    "taxi_zone_lookup[taxi_zone_lookup['LocationID'].isin([110, 2])]"
   ]
  },
  {
   "cell_type": "markdown",
   "id": "260654c6",
   "metadata": {},
   "source": [
    "In the map of New york *Jamaica Bay* is close to *Broad Channel* and *Great Kills Park* is close to *Great Kills*"
   ]
  },
  {
   "cell_type": "code",
   "execution_count": 40,
   "id": "c0180801",
   "metadata": {},
   "outputs": [
    {
     "data": {
      "text/html": [
       "<div>\n",
       "<style scoped>\n",
       "    .dataframe tbody tr th:only-of-type {\n",
       "        vertical-align: middle;\n",
       "    }\n",
       "\n",
       "    .dataframe tbody tr th {\n",
       "        vertical-align: top;\n",
       "    }\n",
       "\n",
       "    .dataframe thead th {\n",
       "        text-align: right;\n",
       "    }\n",
       "</style>\n",
       "<table border=\"1\" class=\"dataframe\">\n",
       "  <thead>\n",
       "    <tr style=\"text-align: right;\">\n",
       "      <th></th>\n",
       "      <th>LocationID</th>\n",
       "      <th>Borough</th>\n",
       "      <th>Zone</th>\n",
       "      <th>service_zone</th>\n",
       "    </tr>\n",
       "  </thead>\n",
       "  <tbody>\n",
       "    <tr>\n",
       "      <th>29</th>\n",
       "      <td>30</td>\n",
       "      <td>Queens</td>\n",
       "      <td>Broad Channel</td>\n",
       "      <td>Boro Zone</td>\n",
       "    </tr>\n",
       "    <tr>\n",
       "      <th>108</th>\n",
       "      <td>109</td>\n",
       "      <td>Staten Island</td>\n",
       "      <td>Great Kills</td>\n",
       "      <td>Boro Zone</td>\n",
       "    </tr>\n",
       "  </tbody>\n",
       "</table>\n",
       "</div>"
      ],
      "text/plain": [
       "     LocationID        Borough           Zone service_zone\n",
       "29           30         Queens  Broad Channel    Boro Zone\n",
       "108         109  Staten Island    Great Kills    Boro Zone"
      ]
     },
     "execution_count": 40,
     "metadata": {},
     "output_type": "execute_result"
    }
   ],
   "source": [
    "taxi_zone_lookup[taxi_zone_lookup['Zone'].isin([\"Broad Channel\", 'Great Kills'])]"
   ]
  },
  {
   "cell_type": "code",
   "execution_count": 41,
   "id": "e124123c",
   "metadata": {},
   "outputs": [
    {
     "data": {
      "text/html": [
       "<div>\n",
       "<style scoped>\n",
       "    .dataframe tbody tr th:only-of-type {\n",
       "        vertical-align: middle;\n",
       "    }\n",
       "\n",
       "    .dataframe tbody tr th {\n",
       "        vertical-align: top;\n",
       "    }\n",
       "\n",
       "    .dataframe thead th {\n",
       "        text-align: right;\n",
       "    }\n",
       "</style>\n",
       "<table border=\"1\" class=\"dataframe\">\n",
       "  <thead>\n",
       "    <tr style=\"text-align: right;\">\n",
       "      <th></th>\n",
       "      <th>PULocationID</th>\n",
       "      <th>count</th>\n",
       "    </tr>\n",
       "  </thead>\n",
       "  <tbody>\n",
       "    <tr>\n",
       "      <th>221</th>\n",
       "      <td>30</td>\n",
       "      <td>908</td>\n",
       "    </tr>\n",
       "    <tr>\n",
       "      <th>235</th>\n",
       "      <td>109</td>\n",
       "      <td>10709</td>\n",
       "    </tr>\n",
       "  </tbody>\n",
       "</table>\n",
       "</div>"
      ],
      "text/plain": [
       "     PULocationID  count\n",
       "221            30    908\n",
       "235           109  10709"
      ]
     },
     "execution_count": 41,
     "metadata": {},
     "output_type": "execute_result"
    }
   ],
   "source": [
    "pul[pul['PULocationID'].isin([30, 109])]"
   ]
  },
  {
   "cell_type": "code",
   "execution_count": 42,
   "id": "d5176b5a",
   "metadata": {},
   "outputs": [
    {
     "data": {
      "text/html": [
       "<div>\n",
       "<style scoped>\n",
       "    .dataframe tbody tr th:only-of-type {\n",
       "        vertical-align: middle;\n",
       "    }\n",
       "\n",
       "    .dataframe tbody tr th {\n",
       "        vertical-align: top;\n",
       "    }\n",
       "\n",
       "    .dataframe thead th {\n",
       "        text-align: right;\n",
       "    }\n",
       "</style>\n",
       "<table border=\"1\" class=\"dataframe\">\n",
       "  <thead>\n",
       "    <tr style=\"text-align: right;\">\n",
       "      <th></th>\n",
       "      <th>DOLocationID</th>\n",
       "      <th>count</th>\n",
       "    </tr>\n",
       "  </thead>\n",
       "  <tbody>\n",
       "    <tr>\n",
       "      <th>221</th>\n",
       "      <td>30</td>\n",
       "      <td>934</td>\n",
       "    </tr>\n",
       "    <tr>\n",
       "      <th>235</th>\n",
       "      <td>109</td>\n",
       "      <td>9879</td>\n",
       "    </tr>\n",
       "  </tbody>\n",
       "</table>\n",
       "</div>"
      ],
      "text/plain": [
       "     DOLocationID  count\n",
       "221            30    934\n",
       "235           109   9879"
      ]
     },
     "execution_count": 42,
     "metadata": {},
     "output_type": "execute_result"
    }
   ],
   "source": [
    "dol[dol['DOLocationID'].isin([30, 109])]"
   ]
  },
  {
   "cell_type": "code",
   "execution_count": 43,
   "id": "02f7cace",
   "metadata": {},
   "outputs": [],
   "source": [
    "combined_df = combined_df.na.replace(2, 30, ['PULocationID', 'DOLocationID'])\n",
    "combined_df = combined_df.na.replace(110, 109, ['PULocationID', 'DOLocationID'])"
   ]
  },
  {
   "cell_type": "code",
   "execution_count": 44,
   "id": "ca78b6fd",
   "metadata": {},
   "outputs": [
    {
     "name": "stderr",
     "output_type": "stream",
     "text": [
      "                                                                                \r"
     ]
    },
    {
     "name": "stdout",
     "output_type": "stream",
     "text": [
      "258\n"
     ]
    },
    {
     "name": "stderr",
     "output_type": "stream",
     "text": [
      "\r",
      "[Stage 160:>                                                        (0 + 8) / 8]\r"
     ]
    },
    {
     "name": "stdout",
     "output_type": "stream",
     "text": [
      "258\n"
     ]
    },
    {
     "name": "stderr",
     "output_type": "stream",
     "text": [
      "\r",
      "                                                                                \r"
     ]
    }
   ],
   "source": [
    "print(combined_df.select(\"PULocationID\").distinct().count())\n",
    "print(combined_df.select(\"DOLocationID\").distinct().count())"
   ]
  },
  {
   "cell_type": "markdown",
   "id": "3adba2c3",
   "metadata": {},
   "source": [
    "## 1.2 Numeric data cleaning"
   ]
  },
  {
   "cell_type": "code",
   "execution_count": 45,
   "id": "fcb78dbf",
   "metadata": {
    "scrolled": true
   },
   "outputs": [],
   "source": [
    "bigint_col = [col_name for col_name, col_type in column_types if col_type == \"bigint\"]\n",
    "double_col = [col_name for col_name, col_type in column_types if col_type == \"double\"]"
   ]
  },
  {
   "cell_type": "code",
   "execution_count": 46,
   "id": "685c8860",
   "metadata": {
    "scrolled": true
   },
   "outputs": [
    {
     "data": {
      "text/plain": [
       "['PULocationID',\n",
       " 'DOLocationID',\n",
       " 'trip_time',\n",
       " '__index_level_0__',\n",
       " 'trip_miles',\n",
       " 'base_passenger_fare',\n",
       " 'tolls',\n",
       " 'bcf',\n",
       " 'sales_tax',\n",
       " 'congestion_surcharge',\n",
       " 'airport_fee',\n",
       " 'tips',\n",
       " 'driver_pay']"
      ]
     },
     "execution_count": 46,
     "metadata": {},
     "output_type": "execute_result"
    }
   ],
   "source": [
    "bigint_col + double_col"
   ]
  },
  {
   "cell_type": "markdown",
   "id": "107e7924",
   "metadata": {},
   "source": [
    "### 1.2.1 Getting rid of irrelevant columns\n",
    "**(according to problem statement)**"
   ]
  },
  {
   "cell_type": "code",
   "execution_count": 47,
   "id": "8c76748a",
   "metadata": {},
   "outputs": [],
   "source": [
    "drop_col = ['base_passenger_fare', 'bcf', 'sales_tax', 'congestion_surcharge', 'tips', 'driver_pay', '__index_level_0__']"
   ]
  },
  {
   "cell_type": "code",
   "execution_count": 48,
   "id": "7a10cc6f",
   "metadata": {},
   "outputs": [],
   "source": [
    "combined_df = combined_df.drop(*drop_col)"
   ]
  },
  {
   "cell_type": "code",
   "execution_count": 49,
   "id": "6b045c04",
   "metadata": {},
   "outputs": [],
   "source": [
    "bigint_col = [col_name for col_name, col_type in combined_df.dtypes if col_type == \"bigint\"]\n",
    "double_col = [col_name for col_name, col_type in combined_df.dtypes if col_type == \"double\"]"
   ]
  },
  {
   "cell_type": "code",
   "execution_count": 50,
   "id": "6c8f29a6",
   "metadata": {},
   "outputs": [
    {
     "data": {
      "text/plain": [
       "['PULocationID',\n",
       " 'DOLocationID',\n",
       " 'trip_time',\n",
       " 'trip_miles',\n",
       " 'tolls',\n",
       " 'airport_fee']"
      ]
     },
     "execution_count": 50,
     "metadata": {},
     "output_type": "execute_result"
    }
   ],
   "source": [
    "bigint_col + double_col"
   ]
  },
  {
   "cell_type": "code",
   "execution_count": 51,
   "id": "2e02ebdc",
   "metadata": {},
   "outputs": [
    {
     "name": "stderr",
     "output_type": "stream",
     "text": [
      "[Stage 181:==========================================>              (6 + 2) / 8]\r"
     ]
    },
    {
     "name": "stdout",
     "output_type": "stream",
     "text": [
      "airport_fee:  3649602\n"
     ]
    },
    {
     "name": "stderr",
     "output_type": "stream",
     "text": [
      "\r",
      "                                                                                \r"
     ]
    }
   ],
   "source": [
    "# checking null values\n",
    "for column in bigint_col + double_col:\n",
    "    null_count = combined_df.filter(combined_df[column].isNull()).count()\n",
    "    if null_count>0:\n",
    "        print(f\"{column}: \", null_count)"
   ]
  },
  {
   "cell_type": "code",
   "execution_count": 52,
   "id": "a6449ecb",
   "metadata": {
    "scrolled": false
   },
   "outputs": [
    {
     "name": "stderr",
     "output_type": "stream",
     "text": [
      "                                                                                \r"
     ]
    },
    {
     "name": "stdout",
     "output_type": "stream",
     "text": [
      "+-------+------------------+------------------+------------------+\n",
      "|summary|      PULocationID|      DOLocationID|         trip_time|\n",
      "+-------+------------------+------------------+------------------+\n",
      "|  count|          17459656|          17459656|          17459656|\n",
      "|   mean|137.13401982261277|140.88124897764308|1101.3408439433172|\n",
      "| stddev| 75.80578647896762| 78.26364739957337| 779.3774649538015|\n",
      "|    min|                 1|                 1|                 0|\n",
      "|    max|               265|               265|            130718|\n",
      "+-------+------------------+------------------+------------------+\n",
      "\n"
     ]
    }
   ],
   "source": [
    "combined_df.describe(bigint_col).show()"
   ]
  },
  {
   "cell_type": "code",
   "execution_count": 53,
   "id": "00314146",
   "metadata": {},
   "outputs": [
    {
     "name": "stderr",
     "output_type": "stream",
     "text": [
      "[Stage 187:=================================================>       (7 + 1) / 8]\r"
     ]
    },
    {
     "name": "stdout",
     "output_type": "stream",
     "text": [
      "+-------+-----------------+------------------+-------------------+\n",
      "|summary|       trip_miles|             tolls|        airport_fee|\n",
      "+-------+-----------------+------------------+-------------------+\n",
      "|  count|         17459656|          17459656|           13810054|\n",
      "|   mean|4.841753382884417|0.9451848570220589|0.14788505533722027|\n",
      "| stddev|5.502533641301329|3.4914857282795317| 0.5932011278129279|\n",
      "|    min|              0.0|               0.0|                0.0|\n",
      "|    max|           527.11|            105.75|               10.0|\n",
      "+-------+-----------------+------------------+-------------------+\n",
      "\n"
     ]
    },
    {
     "name": "stderr",
     "output_type": "stream",
     "text": [
      "\r",
      "                                                                                \r"
     ]
    }
   ],
   "source": [
    "combined_df.describe(double_col).show()"
   ]
  },
  {
   "cell_type": "code",
   "execution_count": 54,
   "id": "6b597172",
   "metadata": {},
   "outputs": [
    {
     "name": "stderr",
     "output_type": "stream",
     "text": [
      "                                                                                \r"
     ]
    },
    {
     "data": {
      "text/plain": [
       "12997495"
      ]
     },
     "execution_count": 54,
     "metadata": {},
     "output_type": "execute_result"
    }
   ],
   "source": [
    "combined_df.filter(combined_df.airport_fee==0).count()"
   ]
  },
  {
   "cell_type": "code",
   "execution_count": 55,
   "id": "355caba4",
   "metadata": {},
   "outputs": [],
   "source": [
    "# since there are 0 values we cannot replace all null values with 0."
   ]
  },
  {
   "cell_type": "markdown",
   "id": "3826ca28",
   "metadata": {},
   "source": [
    "### 1.2.2 Dealing with missing values"
   ]
  },
  {
   "cell_type": "markdown",
   "id": "cb5c3945",
   "metadata": {},
   "source": [
    "There is just one missing value in the numeric columns that is airport_fee. We have to use the **taxi_zone_lookup.csv** file to find the airport location and then using the **DOLocationID** column fill the missing values."
   ]
  },
  {
   "cell_type": "code",
   "execution_count": 56,
   "id": "f7b9d8ec",
   "metadata": {},
   "outputs": [],
   "source": [
    "taxi_zone_lookup = pd.read_csv(f'{path}/dataset/taxi_zone_lookup.csv')"
   ]
  },
  {
   "cell_type": "code",
   "execution_count": 57,
   "id": "26e3d30e",
   "metadata": {},
   "outputs": [
    {
     "data": {
      "text/html": [
       "<div>\n",
       "<style scoped>\n",
       "    .dataframe tbody tr th:only-of-type {\n",
       "        vertical-align: middle;\n",
       "    }\n",
       "\n",
       "    .dataframe tbody tr th {\n",
       "        vertical-align: top;\n",
       "    }\n",
       "\n",
       "    .dataframe thead th {\n",
       "        text-align: right;\n",
       "    }\n",
       "</style>\n",
       "<table border=\"1\" class=\"dataframe\">\n",
       "  <thead>\n",
       "    <tr style=\"text-align: right;\">\n",
       "      <th></th>\n",
       "      <th>LocationID</th>\n",
       "      <th>Borough</th>\n",
       "      <th>Zone</th>\n",
       "      <th>service_zone</th>\n",
       "    </tr>\n",
       "  </thead>\n",
       "  <tbody>\n",
       "    <tr>\n",
       "      <th>0</th>\n",
       "      <td>1</td>\n",
       "      <td>EWR</td>\n",
       "      <td>Newark Airport</td>\n",
       "      <td>EWR</td>\n",
       "    </tr>\n",
       "    <tr>\n",
       "      <th>1</th>\n",
       "      <td>2</td>\n",
       "      <td>Queens</td>\n",
       "      <td>Jamaica Bay</td>\n",
       "      <td>Boro Zone</td>\n",
       "    </tr>\n",
       "    <tr>\n",
       "      <th>2</th>\n",
       "      <td>3</td>\n",
       "      <td>Bronx</td>\n",
       "      <td>Allerton/Pelham Gardens</td>\n",
       "      <td>Boro Zone</td>\n",
       "    </tr>\n",
       "    <tr>\n",
       "      <th>3</th>\n",
       "      <td>4</td>\n",
       "      <td>Manhattan</td>\n",
       "      <td>Alphabet City</td>\n",
       "      <td>Yellow Zone</td>\n",
       "    </tr>\n",
       "    <tr>\n",
       "      <th>4</th>\n",
       "      <td>5</td>\n",
       "      <td>Staten Island</td>\n",
       "      <td>Arden Heights</td>\n",
       "      <td>Boro Zone</td>\n",
       "    </tr>\n",
       "  </tbody>\n",
       "</table>\n",
       "</div>"
      ],
      "text/plain": [
       "   LocationID        Borough                     Zone service_zone\n",
       "0           1            EWR           Newark Airport          EWR\n",
       "1           2         Queens              Jamaica Bay    Boro Zone\n",
       "2           3          Bronx  Allerton/Pelham Gardens    Boro Zone\n",
       "3           4      Manhattan            Alphabet City  Yellow Zone\n",
       "4           5  Staten Island            Arden Heights    Boro Zone"
      ]
     },
     "execution_count": 57,
     "metadata": {},
     "output_type": "execute_result"
    }
   ],
   "source": [
    "taxi_zone_lookup.head()"
   ]
  },
  {
   "cell_type": "markdown",
   "id": "7d1c9764",
   "metadata": {},
   "source": [
    "There are 3 airports in New york\n",
    "- LaGuardia Airport (LGA)\n",
    "- John F. Kennedy International Airport (JFK)\n",
    "- Newark Liberty International Airport (EWR)"
   ]
  },
  {
   "cell_type": "code",
   "execution_count": 58,
   "id": "ca99e479",
   "metadata": {},
   "outputs": [
    {
     "data": {
      "text/html": [
       "<div>\n",
       "<style scoped>\n",
       "    .dataframe tbody tr th:only-of-type {\n",
       "        vertical-align: middle;\n",
       "    }\n",
       "\n",
       "    .dataframe tbody tr th {\n",
       "        vertical-align: top;\n",
       "    }\n",
       "\n",
       "    .dataframe thead th {\n",
       "        text-align: right;\n",
       "    }\n",
       "</style>\n",
       "<table border=\"1\" class=\"dataframe\">\n",
       "  <thead>\n",
       "    <tr style=\"text-align: right;\">\n",
       "      <th></th>\n",
       "      <th>LocationID</th>\n",
       "      <th>Borough</th>\n",
       "      <th>Zone</th>\n",
       "      <th>service_zone</th>\n",
       "    </tr>\n",
       "  </thead>\n",
       "  <tbody>\n",
       "    <tr>\n",
       "      <th>0</th>\n",
       "      <td>1</td>\n",
       "      <td>EWR</td>\n",
       "      <td>Newark Airport</td>\n",
       "      <td>EWR</td>\n",
       "    </tr>\n",
       "  </tbody>\n",
       "</table>\n",
       "</div>"
      ],
      "text/plain": [
       "   LocationID Borough            Zone service_zone\n",
       "0           1     EWR  Newark Airport          EWR"
      ]
     },
     "execution_count": 58,
     "metadata": {},
     "output_type": "execute_result"
    }
   ],
   "source": [
    "taxi_zone_lookup[taxi_zone_lookup['service_zone']==\"EWR\"]"
   ]
  },
  {
   "cell_type": "code",
   "execution_count": 59,
   "id": "7ed6f5ed",
   "metadata": {},
   "outputs": [],
   "source": [
    "taxi_zone_lookup['service_zone'] = taxi_zone_lookup['service_zone'].str.replace('EWR','Airports')"
   ]
  },
  {
   "cell_type": "code",
   "execution_count": 60,
   "id": "a43720ba",
   "metadata": {},
   "outputs": [
    {
     "data": {
      "text/html": [
       "<div>\n",
       "<style scoped>\n",
       "    .dataframe tbody tr th:only-of-type {\n",
       "        vertical-align: middle;\n",
       "    }\n",
       "\n",
       "    .dataframe tbody tr th {\n",
       "        vertical-align: top;\n",
       "    }\n",
       "\n",
       "    .dataframe thead th {\n",
       "        text-align: right;\n",
       "    }\n",
       "</style>\n",
       "<table border=\"1\" class=\"dataframe\">\n",
       "  <thead>\n",
       "    <tr style=\"text-align: right;\">\n",
       "      <th></th>\n",
       "      <th>LocationID</th>\n",
       "      <th>Borough</th>\n",
       "      <th>Zone</th>\n",
       "      <th>service_zone</th>\n",
       "    </tr>\n",
       "  </thead>\n",
       "  <tbody>\n",
       "    <tr>\n",
       "      <th>0</th>\n",
       "      <td>1</td>\n",
       "      <td>EWR</td>\n",
       "      <td>Newark Airport</td>\n",
       "      <td>Airports</td>\n",
       "    </tr>\n",
       "    <tr>\n",
       "      <th>131</th>\n",
       "      <td>132</td>\n",
       "      <td>Queens</td>\n",
       "      <td>JFK Airport</td>\n",
       "      <td>Airports</td>\n",
       "    </tr>\n",
       "    <tr>\n",
       "      <th>137</th>\n",
       "      <td>138</td>\n",
       "      <td>Queens</td>\n",
       "      <td>LaGuardia Airport</td>\n",
       "      <td>Airports</td>\n",
       "    </tr>\n",
       "  </tbody>\n",
       "</table>\n",
       "</div>"
      ],
      "text/plain": [
       "     LocationID Borough               Zone service_zone\n",
       "0             1     EWR     Newark Airport     Airports\n",
       "131         132  Queens        JFK Airport     Airports\n",
       "137         138  Queens  LaGuardia Airport     Airports"
      ]
     },
     "execution_count": 60,
     "metadata": {},
     "output_type": "execute_result"
    }
   ],
   "source": [
    "taxi_zone_lookup[taxi_zone_lookup['service_zone']==\"Airports\"]"
   ]
  },
  {
   "cell_type": "code",
   "execution_count": 61,
   "id": "852071db",
   "metadata": {},
   "outputs": [],
   "source": [
    "airport_location = {}"
   ]
  },
  {
   "cell_type": "code",
   "execution_count": 62,
   "id": "88fc0f75",
   "metadata": {
    "scrolled": true
   },
   "outputs": [],
   "source": [
    "for index, row in taxi_zone_lookup[taxi_zone_lookup['service_zone']==\"Airports\"].iterrows():\n",
    "    airport_location[row['Zone']] = row['LocationID']"
   ]
  },
  {
   "cell_type": "code",
   "execution_count": 63,
   "id": "0ed6039d",
   "metadata": {},
   "outputs": [
    {
     "data": {
      "text/plain": [
       "{'Newark Airport': 1, 'JFK Airport': 132, 'LaGuardia Airport': 138}"
      ]
     },
     "execution_count": 63,
     "metadata": {},
     "output_type": "execute_result"
    }
   ],
   "source": [
    "airport_location"
   ]
  },
  {
   "cell_type": "code",
   "execution_count": 64,
   "id": "0bf28a8e",
   "metadata": {},
   "outputs": [
    {
     "name": "stderr",
     "output_type": "stream",
     "text": [
      "                                                                                \r"
     ]
    },
    {
     "data": {
      "text/plain": [
       "67933"
      ]
     },
     "execution_count": 64,
     "metadata": {},
     "output_type": "execute_result"
    }
   ],
   "source": [
    "combined_df.filter((combined_df.DOLocationID.isin(list(airport_location.values()))) & \n",
    "                   (combined_df['airport_fee'].isNull())).count()"
   ]
  },
  {
   "cell_type": "markdown",
   "id": "6a099ae9",
   "metadata": {},
   "source": [
    "DOLocationID that are not part of airport zones are Zero"
   ]
  },
  {
   "cell_type": "code",
   "execution_count": 65,
   "id": "1e71100d",
   "metadata": {},
   "outputs": [],
   "source": [
    "combined_df = combined_df.withColumn(\n",
    "    \"airport_fee\",\n",
    "    when(\n",
    "        ~col(\"DOLocationID\").isin(list(airport_location.values())),\n",
    "        coalesce(col(\"airport_fee\"), lit(0))\n",
    "    ).otherwise(col(\"airport_fee\"))\n",
    ")"
   ]
  },
  {
   "cell_type": "code",
   "execution_count": 66,
   "id": "1538e311",
   "metadata": {
    "scrolled": true
   },
   "outputs": [
    {
     "name": "stderr",
     "output_type": "stream",
     "text": [
      "                                                                                \r"
     ]
    },
    {
     "data": {
      "text/plain": [
       "67933"
      ]
     },
     "execution_count": 66,
     "metadata": {},
     "output_type": "execute_result"
    }
   ],
   "source": [
    "combined_df.filter(combined_df['airport_fee'].isNull()).count()"
   ]
  },
  {
   "cell_type": "markdown",
   "id": "c825f4a4",
   "metadata": {},
   "source": [
    "There can be passengers that had drop off location at Airports but didn't pay airport fee. Since we don't have a way of finding out whether the passenger paid airport fee or not we would fill the null values with non-zero values."
   ]
  },
  {
   "cell_type": "code",
   "execution_count": 67,
   "id": "07332aef",
   "metadata": {
    "scrolled": true
   },
   "outputs": [
    {
     "name": "stderr",
     "output_type": "stream",
     "text": [
      "                                                                                \r"
     ]
    },
    {
     "data": {
      "text/plain": [
       "812559"
      ]
     },
     "execution_count": 67,
     "metadata": {},
     "output_type": "execute_result"
    }
   ],
   "source": [
    "combined_df.filter(combined_df.airport_fee>0).count()"
   ]
  },
  {
   "cell_type": "markdown",
   "id": "49840ceb",
   "metadata": {},
   "source": [
    "The information provided by TLC states that the airport fee for all airports is $2.50. From the above KDE plot we can clearly see that all the airport_fee is surrounded by the mean value with low std. therefore we replace all values with the 2.5"
   ]
  },
  {
   "cell_type": "code",
   "execution_count": 68,
   "id": "847b54a6",
   "metadata": {},
   "outputs": [],
   "source": [
    "# Filling null values of each airport's fee with $2.5\n",
    "\n",
    "for loc in airport_location:\n",
    "    combined_df = combined_df.withColumn(\n",
    "        \"airport_fee\",\n",
    "        when(\n",
    "            col(\"DOLocationID\")==airport_location[loc],\n",
    "            coalesce(col(\"airport_fee\"), lit(2.5))\n",
    "        ).otherwise(col(\"airport_fee\"))\n",
    "    )"
   ]
  },
  {
   "cell_type": "code",
   "execution_count": 69,
   "id": "c5a32130",
   "metadata": {},
   "outputs": [
    {
     "name": "stderr",
     "output_type": "stream",
     "text": [
      "                                                                                \r"
     ]
    },
    {
     "data": {
      "text/plain": [
       "0"
      ]
     },
     "execution_count": 69,
     "metadata": {},
     "output_type": "execute_result"
    }
   ],
   "source": [
    "combined_df.filter(combined_df.airport_fee.isNull()).count()"
   ]
  },
  {
   "cell_type": "markdown",
   "id": "7cc6de5b",
   "metadata": {},
   "source": [
    "### 1.2.3 Handling outliers"
   ]
  },
  {
   "cell_type": "markdown",
   "id": "d7e29b97",
   "metadata": {},
   "source": [
    "**Handling cancelled trips**\n",
    "-  Getting rid of 0 values in trip_miles and trip_time as the trip might have been cancelled for some reasons."
   ]
  },
  {
   "cell_type": "code",
   "execution_count": 70,
   "id": "08833839",
   "metadata": {},
   "outputs": [],
   "source": [
    "combined_df = combined_df.filter(combined_df.trip_miles>0)\n",
    "combined_df = combined_df.filter(combined_df.trip_time>0)"
   ]
  },
  {
   "cell_type": "code",
   "execution_count": 71,
   "id": "35820501",
   "metadata": {
    "scrolled": true
   },
   "outputs": [
    {
     "name": "stderr",
     "output_type": "stream",
     "text": [
      "                                                                                \r"
     ]
    },
    {
     "data": {
      "text/plain": [
       "17454322"
      ]
     },
     "execution_count": 71,
     "metadata": {},
     "output_type": "execute_result"
    }
   ],
   "source": [
    "combined_df.count()"
   ]
  },
  {
   "cell_type": "markdown",
   "id": "2b53a4dc",
   "metadata": {},
   "source": [
    "Useful data"
   ]
  },
  {
   "cell_type": "code",
   "execution_count": 72,
   "id": "9d55ca40",
   "metadata": {},
   "outputs": [
    {
     "name": "stderr",
     "output_type": "stream",
     "text": [
      "                                                                                \r"
     ]
    }
   ],
   "source": [
    "location_df = combined_df.groupBy('PULocationID', 'DOLocationID')\\\n",
    "            .agg(F.max(\"trip_time\"),\n",
    "                 F.expr('percentile(trip_time, array(0.50))')[0].alias('trip_time_%50'),\n",
    "                 F.expr('percentile(trip_time, array(0.99))')[0].alias('trip_time_%99'),\n",
    "                 F.count('*')).toPandas()"
   ]
  },
  {
   "cell_type": "markdown",
   "id": "42958531",
   "metadata": {},
   "source": [
    "**trip_time**"
   ]
  },
  {
   "cell_type": "code",
   "execution_count": 73,
   "id": "4911d7b2",
   "metadata": {},
   "outputs": [
    {
     "name": "stderr",
     "output_type": "stream",
     "text": [
      "                                                                                \r"
     ]
    },
    {
     "name": "stdout",
     "output_type": "stream",
     "text": [
      "+-------+---------+\n",
      "|summary|trip_time|\n",
      "+-------+---------+\n",
      "|    95%|     2558|\n",
      "|    99%|     3855|\n",
      "|    max|   130718|\n",
      "+-------+---------+\n",
      "\n"
     ]
    }
   ],
   "source": [
    "combined_df.select('trip_time').summary('95%', '99%' ,'max').show()"
   ]
  },
  {
   "cell_type": "code",
   "execution_count": 74,
   "id": "67f12bba",
   "metadata": {},
   "outputs": [
    {
     "data": {
      "text/plain": [
       "66508.32000000025"
      ]
     },
     "execution_count": 74,
     "metadata": {},
     "output_type": "execute_result"
    }
   ],
   "source": [
    "location_df['trip_time_%99'].max()"
   ]
  },
  {
   "cell_type": "code",
   "execution_count": 75,
   "id": "3e138c12",
   "metadata": {},
   "outputs": [
    {
     "data": {
      "text/plain": [
       "4416.0"
      ]
     },
     "execution_count": 75,
     "metadata": {},
     "output_type": "execute_result"
    }
   ],
   "source": [
    "location_df['trip_time_%50'].quantile(.99)"
   ]
  },
  {
   "cell_type": "code",
   "execution_count": 76,
   "id": "68eedc1f",
   "metadata": {},
   "outputs": [
    {
     "data": {
      "text/plain": [
       "3003"
      ]
     },
     "execution_count": 76,
     "metadata": {},
     "output_type": "execute_result"
    }
   ],
   "source": [
    "location_df[location_df['trip_time_%50']>4000]['count(1)'].sum()"
   ]
  },
  {
   "cell_type": "code",
   "execution_count": 77,
   "id": "eebc9632",
   "metadata": {},
   "outputs": [],
   "source": [
    "combined_df = combined_df.filter(combined_df.trip_time<4000)"
   ]
  },
  {
   "cell_type": "code",
   "execution_count": 78,
   "id": "06744da3",
   "metadata": {},
   "outputs": [
    {
     "name": "stderr",
     "output_type": "stream",
     "text": [
      "[Stage 214:=================================================>       (7 + 1) / 8]\r"
     ]
    },
    {
     "name": "stdout",
     "output_type": "stream",
     "text": [
      "+-------+---------+\n",
      "|summary|trip_time|\n",
      "+-------+---------+\n",
      "|    min|        1|\n",
      "|     1%|      196|\n",
      "|     5%|      307|\n",
      "+-------+---------+\n",
      "\n"
     ]
    },
    {
     "name": "stderr",
     "output_type": "stream",
     "text": [
      "\r",
      "[Stage 216:>                                                        (0 + 1) / 1]\r",
      "\r",
      "                                                                                \r"
     ]
    }
   ],
   "source": [
    "combined_df.select('trip_time').summary('min', '1%', '5%').show()"
   ]
  },
  {
   "cell_type": "code",
   "execution_count": 79,
   "id": "1a5dd2c8",
   "metadata": {},
   "outputs": [
    {
     "data": {
      "text/plain": [
       "5"
      ]
     },
     "execution_count": 79,
     "metadata": {},
     "output_type": "execute_result"
    }
   ],
   "source": [
    "location_df[location_df['trip_time_%50']<200]['count(1)'].sum()"
   ]
  },
  {
   "cell_type": "code",
   "execution_count": 80,
   "id": "cfce1266",
   "metadata": {},
   "outputs": [],
   "source": [
    "combined_df = combined_df.filter(combined_df.trip_time>200)"
   ]
  },
  {
   "cell_type": "markdown",
   "id": "b2a6a696",
   "metadata": {},
   "source": [
    "**trip_miles**"
   ]
  },
  {
   "cell_type": "code",
   "execution_count": 81,
   "id": "993cfd22",
   "metadata": {},
   "outputs": [
    {
     "name": "stderr",
     "output_type": "stream",
     "text": [
      "                                                                                \r"
     ]
    }
   ],
   "source": [
    "location_df = combined_df.groupBy('PULocationID', 'DOLocationID')\\\n",
    "            .agg(F.max(\"trip_miles\"),\n",
    "                 F.expr('percentile(trip_miles, array(0.5))')[0].alias('trip_miles_%50'),\n",
    "                 F.expr('percentile(trip_miles, array(0.99))')[0].alias('trip_miles_%99'),\n",
    "                 F.count('*')).toPandas()"
   ]
  },
  {
   "cell_type": "code",
   "execution_count": 82,
   "id": "1e3c4678",
   "metadata": {},
   "outputs": [
    {
     "name": "stderr",
     "output_type": "stream",
     "text": [
      "[Stage 220:=================================================>       (7 + 1) / 8]\r"
     ]
    },
    {
     "name": "stdout",
     "output_type": "stream",
     "text": [
      "+-------+----------+\n",
      "|summary|trip_miles|\n",
      "+-------+----------+\n",
      "|    95%|     14.58|\n",
      "|    99%|      22.3|\n",
      "|    max|    94.599|\n",
      "+-------+----------+\n",
      "\n"
     ]
    },
    {
     "name": "stderr",
     "output_type": "stream",
     "text": [
      "\r",
      "                                                                                \r"
     ]
    }
   ],
   "source": [
    "combined_df.select('trip_miles').summary('95%', '99%' ,'max').show()"
   ]
  },
  {
   "cell_type": "code",
   "execution_count": 83,
   "id": "d284a56e",
   "metadata": {},
   "outputs": [
    {
     "name": "stdout",
     "output_type": "stream",
     "text": [
      "86.19385000000001\n",
      "76.834\n",
      "31.081524999999996\n"
     ]
    }
   ],
   "source": [
    "print(location_df['trip_miles_%99'].max())\n",
    "print(location_df['trip_miles_%50'].max())\n",
    "print(location_df['trip_miles_%50'].quantile(.99))"
   ]
  },
  {
   "cell_type": "code",
   "execution_count": 84,
   "id": "ab3eaed5",
   "metadata": {},
   "outputs": [
    {
     "data": {
      "text/plain": [
       "2584"
      ]
     },
     "execution_count": 84,
     "metadata": {},
     "output_type": "execute_result"
    }
   ],
   "source": [
    "location_df[location_df['trip_miles_%50']>30]['count(1)'].sum()"
   ]
  },
  {
   "cell_type": "code",
   "execution_count": 85,
   "id": "021eb47c",
   "metadata": {},
   "outputs": [],
   "source": [
    "combined_df = combined_df.filter(combined_df.trip_miles<30)"
   ]
  },
  {
   "cell_type": "code",
   "execution_count": 86,
   "id": "02dc0a27",
   "metadata": {},
   "outputs": [
    {
     "name": "stderr",
     "output_type": "stream",
     "text": [
      "[Stage 223:=================================================>       (7 + 1) / 8]\r"
     ]
    },
    {
     "name": "stdout",
     "output_type": "stream",
     "text": [
      "+-------+----------+\n",
      "|summary|trip_miles|\n",
      "+-------+----------+\n",
      "|    min|     0.002|\n",
      "|     1%|     0.574|\n",
      "|     5%|      0.86|\n",
      "+-------+----------+\n",
      "\n"
     ]
    },
    {
     "name": "stderr",
     "output_type": "stream",
     "text": [
      "\r",
      "                                                                                \r"
     ]
    }
   ],
   "source": [
    "combined_df.select('trip_miles').summary('min', '1%', '5%').show()"
   ]
  },
  {
   "cell_type": "code",
   "execution_count": 87,
   "id": "1768908f",
   "metadata": {},
   "outputs": [],
   "source": [
    "combined_df = combined_df.filter(combined_df.trip_miles>0.5)"
   ]
  },
  {
   "cell_type": "markdown",
   "id": "cca42022",
   "metadata": {},
   "source": [
    "### 1.2.4 Univariate analysis"
   ]
  },
  {
   "cell_type": "code",
   "execution_count": 88,
   "id": "e7c376c1",
   "metadata": {},
   "outputs": [
    {
     "data": {
      "text/plain": [
       "['PULocationID',\n",
       " 'DOLocationID',\n",
       " 'trip_time',\n",
       " 'trip_miles',\n",
       " 'tolls',\n",
       " 'airport_fee']"
      ]
     },
     "execution_count": 88,
     "metadata": {},
     "output_type": "execute_result"
    }
   ],
   "source": [
    "bigint_col+double_col"
   ]
  },
  {
   "cell_type": "markdown",
   "id": "57ec6917",
   "metadata": {},
   "source": [
    "**PULocationID** and **DULocationID** are categorical values, **airport_fee** is a constant value and **tolls** is a price column that is not related to our target column"
   ]
  },
  {
   "cell_type": "code",
   "execution_count": 89,
   "id": "7387632a",
   "metadata": {},
   "outputs": [],
   "source": [
    "seed = np.random.randint(0,100,3)"
   ]
  },
  {
   "cell_type": "code",
   "execution_count": 90,
   "id": "1f4594be",
   "metadata": {
    "scrolled": true
   },
   "outputs": [
    {
     "name": "stderr",
     "output_type": "stream",
     "text": [
      "                                                                                \r"
     ]
    },
    {
     "name": "stdout",
     "output_type": "stream",
     "text": [
      "trip_time\n"
     ]
    },
    {
     "data": {
      "image/png": "[encoded data removed]",
      "text/plain": [
       "<Figure size 800x300 with 1 Axes>"
      ]
     },
     "metadata": {},
     "output_type": "display_data"
    },
    {
     "name": "stderr",
     "output_type": "stream",
     "text": [
      "                                                                                \r"
     ]
    },
    {
     "name": "stdout",
     "output_type": "stream",
     "text": [
      "trip_miles\n"
     ]
    },
    {
     "data": {
      "image/png": "[encoded data removed]",
      "text/plain": [
       "<Figure size 800x300 with 1 Axes>"
      ]
     },
     "metadata": {},
     "output_type": "display_data"
    }
   ],
   "source": [
    "for column in ['trip_time', 'trip_miles']:\n",
    "    plt.figure(figsize=(8, 3))\n",
    "\n",
    "    for s in seed:\n",
    "        sample_data = combined_df.select(column).sample(False, 0.1, seed=s).toPandas()\n",
    "\n",
    "        max_value = np.percentile(sample_data[column], 99)\n",
    "        min_value = np.percentile(sample_data[column], 1)\n",
    "\n",
    "        sns.kdeplot(sample_data[column], fill=True)\n",
    "        plt.title(f'KDE Plot for {column}')\n",
    "        plt.xlim(min_value, max_value)\n",
    "\n",
    "    # Show the plot\n",
    "    print(column)\n",
    "    plt.show()"
   ]
  },
  {
   "cell_type": "code",
   "execution_count": null,
   "id": "2ff437fa",
   "metadata": {},
   "outputs": [],
   "source": []
  },
  {
   "cell_type": "markdown",
   "id": "b4b63f40",
   "metadata": {},
   "source": [
    "## 1.3 Time series data cleaning"
   ]
  },
  {
   "cell_type": "code",
   "execution_count": 91,
   "id": "b80f7e53",
   "metadata": {},
   "outputs": [
    {
     "data": {
      "text/plain": [
       "['request_datetime',\n",
       " 'on_scene_datetime',\n",
       " 'pickup_datetime',\n",
       " 'dropoff_datetime']"
      ]
     },
     "execution_count": 91,
     "metadata": {},
     "output_type": "execute_result"
    }
   ],
   "source": [
    "time_col = [col_name for col_name, col_type in column_types if col_type == \"timestamp_ntz\"]\n",
    "time_col"
   ]
  },
  {
   "cell_type": "code",
   "execution_count": 92,
   "id": "fd2a487b",
   "metadata": {},
   "outputs": [
    {
     "name": "stderr",
     "output_type": "stream",
     "text": [
      "                                                                                \r"
     ]
    },
    {
     "name": "stdout",
     "output_type": "stream",
     "text": [
      "on_scene_datetime:  4712516\n"
     ]
    },
    {
     "name": "stderr",
     "output_type": "stream",
     "text": [
      "                                                                                \r"
     ]
    }
   ],
   "source": [
    "# checking null values\n",
    "for column in time_col:\n",
    "    null_count = combined_df.filter(combined_df[column].isNull()).count()\n",
    "    if null_count>0:\n",
    "        print(f\"{column}: \", null_count)"
   ]
  },
  {
   "cell_type": "markdown",
   "id": "725cca41",
   "metadata": {},
   "source": [
    "***"
   ]
  },
  {
   "cell_type": "markdown",
   "id": "7f4d728c",
   "metadata": {},
   "source": [
    "# 2. Feature Engineering"
   ]
  },
  {
   "cell_type": "markdown",
   "id": "884ce540",
   "metadata": {},
   "source": [
    "## 2.1 Numeric feature engineering"
   ]
  },
  {
   "cell_type": "markdown",
   "id": "3992bfc0",
   "metadata": {},
   "source": [
    "### 2.1.1 Trip time : seconds -> minutes"
   ]
  },
  {
   "cell_type": "code",
   "execution_count": 93,
   "id": "dc2ca3c8",
   "metadata": {},
   "outputs": [],
   "source": [
    "combined_df = combined_df.withColumn(\"trip_time\", lit(combined_df.trip_time/60))"
   ]
  },
  {
   "cell_type": "code",
   "execution_count": 94,
   "id": "2d331c29",
   "metadata": {},
   "outputs": [
    {
     "name": "stderr",
     "output_type": "stream",
     "text": [
      "\r",
      "[Stage 244:>                                                        (0 + 8) / 8]\r"
     ]
    },
    {
     "name": "stdout",
     "output_type": "stream",
     "text": [
      "+-------+------------------+\n",
      "|summary|         trip_time|\n",
      "+-------+------------------+\n",
      "|  count|          16973610|\n",
      "|   mean| 17.92227409392155|\n",
      "| stddev|11.014749968416682|\n",
      "|    min|              3.35|\n",
      "|    max|             66.65|\n",
      "+-------+------------------+\n",
      "\n"
     ]
    },
    {
     "name": "stderr",
     "output_type": "stream",
     "text": [
      "\r",
      "                                                                                \r"
     ]
    }
   ],
   "source": [
    "combined_df.describe('trip_time').show()"
   ]
  },
  {
   "cell_type": "markdown",
   "id": "f1247abc",
   "metadata": {},
   "source": [
    "### 2.1.2 Tolls boolean: Are there any tolls"
   ]
  },
  {
   "cell_type": "code",
   "execution_count": 95,
   "id": "d7fe654c",
   "metadata": {},
   "outputs": [
    {
     "name": "stderr",
     "output_type": "stream",
     "text": [
      "                                                                                \r"
     ]
    },
    {
     "data": {
      "text/plain": [
       "2024058"
      ]
     },
     "execution_count": 95,
     "metadata": {},
     "output_type": "execute_result"
    }
   ],
   "source": [
    "combined_df.filter(combined_df.tolls>0).count()"
   ]
  },
  {
   "cell_type": "code",
   "execution_count": 96,
   "id": "581b7557",
   "metadata": {},
   "outputs": [],
   "source": [
    "combined_df = combined_df.withColumn(\"any_tolls\", when(col(\"tolls\") > 0, 1).otherwise(0))"
   ]
  },
  {
   "cell_type": "code",
   "execution_count": 97,
   "id": "2bbef942",
   "metadata": {},
   "outputs": [
    {
     "name": "stderr",
     "output_type": "stream",
     "text": [
      "                                                                                \r"
     ]
    },
    {
     "data": {
      "text/plain": [
       "2024058"
      ]
     },
     "execution_count": 97,
     "metadata": {},
     "output_type": "execute_result"
    }
   ],
   "source": [
    "combined_df.filter(combined_df.any_tolls==1).count()"
   ]
  },
  {
   "cell_type": "markdown",
   "id": "1f7eda9f",
   "metadata": {},
   "source": [
    "### 2.1.3 Airport boolean: Is it an airport zone"
   ]
  },
  {
   "cell_type": "code",
   "execution_count": 98,
   "id": "c933b27e",
   "metadata": {},
   "outputs": [
    {
     "name": "stderr",
     "output_type": "stream",
     "text": [
      "                                                                                \r"
     ]
    },
    {
     "data": {
      "text/plain": [
       "822813"
      ]
     },
     "execution_count": 98,
     "metadata": {},
     "output_type": "execute_result"
    }
   ],
   "source": [
    "combined_df.filter(combined_df.airport_fee>0).count()"
   ]
  },
  {
   "cell_type": "code",
   "execution_count": 99,
   "id": "a605f289",
   "metadata": {},
   "outputs": [],
   "source": [
    "combined_df = combined_df.withColumn(\"airport_zone\", when(col(\"airport_fee\") > 0, 1).otherwise(0))"
   ]
  },
  {
   "cell_type": "code",
   "execution_count": 100,
   "id": "51743082",
   "metadata": {},
   "outputs": [
    {
     "name": "stderr",
     "output_type": "stream",
     "text": [
      "                                                                                \r"
     ]
    },
    {
     "data": {
      "text/plain": [
       "822813"
      ]
     },
     "execution_count": 100,
     "metadata": {},
     "output_type": "execute_result"
    }
   ],
   "source": [
    "combined_df.filter(combined_df.airport_zone==1).count()"
   ]
  },
  {
   "cell_type": "markdown",
   "id": "3f5f453e",
   "metadata": {},
   "source": [
    "### 2.1.4 Minutes per mile"
   ]
  },
  {
   "cell_type": "code",
   "execution_count": 101,
   "id": "c76c2abf",
   "metadata": {},
   "outputs": [],
   "source": [
    "combined_df = combined_df.withColumn(\"minutes_per_mile\", combined_df.trip_time/combined_df.trip_miles)"
   ]
  },
  {
   "cell_type": "code",
   "execution_count": 102,
   "id": "92b17702",
   "metadata": {},
   "outputs": [
    {
     "name": "stderr",
     "output_type": "stream",
     "text": [
      "[Stage 259:=================================================>       (7 + 1) / 8]\r"
     ]
    },
    {
     "name": "stdout",
     "output_type": "stream",
     "text": [
      "+-------+-------------------+\n",
      "|summary|   minutes_per_mile|\n",
      "+-------+-------------------+\n",
      "|  count|           16973610|\n",
      "|   mean|  5.203728376971703|\n",
      "| stddev| 2.4263388455561947|\n",
      "|    min|0.38212537501973787|\n",
      "|    max|              125.0|\n",
      "+-------+-------------------+\n",
      "\n"
     ]
    },
    {
     "name": "stderr",
     "output_type": "stream",
     "text": [
      "\r",
      "                                                                                \r"
     ]
    }
   ],
   "source": [
    "combined_df.describe('minutes_per_mile').show()"
   ]
  },
  {
   "cell_type": "code",
   "execution_count": 103,
   "id": "fb367bcc",
   "metadata": {},
   "outputs": [
    {
     "name": "stderr",
     "output_type": "stream",
     "text": [
      "[Stage 262:=================================================>       (7 + 1) / 8]\r"
     ]
    },
    {
     "name": "stdout",
     "output_type": "stream",
     "text": [
      "+-------+------------------+\n",
      "|summary|  minutes_per_mile|\n",
      "+-------+------------------+\n",
      "|    95%| 9.394506866416979|\n",
      "|    99%|12.891156462585034|\n",
      "|    max|             125.0|\n",
      "+-------+------------------+\n",
      "\n"
     ]
    },
    {
     "name": "stderr",
     "output_type": "stream",
     "text": [
      "\r",
      "                                                                                \r"
     ]
    }
   ],
   "source": [
    "combined_df.select('minutes_per_mile').summary('95%', '99%' ,'max').show()"
   ]
  },
  {
   "cell_type": "code",
   "execution_count": 104,
   "id": "4bfa6375",
   "metadata": {},
   "outputs": [],
   "source": [
    "combined_df = combined_df.filter(combined_df.minutes_per_mile<13)"
   ]
  },
  {
   "cell_type": "markdown",
   "id": "9e8680ea",
   "metadata": {},
   "source": [
    "## 2.2 Time series feature engineering"
   ]
  },
  {
   "cell_type": "markdown",
   "id": "94f89172",
   "metadata": {},
   "source": [
    "### 2.2.1 Get date of trip"
   ]
  },
  {
   "cell_type": "code",
   "execution_count": 105,
   "id": "6a3dacfd",
   "metadata": {},
   "outputs": [],
   "source": [
    "combined_df = combined_df.withColumn(\"pickup_date\", to_date(col(\"pickup_datetime\")))"
   ]
  },
  {
   "cell_type": "markdown",
   "id": "6fc0b4e9",
   "metadata": {},
   "source": [
    "### 2.2.2 Hour of the day"
   ]
  },
  {
   "cell_type": "code",
   "execution_count": 106,
   "id": "327722b1",
   "metadata": {},
   "outputs": [],
   "source": [
    "combined_df = combined_df.withColumn(\"hour_of_day\", hour(col(\"pickup_datetime\")))"
   ]
  },
  {
   "cell_type": "code",
   "execution_count": 107,
   "id": "296e8c9a",
   "metadata": {},
   "outputs": [
    {
     "name": "stderr",
     "output_type": "stream",
     "text": [
      "[Stage 265:=================================================>       (7 + 1) / 8]\r"
     ]
    },
    {
     "name": "stdout",
     "output_type": "stream",
     "text": [
      "+-------+------------------+\n",
      "|summary|       hour_of_day|\n",
      "+-------+------------------+\n",
      "|  count|          16810291|\n",
      "|   mean|13.489036447971067|\n",
      "| stddev| 6.398171374638868|\n",
      "|    min|                 0|\n",
      "|    max|                23|\n",
      "+-------+------------------+\n",
      "\n"
     ]
    },
    {
     "name": "stderr",
     "output_type": "stream",
     "text": [
      "\r",
      "                                                                                \r"
     ]
    }
   ],
   "source": [
    "combined_df.describe('hour_of_day').show()"
   ]
  },
  {
   "cell_type": "markdown",
   "id": "cb529ef6",
   "metadata": {},
   "source": [
    "### 2.2.3 Get day of the week "
   ]
  },
  {
   "cell_type": "code",
   "execution_count": 108,
   "id": "c8096ce0",
   "metadata": {},
   "outputs": [],
   "source": [
    "combined_df = combined_df.withColumn(\"day_of_week\", date_format(col(\"pickup_datetime\"), \"EEEE\"))"
   ]
  },
  {
   "cell_type": "code",
   "execution_count": 109,
   "id": "23e3d36b",
   "metadata": {},
   "outputs": [
    {
     "name": "stderr",
     "output_type": "stream",
     "text": [
      "[Stage 268:=================================================>       (7 + 1) / 8]\r"
     ]
    },
    {
     "name": "stdout",
     "output_type": "stream",
     "text": [
      "+-----------+\n",
      "|day_of_week|\n",
      "+-----------+\n",
      "|  Wednesday|\n",
      "|    Tuesday|\n",
      "|     Friday|\n",
      "|   Thursday|\n",
      "|   Saturday|\n",
      "|     Monday|\n",
      "|     Sunday|\n",
      "+-----------+\n",
      "\n"
     ]
    },
    {
     "name": "stderr",
     "output_type": "stream",
     "text": [
      "\r",
      "                                                                                \r"
     ]
    }
   ],
   "source": [
    "combined_df.select('day_of_week').distinct().show()"
   ]
  },
  {
   "cell_type": "markdown",
   "id": "ad60a7d0",
   "metadata": {},
   "source": [
    "### 2.2.4 Month of trip"
   ]
  },
  {
   "cell_type": "code",
   "execution_count": 110,
   "id": "dcb35a1f",
   "metadata": {},
   "outputs": [],
   "source": [
    "combined_df = combined_df.withColumn('month', date_format('pickup_date', 'MMMM'))"
   ]
  },
  {
   "cell_type": "code",
   "execution_count": 111,
   "id": "cd2cfdf9",
   "metadata": {},
   "outputs": [
    {
     "name": "stderr",
     "output_type": "stream",
     "text": [
      "[Stage 271:=================================================>       (7 + 1) / 8]\r"
     ]
    },
    {
     "name": "stdout",
     "output_type": "stream",
     "text": [
      "+---------+\n",
      "|    month|\n",
      "+---------+\n",
      "| February|\n",
      "|  January|\n",
      "|    March|\n",
      "|    April|\n",
      "|      May|\n",
      "|     July|\n",
      "|     June|\n",
      "|   August|\n",
      "|  October|\n",
      "|September|\n",
      "| November|\n",
      "| December|\n",
      "+---------+\n",
      "\n"
     ]
    },
    {
     "name": "stderr",
     "output_type": "stream",
     "text": [
      "\r",
      "                                                                                \r"
     ]
    }
   ],
   "source": [
    "combined_df.select('month').distinct().show()"
   ]
  },
  {
   "cell_type": "markdown",
   "id": "9a9db869",
   "metadata": {},
   "source": [
    "### 2.2.5 Traffic by hour"
   ]
  },
  {
   "cell_type": "code",
   "execution_count": 112,
   "id": "628a6df2",
   "metadata": {},
   "outputs": [
    {
     "name": "stderr",
     "output_type": "stream",
     "text": [
      "                                                                                \r"
     ]
    }
   ],
   "source": [
    "traffic_df = combined_df.groupBy('pickup_date', 'hour_of_day').count().toPandas()\n",
    "traffic = traffic_df[['count', 'hour_of_day']].groupby('hour_of_day', as_index=False).aggregate(['mean','median'])"
   ]
  },
  {
   "cell_type": "code",
   "execution_count": 113,
   "id": "52bb5fa8",
   "metadata": {},
   "outputs": [],
   "source": [
    "traffic.columns = traffic.columns.droplevel(0)\n",
    "traffic = traffic.reset_index()"
   ]
  },
  {
   "cell_type": "code",
   "execution_count": 114,
   "id": "6d076f10",
   "metadata": {
    "scrolled": false
   },
   "outputs": [
    {
     "data": {
      "text/plain": [
       "<Axes: xlabel='hour_of_day'>"
      ]
     },
     "execution_count": 114,
     "metadata": {},
     "output_type": "execute_result"
    },
    {
     "data": {
      "image/png": "[encoded data removed]",
      "text/plain": [
       "<Figure size 640x480 with 1 Axes>"
      ]
     },
     "metadata": {},
     "output_type": "display_data"
    }
   ],
   "source": [
    "traffic.plot.bar(x='hour_of_day', y=['mean', 'median'])"
   ]
  },
  {
   "cell_type": "markdown",
   "id": "00d68005",
   "metadata": {},
   "source": [
    "Mean and Median are similar."
   ]
  },
  {
   "cell_type": "markdown",
   "id": "f0352411",
   "metadata": {},
   "source": [
    "Since the sample size is 1/10th of the population, multiplying the traffic by 10 to get real values."
   ]
  },
  {
   "cell_type": "code",
   "execution_count": 115,
   "id": "1e306b9f",
   "metadata": {},
   "outputs": [],
   "source": [
    "traffic_df = traffic_df.rename(columns={'count':'traffic'}).round({'traffic':-2})"
   ]
  },
  {
   "cell_type": "code",
   "execution_count": 116,
   "id": "0cdb2a44",
   "metadata": {},
   "outputs": [],
   "source": [
    "traffic_df['traffic'] = traffic_df['traffic']*10"
   ]
  },
  {
   "cell_type": "code",
   "execution_count": 117,
   "id": "f99358ec",
   "metadata": {},
   "outputs": [],
   "source": [
    "schema = StructType([\n",
    "    StructField(\"pickup_date\", DateType(), True),\n",
    "    StructField(\"hour_of_day\", IntegerType(), True),\n",
    "    StructField(\"traffic\", IntegerType(), True)\n",
    "])\n",
    "\n",
    "spark_df = spark.createDataFrame(traffic_df, schema=schema)"
   ]
  },
  {
   "cell_type": "code",
   "execution_count": 118,
   "id": "bbe5a620",
   "metadata": {},
   "outputs": [],
   "source": [
    "combined_df = combined_df.join(spark_df, on=['pickup_date', 'hour_of_day'])"
   ]
  },
  {
   "cell_type": "markdown",
   "id": "4eb6bc38",
   "metadata": {},
   "source": [
    "## 2.3 Categorical feature engineering"
   ]
  },
  {
   "cell_type": "markdown",
   "id": "8b07ee59",
   "metadata": {},
   "source": [
    "### 2.3.1 Pickup and drop off Borough"
   ]
  },
  {
   "cell_type": "code",
   "execution_count": 119,
   "id": "b00716e6",
   "metadata": {},
   "outputs": [],
   "source": [
    "borough = pd.read_csv(f'{path}/dataset/taxi_zone_lookup.csv')"
   ]
  },
  {
   "cell_type": "code",
   "execution_count": 120,
   "id": "cd0e21b5",
   "metadata": {},
   "outputs": [
    {
     "data": {
      "text/html": [
       "<div>\n",
       "<style scoped>\n",
       "    .dataframe tbody tr th:only-of-type {\n",
       "        vertical-align: middle;\n",
       "    }\n",
       "\n",
       "    .dataframe tbody tr th {\n",
       "        vertical-align: top;\n",
       "    }\n",
       "\n",
       "    .dataframe thead th {\n",
       "        text-align: right;\n",
       "    }\n",
       "</style>\n",
       "<table border=\"1\" class=\"dataframe\">\n",
       "  <thead>\n",
       "    <tr style=\"text-align: right;\">\n",
       "      <th></th>\n",
       "      <th>LocationID</th>\n",
       "      <th>Borough</th>\n",
       "      <th>Zone</th>\n",
       "      <th>service_zone</th>\n",
       "    </tr>\n",
       "  </thead>\n",
       "  <tbody>\n",
       "    <tr>\n",
       "      <th>0</th>\n",
       "      <td>1</td>\n",
       "      <td>EWR</td>\n",
       "      <td>Newark Airport</td>\n",
       "      <td>EWR</td>\n",
       "    </tr>\n",
       "    <tr>\n",
       "      <th>1</th>\n",
       "      <td>2</td>\n",
       "      <td>Queens</td>\n",
       "      <td>Jamaica Bay</td>\n",
       "      <td>Boro Zone</td>\n",
       "    </tr>\n",
       "    <tr>\n",
       "      <th>2</th>\n",
       "      <td>3</td>\n",
       "      <td>Bronx</td>\n",
       "      <td>Allerton/Pelham Gardens</td>\n",
       "      <td>Boro Zone</td>\n",
       "    </tr>\n",
       "    <tr>\n",
       "      <th>3</th>\n",
       "      <td>4</td>\n",
       "      <td>Manhattan</td>\n",
       "      <td>Alphabet City</td>\n",
       "      <td>Yellow Zone</td>\n",
       "    </tr>\n",
       "    <tr>\n",
       "      <th>4</th>\n",
       "      <td>5</td>\n",
       "      <td>Staten Island</td>\n",
       "      <td>Arden Heights</td>\n",
       "      <td>Boro Zone</td>\n",
       "    </tr>\n",
       "  </tbody>\n",
       "</table>\n",
       "</div>"
      ],
      "text/plain": [
       "   LocationID        Borough                     Zone service_zone\n",
       "0           1            EWR           Newark Airport          EWR\n",
       "1           2         Queens              Jamaica Bay    Boro Zone\n",
       "2           3          Bronx  Allerton/Pelham Gardens    Boro Zone\n",
       "3           4      Manhattan            Alphabet City  Yellow Zone\n",
       "4           5  Staten Island            Arden Heights    Boro Zone"
      ]
     },
     "execution_count": 120,
     "metadata": {},
     "output_type": "execute_result"
    }
   ],
   "source": [
    "borough.head()"
   ]
  },
  {
   "cell_type": "code",
   "execution_count": 121,
   "id": "d69cf706",
   "metadata": {},
   "outputs": [
    {
     "data": {
      "text/plain": [
       "array(['EWR', 'Queens', 'Bronx', 'Manhattan', 'Staten Island', 'Brooklyn',\n",
       "       'Unknown'], dtype=object)"
      ]
     },
     "execution_count": 121,
     "metadata": {},
     "output_type": "execute_result"
    }
   ],
   "source": [
    "borough.Borough.unique()"
   ]
  },
  {
   "cell_type": "code",
   "execution_count": 122,
   "id": "1f8faa38",
   "metadata": {},
   "outputs": [
    {
     "data": {
      "text/plain": [
       "0"
      ]
     },
     "execution_count": 122,
     "metadata": {},
     "output_type": "execute_result"
    }
   ],
   "source": [
    "borough.Borough.isnull().sum()"
   ]
  },
  {
   "cell_type": "code",
   "execution_count": 123,
   "id": "1eaedabd",
   "metadata": {},
   "outputs": [
    {
     "data": {
      "text/html": [
       "<div>\n",
       "<style scoped>\n",
       "    .dataframe tbody tr th:only-of-type {\n",
       "        vertical-align: middle;\n",
       "    }\n",
       "\n",
       "    .dataframe tbody tr th {\n",
       "        vertical-align: top;\n",
       "    }\n",
       "\n",
       "    .dataframe thead th {\n",
       "        text-align: right;\n",
       "    }\n",
       "</style>\n",
       "<table border=\"1\" class=\"dataframe\">\n",
       "  <thead>\n",
       "    <tr style=\"text-align: right;\">\n",
       "      <th></th>\n",
       "      <th>LocationID</th>\n",
       "      <th>Borough</th>\n",
       "      <th>Zone</th>\n",
       "      <th>service_zone</th>\n",
       "    </tr>\n",
       "  </thead>\n",
       "  <tbody>\n",
       "    <tr>\n",
       "      <th>263</th>\n",
       "      <td>264</td>\n",
       "      <td>Unknown</td>\n",
       "      <td>NV</td>\n",
       "      <td>NaN</td>\n",
       "    </tr>\n",
       "    <tr>\n",
       "      <th>264</th>\n",
       "      <td>265</td>\n",
       "      <td>Unknown</td>\n",
       "      <td>NaN</td>\n",
       "      <td>NaN</td>\n",
       "    </tr>\n",
       "  </tbody>\n",
       "</table>\n",
       "</div>"
      ],
      "text/plain": [
       "     LocationID  Borough Zone service_zone\n",
       "263         264  Unknown   NV          NaN\n",
       "264         265  Unknown  NaN          NaN"
      ]
     },
     "execution_count": 123,
     "metadata": {},
     "output_type": "execute_result"
    }
   ],
   "source": [
    "borough[borough.Borough=='Unknown']"
   ]
  },
  {
   "cell_type": "code",
   "execution_count": 124,
   "id": "2db8d765",
   "metadata": {},
   "outputs": [],
   "source": [
    "schema = StructType([\n",
    "    StructField(\"LocationID\", IntegerType(), True),\n",
    "    StructField(\"Borough\", StringType(), True)\n",
    "])\n",
    "\n",
    "spark_df = spark.createDataFrame(borough[['LocationID', 'Borough']], schema=schema)"
   ]
  },
  {
   "cell_type": "code",
   "execution_count": 125,
   "id": "af825982",
   "metadata": {},
   "outputs": [
    {
     "name": "stderr",
     "output_type": "stream",
     "text": [
      "                                                                                \r"
     ]
    },
    {
     "data": {
      "text/plain": [
       "Row(LocationID=1, Borough='EWR')"
      ]
     },
     "execution_count": 125,
     "metadata": {},
     "output_type": "execute_result"
    }
   ],
   "source": [
    "spark_df.head()"
   ]
  },
  {
   "cell_type": "code",
   "execution_count": 126,
   "id": "e772d3f4",
   "metadata": {},
   "outputs": [],
   "source": [
    "combined_df = combined_df.join(spark_df, col(\"PULocationID\") == col(\"LocationID\")).drop('LocationID')\\\n",
    "                        .withColumnRenamed('Borough', 'PUBorough')\n",
    "combined_df  = combined_df.join(spark_df, col(\"DOLocationID\") == col(\"LocationID\")).drop('LocationID')\\\n",
    "                        .withColumnRenamed('Borough', 'DOBorough')"
   ]
  },
  {
   "cell_type": "markdown",
   "id": "c187e8b4",
   "metadata": {},
   "source": [
    "### 2.3.2 Pickup and drop off service zone"
   ]
  },
  {
   "cell_type": "code",
   "execution_count": 127,
   "id": "b106999a",
   "metadata": {},
   "outputs": [
    {
     "data": {
      "text/plain": [
       "2"
      ]
     },
     "execution_count": 127,
     "metadata": {},
     "output_type": "execute_result"
    }
   ],
   "source": [
    "borough.service_zone.isnull().sum()"
   ]
  },
  {
   "cell_type": "code",
   "execution_count": 128,
   "id": "f5942b24",
   "metadata": {},
   "outputs": [],
   "source": [
    "borough.service_zone = borough.service_zone.fillna('Other')"
   ]
  },
  {
   "cell_type": "code",
   "execution_count": 129,
   "id": "58f6b6cc",
   "metadata": {},
   "outputs": [
    {
     "data": {
      "text/html": [
       "<div>\n",
       "<style scoped>\n",
       "    .dataframe tbody tr th:only-of-type {\n",
       "        vertical-align: middle;\n",
       "    }\n",
       "\n",
       "    .dataframe tbody tr th {\n",
       "        vertical-align: top;\n",
       "    }\n",
       "\n",
       "    .dataframe thead th {\n",
       "        text-align: right;\n",
       "    }\n",
       "</style>\n",
       "<table border=\"1\" class=\"dataframe\">\n",
       "  <thead>\n",
       "    <tr style=\"text-align: right;\">\n",
       "      <th></th>\n",
       "      <th>LocationID</th>\n",
       "      <th>Borough</th>\n",
       "      <th>Zone</th>\n",
       "      <th>service_zone</th>\n",
       "    </tr>\n",
       "  </thead>\n",
       "  <tbody>\n",
       "    <tr>\n",
       "      <th>263</th>\n",
       "      <td>264</td>\n",
       "      <td>Unknown</td>\n",
       "      <td>NV</td>\n",
       "      <td>Other</td>\n",
       "    </tr>\n",
       "    <tr>\n",
       "      <th>264</th>\n",
       "      <td>265</td>\n",
       "      <td>Unknown</td>\n",
       "      <td>NaN</td>\n",
       "      <td>Other</td>\n",
       "    </tr>\n",
       "  </tbody>\n",
       "</table>\n",
       "</div>"
      ],
      "text/plain": [
       "     LocationID  Borough Zone service_zone\n",
       "263         264  Unknown   NV        Other\n",
       "264         265  Unknown  NaN        Other"
      ]
     },
     "execution_count": 129,
     "metadata": {},
     "output_type": "execute_result"
    }
   ],
   "source": [
    "borough[borough.service_zone=='Other']"
   ]
  },
  {
   "cell_type": "code",
   "execution_count": 130,
   "id": "766914aa",
   "metadata": {},
   "outputs": [
    {
     "data": {
      "text/plain": [
       "service_zone\n",
       "Boro Zone      205\n",
       "Yellow Zone     55\n",
       "Airports         2\n",
       "Other            2\n",
       "EWR              1\n",
       "Name: count, dtype: int64"
      ]
     },
     "execution_count": 130,
     "metadata": {},
     "output_type": "execute_result"
    }
   ],
   "source": [
    "borough.service_zone.value_counts()"
   ]
  },
  {
   "cell_type": "code",
   "execution_count": 131,
   "id": "27dee507",
   "metadata": {},
   "outputs": [],
   "source": [
    "borough = borough.replace('EWR', 'Airports')"
   ]
  },
  {
   "cell_type": "code",
   "execution_count": 132,
   "id": "d1ca587c",
   "metadata": {},
   "outputs": [],
   "source": [
    "schema = StructType([\n",
    "    StructField(\"LocationID\", IntegerType(), True),\n",
    "    StructField(\"service_zone\", StringType(), True)\n",
    "])\n",
    "\n",
    "spark_df = spark.createDataFrame(borough[['LocationID', 'service_zone']], schema=schema)"
   ]
  },
  {
   "cell_type": "code",
   "execution_count": 133,
   "id": "0864e3cd",
   "metadata": {},
   "outputs": [],
   "source": [
    "combined_df = combined_df.join(spark_df, col(\"PULocationID\") == col(\"LocationID\")).drop('LocationID')\\\n",
    "                        .withColumnRenamed('service_zone', 'PUservice_zone')\n",
    "combined_df  = combined_df.join(spark_df, col(\"DOLocationID\") == col(\"LocationID\")).drop('LocationID')\\\n",
    "                        .withColumnRenamed('service_zone', 'DOservice_zone')"
   ]
  },
  {
   "cell_type": "code",
   "execution_count": 134,
   "id": "c6ab7f64",
   "metadata": {},
   "outputs": [
    {
     "name": "stderr",
     "output_type": "stream",
     "text": [
      "                                                                                \r"
     ]
    },
    {
     "data": {
      "text/plain": [
       "533148"
      ]
     },
     "execution_count": 134,
     "metadata": {},
     "output_type": "execute_result"
    }
   ],
   "source": [
    "combined_df.filter((combined_df.PUservice_zone=='Other') | (combined_df.DOservice_zone==\"Other\")).count()"
   ]
  },
  {
   "cell_type": "code",
   "execution_count": 135,
   "id": "952fb446",
   "metadata": {},
   "outputs": [
    {
     "name": "stderr",
     "output_type": "stream",
     "text": [
      "                                                                                \r"
     ]
    },
    {
     "data": {
      "text/plain": [
       "533145"
      ]
     },
     "execution_count": 135,
     "metadata": {},
     "output_type": "execute_result"
    }
   ],
   "source": [
    "combined_df.filter((combined_df.PULocationID==265) | (combined_df.DOLocationID==265)).count()"
   ]
  },
  {
   "cell_type": "code",
   "execution_count": 136,
   "id": "f4482c13",
   "metadata": {},
   "outputs": [
    {
     "data": {
      "text/plain": [
       "5"
      ]
     },
     "execution_count": 136,
     "metadata": {},
     "output_type": "execute_result"
    }
   ],
   "source": [
    "634835 - 634830"
   ]
  },
  {
   "cell_type": "markdown",
   "id": "8cc2c4d6",
   "metadata": {},
   "source": [
    "Dropping LocationID == 264"
   ]
  },
  {
   "cell_type": "code",
   "execution_count": 137,
   "id": "aa118aca",
   "metadata": {},
   "outputs": [],
   "source": [
    "combined_df = combined_df.filter((combined_df.PULocationID!=264) & (combined_df.DOLocationID!=264))"
   ]
  },
  {
   "cell_type": "markdown",
   "id": "90ba7b2d",
   "metadata": {},
   "source": [
    "LocationID 265 has a large no. of values but we don't know detail about the Zone or Borough. Therefore I am dropping the value to avoid overfitting. "
   ]
  },
  {
   "cell_type": "code",
   "execution_count": 138,
   "id": "91064597",
   "metadata": {},
   "outputs": [],
   "source": [
    "combined_df = combined_df.filter((combined_df.PULocationID!=265) & (combined_df.DOLocationID!=265))"
   ]
  },
  {
   "cell_type": "code",
   "execution_count": 139,
   "id": "e15177c0",
   "metadata": {
    "scrolled": true
   },
   "outputs": [
    {
     "name": "stderr",
     "output_type": "stream",
     "text": [
      "                                                                                \r"
     ]
    },
    {
     "data": {
      "text/plain": [
       "16277143"
      ]
     },
     "execution_count": 139,
     "metadata": {},
     "output_type": "execute_result"
    }
   ],
   "source": [
    "combined_df.count()"
   ]
  },
  {
   "cell_type": "markdown",
   "id": "53aa7f2c",
   "metadata": {},
   "source": [
    "### 2.3.3 Combine service zone and airport_zone"
   ]
  },
  {
   "cell_type": "code",
   "execution_count": 140,
   "id": "ed99a081",
   "metadata": {},
   "outputs": [],
   "source": [
    "airports_df = combined_df.filter((combined_df.PUservice_zone!='Airports') &  \n",
    "                   (combined_df.DOservice_zone!='Airports') & \n",
    "                   (combined_df.airport_zone==1))"
   ]
  },
  {
   "cell_type": "code",
   "execution_count": 141,
   "id": "a49d1095",
   "metadata": {},
   "outputs": [
    {
     "name": "stderr",
     "output_type": "stream",
     "text": [
      "                                                                                \r"
     ]
    },
    {
     "data": {
      "text/plain": [
       "48"
      ]
     },
     "execution_count": 141,
     "metadata": {},
     "output_type": "execute_result"
    }
   ],
   "source": [
    "airports_df.count()"
   ]
  },
  {
   "cell_type": "code",
   "execution_count": 142,
   "id": "92c56ef1",
   "metadata": {},
   "outputs": [],
   "source": [
    "combined_df = combined_df.drop(\"airport_zone\")"
   ]
  },
  {
   "cell_type": "markdown",
   "id": "f13a8c81",
   "metadata": {},
   "source": [
    "### 2.3.3 Public holiday"
   ]
  },
  {
   "cell_type": "code",
   "execution_count": 143,
   "id": "550f1571",
   "metadata": {},
   "outputs": [],
   "source": [
    "holiday = pd.read_csv(f\"{path}/dataset/public_holidays.csv\", parse_dates=['Date'])"
   ]
  },
  {
   "cell_type": "code",
   "execution_count": 144,
   "id": "b01ff43e",
   "metadata": {},
   "outputs": [
    {
     "data": {
      "text/html": [
       "<div>\n",
       "<style scoped>\n",
       "    .dataframe tbody tr th:only-of-type {\n",
       "        vertical-align: middle;\n",
       "    }\n",
       "\n",
       "    .dataframe tbody tr th {\n",
       "        vertical-align: top;\n",
       "    }\n",
       "\n",
       "    .dataframe thead th {\n",
       "        text-align: right;\n",
       "    }\n",
       "</style>\n",
       "<table border=\"1\" class=\"dataframe\">\n",
       "  <thead>\n",
       "    <tr style=\"text-align: right;\">\n",
       "      <th></th>\n",
       "      <th>Date</th>\n",
       "      <th>Day</th>\n",
       "      <th>Holiday</th>\n",
       "    </tr>\n",
       "  </thead>\n",
       "  <tbody>\n",
       "    <tr>\n",
       "      <th>0</th>\n",
       "      <td>2021-01-01</td>\n",
       "      <td>Friday</td>\n",
       "      <td>New Year's Day</td>\n",
       "    </tr>\n",
       "    <tr>\n",
       "      <th>1</th>\n",
       "      <td>2021-01-18</td>\n",
       "      <td>Monday</td>\n",
       "      <td>Birthday of Martin Luther King, Jr.</td>\n",
       "    </tr>\n",
       "    <tr>\n",
       "      <th>2</th>\n",
       "      <td>2021-02-12</td>\n",
       "      <td>Friday</td>\n",
       "      <td>Lincoln's Birthday</td>\n",
       "    </tr>\n",
       "  </tbody>\n",
       "</table>\n",
       "</div>"
      ],
      "text/plain": [
       "        Date     Day                              Holiday\n",
       "0 2021-01-01  Friday                       New Year's Day\n",
       "1 2021-01-18  Monday  Birthday of Martin Luther King, Jr.\n",
       "2 2021-02-12  Friday                   Lincoln's Birthday"
      ]
     },
     "execution_count": 144,
     "metadata": {},
     "output_type": "execute_result"
    }
   ],
   "source": [
    "holiday.head(3)"
   ]
  },
  {
   "cell_type": "code",
   "execution_count": 145,
   "id": "2e2f8d77",
   "metadata": {},
   "outputs": [
    {
     "data": {
      "text/plain": [
       "(12, 3)"
      ]
     },
     "execution_count": 145,
     "metadata": {},
     "output_type": "execute_result"
    }
   ],
   "source": [
    "holiday.shape"
   ]
  },
  {
   "cell_type": "code",
   "execution_count": 146,
   "id": "573b9302",
   "metadata": {},
   "outputs": [],
   "source": [
    "schema = StructType([\n",
    "    StructField(\"Date\", DateType(), True), \n",
    "    StructField(\"Holiday\", StringType(), True)\n",
    "])"
   ]
  },
  {
   "cell_type": "code",
   "execution_count": 147,
   "id": "1d4e9ea4",
   "metadata": {},
   "outputs": [],
   "source": [
    "spark_holiday = spark.createDataFrame(holiday.drop(columns='Day'), schema = schema)"
   ]
  },
  {
   "cell_type": "code",
   "execution_count": 148,
   "id": "c65ab8c1",
   "metadata": {},
   "outputs": [],
   "source": [
    "combined_df = combined_df.join(spark_holiday, col(\"pickup_date\") == col(\"Date\"), how=\"left_outer\").drop('Date')"
   ]
  },
  {
   "cell_type": "code",
   "execution_count": 149,
   "id": "0e276275",
   "metadata": {},
   "outputs": [
    {
     "name": "stderr",
     "output_type": "stream",
     "text": [
      "                                                                                \r"
     ]
    },
    {
     "data": {
      "text/plain": [
       "15807374"
      ]
     },
     "execution_count": 149,
     "metadata": {},
     "output_type": "execute_result"
    }
   ],
   "source": [
    "combined_df.filter(combined_df.Holiday.isNull()).count()"
   ]
  },
  {
   "cell_type": "code",
   "execution_count": 150,
   "id": "b277f043",
   "metadata": {},
   "outputs": [],
   "source": [
    "combined_df = combined_df.na.fill(\"NA\", subset=['Holiday'])"
   ]
  },
  {
   "cell_type": "code",
   "execution_count": 151,
   "id": "f15fe243",
   "metadata": {},
   "outputs": [
    {
     "data": {
      "text/plain": [
       "30"
      ]
     },
     "execution_count": 151,
     "metadata": {},
     "output_type": "execute_result"
    }
   ],
   "source": [
    "len(combined_df.columns)"
   ]
  },
  {
   "cell_type": "markdown",
   "id": "2ef368cf",
   "metadata": {},
   "source": [
    "## 3 Combining weather data"
   ]
  },
  {
   "cell_type": "code",
   "execution_count": 152,
   "id": "94c74450",
   "metadata": {},
   "outputs": [
    {
     "data": {
      "text/html": [
       "<div>\n",
       "<style scoped>\n",
       "    .dataframe tbody tr th:only-of-type {\n",
       "        vertical-align: middle;\n",
       "    }\n",
       "\n",
       "    .dataframe tbody tr th {\n",
       "        vertical-align: top;\n",
       "    }\n",
       "\n",
       "    .dataframe thead th {\n",
       "        text-align: right;\n",
       "    }\n",
       "</style>\n",
       "<table border=\"1\" class=\"dataframe\">\n",
       "  <thead>\n",
       "    <tr style=\"text-align: right;\">\n",
       "      <th></th>\n",
       "      <th>timestamp</th>\n",
       "      <th>humidity</th>\n",
       "      <th>wind_direction</th>\n",
       "      <th>wind_speed</th>\n",
       "      <th>precipitation</th>\n",
       "      <th>pressure</th>\n",
       "      <th>visibility</th>\n",
       "      <th>skyc1</th>\n",
       "      <th>skyc2</th>\n",
       "      <th>skyc3</th>\n",
       "      <th>...</th>\n",
       "      <th>month</th>\n",
       "      <th>avg_skyl</th>\n",
       "      <th>RA</th>\n",
       "      <th>SN</th>\n",
       "      <th>DZ</th>\n",
       "      <th>TS</th>\n",
       "      <th>FG</th>\n",
       "      <th>FZ</th>\n",
       "      <th>CLR</th>\n",
       "      <th>BR</th>\n",
       "    </tr>\n",
       "  </thead>\n",
       "  <tbody>\n",
       "    <tr>\n",
       "      <th>0</th>\n",
       "      <td>2021-01-01 00:51:00</td>\n",
       "      <td>57.47</td>\n",
       "      <td>NW</td>\n",
       "      <td>13.0</td>\n",
       "      <td>0</td>\n",
       "      <td>30.34</td>\n",
       "      <td>2</td>\n",
       "      <td>FEW</td>\n",
       "      <td>OVC</td>\n",
       "      <td>missing</td>\n",
       "      <td>...</td>\n",
       "      <td>1</td>\n",
       "      <td>9000.0</td>\n",
       "      <td>0</td>\n",
       "      <td>0</td>\n",
       "      <td>0</td>\n",
       "      <td>0</td>\n",
       "      <td>0</td>\n",
       "      <td>0</td>\n",
       "      <td>1</td>\n",
       "      <td>0</td>\n",
       "    </tr>\n",
       "    <tr>\n",
       "      <th>1</th>\n",
       "      <td>2021-01-01 01:51:00</td>\n",
       "      <td>54.77</td>\n",
       "      <td>N</td>\n",
       "      <td>9.0</td>\n",
       "      <td>0</td>\n",
       "      <td>30.35</td>\n",
       "      <td>2</td>\n",
       "      <td>FEW</td>\n",
       "      <td>SCT</td>\n",
       "      <td>missing</td>\n",
       "      <td>...</td>\n",
       "      <td>1</td>\n",
       "      <td>10000.0</td>\n",
       "      <td>0</td>\n",
       "      <td>0</td>\n",
       "      <td>0</td>\n",
       "      <td>0</td>\n",
       "      <td>0</td>\n",
       "      <td>0</td>\n",
       "      <td>1</td>\n",
       "      <td>0</td>\n",
       "    </tr>\n",
       "    <tr>\n",
       "      <th>2</th>\n",
       "      <td>2021-01-01 02:51:00</td>\n",
       "      <td>61.62</td>\n",
       "      <td>N</td>\n",
       "      <td>7.0</td>\n",
       "      <td>0</td>\n",
       "      <td>30.38</td>\n",
       "      <td>2</td>\n",
       "      <td>FEW</td>\n",
       "      <td>FEW</td>\n",
       "      <td>missing</td>\n",
       "      <td>...</td>\n",
       "      <td>1</td>\n",
       "      <td>20500.0</td>\n",
       "      <td>0</td>\n",
       "      <td>0</td>\n",
       "      <td>0</td>\n",
       "      <td>0</td>\n",
       "      <td>0</td>\n",
       "      <td>0</td>\n",
       "      <td>1</td>\n",
       "      <td>0</td>\n",
       "    </tr>\n",
       "    <tr>\n",
       "      <th>3</th>\n",
       "      <td>2021-01-01 03:51:00</td>\n",
       "      <td>63.98</td>\n",
       "      <td>N</td>\n",
       "      <td>10.0</td>\n",
       "      <td>0</td>\n",
       "      <td>30.41</td>\n",
       "      <td>2</td>\n",
       "      <td>FEW</td>\n",
       "      <td>FEW</td>\n",
       "      <td>missing</td>\n",
       "      <td>...</td>\n",
       "      <td>1</td>\n",
       "      <td>20500.0</td>\n",
       "      <td>0</td>\n",
       "      <td>0</td>\n",
       "      <td>0</td>\n",
       "      <td>0</td>\n",
       "      <td>0</td>\n",
       "      <td>0</td>\n",
       "      <td>1</td>\n",
       "      <td>0</td>\n",
       "    </tr>\n",
       "    <tr>\n",
       "      <th>4</th>\n",
       "      <td>2021-01-01 04:51:00</td>\n",
       "      <td>63.86</td>\n",
       "      <td>N</td>\n",
       "      <td>9.0</td>\n",
       "      <td>0</td>\n",
       "      <td>30.42</td>\n",
       "      <td>2</td>\n",
       "      <td>FEW</td>\n",
       "      <td>FEW</td>\n",
       "      <td>missing</td>\n",
       "      <td>...</td>\n",
       "      <td>1</td>\n",
       "      <td>21000.0</td>\n",
       "      <td>0</td>\n",
       "      <td>0</td>\n",
       "      <td>0</td>\n",
       "      <td>0</td>\n",
       "      <td>0</td>\n",
       "      <td>0</td>\n",
       "      <td>1</td>\n",
       "      <td>0</td>\n",
       "    </tr>\n",
       "  </tbody>\n",
       "</table>\n",
       "<p>5 rows × 24 columns</p>\n",
       "</div>"
      ],
      "text/plain": [
       "             timestamp  humidity wind_direction  wind_speed  precipitation   \n",
       "0  2021-01-01 00:51:00     57.47             NW        13.0              0  \\\n",
       "1  2021-01-01 01:51:00     54.77              N         9.0              0   \n",
       "2  2021-01-01 02:51:00     61.62              N         7.0              0   \n",
       "3  2021-01-01 03:51:00     63.98              N        10.0              0   \n",
       "4  2021-01-01 04:51:00     63.86              N         9.0              0   \n",
       "\n",
       "   pressure  visibility skyc1 skyc2    skyc3  ...  month  avg_skyl RA  SN  DZ   \n",
       "0     30.34           2   FEW   OVC  missing  ...      1    9000.0  0   0   0  \\\n",
       "1     30.35           2   FEW   SCT  missing  ...      1   10000.0  0   0   0   \n",
       "2     30.38           2   FEW   FEW  missing  ...      1   20500.0  0   0   0   \n",
       "3     30.41           2   FEW   FEW  missing  ...      1   20500.0  0   0   0   \n",
       "4     30.42           2   FEW   FEW  missing  ...      1   21000.0  0   0   0   \n",
       "\n",
       "   TS  FG  FZ  CLR  BR  \n",
       "0   0   0   0    1   0  \n",
       "1   0   0   0    1   0  \n",
       "2   0   0   0    1   0  \n",
       "3   0   0   0    1   0  \n",
       "4   0   0   0    1   0  \n",
       "\n",
       "[5 rows x 24 columns]"
      ]
     },
     "execution_count": 152,
     "metadata": {},
     "output_type": "execute_result"
    }
   ],
   "source": [
    "weather_df = pd.read_csv(f\"{path}/dataset/weather_processed.csv\")\n",
    "weather_df.head()"
   ]
  },
  {
   "cell_type": "code",
   "execution_count": 153,
   "id": "5a2d0d54",
   "metadata": {},
   "outputs": [],
   "source": [
    "spark_weather = spark.createDataFrame(weather_df.drop(columns=['timestamp', 'month']))"
   ]
  },
  {
   "cell_type": "code",
   "execution_count": 154,
   "id": "fbd63607",
   "metadata": {},
   "outputs": [],
   "source": [
    "spark_weather = spark_weather.withColumn(\"date\", spark_weather.date.cast(\"timestamp\"))"
   ]
  },
  {
   "cell_type": "code",
   "execution_count": 155,
   "id": "c6b6911f",
   "metadata": {},
   "outputs": [],
   "source": [
    "combined_df = combined_df.join(spark_weather, (col(\"pickup_date\") == col(\"date\")) & \\\n",
    "                 (col(\"hour_of_day\") == col(\"hour\"))).drop('hour', 'date')"
   ]
  },
  {
   "cell_type": "markdown",
   "id": "a85b5b1a",
   "metadata": {},
   "source": [
    "***"
   ]
  },
  {
   "cell_type": "markdown",
   "id": "6e20f2be",
   "metadata": {},
   "source": [
    "# Target column"
   ]
  },
  {
   "cell_type": "markdown",
   "id": "65893ef9",
   "metadata": {},
   "source": [
    "Our target column is **trip_time**"
   ]
  },
  {
   "cell_type": "code",
   "execution_count": 156,
   "id": "c4feb518",
   "metadata": {},
   "outputs": [],
   "source": [
    "# Checking whether trip_time is (request - drop-off) or (pickup - drop-off) or (on_scene - drop-off)"
   ]
  },
  {
   "cell_type": "code",
   "execution_count": 157,
   "id": "621f8d77",
   "metadata": {},
   "outputs": [],
   "source": [
    "trip_time_df = combined_df.select('request_datetime', 'pickup_datetime', 'on_scene_datetime', 'dropoff_datetime', 'trip_time')"
   ]
  },
  {
   "cell_type": "code",
   "execution_count": 158,
   "id": "41067f64",
   "metadata": {},
   "outputs": [],
   "source": [
    "trip_time_df = trip_time_df.withColumn(\"request_datetime\", combined_df.request_datetime.cast(\"timestamp\"))\n",
    "trip_time_df = trip_time_df.withColumn(\"pickup_datetime\", combined_df.pickup_datetime.cast(\"timestamp\"))\n",
    "trip_time_df = trip_time_df.withColumn(\"on_scene_datetime\", combined_df.on_scene_datetime.cast(\"timestamp\"))\n",
    "trip_time_df = trip_time_df.withColumn(\"dropoff_datetime\", combined_df.dropoff_datetime.cast(\"timestamp\"))"
   ]
  },
  {
   "cell_type": "code",
   "execution_count": 159,
   "id": "36f511f2",
   "metadata": {},
   "outputs": [
    {
     "data": {
      "text/plain": [
       "DataFrame[request_datetime: timestamp, pickup_datetime: timestamp, on_scene_datetime: timestamp, dropoff_datetime: timestamp, trip_time: double]"
      ]
     },
     "execution_count": 159,
     "metadata": {},
     "output_type": "execute_result"
    }
   ],
   "source": [
    "trip_time_df"
   ]
  },
  {
   "cell_type": "code",
   "execution_count": 160,
   "id": "101df90e",
   "metadata": {},
   "outputs": [],
   "source": [
    "trip_time_df = trip_time_df.withColumn(\"request_diff\", lit(expr(\"unix_timestamp(dropoff_datetime) - unix_timestamp(request_datetime)\")/60))\n",
    "trip_time_df = trip_time_df.withColumn(\"pickup_diff\", lit(expr(\"unix_timestamp(dropoff_datetime) - unix_timestamp(pickup_datetime)\")/60))\n",
    "trip_time_df = trip_time_df.withColumn(\"on_scene_diff\", lit(expr(\"unix_timestamp(dropoff_datetime) - unix_timestamp(on_scene_datetime)\")/60))"
   ]
  },
  {
   "cell_type": "code",
   "execution_count": 161,
   "id": "ea0ea2d9",
   "metadata": {},
   "outputs": [
    {
     "data": {
      "text/plain": [
       "DataFrame[request_datetime: timestamp, pickup_datetime: timestamp, on_scene_datetime: timestamp, dropoff_datetime: timestamp, trip_time: double, request_diff: double, pickup_diff: double, on_scene_diff: double]"
      ]
     },
     "execution_count": 161,
     "metadata": {},
     "output_type": "execute_result"
    }
   ],
   "source": [
    "trip_time_df"
   ]
  },
  {
   "cell_type": "code",
   "execution_count": 162,
   "id": "46d58501",
   "metadata": {},
   "outputs": [],
   "source": [
    "trip_time_df = trip_time_df.withColumn(\"rq_diff\", trip_time_df.request_diff - trip_time_df.trip_time)\n",
    "trip_time_df = trip_time_df.withColumn(\"pu_diff\", trip_time_df.pickup_diff - trip_time_df.trip_time)\n",
    "trip_time_df = trip_time_df.withColumn(\"on_diff\", trip_time_df.on_scene_diff - trip_time_df.trip_time)"
   ]
  },
  {
   "cell_type": "code",
   "execution_count": 163,
   "id": "fac88b67",
   "metadata": {},
   "outputs": [
    {
     "name": "stderr",
     "output_type": "stream",
     "text": [
      "24/01/24 11:52:15 WARN SparkStringUtils: Truncated the string representation of a plan since it was too large. This behavior can be adjusted by setting 'spark.sql.debug.maxToStringFields'.\n",
      "[Stage 380:>                                                        (0 + 1) / 1]\r"
     ]
    },
    {
     "name": "stdout",
     "output_type": "stream",
     "text": [
      "+-------+------------------+--------------------+------------------+\n",
      "|summary|           rq_diff|             pu_diff|           on_diff|\n",
      "+-------+------------------+--------------------+------------------+\n",
      "|  count|          16277143|            16277143|          11772042|\n",
      "|   mean|  5.49429351330274|-0.06460203120410546|0.9705877479314954|\n",
      "| stddev| 3.648380529100645|  0.6568986550974533|1.0322359477454524|\n",
      "|    min|-66.31666666666666|              -70.95|            -60.65|\n",
      "|    25%|  3.31666666666667|                 0.0|0.2999999999999998|\n",
      "|    50%| 4.816666666666666|                 0.0|0.7333333333333343|\n",
      "|    75%| 6.933333333333334|                 0.0| 1.666666666666667|\n",
      "|    max| 352.1333333333333|   60.00000000000001|             154.0|\n",
      "+-------+------------------+--------------------+------------------+\n",
      "\n"
     ]
    },
    {
     "name": "stderr",
     "output_type": "stream",
     "text": [
      "\r",
      "                                                                                \r"
     ]
    }
   ],
   "source": [
    "trip_time_df.select(\"rq_diff\", \"pu_diff\", \"on_diff\").summary().show()"
   ]
  },
  {
   "cell_type": "markdown",
   "id": "97f67d2a",
   "metadata": {},
   "source": [
    "From the above table we can clearly see that pickup difference is the smallest which indicates that trip_time starts at the pickup_datetime"
   ]
  },
  {
   "cell_type": "code",
   "execution_count": null,
   "id": "bcdb72f7",
   "metadata": {},
   "outputs": [],
   "source": []
  },
  {
   "cell_type": "markdown",
   "id": "4de80925",
   "metadata": {},
   "source": [
    "## Dropping irrelevant columns"
   ]
  },
  {
   "cell_type": "code",
   "execution_count": 164,
   "id": "7fc9de9a",
   "metadata": {},
   "outputs": [
    {
     "data": {
      "text/plain": [
       "['pickup_date',\n",
       " 'hour_of_day',\n",
       " 'taxi_company',\n",
       " 'dispatching_base_num',\n",
       " 'originating_base_num',\n",
       " 'request_datetime',\n",
       " 'on_scene_datetime',\n",
       " 'pickup_datetime',\n",
       " 'dropoff_datetime',\n",
       " 'PULocationID',\n",
       " 'DOLocationID',\n",
       " 'trip_miles',\n",
       " 'trip_time',\n",
       " 'tolls',\n",
       " 'airport_fee',\n",
       " 'shared_request_flag',\n",
       " 'shared_match_flag',\n",
       " 'access_a_ride_flag',\n",
       " 'wav_request_flag',\n",
       " 'wav_match_flag',\n",
       " 'any_tolls',\n",
       " 'minutes_per_mile',\n",
       " 'day_of_week',\n",
       " 'month',\n",
       " 'traffic',\n",
       " 'PUBorough',\n",
       " 'DOBorough',\n",
       " 'PUservice_zone',\n",
       " 'DOservice_zone',\n",
       " 'Holiday',\n",
       " 'humidity',\n",
       " 'wind_direction',\n",
       " 'wind_speed',\n",
       " 'precipitation',\n",
       " 'pressure',\n",
       " 'visibility',\n",
       " 'skyc1',\n",
       " 'skyc2',\n",
       " 'skyc3',\n",
       " 'feel',\n",
       " 'snowdepth',\n",
       " 'avg_skyl',\n",
       " 'RA',\n",
       " 'SN',\n",
       " 'DZ',\n",
       " 'TS',\n",
       " 'FG',\n",
       " 'FZ',\n",
       " 'CLR',\n",
       " 'BR']"
      ]
     },
     "execution_count": 164,
     "metadata": {},
     "output_type": "execute_result"
    }
   ],
   "source": [
    "combined_df.columns"
   ]
  },
  {
   "cell_type": "markdown",
   "id": "3f888743",
   "metadata": {},
   "source": [
    "- **originating_base_num** is the base number of the base that received the original trip request and not the one that carried the trip. i.e is *dispatching_base_num*\n",
    "\n",
    "- **request_datetime** & **on_scene_datetime** - Aim is to predict the ETA for the trip and not including waiting time.\n",
    "\n",
    "- **pickup_datetime** & **dropoff_datetime** - Info extracted in form of day, hour, month, etc. \n",
    "\n",
    "- **tolls** - replaced with any_tolls\n",
    "\n",
    "- **airport_fee** - replaced with service_zone"
   ]
  },
  {
   "cell_type": "code",
   "execution_count": 165,
   "id": "990994d0",
   "metadata": {},
   "outputs": [],
   "source": [
    "drop_columns = ['originating_base_num', 'request_datetime', 'on_scene_datetime', 'pickup_datetime', \n",
    "                'dropoff_datetime', 'tolls', 'airport_fee']"
   ]
  },
  {
   "cell_type": "code",
   "execution_count": 166,
   "id": "6cc47be0",
   "metadata": {
    "scrolled": true
   },
   "outputs": [],
   "source": [
    "combined_df = combined_df.drop(*drop_columns)"
   ]
  },
  {
   "cell_type": "code",
   "execution_count": 167,
   "id": "b1cda1d9",
   "metadata": {},
   "outputs": [
    {
     "name": "stderr",
     "output_type": "stream",
     "text": [
      "[Stage 401:============================>                            (1 + 1) / 2]\r"
     ]
    },
    {
     "name": "stdout",
     "output_type": "stream",
     "text": [
      "shape: (16277143, 43)\n"
     ]
    },
    {
     "name": "stderr",
     "output_type": "stream",
     "text": [
      "\r",
      "                                                                                \r"
     ]
    }
   ],
   "source": [
    "print(f\"shape: ({combined_df.count()}, {len(combined_df.columns)})\")"
   ]
  },
  {
   "cell_type": "code",
   "execution_count": 169,
   "id": "0d31ffbe",
   "metadata": {
    "scrolled": false
   },
   "outputs": [
    {
     "name": "stderr",
     "output_type": "stream",
     "text": [
      "24/01/24 11:55:12 WARN MemoryManager: Total allocation exceeds 95.00% (1,020,054,720 bytes) of heap memory\n",
      "Scaling row group sizes to 95.00% for 8 writers\n",
      "                                                                                \r"
     ]
    }
   ],
   "source": [
    "# combined_df.write.mode('overwrite').parquet(\"preprocessed\")"
   ]
  },
  {
   "cell_type": "code",
   "execution_count": null,
   "id": "4f81181c",
   "metadata": {},
   "outputs": [],
   "source": []
  }
 ],
 "metadata": {
  "kernelspec": {
   "display_name": "Python 3.10 (tensorflow)",
   "language": "python",
   "name": "tensorflow"
  },
  "language_info": {
   "codemirror_mode": {
    "name": "ipython",
    "version": 3
   },
   "file_extension": ".py",
   "mimetype": "text/x-python",
   "name": "python",
   "nbconvert_exporter": "python",
   "pygments_lexer": "ipython3",
   "version": "3.10.11"
  }
 },
 "nbformat": 4,
 "nbformat_minor": 5
}
