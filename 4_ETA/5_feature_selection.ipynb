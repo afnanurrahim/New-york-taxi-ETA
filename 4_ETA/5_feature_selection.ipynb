{
 "cells": [
  {
   "cell_type": "code",
   "execution_count": 2,
   "id": "6b620dfa",
   "metadata": {},
   "outputs": [],
   "source": [
    "import os\n",
    "import pandas as pd\n",
    "import numpy as np\n",
    "import matplotlib.pyplot as plt\n",
    "import seaborn as sns\n",
    "import itertools\n",
    "from sklearn.preprocessing import LabelEncoder\n",
    "import xgboost as xg\n",
    "from sklearn.model_selection import train_test_split \n",
    "from sklearn.metrics import mean_absolute_error as MAE, r2_score"
   ]
  },
  {
   "cell_type": "code",
   "execution_count": 3,
   "id": "50694729",
   "metadata": {},
   "outputs": [],
   "source": [
    "path = \"/Users/afnan/Desktop/python/Data_science_Notes/Uber_data/4_ETA/preprocessed\""
   ]
  },
  {
   "cell_type": "code",
   "execution_count": 4,
   "id": "009cf8fa",
   "metadata": {},
   "outputs": [],
   "source": [
    "all_files = os.listdir(\"preprocessed/\")\n",
    "parquet_files = [file for file in all_files if file.endswith(\".parquet\")]"
   ]
  },
  {
   "cell_type": "code",
   "execution_count": 5,
   "id": "755afcae",
   "metadata": {},
   "outputs": [],
   "source": [
    "df1 = pd.read_parquet(f\"{path}/{parquet_files[0]}\")\n",
    "df2 = pd.read_parquet(f\"{path}/{parquet_files[1]}\")\n",
    "df3 = pd.read_parquet(f\"{path}/{parquet_files[2]}\")\n",
    "df4 = pd.read_parquet(f\"{path}/{parquet_files[3]}\")\n",
    "df5 = pd.read_parquet(f\"{path}/{parquet_files[4]}\")\n",
    "df6 = pd.read_parquet(f\"{path}/{parquet_files[5]}\")\n",
    "df7 = pd.read_parquet(f\"{path}/{parquet_files[6]}\")\n",
    "df8 = pd.read_parquet(f\"{path}/{parquet_files[7]}\")"
   ]
  },
  {
   "cell_type": "code",
   "execution_count": 6,
   "id": "fef40e8c",
   "metadata": {},
   "outputs": [],
   "source": [
    "dfs = [df1, df2, df3, df4, df5, df6, df7, df8]"
   ]
  },
  {
   "cell_type": "markdown",
   "id": "477b7ad3",
   "metadata": {},
   "source": [
    "**Creating sample for model training**"
   ]
  },
  {
   "cell_type": "code",
   "execution_count": 7,
   "id": "5b99356d",
   "metadata": {},
   "outputs": [],
   "source": [
    "combined_df = pd.DataFrame(columns=df1.columns)"
   ]
  },
  {
   "cell_type": "code",
   "execution_count": 8,
   "id": "8cc4ea29",
   "metadata": {},
   "outputs": [],
   "source": [
    "for df in dfs:\n",
    "    combined_df = pd.concat([combined_df, df.iloc[::50]])"
   ]
  },
  {
   "cell_type": "code",
   "execution_count": 9,
   "id": "3e15a2fc",
   "metadata": {},
   "outputs": [
    {
     "data": {
      "text/plain": [
       "(325547, 43)"
      ]
     },
     "execution_count": 9,
     "metadata": {},
     "output_type": "execute_result"
    }
   ],
   "source": [
    "combined_df.shape"
   ]
  },
  {
   "cell_type": "code",
   "execution_count": 9,
   "id": "cf039995",
   "metadata": {},
   "outputs": [
    {
     "data": {
      "text/html": [
       "<div>\n",
       "<style scoped>\n",
       "    .dataframe tbody tr th:only-of-type {\n",
       "        vertical-align: middle;\n",
       "    }\n",
       "\n",
       "    .dataframe tbody tr th {\n",
       "        vertical-align: top;\n",
       "    }\n",
       "\n",
       "    .dataframe thead th {\n",
       "        text-align: right;\n",
       "    }\n",
       "</style>\n",
       "<table border=\"1\" class=\"dataframe\">\n",
       "  <thead>\n",
       "    <tr style=\"text-align: right;\">\n",
       "      <th></th>\n",
       "      <th>pickup_date</th>\n",
       "      <th>hour_of_day</th>\n",
       "      <th>taxi_company</th>\n",
       "      <th>dispatching_base_num</th>\n",
       "      <th>PULocationID</th>\n",
       "      <th>DOLocationID</th>\n",
       "      <th>trip_miles</th>\n",
       "      <th>trip_time</th>\n",
       "      <th>shared_request_flag</th>\n",
       "      <th>shared_match_flag</th>\n",
       "      <th>...</th>\n",
       "      <th>snowdepth</th>\n",
       "      <th>avg_skyl</th>\n",
       "      <th>RA</th>\n",
       "      <th>SN</th>\n",
       "      <th>DZ</th>\n",
       "      <th>TS</th>\n",
       "      <th>FG</th>\n",
       "      <th>FZ</th>\n",
       "      <th>CLR</th>\n",
       "      <th>BR</th>\n",
       "    </tr>\n",
       "  </thead>\n",
       "  <tbody>\n",
       "    <tr>\n",
       "      <th>143820</th>\n",
       "      <td>2021-06-16</td>\n",
       "      <td>10</td>\n",
       "      <td>Uber</td>\n",
       "      <td>B02865</td>\n",
       "      <td>169</td>\n",
       "      <td>75</td>\n",
       "      <td>7.350</td>\n",
       "      <td>24.350000</td>\n",
       "      <td>0</td>\n",
       "      <td>0</td>\n",
       "      <td>...</td>\n",
       "      <td>0</td>\n",
       "      <td>16500.000000</td>\n",
       "      <td>0</td>\n",
       "      <td>0</td>\n",
       "      <td>0</td>\n",
       "      <td>0</td>\n",
       "      <td>0</td>\n",
       "      <td>0</td>\n",
       "      <td>1</td>\n",
       "      <td>0</td>\n",
       "    </tr>\n",
       "    <tr>\n",
       "      <th>329260</th>\n",
       "      <td>2021-09-21</td>\n",
       "      <td>18</td>\n",
       "      <td>Uber</td>\n",
       "      <td>B02764</td>\n",
       "      <td>68</td>\n",
       "      <td>249</td>\n",
       "      <td>1.880</td>\n",
       "      <td>13.900000</td>\n",
       "      <td>0</td>\n",
       "      <td>0</td>\n",
       "      <td>...</td>\n",
       "      <td>0</td>\n",
       "      <td>3233.333333</td>\n",
       "      <td>0</td>\n",
       "      <td>0</td>\n",
       "      <td>0</td>\n",
       "      <td>0</td>\n",
       "      <td>0</td>\n",
       "      <td>0</td>\n",
       "      <td>1</td>\n",
       "      <td>0</td>\n",
       "    </tr>\n",
       "    <tr>\n",
       "      <th>1239250</th>\n",
       "      <td>2021-06-15</td>\n",
       "      <td>11</td>\n",
       "      <td>Lyft</td>\n",
       "      <td>B02510</td>\n",
       "      <td>37</td>\n",
       "      <td>37</td>\n",
       "      <td>0.895</td>\n",
       "      <td>6.416667</td>\n",
       "      <td>0</td>\n",
       "      <td>0</td>\n",
       "      <td>...</td>\n",
       "      <td>0</td>\n",
       "      <td>13566.666667</td>\n",
       "      <td>0</td>\n",
       "      <td>0</td>\n",
       "      <td>0</td>\n",
       "      <td>0</td>\n",
       "      <td>0</td>\n",
       "      <td>0</td>\n",
       "      <td>1</td>\n",
       "      <td>0</td>\n",
       "    </tr>\n",
       "  </tbody>\n",
       "</table>\n",
       "<p>3 rows × 43 columns</p>\n",
       "</div>"
      ],
      "text/plain": [
       "        pickup_date hour_of_day taxi_company dispatching_base_num   \n",
       "143820   2021-06-16          10         Uber               B02865  \\\n",
       "329260   2021-09-21          18         Uber               B02764   \n",
       "1239250  2021-06-15          11         Lyft               B02510   \n",
       "\n",
       "        PULocationID DOLocationID  trip_miles  trip_time shared_request_flag   \n",
       "143820           169           75       7.350  24.350000                   0  \\\n",
       "329260            68          249       1.880  13.900000                   0   \n",
       "1239250           37           37       0.895   6.416667                   0   \n",
       "\n",
       "        shared_match_flag  ... snowdepth      avg_skyl RA SN  DZ TS FG FZ CLR   \n",
       "143820                  0  ...         0  16500.000000  0  0   0  0  0  0   1  \\\n",
       "329260                  0  ...         0   3233.333333  0  0   0  0  0  0   1   \n",
       "1239250                 0  ...         0  13566.666667  0  0   0  0  0  0   1   \n",
       "\n",
       "        BR  \n",
       "143820   0  \n",
       "329260   0  \n",
       "1239250  0  \n",
       "\n",
       "[3 rows x 43 columns]"
      ]
     },
     "execution_count": 9,
     "metadata": {},
     "output_type": "execute_result"
    }
   ],
   "source": [
    "combined_df.sample(3)"
   ]
  },
  {
   "cell_type": "markdown",
   "id": "dc5f695e",
   "metadata": {},
   "source": [
    "**Preparing training column**"
   ]
  },
  {
   "cell_type": "code",
   "execution_count": 10,
   "id": "239cc02c",
   "metadata": {},
   "outputs": [],
   "source": [
    "low_corr = ['humidity', 'wind_speed', 'pressure', 'feel', 'avg_skyl', 'access_a_ride_flag', 'CLR', 'RA', 'TS', \n",
    "            'taxi_company', 'skyc1', 'skyc2', 'skyc3', 'snowdepth', 'precipitation', 'visibility']"
   ]
  },
  {
   "cell_type": "code",
   "execution_count": 11,
   "id": "f5a76c59",
   "metadata": {},
   "outputs": [],
   "source": [
    "train_cols = [col for col in list(combined_df.columns) if col not in low_corr]"
   ]
  },
  {
   "cell_type": "code",
   "execution_count": 12,
   "id": "4b5aa360",
   "metadata": {},
   "outputs": [],
   "source": [
    "train_cols.remove('pickup_date')\n",
    "train_cols.remove('trip_time')   \n",
    "train_cols.remove('minutes_per_mile') # target column  "
   ]
  },
  {
   "cell_type": "code",
   "execution_count": 13,
   "id": "41044fdf",
   "metadata": {},
   "outputs": [],
   "source": [
    "object_col = list(combined_df.select_dtypes('object').columns)"
   ]
  },
  {
   "cell_type": "code",
   "execution_count": 14,
   "id": "b288608e",
   "metadata": {},
   "outputs": [],
   "source": [
    "obj_col = []\n",
    "for column in object_col:\n",
    "    try:\n",
    "        combined_df[column] = combined_df[column].astype('float')\n",
    "    except:\n",
    "        obj_col.append(column)"
   ]
  },
  {
   "cell_type": "code",
   "execution_count": 15,
   "id": "0f0a46ba",
   "metadata": {},
   "outputs": [
    {
     "data": {
      "text/plain": [
       "['pickup_date',\n",
       " 'taxi_company',\n",
       " 'dispatching_base_num',\n",
       " 'day_of_week',\n",
       " 'month',\n",
       " 'PUBorough',\n",
       " 'DOBorough',\n",
       " 'PUservice_zone',\n",
       " 'DOservice_zone',\n",
       " 'Holiday',\n",
       " 'wind_direction',\n",
       " 'skyc1',\n",
       " 'skyc2',\n",
       " 'skyc3']"
      ]
     },
     "execution_count": 15,
     "metadata": {},
     "output_type": "execute_result"
    }
   ],
   "source": [
    "obj_col"
   ]
  },
  {
   "cell_type": "code",
   "execution_count": 16,
   "id": "95d17df0",
   "metadata": {},
   "outputs": [],
   "source": [
    "combined_df[obj_col] = combined_df[obj_col].apply(LabelEncoder().fit_transform)"
   ]
  },
  {
   "cell_type": "code",
   "execution_count": null,
   "id": "0e26c3d1",
   "metadata": {},
   "outputs": [],
   "source": []
  },
  {
   "cell_type": "markdown",
   "id": "cc1b478f",
   "metadata": {},
   "source": [
    "## Mutual info"
   ]
  },
  {
   "cell_type": "code",
   "execution_count": 17,
   "id": "91d0ffa4",
   "metadata": {},
   "outputs": [],
   "source": [
    "from sklearn.feature_selection import mutual_info_regression"
   ]
  },
  {
   "cell_type": "code",
   "execution_count": 18,
   "id": "36c0dd21",
   "metadata": {},
   "outputs": [],
   "source": [
    "mutual = mutual_info_regression(combined_df[train_cols], combined_df['minutes_per_mile'])"
   ]
  },
  {
   "cell_type": "code",
   "execution_count": 19,
   "id": "9d7703f3",
   "metadata": {
    "scrolled": false
   },
   "outputs": [
    {
     "data": {
      "text/html": [
       "<div>\n",
       "<style scoped>\n",
       "    .dataframe tbody tr th:only-of-type {\n",
       "        vertical-align: middle;\n",
       "    }\n",
       "\n",
       "    .dataframe tbody tr th {\n",
       "        vertical-align: top;\n",
       "    }\n",
       "\n",
       "    .dataframe thead th {\n",
       "        text-align: right;\n",
       "    }\n",
       "</style>\n",
       "<table border=\"1\" class=\"dataframe\">\n",
       "  <thead>\n",
       "    <tr style=\"text-align: right;\">\n",
       "      <th></th>\n",
       "      <th>features</th>\n",
       "      <th>mutual_info</th>\n",
       "    </tr>\n",
       "  </thead>\n",
       "  <tbody>\n",
       "    <tr>\n",
       "      <th>0</th>\n",
       "      <td>trip_miles</td>\n",
       "      <td>0.587827</td>\n",
       "    </tr>\n",
       "    <tr>\n",
       "      <th>1</th>\n",
       "      <td>DOLocationID</td>\n",
       "      <td>0.116821</td>\n",
       "    </tr>\n",
       "    <tr>\n",
       "      <th>2</th>\n",
       "      <td>PULocationID</td>\n",
       "      <td>0.084348</td>\n",
       "    </tr>\n",
       "    <tr>\n",
       "      <th>3</th>\n",
       "      <td>any_tolls</td>\n",
       "      <td>0.073273</td>\n",
       "    </tr>\n",
       "    <tr>\n",
       "      <th>4</th>\n",
       "      <td>hour_of_day</td>\n",
       "      <td>0.064869</td>\n",
       "    </tr>\n",
       "    <tr>\n",
       "      <th>5</th>\n",
       "      <td>DOservice_zone</td>\n",
       "      <td>0.051461</td>\n",
       "    </tr>\n",
       "    <tr>\n",
       "      <th>6</th>\n",
       "      <td>DOBorough</td>\n",
       "      <td>0.049957</td>\n",
       "    </tr>\n",
       "    <tr>\n",
       "      <th>7</th>\n",
       "      <td>traffic</td>\n",
       "      <td>0.049086</td>\n",
       "    </tr>\n",
       "    <tr>\n",
       "      <th>8</th>\n",
       "      <td>PUBorough</td>\n",
       "      <td>0.033377</td>\n",
       "    </tr>\n",
       "    <tr>\n",
       "      <th>9</th>\n",
       "      <td>PUservice_zone</td>\n",
       "      <td>0.026814</td>\n",
       "    </tr>\n",
       "  </tbody>\n",
       "</table>\n",
       "</div>"
      ],
      "text/plain": [
       "         features  mutual_info\n",
       "0      trip_miles     0.587827\n",
       "1    DOLocationID     0.116821\n",
       "2    PULocationID     0.084348\n",
       "3       any_tolls     0.073273\n",
       "4     hour_of_day     0.064869\n",
       "5  DOservice_zone     0.051461\n",
       "6       DOBorough     0.049957\n",
       "7         traffic     0.049086\n",
       "8       PUBorough     0.033377\n",
       "9  PUservice_zone     0.026814"
      ]
     },
     "execution_count": 19,
     "metadata": {},
     "output_type": "execute_result"
    }
   ],
   "source": [
    "mutual_df = pd.DataFrame({'features': train_cols, 'mutual_info': mutual}).sort_values('mutual_info', ascending=False, ignore_index=True)\n",
    "mutual_df.head(10)"
   ]
  },
  {
   "cell_type": "code",
   "execution_count": 20,
   "id": "a257b21e",
   "metadata": {},
   "outputs": [
    {
     "data": {
      "text/html": [
       "<div>\n",
       "<style scoped>\n",
       "    .dataframe tbody tr th:only-of-type {\n",
       "        vertical-align: middle;\n",
       "    }\n",
       "\n",
       "    .dataframe tbody tr th {\n",
       "        vertical-align: top;\n",
       "    }\n",
       "\n",
       "    .dataframe thead th {\n",
       "        text-align: right;\n",
       "    }\n",
       "</style>\n",
       "<table border=\"1\" class=\"dataframe\">\n",
       "  <thead>\n",
       "    <tr style=\"text-align: right;\">\n",
       "      <th></th>\n",
       "      <th>features</th>\n",
       "      <th>mutual_info</th>\n",
       "    </tr>\n",
       "  </thead>\n",
       "  <tbody>\n",
       "    <tr>\n",
       "      <th>14</th>\n",
       "      <td>wav_match_flag</td>\n",
       "      <td>0.001597</td>\n",
       "    </tr>\n",
       "    <tr>\n",
       "      <th>15</th>\n",
       "      <td>wind_direction</td>\n",
       "      <td>0.001453</td>\n",
       "    </tr>\n",
       "    <tr>\n",
       "      <th>16</th>\n",
       "      <td>shared_match_flag</td>\n",
       "      <td>0.000972</td>\n",
       "    </tr>\n",
       "    <tr>\n",
       "      <th>17</th>\n",
       "      <td>wav_request_flag</td>\n",
       "      <td>0.000621</td>\n",
       "    </tr>\n",
       "    <tr>\n",
       "      <th>18</th>\n",
       "      <td>DZ</td>\n",
       "      <td>0.000585</td>\n",
       "    </tr>\n",
       "    <tr>\n",
       "      <th>19</th>\n",
       "      <td>SN</td>\n",
       "      <td>0.000422</td>\n",
       "    </tr>\n",
       "    <tr>\n",
       "      <th>20</th>\n",
       "      <td>BR</td>\n",
       "      <td>0.000294</td>\n",
       "    </tr>\n",
       "    <tr>\n",
       "      <th>21</th>\n",
       "      <td>FG</td>\n",
       "      <td>0.000242</td>\n",
       "    </tr>\n",
       "    <tr>\n",
       "      <th>22</th>\n",
       "      <td>shared_request_flag</td>\n",
       "      <td>0.000035</td>\n",
       "    </tr>\n",
       "    <tr>\n",
       "      <th>23</th>\n",
       "      <td>FZ</td>\n",
       "      <td>0.000000</td>\n",
       "    </tr>\n",
       "  </tbody>\n",
       "</table>\n",
       "</div>"
      ],
      "text/plain": [
       "               features  mutual_info\n",
       "14       wav_match_flag     0.001597\n",
       "15       wind_direction     0.001453\n",
       "16    shared_match_flag     0.000972\n",
       "17     wav_request_flag     0.000621\n",
       "18                   DZ     0.000585\n",
       "19                   SN     0.000422\n",
       "20                   BR     0.000294\n",
       "21                   FG     0.000242\n",
       "22  shared_request_flag     0.000035\n",
       "23                   FZ     0.000000"
      ]
     },
     "execution_count": 20,
     "metadata": {},
     "output_type": "execute_result"
    }
   ],
   "source": [
    "mutual_df.tail(10)"
   ]
  },
  {
   "cell_type": "code",
   "execution_count": 21,
   "id": "2da690e8",
   "metadata": {},
   "outputs": [],
   "source": [
    "low_mutual = mutual_info_regression(combined_df[low_corr], combined_df['minutes_per_mile'])"
   ]
  },
  {
   "cell_type": "code",
   "execution_count": 22,
   "id": "720fab76",
   "metadata": {},
   "outputs": [
    {
     "data": {
      "text/html": [
       "<div>\n",
       "<style scoped>\n",
       "    .dataframe tbody tr th:only-of-type {\n",
       "        vertical-align: middle;\n",
       "    }\n",
       "\n",
       "    .dataframe tbody tr th {\n",
       "        vertical-align: top;\n",
       "    }\n",
       "\n",
       "    .dataframe thead th {\n",
       "        text-align: right;\n",
       "    }\n",
       "</style>\n",
       "<table border=\"1\" class=\"dataframe\">\n",
       "  <thead>\n",
       "    <tr style=\"text-align: right;\">\n",
       "      <th></th>\n",
       "      <th>features</th>\n",
       "      <th>mutual_info</th>\n",
       "    </tr>\n",
       "  </thead>\n",
       "  <tbody>\n",
       "    <tr>\n",
       "      <th>0</th>\n",
       "      <td>access_a_ride_flag</td>\n",
       "      <td>0.032813</td>\n",
       "    </tr>\n",
       "    <tr>\n",
       "      <th>1</th>\n",
       "      <td>taxi_company</td>\n",
       "      <td>0.032794</td>\n",
       "    </tr>\n",
       "    <tr>\n",
       "      <th>2</th>\n",
       "      <td>humidity</td>\n",
       "      <td>0.009536</td>\n",
       "    </tr>\n",
       "    <tr>\n",
       "      <th>3</th>\n",
       "      <td>feel</td>\n",
       "      <td>0.006455</td>\n",
       "    </tr>\n",
       "    <tr>\n",
       "      <th>4</th>\n",
       "      <td>avg_skyl</td>\n",
       "      <td>0.003807</td>\n",
       "    </tr>\n",
       "  </tbody>\n",
       "</table>\n",
       "</div>"
      ],
      "text/plain": [
       "             features  mutual_info\n",
       "0  access_a_ride_flag     0.032813\n",
       "1        taxi_company     0.032794\n",
       "2            humidity     0.009536\n",
       "3                feel     0.006455\n",
       "4            avg_skyl     0.003807"
      ]
     },
     "execution_count": 22,
     "metadata": {},
     "output_type": "execute_result"
    }
   ],
   "source": [
    "low_mutual_df = pd.DataFrame({'features': low_corr, 'mutual_info': low_mutual}).sort_values('mutual_info', ascending=False, ignore_index=True)\n",
    "low_mutual_df.head(5)"
   ]
  },
  {
   "cell_type": "code",
   "execution_count": 23,
   "id": "8d752ae2",
   "metadata": {},
   "outputs": [
    {
     "data": {
      "text/html": [
       "<div>\n",
       "<style scoped>\n",
       "    .dataframe tbody tr th:only-of-type {\n",
       "        vertical-align: middle;\n",
       "    }\n",
       "\n",
       "    .dataframe tbody tr th {\n",
       "        vertical-align: top;\n",
       "    }\n",
       "\n",
       "    .dataframe thead th {\n",
       "        text-align: right;\n",
       "    }\n",
       "</style>\n",
       "<table border=\"1\" class=\"dataframe\">\n",
       "  <thead>\n",
       "    <tr style=\"text-align: right;\">\n",
       "      <th></th>\n",
       "      <th>features</th>\n",
       "      <th>mutual_info</th>\n",
       "    </tr>\n",
       "  </thead>\n",
       "  <tbody>\n",
       "    <tr>\n",
       "      <th>11</th>\n",
       "      <td>CLR</td>\n",
       "      <td>0.0</td>\n",
       "    </tr>\n",
       "    <tr>\n",
       "      <th>12</th>\n",
       "      <td>RA</td>\n",
       "      <td>0.0</td>\n",
       "    </tr>\n",
       "    <tr>\n",
       "      <th>13</th>\n",
       "      <td>snowdepth</td>\n",
       "      <td>0.0</td>\n",
       "    </tr>\n",
       "    <tr>\n",
       "      <th>14</th>\n",
       "      <td>precipitation</td>\n",
       "      <td>0.0</td>\n",
       "    </tr>\n",
       "    <tr>\n",
       "      <th>15</th>\n",
       "      <td>visibility</td>\n",
       "      <td>0.0</td>\n",
       "    </tr>\n",
       "  </tbody>\n",
       "</table>\n",
       "</div>"
      ],
      "text/plain": [
       "         features  mutual_info\n",
       "11            CLR          0.0\n",
       "12             RA          0.0\n",
       "13      snowdepth          0.0\n",
       "14  precipitation          0.0\n",
       "15     visibility          0.0"
      ]
     },
     "execution_count": 23,
     "metadata": {},
     "output_type": "execute_result"
    }
   ],
   "source": [
    "low_mutual_df.tail(5)"
   ]
  },
  {
   "cell_type": "markdown",
   "id": "37c85e98",
   "metadata": {},
   "source": [
    "## Variance reduction"
   ]
  },
  {
   "cell_type": "code",
   "execution_count": 24,
   "id": "40bdbe69",
   "metadata": {},
   "outputs": [],
   "source": [
    "from sklearn.ensemble import RandomForestRegressor"
   ]
  },
  {
   "cell_type": "code",
   "execution_count": 25,
   "id": "79628f78",
   "metadata": {},
   "outputs": [
    {
     "data": {
      "text/html": [
       "<style>#sk-container-id-1 {color: black;background-color: white;}#sk-container-id-1 pre{padding: 0;}#sk-container-id-1 div.sk-toggleable {background-color: white;}#sk-container-id-1 label.sk-toggleable__label {cursor: pointer;display: block;width: 100%;margin-bottom: 0;padding: 0.3em;box-sizing: border-box;text-align: center;}#sk-container-id-1 label.sk-toggleable__label-arrow:before {content: \"▸\";float: left;margin-right: 0.25em;color: #696969;}#sk-container-id-1 label.sk-toggleable__label-arrow:hover:before {color: black;}#sk-container-id-1 div.sk-estimator:hover label.sk-toggleable__label-arrow:before {color: black;}#sk-container-id-1 div.sk-toggleable__content {max-height: 0;max-width: 0;overflow: hidden;text-align: left;background-color: #f0f8ff;}#sk-container-id-1 div.sk-toggleable__content pre {margin: 0.2em;color: black;border-radius: 0.25em;background-color: #f0f8ff;}#sk-container-id-1 input.sk-toggleable__control:checked~div.sk-toggleable__content {max-height: 200px;max-width: 100%;overflow: auto;}#sk-container-id-1 input.sk-toggleable__control:checked~label.sk-toggleable__label-arrow:before {content: \"▾\";}#sk-container-id-1 div.sk-estimator input.sk-toggleable__control:checked~label.sk-toggleable__label {background-color: #d4ebff;}#sk-container-id-1 div.sk-label input.sk-toggleable__control:checked~label.sk-toggleable__label {background-color: #d4ebff;}#sk-container-id-1 input.sk-hidden--visually {border: 0;clip: rect(1px 1px 1px 1px);clip: rect(1px, 1px, 1px, 1px);height: 1px;margin: -1px;overflow: hidden;padding: 0;position: absolute;width: 1px;}#sk-container-id-1 div.sk-estimator {font-family: monospace;background-color: #f0f8ff;border: 1px dotted black;border-radius: 0.25em;box-sizing: border-box;margin-bottom: 0.5em;}#sk-container-id-1 div.sk-estimator:hover {background-color: #d4ebff;}#sk-container-id-1 div.sk-parallel-item::after {content: \"\";width: 100%;border-bottom: 1px solid gray;flex-grow: 1;}#sk-container-id-1 div.sk-label:hover label.sk-toggleable__label {background-color: #d4ebff;}#sk-container-id-1 div.sk-serial::before {content: \"\";position: absolute;border-left: 1px solid gray;box-sizing: border-box;top: 0;bottom: 0;left: 50%;z-index: 0;}#sk-container-id-1 div.sk-serial {display: flex;flex-direction: column;align-items: center;background-color: white;padding-right: 0.2em;padding-left: 0.2em;position: relative;}#sk-container-id-1 div.sk-item {position: relative;z-index: 1;}#sk-container-id-1 div.sk-parallel {display: flex;align-items: stretch;justify-content: center;background-color: white;position: relative;}#sk-container-id-1 div.sk-item::before, #sk-container-id-1 div.sk-parallel-item::before {content: \"\";position: absolute;border-left: 1px solid gray;box-sizing: border-box;top: 0;bottom: 0;left: 50%;z-index: -1;}#sk-container-id-1 div.sk-parallel-item {display: flex;flex-direction: column;z-index: 1;position: relative;background-color: white;}#sk-container-id-1 div.sk-parallel-item:first-child::after {align-self: flex-end;width: 50%;}#sk-container-id-1 div.sk-parallel-item:last-child::after {align-self: flex-start;width: 50%;}#sk-container-id-1 div.sk-parallel-item:only-child::after {width: 0;}#sk-container-id-1 div.sk-dashed-wrapped {border: 1px dashed gray;margin: 0 0.4em 0.5em 0.4em;box-sizing: border-box;padding-bottom: 0.4em;background-color: white;}#sk-container-id-1 div.sk-label label {font-family: monospace;font-weight: bold;display: inline-block;line-height: 1.2em;}#sk-container-id-1 div.sk-label-container {text-align: center;}#sk-container-id-1 div.sk-container {/* jupyter's `normalize.less` sets `[hidden] { display: none; }` but bootstrap.min.css set `[hidden] { display: none !important; }` so we also need the `!important` here to be able to override the default hidden behavior on the sphinx rendered scikit-learn.org. See: https://github.com/scikit-learn/scikit-learn/issues/21755 */display: inline-block !important;position: relative;}#sk-container-id-1 div.sk-text-repr-fallback {display: none;}</style><div id=\"sk-container-id-1\" class=\"sk-top-container\"><div class=\"sk-text-repr-fallback\"><pre>RandomForestRegressor()</pre><b>In a Jupyter environment, please rerun this cell to show the HTML representation or trust the notebook. <br />On GitHub, the HTML representation is unable to render, please try loading this page with nbviewer.org.</b></div><div class=\"sk-container\" hidden><div class=\"sk-item\"><div class=\"sk-estimator sk-toggleable\"><input class=\"sk-toggleable__control sk-hidden--visually\" id=\"sk-estimator-id-1\" type=\"checkbox\" checked><label for=\"sk-estimator-id-1\" class=\"sk-toggleable__label sk-toggleable__label-arrow\">RandomForestRegressor</label><div class=\"sk-toggleable__content\"><pre>RandomForestRegressor()</pre></div></div></div></div></div>"
      ],
      "text/plain": [
       "RandomForestRegressor()"
      ]
     },
     "execution_count": 25,
     "metadata": {},
     "output_type": "execute_result"
    }
   ],
   "source": [
    "train_X, test_X, train_y, test_y = train_test_split(combined_df[train_cols+ low_corr], combined_df['minutes_per_mile'], \n",
    "                      test_size = 0.2)\n",
    "    \n",
    "model = RandomForestRegressor()\n",
    "model.fit(train_X, train_y)"
   ]
  },
  {
   "cell_type": "code",
   "execution_count": 26,
   "id": "09bc6789",
   "metadata": {},
   "outputs": [],
   "source": [
    "feature_importance = pd.DataFrame({'features': train_cols+low_corr, 'importance': model.feature_importances_})\\\n",
    "        .sort_values('importance', ascending=False, ignore_index=True)"
   ]
  },
  {
   "cell_type": "code",
   "execution_count": 27,
   "id": "c2cae3c7",
   "metadata": {},
   "outputs": [
    {
     "data": {
      "text/html": [
       "<div>\n",
       "<style scoped>\n",
       "    .dataframe tbody tr th:only-of-type {\n",
       "        vertical-align: middle;\n",
       "    }\n",
       "\n",
       "    .dataframe tbody tr th {\n",
       "        vertical-align: top;\n",
       "    }\n",
       "\n",
       "    .dataframe thead th {\n",
       "        text-align: right;\n",
       "    }\n",
       "</style>\n",
       "<table border=\"1\" class=\"dataframe\">\n",
       "  <thead>\n",
       "    <tr style=\"text-align: right;\">\n",
       "      <th></th>\n",
       "      <th>features</th>\n",
       "      <th>importance</th>\n",
       "    </tr>\n",
       "  </thead>\n",
       "  <tbody>\n",
       "    <tr>\n",
       "      <th>0</th>\n",
       "      <td>trip_miles</td>\n",
       "      <td>0.491387</td>\n",
       "    </tr>\n",
       "    <tr>\n",
       "      <th>1</th>\n",
       "      <td>traffic</td>\n",
       "      <td>0.068458</td>\n",
       "    </tr>\n",
       "    <tr>\n",
       "      <th>2</th>\n",
       "      <td>hour_of_day</td>\n",
       "      <td>0.051230</td>\n",
       "    </tr>\n",
       "    <tr>\n",
       "      <th>3</th>\n",
       "      <td>DOLocationID</td>\n",
       "      <td>0.045768</td>\n",
       "    </tr>\n",
       "    <tr>\n",
       "      <th>4</th>\n",
       "      <td>PULocationID</td>\n",
       "      <td>0.044196</td>\n",
       "    </tr>\n",
       "    <tr>\n",
       "      <th>5</th>\n",
       "      <td>feel</td>\n",
       "      <td>0.030458</td>\n",
       "    </tr>\n",
       "    <tr>\n",
       "      <th>6</th>\n",
       "      <td>humidity</td>\n",
       "      <td>0.029439</td>\n",
       "    </tr>\n",
       "    <tr>\n",
       "      <th>7</th>\n",
       "      <td>pressure</td>\n",
       "      <td>0.028281</td>\n",
       "    </tr>\n",
       "    <tr>\n",
       "      <th>8</th>\n",
       "      <td>avg_skyl</td>\n",
       "      <td>0.026383</td>\n",
       "    </tr>\n",
       "    <tr>\n",
       "      <th>9</th>\n",
       "      <td>DOBorough</td>\n",
       "      <td>0.025185</td>\n",
       "    </tr>\n",
       "  </tbody>\n",
       "</table>\n",
       "</div>"
      ],
      "text/plain": [
       "       features  importance\n",
       "0    trip_miles    0.491387\n",
       "1       traffic    0.068458\n",
       "2   hour_of_day    0.051230\n",
       "3  DOLocationID    0.045768\n",
       "4  PULocationID    0.044196\n",
       "5          feel    0.030458\n",
       "6      humidity    0.029439\n",
       "7      pressure    0.028281\n",
       "8      avg_skyl    0.026383\n",
       "9     DOBorough    0.025185"
      ]
     },
     "execution_count": 27,
     "metadata": {},
     "output_type": "execute_result"
    }
   ],
   "source": [
    "feature_importance.head(10)"
   ]
  },
  {
   "cell_type": "code",
   "execution_count": 28,
   "id": "ad964f9e",
   "metadata": {},
   "outputs": [
    {
     "data": {
      "text/html": [
       "<div>\n",
       "<style scoped>\n",
       "    .dataframe tbody tr th:only-of-type {\n",
       "        vertical-align: middle;\n",
       "    }\n",
       "\n",
       "    .dataframe tbody tr th {\n",
       "        vertical-align: top;\n",
       "    }\n",
       "\n",
       "    .dataframe thead th {\n",
       "        text-align: right;\n",
       "    }\n",
       "</style>\n",
       "<table border=\"1\" class=\"dataframe\">\n",
       "  <thead>\n",
       "    <tr style=\"text-align: right;\">\n",
       "      <th></th>\n",
       "      <th>features</th>\n",
       "      <th>importance</th>\n",
       "    </tr>\n",
       "  </thead>\n",
       "  <tbody>\n",
       "    <tr>\n",
       "      <th>30</th>\n",
       "      <td>BR</td>\n",
       "      <td>0.000662</td>\n",
       "    </tr>\n",
       "    <tr>\n",
       "      <th>31</th>\n",
       "      <td>wav_request_flag</td>\n",
       "      <td>0.000580</td>\n",
       "    </tr>\n",
       "    <tr>\n",
       "      <th>32</th>\n",
       "      <td>snowdepth</td>\n",
       "      <td>0.000565</td>\n",
       "    </tr>\n",
       "    <tr>\n",
       "      <th>33</th>\n",
       "      <td>SN</td>\n",
       "      <td>0.000544</td>\n",
       "    </tr>\n",
       "    <tr>\n",
       "      <th>34</th>\n",
       "      <td>TS</td>\n",
       "      <td>0.000279</td>\n",
       "    </tr>\n",
       "    <tr>\n",
       "      <th>35</th>\n",
       "      <td>DZ</td>\n",
       "      <td>0.000236</td>\n",
       "    </tr>\n",
       "    <tr>\n",
       "      <th>36</th>\n",
       "      <td>FG</td>\n",
       "      <td>0.000199</td>\n",
       "    </tr>\n",
       "    <tr>\n",
       "      <th>37</th>\n",
       "      <td>shared_request_flag</td>\n",
       "      <td>0.000101</td>\n",
       "    </tr>\n",
       "    <tr>\n",
       "      <th>38</th>\n",
       "      <td>shared_match_flag</td>\n",
       "      <td>0.000072</td>\n",
       "    </tr>\n",
       "    <tr>\n",
       "      <th>39</th>\n",
       "      <td>FZ</td>\n",
       "      <td>0.000066</td>\n",
       "    </tr>\n",
       "  </tbody>\n",
       "</table>\n",
       "</div>"
      ],
      "text/plain": [
       "               features  importance\n",
       "30                   BR    0.000662\n",
       "31     wav_request_flag    0.000580\n",
       "32            snowdepth    0.000565\n",
       "33                   SN    0.000544\n",
       "34                   TS    0.000279\n",
       "35                   DZ    0.000236\n",
       "36                   FG    0.000199\n",
       "37  shared_request_flag    0.000101\n",
       "38    shared_match_flag    0.000072\n",
       "39                   FZ    0.000066"
      ]
     },
     "execution_count": 28,
     "metadata": {},
     "output_type": "execute_result"
    }
   ],
   "source": [
    "feature_importance.tail(10)"
   ]
  },
  {
   "cell_type": "markdown",
   "id": "779361ec",
   "metadata": {},
   "source": [
    "## Recursive feature elimination (RFE)"
   ]
  },
  {
   "cell_type": "code",
   "execution_count": 29,
   "id": "e8adccb8",
   "metadata": {},
   "outputs": [],
   "source": [
    "from sklearn.feature_selection import RFE"
   ]
  },
  {
   "cell_type": "code",
   "execution_count": 30,
   "id": "4ae58716",
   "metadata": {},
   "outputs": [
    {
     "data": {
      "text/plain": [
       "24"
      ]
     },
     "execution_count": 30,
     "metadata": {},
     "output_type": "execute_result"
    }
   ],
   "source": [
    "len(train_cols)"
   ]
  },
  {
   "cell_type": "code",
   "execution_count": 31,
   "id": "92d6254e",
   "metadata": {},
   "outputs": [],
   "source": [
    "RFE_score = {}"
   ]
  },
  {
   "cell_type": "code",
   "execution_count": 32,
   "id": "5f89b4dc",
   "metadata": {},
   "outputs": [],
   "source": [
    "# sample = combined_df.sample(frac=0.1)\n",
    "train_X, test_X, train_y, test_y = train_test_split(combined_df[train_cols+low_corr], combined_df['minutes_per_mile'],test_size = 0.2)"
   ]
  },
  {
   "cell_type": "code",
   "execution_count": 33,
   "id": "3cf4d5f6",
   "metadata": {
    "scrolled": true
   },
   "outputs": [
    {
     "name": "stdout",
     "output_type": "stream",
     "text": [
      "5\n",
      "10\n",
      "15\n",
      "20\n",
      "25\n",
      "30\n",
      "35\n",
      "40\n"
     ]
    }
   ],
   "source": [
    "for k in range(5, 41, 5):\n",
    "    print(k)\n",
    "    model = xg.XGBRegressor(n_estimators=30)\n",
    "    selector = RFE(estimator=model, n_features_to_select=k, step=1)\n",
    "    selector = selector.fit(train_X, train_y)\n",
    "    \n",
    "    sel_X_train = selector.transform(train_X)\n",
    "    sel_X_test = selector.transform(test_X)\n",
    "    \n",
    "    model.fit(sel_X_train, train_y)\n",
    "    RFE_preds = model.predict(sel_X_test)\n",
    "    \n",
    "    RFE_score[k] = MAE(test_y, RFE_preds)"
   ]
  },
  {
   "cell_type": "code",
   "execution_count": 34,
   "id": "2a9e0e34",
   "metadata": {
    "scrolled": true
   },
   "outputs": [],
   "source": [
    "n_features_df = pd.DataFrame({'n_feature': RFE_score.keys(), 'MAE': RFE_score.values()}).sort_values('MAE', ignore_index=True)"
   ]
  },
  {
   "cell_type": "code",
   "execution_count": 35,
   "id": "a90778da",
   "metadata": {},
   "outputs": [
    {
     "data": {
      "text/html": [
       "<div>\n",
       "<style scoped>\n",
       "    .dataframe tbody tr th:only-of-type {\n",
       "        vertical-align: middle;\n",
       "    }\n",
       "\n",
       "    .dataframe tbody tr th {\n",
       "        vertical-align: top;\n",
       "    }\n",
       "\n",
       "    .dataframe thead th {\n",
       "        text-align: right;\n",
       "    }\n",
       "</style>\n",
       "<table border=\"1\" class=\"dataframe\">\n",
       "  <thead>\n",
       "    <tr style=\"text-align: right;\">\n",
       "      <th></th>\n",
       "      <th>n_feature</th>\n",
       "      <th>MAE</th>\n",
       "    </tr>\n",
       "  </thead>\n",
       "  <tbody>\n",
       "    <tr>\n",
       "      <th>0</th>\n",
       "      <td>15</td>\n",
       "      <td>0.956973</td>\n",
       "    </tr>\n",
       "    <tr>\n",
       "      <th>1</th>\n",
       "      <td>20</td>\n",
       "      <td>0.961031</td>\n",
       "    </tr>\n",
       "    <tr>\n",
       "      <th>2</th>\n",
       "      <td>30</td>\n",
       "      <td>0.962892</td>\n",
       "    </tr>\n",
       "    <tr>\n",
       "      <th>3</th>\n",
       "      <td>35</td>\n",
       "      <td>0.963252</td>\n",
       "    </tr>\n",
       "    <tr>\n",
       "      <th>4</th>\n",
       "      <td>40</td>\n",
       "      <td>0.963252</td>\n",
       "    </tr>\n",
       "    <tr>\n",
       "      <th>5</th>\n",
       "      <td>25</td>\n",
       "      <td>0.963252</td>\n",
       "    </tr>\n",
       "    <tr>\n",
       "      <th>6</th>\n",
       "      <td>10</td>\n",
       "      <td>0.968204</td>\n",
       "    </tr>\n",
       "    <tr>\n",
       "      <th>7</th>\n",
       "      <td>5</td>\n",
       "      <td>1.024833</td>\n",
       "    </tr>\n",
       "  </tbody>\n",
       "</table>\n",
       "</div>"
      ],
      "text/plain": [
       "   n_feature       MAE\n",
       "0         15  0.956973\n",
       "1         20  0.961031\n",
       "2         30  0.962892\n",
       "3         35  0.963252\n",
       "4         40  0.963252\n",
       "5         25  0.963252\n",
       "6         10  0.968204\n",
       "7          5  1.024833"
      ]
     },
     "execution_count": 35,
     "metadata": {},
     "output_type": "execute_result"
    }
   ],
   "source": [
    "n_features_df"
   ]
  },
  {
   "cell_type": "code",
   "execution_count": 36,
   "id": "f5ef7418",
   "metadata": {},
   "outputs": [
    {
     "data": {
      "text/plain": [
       "<Axes: xlabel='n_feature'>"
      ]
     },
     "execution_count": 36,
     "metadata": {},
     "output_type": "execute_result"
    },
    {
     "data": {
      "image/png": "[encoded data removed]",
      "text/plain": [
       "<Figure size 640x480 with 1 Axes>"
      ]
     },
     "metadata": {},
     "output_type": "display_data"
    }
   ],
   "source": [
    "n_features_df.plot(kind='bar',x=\"n_feature\", y=\"MAE\")"
   ]
  },
  {
   "cell_type": "code",
   "execution_count": 37,
   "id": "3f69c18a",
   "metadata": {},
   "outputs": [
    {
     "name": "stdout",
     "output_type": "stream",
     "text": [
      "26\n",
      "27\n",
      "28\n",
      "29\n"
     ]
    }
   ],
   "source": [
    "for k in range(16, 20):\n",
    "    print(k)\n",
    "    model = xg.XGBRegressor(n_estimators=30)\n",
    "    selector = RFE(estimator=model, n_features_to_select=k, step=1)\n",
    "    selector = selector.fit(train_X, train_y)\n",
    "    \n",
    "    sel_X_train = selector.transform(train_X)\n",
    "    sel_X_test = selector.transform(test_X)\n",
    "    \n",
    "    model.fit(sel_X_train, train_y)\n",
    "    RFE_preds = model.predict(sel_X_test)\n",
    "    \n",
    "    RFE_score[k] = MAE(test_y, RFE_preds)"
   ]
  },
  {
   "cell_type": "code",
   "execution_count": 38,
   "id": "76905370",
   "metadata": {},
   "outputs": [
    {
     "data": {
      "text/html": [
       "<div>\n",
       "<style scoped>\n",
       "    .dataframe tbody tr th:only-of-type {\n",
       "        vertical-align: middle;\n",
       "    }\n",
       "\n",
       "    .dataframe tbody tr th {\n",
       "        vertical-align: top;\n",
       "    }\n",
       "\n",
       "    .dataframe thead th {\n",
       "        text-align: right;\n",
       "    }\n",
       "</style>\n",
       "<table border=\"1\" class=\"dataframe\">\n",
       "  <thead>\n",
       "    <tr style=\"text-align: right;\">\n",
       "      <th></th>\n",
       "      <th>n_feature</th>\n",
       "      <th>MAE</th>\n",
       "    </tr>\n",
       "  </thead>\n",
       "  <tbody>\n",
       "    <tr>\n",
       "      <th>0</th>\n",
       "      <td>15</td>\n",
       "      <td>0.956973</td>\n",
       "    </tr>\n",
       "    <tr>\n",
       "      <th>1</th>\n",
       "      <td>20</td>\n",
       "      <td>0.961031</td>\n",
       "    </tr>\n",
       "    <tr>\n",
       "      <th>2</th>\n",
       "      <td>28</td>\n",
       "      <td>0.961835</td>\n",
       "    </tr>\n",
       "    <tr>\n",
       "      <th>3</th>\n",
       "      <td>30</td>\n",
       "      <td>0.962892</td>\n",
       "    </tr>\n",
       "    <tr>\n",
       "      <th>4</th>\n",
       "      <td>26</td>\n",
       "      <td>0.963224</td>\n",
       "    </tr>\n",
       "    <tr>\n",
       "      <th>5</th>\n",
       "      <td>35</td>\n",
       "      <td>0.963252</td>\n",
       "    </tr>\n",
       "    <tr>\n",
       "      <th>6</th>\n",
       "      <td>40</td>\n",
       "      <td>0.963252</td>\n",
       "    </tr>\n",
       "    <tr>\n",
       "      <th>7</th>\n",
       "      <td>25</td>\n",
       "      <td>0.963252</td>\n",
       "    </tr>\n",
       "    <tr>\n",
       "      <th>8</th>\n",
       "      <td>29</td>\n",
       "      <td>0.963344</td>\n",
       "    </tr>\n",
       "    <tr>\n",
       "      <th>9</th>\n",
       "      <td>27</td>\n",
       "      <td>0.963668</td>\n",
       "    </tr>\n",
       "    <tr>\n",
       "      <th>10</th>\n",
       "      <td>10</td>\n",
       "      <td>0.968204</td>\n",
       "    </tr>\n",
       "    <tr>\n",
       "      <th>11</th>\n",
       "      <td>5</td>\n",
       "      <td>1.024833</td>\n",
       "    </tr>\n",
       "  </tbody>\n",
       "</table>\n",
       "</div>"
      ],
      "text/plain": [
       "    n_feature       MAE\n",
       "0          15  0.956973\n",
       "1          20  0.961031\n",
       "2          28  0.961835\n",
       "3          30  0.962892\n",
       "4          26  0.963224\n",
       "5          35  0.963252\n",
       "6          40  0.963252\n",
       "7          25  0.963252\n",
       "8          29  0.963344\n",
       "9          27  0.963668\n",
       "10         10  0.968204\n",
       "11          5  1.024833"
      ]
     },
     "execution_count": 38,
     "metadata": {},
     "output_type": "execute_result"
    }
   ],
   "source": [
    "n_features_df = pd.DataFrame({'n_feature': RFE_score.keys(), 'MAE': RFE_score.values()}).sort_values('MAE', ignore_index=True)\n",
    "n_features_df"
   ]
  },
  {
   "cell_type": "markdown",
   "id": "8efe5ee9",
   "metadata": {},
   "source": [
    "comparing mutual info and RFE selectors features"
   ]
  },
  {
   "cell_type": "code",
   "execution_count": 39,
   "id": "369d897b",
   "metadata": {},
   "outputs": [
    {
     "data": {
      "text/plain": [
       "Index(['hour_of_day', 'dispatching_base_num', 'PULocationID', 'DOLocationID',\n",
       "       'trip_miles', 'wav_request_flag', 'wav_match_flag', 'any_tolls',\n",
       "       'day_of_week', 'month', 'traffic', 'PUBorough', 'DOBorough',\n",
       "       'PUservice_zone', 'DOservice_zone', 'Holiday', 'SN', 'BR', 'humidity',\n",
       "       'pressure', 'feel', 'avg_skyl', 'access_a_ride_flag', 'taxi_company',\n",
       "       'skyc3'],\n",
       "      dtype='object')"
      ]
     },
     "execution_count": 39,
     "metadata": {},
     "output_type": "execute_result"
    }
   ],
   "source": [
    "RFE_selector = RFE(estimator=model, n_features_to_select=25, step=1)\n",
    "RFE_selector.fit(train_X, train_y)\n",
    "\n",
    "selected_features_mask = RFE_selector.get_support()\n",
    "\n",
    "rfe_features = train_X.columns[selected_features_mask]\n",
    "rfe_features"
   ]
  },
  {
   "cell_type": "code",
   "execution_count": 40,
   "id": "09684646",
   "metadata": {},
   "outputs": [],
   "source": [
    "# set(mutual_df.head(15)['features']) ^ set(selected_features)"
   ]
  },
  {
   "cell_type": "markdown",
   "id": "ca8d22ae",
   "metadata": {},
   "source": [
    "## SelectK features"
   ]
  },
  {
   "cell_type": "code",
   "execution_count": 41,
   "id": "c3da6a02",
   "metadata": {},
   "outputs": [],
   "source": [
    "from sklearn.feature_selection import SelectKBest"
   ]
  },
  {
   "cell_type": "code",
   "execution_count": 42,
   "id": "79da013a",
   "metadata": {},
   "outputs": [],
   "source": [
    "train_X, test_X, train_y, test_y = train_test_split(combined_df[train_cols+low_corr], combined_df['minutes_per_mile'],test_size = 0.2)"
   ]
  },
  {
   "cell_type": "code",
   "execution_count": 43,
   "id": "4cf0b1ec",
   "metadata": {},
   "outputs": [],
   "source": [
    "select_k_score = {}"
   ]
  },
  {
   "cell_type": "code",
   "execution_count": 44,
   "id": "dc1e26e5",
   "metadata": {},
   "outputs": [
    {
     "name": "stdout",
     "output_type": "stream",
     "text": [
      "5\n",
      "10\n",
      "15\n",
      "20\n",
      "25\n",
      "30\n",
      "35\n",
      "40\n"
     ]
    }
   ],
   "source": [
    "for k in range(5, 41, 5):\n",
    "    print(k)\n",
    "    selector = SelectKBest(score_func=mutual_info_regression, k=k)\n",
    "    X_train_selected = selector.fit_transform(train_X, train_y)\n",
    "    \n",
    "    model = xg.XGBRegressor(n_estimators=30)\n",
    "    model.fit(X_train_selected, train_y)\n",
    "    \n",
    "    X_test_selected = selector.transform(test_X)\n",
    "    \n",
    "    y_pred = model.predict(X_test_selected)\n",
    "    select_k_score[k] = MAE(test_y, y_pred)"
   ]
  },
  {
   "cell_type": "code",
   "execution_count": 45,
   "id": "f4d6bd26",
   "metadata": {},
   "outputs": [],
   "source": [
    "k_features_df = pd.DataFrame({'k_feature': select_k_score.keys(), 'MAE': select_k_score.values()}).sort_values('MAE', ignore_index=True)"
   ]
  },
  {
   "cell_type": "code",
   "execution_count": 46,
   "id": "9850f07f",
   "metadata": {},
   "outputs": [
    {
     "data": {
      "text/html": [
       "<div>\n",
       "<style scoped>\n",
       "    .dataframe tbody tr th:only-of-type {\n",
       "        vertical-align: middle;\n",
       "    }\n",
       "\n",
       "    .dataframe tbody tr th {\n",
       "        vertical-align: top;\n",
       "    }\n",
       "\n",
       "    .dataframe thead th {\n",
       "        text-align: right;\n",
       "    }\n",
       "</style>\n",
       "<table border=\"1\" class=\"dataframe\">\n",
       "  <thead>\n",
       "    <tr style=\"text-align: right;\">\n",
       "      <th></th>\n",
       "      <th>k_feature</th>\n",
       "      <th>MAE</th>\n",
       "    </tr>\n",
       "  </thead>\n",
       "  <tbody>\n",
       "    <tr>\n",
       "      <th>0</th>\n",
       "      <td>20</td>\n",
       "      <td>0.968394</td>\n",
       "    </tr>\n",
       "    <tr>\n",
       "      <th>1</th>\n",
       "      <td>30</td>\n",
       "      <td>0.969588</td>\n",
       "    </tr>\n",
       "    <tr>\n",
       "      <th>2</th>\n",
       "      <td>25</td>\n",
       "      <td>0.970146</td>\n",
       "    </tr>\n",
       "    <tr>\n",
       "      <th>3</th>\n",
       "      <td>40</td>\n",
       "      <td>0.970213</td>\n",
       "    </tr>\n",
       "    <tr>\n",
       "      <th>4</th>\n",
       "      <td>35</td>\n",
       "      <td>0.970733</td>\n",
       "    </tr>\n",
       "    <tr>\n",
       "      <th>5</th>\n",
       "      <td>15</td>\n",
       "      <td>0.974209</td>\n",
       "    </tr>\n",
       "    <tr>\n",
       "      <th>6</th>\n",
       "      <td>10</td>\n",
       "      <td>0.987006</td>\n",
       "    </tr>\n",
       "    <tr>\n",
       "      <th>7</th>\n",
       "      <td>5</td>\n",
       "      <td>1.029305</td>\n",
       "    </tr>\n",
       "  </tbody>\n",
       "</table>\n",
       "</div>"
      ],
      "text/plain": [
       "   k_feature       MAE\n",
       "0         20  0.968394\n",
       "1         30  0.969588\n",
       "2         25  0.970146\n",
       "3         40  0.970213\n",
       "4         35  0.970733\n",
       "5         15  0.974209\n",
       "6         10  0.987006\n",
       "7          5  1.029305"
      ]
     },
     "execution_count": 46,
     "metadata": {},
     "output_type": "execute_result"
    }
   ],
   "source": [
    "k_features_df"
   ]
  },
  {
   "cell_type": "code",
   "execution_count": null,
   "id": "f693bffd",
   "metadata": {},
   "outputs": [],
   "source": []
  },
  {
   "cell_type": "code",
   "execution_count": 47,
   "id": "314bfdae",
   "metadata": {},
   "outputs": [
    {
     "name": "stdout",
     "output_type": "stream",
     "text": [
      "26\n",
      "27\n",
      "28\n",
      "29\n"
     ]
    }
   ],
   "source": [
    "for k in range(26, 30):\n",
    "    print(k)\n",
    "    selector = SelectKBest(score_func=mutual_info_regression, k=k)\n",
    "    X_train_selected = selector.fit_transform(train_X, train_y)\n",
    "    \n",
    "    model = xg.XGBRegressor(n_estimators=30)\n",
    "    model.fit(X_train_selected, train_y)\n",
    "    \n",
    "    X_test_selected = selector.transform(test_X)\n",
    "    \n",
    "    y_pred = model.predict(X_test_selected)\n",
    "    select_k_score[k] = MAE(test_y, y_pred)"
   ]
  },
  {
   "cell_type": "code",
   "execution_count": 48,
   "id": "83943514",
   "metadata": {},
   "outputs": [
    {
     "data": {
      "text/html": [
       "<div>\n",
       "<style scoped>\n",
       "    .dataframe tbody tr th:only-of-type {\n",
       "        vertical-align: middle;\n",
       "    }\n",
       "\n",
       "    .dataframe tbody tr th {\n",
       "        vertical-align: top;\n",
       "    }\n",
       "\n",
       "    .dataframe thead th {\n",
       "        text-align: right;\n",
       "    }\n",
       "</style>\n",
       "<table border=\"1\" class=\"dataframe\">\n",
       "  <thead>\n",
       "    <tr style=\"text-align: right;\">\n",
       "      <th></th>\n",
       "      <th>k_feature</th>\n",
       "      <th>MAE</th>\n",
       "    </tr>\n",
       "  </thead>\n",
       "  <tbody>\n",
       "    <tr>\n",
       "      <th>0</th>\n",
       "      <td>20</td>\n",
       "      <td>0.968394</td>\n",
       "    </tr>\n",
       "    <tr>\n",
       "      <th>1</th>\n",
       "      <td>27</td>\n",
       "      <td>0.968610</td>\n",
       "    </tr>\n",
       "    <tr>\n",
       "      <th>2</th>\n",
       "      <td>26</td>\n",
       "      <td>0.969333</td>\n",
       "    </tr>\n",
       "    <tr>\n",
       "      <th>3</th>\n",
       "      <td>30</td>\n",
       "      <td>0.969588</td>\n",
       "    </tr>\n",
       "    <tr>\n",
       "      <th>4</th>\n",
       "      <td>25</td>\n",
       "      <td>0.970146</td>\n",
       "    </tr>\n",
       "    <tr>\n",
       "      <th>5</th>\n",
       "      <td>40</td>\n",
       "      <td>0.970213</td>\n",
       "    </tr>\n",
       "    <tr>\n",
       "      <th>6</th>\n",
       "      <td>35</td>\n",
       "      <td>0.970733</td>\n",
       "    </tr>\n",
       "    <tr>\n",
       "      <th>7</th>\n",
       "      <td>28</td>\n",
       "      <td>0.972008</td>\n",
       "    </tr>\n",
       "    <tr>\n",
       "      <th>8</th>\n",
       "      <td>29</td>\n",
       "      <td>0.972143</td>\n",
       "    </tr>\n",
       "    <tr>\n",
       "      <th>9</th>\n",
       "      <td>15</td>\n",
       "      <td>0.974209</td>\n",
       "    </tr>\n",
       "    <tr>\n",
       "      <th>10</th>\n",
       "      <td>10</td>\n",
       "      <td>0.987006</td>\n",
       "    </tr>\n",
       "    <tr>\n",
       "      <th>11</th>\n",
       "      <td>5</td>\n",
       "      <td>1.029305</td>\n",
       "    </tr>\n",
       "  </tbody>\n",
       "</table>\n",
       "</div>"
      ],
      "text/plain": [
       "    k_feature       MAE\n",
       "0          20  0.968394\n",
       "1          27  0.968610\n",
       "2          26  0.969333\n",
       "3          30  0.969588\n",
       "4          25  0.970146\n",
       "5          40  0.970213\n",
       "6          35  0.970733\n",
       "7          28  0.972008\n",
       "8          29  0.972143\n",
       "9          15  0.974209\n",
       "10         10  0.987006\n",
       "11          5  1.029305"
      ]
     },
     "execution_count": 48,
     "metadata": {},
     "output_type": "execute_result"
    }
   ],
   "source": [
    "k_features_df = pd.DataFrame({'k_feature': select_k_score.keys(), 'MAE': select_k_score.values()}).sort_values('MAE', ignore_index=True)\n",
    "k_features_df"
   ]
  },
  {
   "cell_type": "code",
   "execution_count": 49,
   "id": "5703da4f",
   "metadata": {},
   "outputs": [],
   "source": [
    "selector = SelectKBest(score_func=mutual_info_regression, k=25)\n",
    "X_train_selected = selector.fit_transform(train_X, train_y)\n",
    "k_best_features = selector.get_feature_names_out()"
   ]
  },
  {
   "cell_type": "code",
   "execution_count": 50,
   "id": "5f582d5c",
   "metadata": {},
   "outputs": [
    {
     "data": {
      "text/plain": [
       "array(['hour_of_day', 'dispatching_base_num', 'PULocationID',\n",
       "       'DOLocationID', 'trip_miles', 'wav_match_flag', 'any_tolls',\n",
       "       'day_of_week', 'month', 'traffic', 'PUBorough', 'DOBorough',\n",
       "       'PUservice_zone', 'DOservice_zone', 'Holiday', 'wind_direction',\n",
       "       'humidity', 'wind_speed', 'feel', 'avg_skyl', 'access_a_ride_flag',\n",
       "       'CLR', 'taxi_company', 'skyc2', 'skyc3'], dtype=object)"
      ]
     },
     "execution_count": 50,
     "metadata": {},
     "output_type": "execute_result"
    }
   ],
   "source": [
    "k_best_features"
   ]
  },
  {
   "cell_type": "code",
   "execution_count": 51,
   "id": "b99eb5e9",
   "metadata": {},
   "outputs": [
    {
     "data": {
      "text/plain": [
       "21"
      ]
     },
     "execution_count": 51,
     "metadata": {},
     "output_type": "execute_result"
    }
   ],
   "source": [
    "len(set(k_best_features)&set(rfe_features))"
   ]
  },
  {
   "cell_type": "code",
   "execution_count": 52,
   "id": "b26d55bb",
   "metadata": {},
   "outputs": [
    {
     "data": {
      "text/plain": [
       "{'BR',\n",
       " 'CLR',\n",
       " 'SN',\n",
       " 'pressure',\n",
       " 'skyc2',\n",
       " 'wav_request_flag',\n",
       " 'wind_direction',\n",
       " 'wind_speed'}"
      ]
     },
     "execution_count": 52,
     "metadata": {},
     "output_type": "execute_result"
    }
   ],
   "source": [
    "set(k_best_features)^set(rfe_features)"
   ]
  },
  {
   "cell_type": "code",
   "execution_count": 53,
   "id": "99868393",
   "metadata": {},
   "outputs": [
    {
     "data": {
      "text/plain": [
       "{'DOBorough',\n",
       " 'DOLocationID',\n",
       " 'DOservice_zone',\n",
       " 'PUBorough',\n",
       " 'PULocationID',\n",
       " 'PUservice_zone',\n",
       " 'access_a_ride_flag',\n",
       " 'any_tolls',\n",
       " 'avg_skyl',\n",
       " 'day_of_week',\n",
       " 'dispatching_base_num',\n",
       " 'feel',\n",
       " 'hour_of_day',\n",
       " 'humidity',\n",
       " 'month',\n",
       " 'skyc3',\n",
       " 'taxi_company',\n",
       " 'traffic',\n",
       " 'trip_miles',\n",
       " 'wav_match_flag'}"
      ]
     },
     "execution_count": 53,
     "metadata": {},
     "output_type": "execute_result"
    }
   ],
   "source": [
    "set(k_best_features)&set(rfe_features)&set(feature_importance.head(25)['features'])"
   ]
  },
  {
   "cell_type": "code",
   "execution_count": null,
   "id": "a30bddd1",
   "metadata": {},
   "outputs": [],
   "source": []
  }
 ],
 "metadata": {
  "kernelspec": {
   "display_name": "Python 3.10 (tensorflow)",
   "language": "python",
   "name": "tensorflow"
  },
  "language_info": {
   "codemirror_mode": {
    "name": "ipython",
    "version": 3
   },
   "file_extension": ".py",
   "mimetype": "text/x-python",
   "name": "python",
   "nbconvert_exporter": "python",
   "pygments_lexer": "ipython3",
   "version": "3.10.11"
  }
 },
 "nbformat": 4,
 "nbformat_minor": 5
}
