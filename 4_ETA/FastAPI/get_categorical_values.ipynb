{
 "cells": [
  {
   "cell_type": "code",
   "execution_count": 1,
   "id": "a18d7c57",
   "metadata": {},
   "outputs": [],
   "source": [
    "import os\n",
    "import polars as pl\n",
    "import json "
   ]
  },
  {
   "cell_type": "code",
   "execution_count": 2,
   "id": "50694729",
   "metadata": {},
   "outputs": [],
   "source": [
    "path = \"/Users/afnan/Desktop/python/Data_science_Notes/Uber_data\""
   ]
  },
  {
   "cell_type": "code",
   "execution_count": 3,
   "id": "009cf8fa",
   "metadata": {},
   "outputs": [],
   "source": [
    "all_files = os.listdir(f\"{path}/4_ETA/preprocessed\")\n",
    "parquet_files = [file for file in all_files if file.endswith(\".parquet\")]"
   ]
  },
  {
   "cell_type": "code",
   "execution_count": 4,
   "id": "7b8ea9ac",
   "metadata": {},
   "outputs": [],
   "source": [
    "feature_cols = ['PULocationID', 'PUBorough', 'PUservice_zone',\n",
    "                'day_of_week', 'dispatching_base_num','month', 'taxi_company', 'wind_direction']"
   ]
  },
  {
   "cell_type": "code",
   "execution_count": 5,
   "id": "755afcae",
   "metadata": {},
   "outputs": [],
   "source": [
    "df1 = pl.read_parquet(f\"{path}/4_ETA/preprocessed/{parquet_files[0]}\", columns=feature_cols)\n",
    "df2 = pl.read_parquet(f\"{path}/4_ETA/preprocessed/{parquet_files[1]}\", columns=feature_cols)\n",
    "df3 = pl.read_parquet(f\"{path}/4_ETA/preprocessed/{parquet_files[2]}\", columns=feature_cols)\n",
    "df4 = pl.read_parquet(f\"{path}/4_ETA/preprocessed/{parquet_files[3]}\", columns=feature_cols)\n",
    "df5 = pl.read_parquet(f\"{path}/4_ETA/preprocessed/{parquet_files[4]}\", columns=feature_cols)\n",
    "df6 = pl.read_parquet(f\"{path}/4_ETA/preprocessed/{parquet_files[5]}\", columns=feature_cols)\n",
    "df7 = pl.read_parquet(f\"{path}/4_ETA/preprocessed/{parquet_files[6]}\", columns=feature_cols)\n",
    "df8 = pl.read_parquet(f\"{path}/4_ETA/preprocessed/{parquet_files[7]}\", columns=feature_cols)"
   ]
  },
  {
   "cell_type": "code",
   "execution_count": 6,
   "id": "3b0c6564",
   "metadata": {},
   "outputs": [],
   "source": [
    "dfs = [df1, df2, df3, df4, df5, df6, df7, df8]"
   ]
  },
  {
   "cell_type": "code",
   "execution_count": 7,
   "id": "fab73308",
   "metadata": {},
   "outputs": [],
   "source": [
    "combined_df = pl.concat(dfs)"
   ]
  },
  {
   "cell_type": "code",
   "execution_count": 8,
   "id": "ab20ff50",
   "metadata": {},
   "outputs": [
    {
     "data": {
      "text/html": [
       "<div><style>\n",
       ".dataframe > thead > tr,\n",
       ".dataframe > tbody > tr {\n",
       "  text-align: right;\n",
       "  white-space: pre-wrap;\n",
       "}\n",
       "</style>\n",
       "<small>shape: (5, 8)</small><table border=\"1\" class=\"dataframe\"><thead><tr><th>PULocationID</th><th>PUBorough</th><th>PUservice_zone</th><th>day_of_week</th><th>dispatching_base_num</th><th>month</th><th>taxi_company</th><th>wind_direction</th></tr><tr><td>i64</td><td>str</td><td>str</td><td>str</td><td>str</td><td>str</td><td>str</td><td>str</td></tr></thead><tbody><tr><td>39</td><td>&quot;Brooklyn&quot;</td><td>&quot;Boro Zone&quot;</td><td>&quot;Sunday&quot;</td><td>&quot;B02510&quot;</td><td>&quot;July&quot;</td><td>&quot;Lyft&quot;</td><td>&quot;SE&quot;</td></tr><tr><td>141</td><td>&quot;Manhattan&quot;</td><td>&quot;Yellow Zone&quot;</td><td>&quot;Sunday&quot;</td><td>&quot;B02866&quot;</td><td>&quot;July&quot;</td><td>&quot;Uber&quot;</td><td>&quot;SE&quot;</td></tr><tr><td>222</td><td>&quot;Brooklyn&quot;</td><td>&quot;Boro Zone&quot;</td><td>&quot;Sunday&quot;</td><td>&quot;B02764&quot;</td><td>&quot;July&quot;</td><td>&quot;Uber&quot;</td><td>&quot;SE&quot;</td></tr><tr><td>250</td><td>&quot;Bronx&quot;</td><td>&quot;Boro Zone&quot;</td><td>&quot;Sunday&quot;</td><td>&quot;B02836&quot;</td><td>&quot;July&quot;</td><td>&quot;Uber&quot;</td><td>&quot;SE&quot;</td></tr><tr><td>256</td><td>&quot;Brooklyn&quot;</td><td>&quot;Boro Zone&quot;</td><td>&quot;Sunday&quot;</td><td>&quot;B02872&quot;</td><td>&quot;July&quot;</td><td>&quot;Uber&quot;</td><td>&quot;SE&quot;</td></tr></tbody></table></div>"
      ],
      "text/plain": [
       "shape: (5, 8)\n",
       "┌─────────────┬───────────┬────────────┬────────────┬────────────┬───────┬────────────┬────────────┐\n",
       "│ PULocationI ┆ PUBorough ┆ PUservice_ ┆ day_of_wee ┆ dispatchin ┆ month ┆ taxi_compa ┆ wind_direc │\n",
       "│ D           ┆ ---       ┆ zone       ┆ k          ┆ g_base_num ┆ ---   ┆ ny         ┆ tion       │\n",
       "│ ---         ┆ str       ┆ ---        ┆ ---        ┆ ---        ┆ str   ┆ ---        ┆ ---        │\n",
       "│ i64         ┆           ┆ str        ┆ str        ┆ str        ┆       ┆ str        ┆ str        │\n",
       "╞═════════════╪═══════════╪════════════╪════════════╪════════════╪═══════╪════════════╪════════════╡\n",
       "│ 39          ┆ Brooklyn  ┆ Boro Zone  ┆ Sunday     ┆ B02510     ┆ July  ┆ Lyft       ┆ SE         │\n",
       "│ 141         ┆ Manhattan ┆ Yellow     ┆ Sunday     ┆ B02866     ┆ July  ┆ Uber       ┆ SE         │\n",
       "│             ┆           ┆ Zone       ┆            ┆            ┆       ┆            ┆            │\n",
       "│ 222         ┆ Brooklyn  ┆ Boro Zone  ┆ Sunday     ┆ B02764     ┆ July  ┆ Uber       ┆ SE         │\n",
       "│ 250         ┆ Bronx     ┆ Boro Zone  ┆ Sunday     ┆ B02836     ┆ July  ┆ Uber       ┆ SE         │\n",
       "│ 256         ┆ Brooklyn  ┆ Boro Zone  ┆ Sunday     ┆ B02872     ┆ July  ┆ Uber       ┆ SE         │\n",
       "└─────────────┴───────────┴────────────┴────────────┴────────────┴───────┴────────────┴────────────┘"
      ]
     },
     "execution_count": 8,
     "metadata": {},
     "output_type": "execute_result"
    }
   ],
   "source": [
    "combined_df.head()"
   ]
  },
  {
   "cell_type": "markdown",
   "id": "6ff58e47",
   "metadata": {},
   "source": [
    "##### Locations"
   ]
  },
  {
   "cell_type": "code",
   "execution_count": 9,
   "id": "6d8468bf",
   "metadata": {},
   "outputs": [],
   "source": [
    "location_df = combined_df[['PULocationID', 'PUBorough', 'PUservice_zone']].unique()"
   ]
  },
  {
   "cell_type": "code",
   "execution_count": 10,
   "id": "5073627b",
   "metadata": {},
   "outputs": [
    {
     "data": {
      "text/html": [
       "<div><style>\n",
       ".dataframe > thead > tr,\n",
       ".dataframe > tbody > tr {\n",
       "  text-align: right;\n",
       "  white-space: pre-wrap;\n",
       "}\n",
       "</style>\n",
       "<small>shape: (5, 4)</small><table border=\"1\" class=\"dataframe\"><thead><tr><th>LocationID</th><th>Borough</th><th>Zone</th><th>service_zone</th></tr><tr><td>i64</td><td>str</td><td>str</td><td>str</td></tr></thead><tbody><tr><td>1</td><td>&quot;EWR&quot;</td><td>&quot;Newark Airport…</td><td>&quot;EWR&quot;</td></tr><tr><td>2</td><td>&quot;Queens&quot;</td><td>&quot;Jamaica Bay&quot;</td><td>&quot;Boro Zone&quot;</td></tr><tr><td>3</td><td>&quot;Bronx&quot;</td><td>&quot;Allerton/Pelha…</td><td>&quot;Boro Zone&quot;</td></tr><tr><td>4</td><td>&quot;Manhattan&quot;</td><td>&quot;Alphabet City&quot;</td><td>&quot;Yellow Zone&quot;</td></tr><tr><td>5</td><td>&quot;Staten Island&quot;</td><td>&quot;Arden Heights&quot;</td><td>&quot;Boro Zone&quot;</td></tr></tbody></table></div>"
      ],
      "text/plain": [
       "shape: (5, 4)\n",
       "┌────────────┬───────────────┬─────────────────────────┬──────────────┐\n",
       "│ LocationID ┆ Borough       ┆ Zone                    ┆ service_zone │\n",
       "│ ---        ┆ ---           ┆ ---                     ┆ ---          │\n",
       "│ i64        ┆ str           ┆ str                     ┆ str          │\n",
       "╞════════════╪═══════════════╪═════════════════════════╪══════════════╡\n",
       "│ 1          ┆ EWR           ┆ Newark Airport          ┆ EWR          │\n",
       "│ 2          ┆ Queens        ┆ Jamaica Bay             ┆ Boro Zone    │\n",
       "│ 3          ┆ Bronx         ┆ Allerton/Pelham Gardens ┆ Boro Zone    │\n",
       "│ 4          ┆ Manhattan     ┆ Alphabet City           ┆ Yellow Zone  │\n",
       "│ 5          ┆ Staten Island ┆ Arden Heights           ┆ Boro Zone    │\n",
       "└────────────┴───────────────┴─────────────────────────┴──────────────┘"
      ]
     },
     "execution_count": 10,
     "metadata": {},
     "output_type": "execute_result"
    }
   ],
   "source": [
    "taxi_zone_lookup = pl.read_csv(f'{path}/dataset/taxi_zone_lookup.csv')\n",
    "taxi_zone_lookup.head()"
   ]
  },
  {
   "cell_type": "code",
   "execution_count": 11,
   "id": "40d6bc59",
   "metadata": {},
   "outputs": [],
   "source": [
    "location_df = location_df.join(taxi_zone_lookup[['LocationID', 'Zone']], \n",
    "                               left_on=\"PULocationID\", right_on=\"LocationID\")"
   ]
  },
  {
   "cell_type": "code",
   "execution_count": 12,
   "id": "90a79d68",
   "metadata": {},
   "outputs": [],
   "source": [
    "location_df = location_df.rename({\"PULocationID\": \"LocationID\", \"PUBorough\": \"Borough\", \n",
    "                                  \"PUservice_zone\": \"service_zone\", \"Zone\": \"Location\"})"
   ]
  },
  {
   "cell_type": "code",
   "execution_count": 13,
   "id": "b30f4c34",
   "metadata": {},
   "outputs": [],
   "source": [
    "borough_mapping = { \"Queens\": 1, \"Manhattan\": 2, \"Bronx\": 3, \"Staten Island\": 4, \"Brooklyn\": 5, \"EWR\": 6 }\n",
    "zone_mapping = {\"Yellow Zone\":1, \"Boro Zone\":2, \"Airports\":3}"
   ]
  },
  {
   "cell_type": "code",
   "execution_count": 14,
   "id": "dd82de9b",
   "metadata": {},
   "outputs": [],
   "source": [
    "location_df = location_df.with_columns(pl.col(\"Borough\").replace(borough_mapping).cast(pl.Int64, strict=False))\n",
    "location_df = location_df.with_columns(pl.col(\"service_zone\").replace(zone_mapping).cast(pl.Int64, strict=False))"
   ]
  },
  {
   "cell_type": "code",
   "execution_count": 15,
   "id": "10d8ce4b",
   "metadata": {},
   "outputs": [
    {
     "data": {
      "text/html": [
       "<div><style>\n",
       ".dataframe > thead > tr,\n",
       ".dataframe > tbody > tr {\n",
       "  text-align: right;\n",
       "  white-space: pre-wrap;\n",
       "}\n",
       "</style>\n",
       "<small>shape: (5, 4)</small><table border=\"1\" class=\"dataframe\"><thead><tr><th>LocationID</th><th>Borough</th><th>service_zone</th><th>Location</th></tr><tr><td>i64</td><td>i64</td><td>i64</td><td>str</td></tr></thead><tbody><tr><td>1</td><td>6</td><td>3</td><td>&quot;Newark Airport…</td></tr><tr><td>3</td><td>3</td><td>2</td><td>&quot;Allerton/Pelha…</td></tr><tr><td>4</td><td>2</td><td>1</td><td>&quot;Alphabet City&quot;</td></tr><tr><td>5</td><td>4</td><td>2</td><td>&quot;Arden Heights&quot;</td></tr><tr><td>6</td><td>4</td><td>2</td><td>&quot;Arrochar/Fort …</td></tr></tbody></table></div>"
      ],
      "text/plain": [
       "shape: (5, 4)\n",
       "┌────────────┬─────────┬──────────────┬─────────────────────────┐\n",
       "│ LocationID ┆ Borough ┆ service_zone ┆ Location                │\n",
       "│ ---        ┆ ---     ┆ ---          ┆ ---                     │\n",
       "│ i64        ┆ i64     ┆ i64          ┆ str                     │\n",
       "╞════════════╪═════════╪══════════════╪═════════════════════════╡\n",
       "│ 1          ┆ 6       ┆ 3            ┆ Newark Airport          │\n",
       "│ 3          ┆ 3       ┆ 2            ┆ Allerton/Pelham Gardens │\n",
       "│ 4          ┆ 2       ┆ 1            ┆ Alphabet City           │\n",
       "│ 5          ┆ 4       ┆ 2            ┆ Arden Heights           │\n",
       "│ 6          ┆ 4       ┆ 2            ┆ Arrochar/Fort Wadsworth │\n",
       "└────────────┴─────────┴──────────────┴─────────────────────────┘"
      ]
     },
     "execution_count": 15,
     "metadata": {},
     "output_type": "execute_result"
    }
   ],
   "source": [
    "location_df.head()"
   ]
  },
  {
   "cell_type": "code",
   "execution_count": 16,
   "id": "a59d3900",
   "metadata": {},
   "outputs": [],
   "source": [
    "# location_df.write_csv(\"locations.csv\")"
   ]
  },
  {
   "cell_type": "markdown",
   "id": "9b919fb0",
   "metadata": {},
   "source": [
    "##### Other categories"
   ]
  },
  {
   "cell_type": "code",
   "execution_count": 17,
   "id": "d26e6fd4",
   "metadata": {},
   "outputs": [],
   "source": [
    "month_mapping = { \"January\": 1, \"February\": 2, \"March\": 3, \"April\": 4, \"May\": 5, \"June\": 6, \"July\": 7,\n",
    "                  \"August\": 8, \"September\": 9, \"October\": 10, \"November\": 11, \"December\": 12\n",
    "                }\n",
    "\n",
    "day_of_week_mapping = {\n",
    "    \"Monday\": 1, \"Tuesday\": 2, \"Wednesday\": 3, \"Thursday\": 4, \"Friday\": 5, \"Saturday\": 6, \"Sunday\": 7\n",
    "}\n",
    "\n",
    "taxi_mapping = {'Lyft': 0, 'Uber': 1, 'Via': 2}\n",
    "dbn_mapping = {'B02510': 1, 'B02866': 13, 'B02764': 5, 'B02836': 9, 'B02872': 18, 'B02887': 28, 'B02765': 6, \n",
    "               'B02867': 14, 'B02877': 21, 'B02835': 8, 'B02883': 26, 'B02682': 4, 'B02876': 20, 'B02617': 3, \n",
    "               'B02882': 25, 'B02512': 2, 'B02869': 15, 'B02871': 17, 'B02878': 22, 'B02870': 16, 'B02864': 11, \n",
    "               'B02884': 27, 'B02395': 0, 'B02875': 19, 'B02865': 12, 'B02880': 24, 'B02889': 30, 'B02888': 29, \n",
    "               'B02879': 23, 'B02800': 7, 'B02844': 10, 'B03136': 31, 'B03406': 33, 'B03404': 32}\n",
    "wind_mapping = {'SE': 5, 'NW': 3, 'NE': 2, 'S': 4, 'N': 1, 'E': 0, 'SW': 6, 'W': 7}"
   ]
  },
  {
   "cell_type": "code",
   "execution_count": 18,
   "id": "5afa7251",
   "metadata": {},
   "outputs": [],
   "source": [
    "categories = {\n",
    "              'day_of_week': day_of_week_mapping, \n",
    "              'dispatching_base_num': dbn_mapping,\n",
    "              'month': month_mapping, \n",
    "              'taxi_company': taxi_mapping, \n",
    "              'wind_direction' : wind_mapping\n",
    "}"
   ]
  },
  {
   "cell_type": "code",
   "execution_count": 19,
   "id": "66882fa4",
   "metadata": {},
   "outputs": [],
   "source": [
    "# with open(\"other_categories.json\", \"w\") as outfile: \n",
    "#     json.dump(categories, outfile) "
   ]
  },
  {
   "cell_type": "code",
   "execution_count": null,
   "id": "28f101af",
   "metadata": {},
   "outputs": [],
   "source": []
  }
 ],
 "metadata": {
  "kernelspec": {
   "display_name": "Python 3.10 (tensorflow)",
   "language": "python",
   "name": "tensorflow"
  },
  "language_info": {
   "codemirror_mode": {
    "name": "ipython",
    "version": 3
   },
   "file_extension": ".py",
   "mimetype": "text/x-python",
   "name": "python",
   "nbconvert_exporter": "python",
   "pygments_lexer": "ipython3",
   "version": "3.10.11"
  }
 },
 "nbformat": 4,
 "nbformat_minor": 5
}
