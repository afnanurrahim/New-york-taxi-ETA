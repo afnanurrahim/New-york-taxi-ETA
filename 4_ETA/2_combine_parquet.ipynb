{
 "cells": [
  {
   "cell_type": "code",
   "execution_count": 1,
   "id": "fb5d77e7",
   "metadata": {},
   "outputs": [],
   "source": [
    "import pandas as pd"
   ]
  },
  {
   "cell_type": "code",
   "execution_count": 2,
   "id": "c41374bd",
   "metadata": {},
   "outputs": [],
   "source": [
    "path = \"/Users/afnan/Desktop/python/Data_science_Notes/Uber_data/systematic_sample_dataset\""
   ]
  },
  {
   "cell_type": "code",
   "execution_count": 3,
   "id": "1d00f4ca",
   "metadata": {},
   "outputs": [],
   "source": [
    "jan_df = pd.read_parquet(f'{path}/january_sample.parquet')\n",
    "feb_df = pd.read_parquet(f'{path}/february_sample.parquet')\n",
    "march_df = pd.read_parquet(f'{path}/march_sample.parquet')\n",
    "april_df = pd.read_parquet(f'{path}/april_sample.parquet')\n",
    "may_df = pd.read_parquet(f'{path}/may_sample.parquet')\n",
    "june_df = pd.read_parquet(f'{path}/june_sample.parquet')\n",
    "july_df = pd.read_parquet(f'{path}/july_sample.parquet')\n",
    "aug_df = pd.read_parquet(f'{path}/august_sample.parquet')\n",
    "sep_df = pd.read_parquet(f'{path}/september_sample.parquet')\n",
    "oct_df = pd.read_parquet(f'{path}/october_sample.parquet')\n",
    "nov_df = pd.read_parquet(f'{path}/november_sample.parquet')\n",
    "dec_df = pd.read_parquet(f'{path}/december_sample.parquet')"
   ]
  },
  {
   "cell_type": "code",
   "execution_count": 4,
   "id": "08a4ebb5",
   "metadata": {},
   "outputs": [],
   "source": [
    "month_var = [jan_df, feb_df, march_df, april_df, may_df, june_df, july_df, aug_df, sep_df, oct_df, nov_df, dec_df,]"
   ]
  },
  {
   "cell_type": "code",
   "execution_count": 7,
   "id": "edbaa761",
   "metadata": {},
   "outputs": [],
   "source": [
    "combined_df = pd.DataFrame(columns=jan_df.columns)"
   ]
  },
  {
   "cell_type": "code",
   "execution_count": 10,
   "id": "59948797",
   "metadata": {},
   "outputs": [],
   "source": [
    "for month in month_var:\n",
    "    combined_df = pd.concat([combined_df, month])"
   ]
  },
  {
   "cell_type": "code",
   "execution_count": 11,
   "id": "ec9ca25a",
   "metadata": {},
   "outputs": [
    {
     "data": {
      "text/plain": [
       "(17459672, 24)"
      ]
     },
     "execution_count": 11,
     "metadata": {},
     "output_type": "execute_result"
    }
   ],
   "source": [
    "combined_df.shape"
   ]
  },
  {
   "cell_type": "code",
   "execution_count": 14,
   "id": "c06a2fd2",
   "metadata": {},
   "outputs": [],
   "source": [
    "# combined_df.to_parquet('sample.parquet')"
   ]
  },
  {
   "cell_type": "code",
   "execution_count": null,
   "id": "67ef26a2",
   "metadata": {},
   "outputs": [],
   "source": []
  }
 ],
 "metadata": {
  "kernelspec": {
   "display_name": "Python 3.10 (tensorflow)",
   "language": "python",
   "name": "tensorflow"
  },
  "language_info": {
   "codemirror_mode": {
    "name": "ipython",
    "version": 3
   },
   "file_extension": ".py",
   "mimetype": "text/x-python",
   "name": "python",
   "nbconvert_exporter": "python",
   "pygments_lexer": "ipython3",
   "version": "3.10.11"
  }
 },
 "nbformat": 4,
 "nbformat_minor": 5
}
