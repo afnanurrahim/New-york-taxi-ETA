{
 "cells": [
  {
   "cell_type": "markdown",
   "id": "51a37c56",
   "metadata": {},
   "source": [
    "Dataset: https://mesonet.agron.iastate.edu/request/download.phtml?network=NY_ASOS"
   ]
  },
  {
   "cell_type": "markdown",
   "id": "003422e2",
   "metadata": {},
   "source": [
    "### Importing libraries"
   ]
  },
  {
   "cell_type": "code",
   "execution_count": 1,
   "id": "cb405089",
   "metadata": {},
   "outputs": [],
   "source": [
    "import matplotlib.pyplot as plt\n",
    "import pandas as pd \n",
    "import numpy as np\n",
    "import seaborn as sns\n",
    "from scipy.stats import spearmanr, boxcox\n",
    "from collections import Counter\n",
    "from datetime import datetime\n",
    "from sklearn.preprocessing import KBinsDiscretizer"
   ]
  },
  {
   "cell_type": "markdown",
   "id": "cedb192e",
   "metadata": {},
   "source": [
    "### Loading data"
   ]
  },
  {
   "cell_type": "code",
   "execution_count": 2,
   "id": "c274a53b",
   "metadata": {},
   "outputs": [],
   "source": [
    "path = \"/Users/afnan/Desktop/python/Data_science_Notes/Uber_data\""
   ]
  },
  {
   "cell_type": "code",
   "execution_count": 3,
   "id": "021e7fe3",
   "metadata": {},
   "outputs": [],
   "source": [
    "weather = pd.read_csv(f\"{path}/dataset/new_york_weather.csv\")"
   ]
  },
  {
   "cell_type": "code",
   "execution_count": 4,
   "id": "a0faf053",
   "metadata": {},
   "outputs": [
    {
     "data": {
      "text/html": [
       "<div>\n",
       "<style scoped>\n",
       "    .dataframe tbody tr th:only-of-type {\n",
       "        vertical-align: middle;\n",
       "    }\n",
       "\n",
       "    .dataframe tbody tr th {\n",
       "        vertical-align: top;\n",
       "    }\n",
       "\n",
       "    .dataframe thead th {\n",
       "        text-align: right;\n",
       "    }\n",
       "</style>\n",
       "<table border=\"1\" class=\"dataframe\">\n",
       "  <thead>\n",
       "    <tr style=\"text-align: right;\">\n",
       "      <th></th>\n",
       "      <th>Unnamed: 0</th>\n",
       "      <th>valid</th>\n",
       "      <th>tmpf</th>\n",
       "      <th>dwpf</th>\n",
       "      <th>relh</th>\n",
       "      <th>drct</th>\n",
       "      <th>sknt</th>\n",
       "      <th>p01i</th>\n",
       "      <th>alti</th>\n",
       "      <th>mslp</th>\n",
       "      <th>...</th>\n",
       "      <th>skyl2</th>\n",
       "      <th>skyl3</th>\n",
       "      <th>skyl4</th>\n",
       "      <th>wxcodes</th>\n",
       "      <th>peak_wind_gust</th>\n",
       "      <th>peak_wind_drct</th>\n",
       "      <th>peak_wind_time</th>\n",
       "      <th>feel</th>\n",
       "      <th>metar</th>\n",
       "      <th>snowdepth</th>\n",
       "    </tr>\n",
       "  </thead>\n",
       "  <tbody>\n",
       "    <tr>\n",
       "      <th>0</th>\n",
       "      <td>0</td>\n",
       "      <td>2021-01-01 00:51</td>\n",
       "      <td>40.0</td>\n",
       "      <td>26.1</td>\n",
       "      <td>57.47</td>\n",
       "      <td>320.0</td>\n",
       "      <td>13.0</td>\n",
       "      <td>0.0</td>\n",
       "      <td>30.34</td>\n",
       "      <td>1027.4</td>\n",
       "      <td>...</td>\n",
       "      <td>15000.0</td>\n",
       "      <td>NaN</td>\n",
       "      <td>NaN</td>\n",
       "      <td>NaN</td>\n",
       "      <td>NaN</td>\n",
       "      <td>NaN</td>\n",
       "      <td>NaN</td>\n",
       "      <td>31.69</td>\n",
       "      <td>KJFK 010051Z 32013KT 10SM FEW030 OVC150 04/M03...</td>\n",
       "      <td>NaN</td>\n",
       "    </tr>\n",
       "    <tr>\n",
       "      <th>1</th>\n",
       "      <td>1</td>\n",
       "      <td>2021-01-01 01:51</td>\n",
       "      <td>39.0</td>\n",
       "      <td>24.1</td>\n",
       "      <td>54.77</td>\n",
       "      <td>350.0</td>\n",
       "      <td>9.0</td>\n",
       "      <td>0.0</td>\n",
       "      <td>30.35</td>\n",
       "      <td>1027.8</td>\n",
       "      <td>...</td>\n",
       "      <td>17000.0</td>\n",
       "      <td>NaN</td>\n",
       "      <td>NaN</td>\n",
       "      <td>NaN</td>\n",
       "      <td>NaN</td>\n",
       "      <td>NaN</td>\n",
       "      <td>NaN</td>\n",
       "      <td>32.22</td>\n",
       "      <td>KJFK 010151Z 35009KT 10SM FEW030 SCT170 04/M04...</td>\n",
       "      <td>NaN</td>\n",
       "    </tr>\n",
       "    <tr>\n",
       "      <th>2</th>\n",
       "      <td>2</td>\n",
       "      <td>2021-01-01 02:51</td>\n",
       "      <td>36.0</td>\n",
       "      <td>24.1</td>\n",
       "      <td>61.62</td>\n",
       "      <td>340.0</td>\n",
       "      <td>7.0</td>\n",
       "      <td>0.0</td>\n",
       "      <td>30.38</td>\n",
       "      <td>1028.8</td>\n",
       "      <td>...</td>\n",
       "      <td>25000.0</td>\n",
       "      <td>NaN</td>\n",
       "      <td>NaN</td>\n",
       "      <td>NaN</td>\n",
       "      <td>NaN</td>\n",
       "      <td>NaN</td>\n",
       "      <td>NaN</td>\n",
       "      <td>29.65</td>\n",
       "      <td>KJFK 010251Z 34007KT 10SM FEW160 FEW250 02/M04...</td>\n",
       "      <td>NaN</td>\n",
       "    </tr>\n",
       "  </tbody>\n",
       "</table>\n",
       "<p>3 rows × 27 columns</p>\n",
       "</div>"
      ],
      "text/plain": [
       "   Unnamed: 0             valid  tmpf  dwpf   relh   drct  sknt  p01i   alti   \n",
       "0           0  2021-01-01 00:51  40.0  26.1  57.47  320.0  13.0   0.0  30.34  \\\n",
       "1           1  2021-01-01 01:51  39.0  24.1  54.77  350.0   9.0   0.0  30.35   \n",
       "2           2  2021-01-01 02:51  36.0  24.1  61.62  340.0   7.0   0.0  30.38   \n",
       "\n",
       "     mslp  ...    skyl2  skyl3 skyl4 wxcodes peak_wind_gust peak_wind_drct   \n",
       "0  1027.4  ...  15000.0    NaN   NaN     NaN            NaN            NaN  \\\n",
       "1  1027.8  ...  17000.0    NaN   NaN     NaN            NaN            NaN   \n",
       "2  1028.8  ...  25000.0    NaN   NaN     NaN            NaN            NaN   \n",
       "\n",
       "   peak_wind_time   feel                                              metar   \n",
       "0             NaN  31.69  KJFK 010051Z 32013KT 10SM FEW030 OVC150 04/M03...  \\\n",
       "1             NaN  32.22  KJFK 010151Z 35009KT 10SM FEW030 SCT170 04/M04...   \n",
       "2             NaN  29.65  KJFK 010251Z 34007KT 10SM FEW160 FEW250 02/M04...   \n",
       "\n",
       "   snowdepth  \n",
       "0        NaN  \n",
       "1        NaN  \n",
       "2        NaN  \n",
       "\n",
       "[3 rows x 27 columns]"
      ]
     },
     "execution_count": 4,
     "metadata": {},
     "output_type": "execute_result"
    }
   ],
   "source": [
    "weather.head(3)"
   ]
  },
  {
   "cell_type": "code",
   "execution_count": 5,
   "id": "14e30780",
   "metadata": {},
   "outputs": [
    {
     "data": {
      "text/plain": [
       "(9704, 27)"
      ]
     },
     "execution_count": 5,
     "metadata": {},
     "output_type": "execute_result"
    }
   ],
   "source": [
    "weather.shape"
   ]
  },
  {
   "cell_type": "code",
   "execution_count": 6,
   "id": "f17d2bd3",
   "metadata": {},
   "outputs": [
    {
     "data": {
      "text/plain": [
       "Index(['Unnamed: 0', 'valid', 'tmpf', 'dwpf', 'relh', 'drct', 'sknt', 'p01i',\n",
       "       'alti', 'mslp', 'vsby', 'gust', 'skyc1', 'skyc2', 'skyc3', 'skyc4',\n",
       "       'skyl1', 'skyl2', 'skyl3', 'skyl4', 'wxcodes', 'peak_wind_gust',\n",
       "       'peak_wind_drct', 'peak_wind_time', 'feel', 'metar', 'snowdepth'],\n",
       "      dtype='object')"
      ]
     },
     "execution_count": 6,
     "metadata": {},
     "output_type": "execute_result"
    }
   ],
   "source": [
    "weather.columns"
   ]
  },
  {
   "cell_type": "markdown",
   "id": "9fda3698",
   "metadata": {},
   "source": [
    "# 1. Data cleaning"
   ]
  },
  {
   "cell_type": "code",
   "execution_count": 7,
   "id": "08c08c56",
   "metadata": {
    "scrolled": false
   },
   "outputs": [
    {
     "data": {
      "text/plain": [
       "Unnamed: 0          int64\n",
       "valid              object\n",
       "tmpf              float64\n",
       "dwpf              float64\n",
       "relh              float64\n",
       "drct              float64\n",
       "sknt              float64\n",
       "p01i              float64\n",
       "alti              float64\n",
       "mslp              float64\n",
       "vsby              float64\n",
       "gust              float64\n",
       "skyc1              object\n",
       "skyc2              object\n",
       "skyc3              object\n",
       "skyc4              object\n",
       "skyl1             float64\n",
       "skyl2             float64\n",
       "skyl3             float64\n",
       "skyl4             float64\n",
       "wxcodes            object\n",
       "peak_wind_gust    float64\n",
       "peak_wind_drct    float64\n",
       "peak_wind_time     object\n",
       "feel              float64\n",
       "metar              object\n",
       "snowdepth         float64\n",
       "dtype: object"
      ]
     },
     "execution_count": 7,
     "metadata": {},
     "output_type": "execute_result"
    }
   ],
   "source": [
    "weather.dtypes"
   ]
  },
  {
   "cell_type": "markdown",
   "id": "07133b19",
   "metadata": {},
   "source": [
    "## 1.1 Timestamp data cleaning"
   ]
  },
  {
   "cell_type": "code",
   "execution_count": 8,
   "id": "90e4b4ea",
   "metadata": {},
   "outputs": [],
   "source": [
    "# Transforming timestamp data"
   ]
  },
  {
   "cell_type": "code",
   "execution_count": 9,
   "id": "e79a5735",
   "metadata": {},
   "outputs": [],
   "source": [
    "weather = weather.rename(columns= {'valid': 'timestamp'})\n",
    "weather['timestamp'] = pd.to_datetime(weather['timestamp'])"
   ]
  },
  {
   "cell_type": "code",
   "execution_count": 10,
   "id": "84628f18",
   "metadata": {},
   "outputs": [],
   "source": [
    "weather['date'] = weather['timestamp'].dt.date\n",
    "weather['hour'] = weather['timestamp'].dt.hour\n",
    "weather['month'] = weather['timestamp'].dt.month"
   ]
  },
  {
   "cell_type": "code",
   "execution_count": 11,
   "id": "4138cf64",
   "metadata": {},
   "outputs": [
    {
     "name": "stdout",
     "output_type": "stream",
     "text": [
      "Min:  2021-01-01 00:51:00\n",
      "Max:  2021-12-31 23:51:00\n"
     ]
    }
   ],
   "source": [
    "print(\"Min: \", weather['timestamp'].min())\n",
    "print(\"Max: \", weather['timestamp'].max())"
   ]
  },
  {
   "cell_type": "code",
   "execution_count": 12,
   "id": "7b4d1471",
   "metadata": {
    "scrolled": true
   },
   "outputs": [
    {
     "data": {
      "text/plain": [
       "(9704, 30)"
      ]
     },
     "execution_count": 12,
     "metadata": {},
     "output_type": "execute_result"
    }
   ],
   "source": [
    "weather.shape"
   ]
  },
  {
   "cell_type": "markdown",
   "id": "00095b75",
   "metadata": {},
   "source": [
    "There are 365 days in 2021 and 24 hours in each day. \n",
    "\n",
    "365 x 24 = 8760"
   ]
  },
  {
   "cell_type": "code",
   "execution_count": 13,
   "id": "52c8e081",
   "metadata": {},
   "outputs": [],
   "source": [
    "weather = weather.drop_duplicates(subset=['date', 'hour'], keep='last')"
   ]
  },
  {
   "cell_type": "code",
   "execution_count": 14,
   "id": "5105311d",
   "metadata": {},
   "outputs": [
    {
     "data": {
      "text/plain": [
       "(8756, 30)"
      ]
     },
     "execution_count": 14,
     "metadata": {},
     "output_type": "execute_result"
    }
   ],
   "source": [
    "weather.shape"
   ]
  },
  {
   "cell_type": "markdown",
   "id": "15534ace",
   "metadata": {},
   "source": [
    "4 values are missing"
   ]
  },
  {
   "cell_type": "code",
   "execution_count": 15,
   "id": "2008de49",
   "metadata": {},
   "outputs": [
    {
     "data": {
      "text/plain": [
       "date\n",
       "2021-01-01    24\n",
       "2021-09-09    24\n",
       "2021-09-06    24\n",
       "2021-09-05    24\n",
       "2021-09-04    24\n",
       "              ..\n",
       "2021-04-27    24\n",
       "2021-09-07    23\n",
       "2021-03-20    23\n",
       "2021-03-30    23\n",
       "2021-01-26    23\n",
       "Name: count, Length: 365, dtype: int64"
      ]
     },
     "execution_count": 15,
     "metadata": {},
     "output_type": "execute_result"
    }
   ],
   "source": [
    "weather['date'].value_counts()"
   ]
  },
  {
   "cell_type": "code",
   "execution_count": 16,
   "id": "c196c6f2",
   "metadata": {},
   "outputs": [],
   "source": [
    "def find_missing_hour(date):\n",
    "    df = weather[weather['date'] == datetime.strptime(date, \"%Y-%m-%d\").date()]['hour']\n",
    "    for i,h in zip(df, range(24)):\n",
    "        if i!=h:\n",
    "            return (f\"{date}: {h}\")"
   ]
  },
  {
   "cell_type": "code",
   "execution_count": 17,
   "id": "df452eac",
   "metadata": {},
   "outputs": [
    {
     "name": "stdout",
     "output_type": "stream",
     "text": [
      "2021-09-07: 14\n",
      "2021-03-20: 6\n",
      "2021-03-30: 4\n",
      "2021-01-26: 3\n"
     ]
    }
   ],
   "source": [
    "print(find_missing_hour('2021-09-07'))\n",
    "print(find_missing_hour('2021-03-20'))\n",
    "print(find_missing_hour('2021-03-30'))\n",
    "print(find_missing_hour('2021-01-26'))"
   ]
  },
  {
   "cell_type": "markdown",
   "id": "398e7e1e",
   "metadata": {},
   "source": [
    "replacing missing hours with previous hour data"
   ]
  },
  {
   "cell_type": "code",
   "execution_count": 18,
   "id": "1b265791",
   "metadata": {},
   "outputs": [],
   "source": [
    "missing_hours = [('2021-09-07', '14'), ('2021-03-20', '6'), ('2021-03-30', '4'), ('2021-01-26','3')]"
   ]
  },
  {
   "cell_type": "code",
   "execution_count": 19,
   "id": "fd90250e",
   "metadata": {},
   "outputs": [
    {
     "name": "stderr",
     "output_type": "stream",
     "text": [
      "/var/folders/m7/67q29b3s6rd557f6xm37t3m00000gn/T/ipykernel_83006/1568892475.py:4: SettingWithCopyWarning: \n",
      "A value is trying to be set on a copy of a slice from a DataFrame.\n",
      "Try using .loc[row_indexer,col_indexer] = value instead\n",
      "\n",
      "See the caveats in the documentation: https://pandas.pydata.org/pandas-docs/stable/user_guide/indexing.html#returning-a-view-versus-a-copy\n",
      "  df2['hour'] = df2['hour'].replace(int(value[1])-1, value[1])\n"
     ]
    }
   ],
   "source": [
    "for value in missing_hours:\n",
    "    df2 = weather[(weather['date'] == datetime.strptime(value[0], \"%Y-%m-%d\").date()) &\n",
    "                    (weather['hour']==int(value[1])-1)]\n",
    "    df2['hour'] = df2['hour'].replace(int(value[1])-1, value[1])\n",
    "    weather = pd.concat([weather, df2])"
   ]
  },
  {
   "cell_type": "code",
   "execution_count": 20,
   "id": "899c5b99",
   "metadata": {},
   "outputs": [],
   "source": [
    "weather['hour'] = weather['hour'].astype(int)"
   ]
  },
  {
   "cell_type": "code",
   "execution_count": 21,
   "id": "17fb753d",
   "metadata": {
    "scrolled": true
   },
   "outputs": [
    {
     "data": {
      "text/plain": [
       "(8760, 30)"
      ]
     },
     "execution_count": 21,
     "metadata": {},
     "output_type": "execute_result"
    }
   ],
   "source": [
    "weather.shape"
   ]
  },
  {
   "cell_type": "code",
   "execution_count": 22,
   "id": "81b2c64c",
   "metadata": {},
   "outputs": [],
   "source": [
    "weather = weather.sort_values(by='timestamp', ignore_index=True)"
   ]
  },
  {
   "cell_type": "markdown",
   "id": "9a59e6ce",
   "metadata": {},
   "source": [
    "## 1.2 Object data cleaning"
   ]
  },
  {
   "cell_type": "code",
   "execution_count": 23,
   "id": "69776fce",
   "metadata": {},
   "outputs": [],
   "source": [
    "obj_cols = weather.select_dtypes('object').columns"
   ]
  },
  {
   "cell_type": "code",
   "execution_count": 24,
   "id": "3807ae11",
   "metadata": {},
   "outputs": [
    {
     "data": {
      "text/plain": [
       "skyc1                1\n",
       "skyc2             3381\n",
       "skyc3             6330\n",
       "skyc4             8152\n",
       "wxcodes           7721\n",
       "peak_wind_time    7862\n",
       "metar                0\n",
       "date                 0\n",
       "dtype: int64"
      ]
     },
     "execution_count": 24,
     "metadata": {},
     "output_type": "execute_result"
    }
   ],
   "source": [
    "weather[obj_cols].isnull().sum()"
   ]
  },
  {
   "cell_type": "code",
   "execution_count": 25,
   "id": "7820e52f",
   "metadata": {},
   "outputs": [
    {
     "name": "stdout",
     "output_type": "stream",
     "text": [
      "skyc1\n",
      "FEW    4266\n",
      "BKN    1657\n",
      "SCT    1503\n",
      "OVC     845\n",
      "CLR     449\n",
      "VV       39\n",
      "Name: count, dtype: int64\n",
      "skyc2\n",
      "BKN    2256\n",
      "SCT    1312\n",
      "FEW     940\n",
      "OVC     871\n",
      "Name: count, dtype: int64\n",
      "skyc3\n",
      "BKN    1347\n",
      "OVC     628\n",
      "SCT     376\n",
      "FEW      79\n",
      "Name: count, dtype: int64\n",
      "skyc4\n",
      "BKN    450\n",
      "OVC    120\n",
      "SCT     37\n",
      "FEW      1\n",
      "Name: count, dtype: int64\n",
      "wxcodes\n",
      "-RA              309\n",
      "BR               198\n",
      "-RA BR           141\n",
      "RA BR             63\n",
      "-DZ BR            58\n",
      "-SN BR            50\n",
      "-SN               37\n",
      "HZ                29\n",
      "FG                24\n",
      "-TSRA             17\n",
      "-FZDZ BR          13\n",
      "+RA BR            12\n",
      "RA                10\n",
      "TS                 6\n",
      "-SNPL BLSN BR      5\n",
      "VCTS               4\n",
      "TSRA BR            4\n",
      "SN FG              4\n",
      "-RA FG             4\n",
      "-FZDZ              4\n",
      "-RASN              4\n",
      "-SNRA BR           3\n",
      "-TSRA BR           3\n",
      "+TSRA BR           3\n",
      "-DZ                3\n",
      "SN BLSN FZFG       2\n",
      "-FZRA BR           2\n",
      "+RA                2\n",
      "MIFG               2\n",
      "-FZRA              2\n",
      "-SN BLSN BR        2\n",
      "VCTS -RA           2\n",
      "MIFG BR            1\n",
      "-SNRA              1\n",
      "VCTS -RA BR        1\n",
      "+TSRA              1\n",
      "VCTS RA BR         1\n",
      "SN FZFG            1\n",
      "VCFG               1\n",
      "+SN BLSN FZFG      1\n",
      "+SN FG             1\n",
      "-SNPL BR           1\n",
      "-FZRAPL            1\n",
      "-SNPL              1\n",
      "-RASN BR           1\n",
      "-FZDZSN BR         1\n",
      "-FZRAPL BR         1\n",
      "-PLSN BR           1\n",
      "-DZ FG             1\n",
      "Name: count, dtype: int64\n",
      "peak_wind_time\n",
      "2021-05-29 07:56    2\n",
      "2021-09-23 23:53    2\n",
      "2021-07-06 22:52    2\n",
      "2021-01-02 07:52    1\n",
      "2021-08-23 12:07    1\n",
      "                   ..\n",
      "2021-03-15 10:21    1\n",
      "2021-03-15 10:52    1\n",
      "2021-03-15 12:17    1\n",
      "2021-03-15 13:48    1\n",
      "2021-12-27 03:06    1\n",
      "Name: count, Length: 895, dtype: int64\n",
      "metar\n",
      "KJFK 071351Z 29005KT 10SM CLR 24/12 A3000 RMK AO2 SLP159 T02390122                                                            2\n",
      "KJFK 200551Z 35006KT 10SM CLR 01/M12 A3048 RMK AO2 SLP322 T00061117 10039 20006 53018                                         2\n",
      "KJFK 300351Z 03003KT 10SM CLR 07/M05 A3031 RMK AO2 SLP262 T00671050                                                           2\n",
      "KJFK 260251Z 01008KT 10SM OVC170 01/M10 A3010 RMK AO2 SLP192 T00061100 56000                                                  2\n",
      "KJFK 011151Z 03007KT 8SM -RA FEW017 FEW065 OVC110 22/21 A2981 RMK AO2 SLP096 P0002 60003 70003 T02220206 10256 20222 50007    1\n",
      "                                                                                                                             ..\n",
      "KJFK 021451Z 24016KT 10SM -RA FEW038 BKN110 BKN250 17/06 A2977 RMK AO2 RAB41 SLP081 P0000 60000 T01720061 58010 $             1\n",
      "KJFK 021351Z 23014KT 10SM FEW090 BKN170 BKN250 18/06 A2978 RMK AO2 SLP084 T01830056 $                                         1\n",
      "KJFK 021251Z 24010KT 10SM FEW060 SCT090 BKN160 BKN250 16/05 A2980 RMK AO2 SLP089 T01610050 $                                  1\n",
      "KJFK 021151Z 24012KT 10SM BKN095 BKN250 15/04 A2980 RMK AO2 SLP091 T01500039 10156 20111 50002 $                              1\n",
      "KJFK 312351Z 20006KT 1SM R04R/P6000FT BR BKN004 OVC015 09/09 A2997 RMK AO2 SFC VIS 5 SLP149 T00940089 10100 20089 53008       1\n",
      "Name: count, Length: 8756, dtype: int64\n",
      "date\n",
      "2021-01-01    24\n",
      "2021-09-09    24\n",
      "2021-09-07    24\n",
      "2021-09-06    24\n",
      "2021-09-05    24\n",
      "              ..\n",
      "2021-05-01    24\n",
      "2021-04-30    24\n",
      "2021-04-29    24\n",
      "2021-04-28    24\n",
      "2021-12-31    24\n",
      "Name: count, Length: 365, dtype: int64\n"
     ]
    }
   ],
   "source": [
    "for col in obj_cols:\n",
    "    print(weather[col].value_counts())"
   ]
  },
  {
   "cell_type": "markdown",
   "id": "8efb17c5",
   "metadata": {},
   "source": [
    "### 1.2.1 Dropping columns"
   ]
  },
  {
   "cell_type": "markdown",
   "id": "11185fc9",
   "metadata": {},
   "source": [
    "metar column contains the row information in metar format\n",
    "\n",
    "Unnamed: 0 is an irrelevant column"
   ]
  },
  {
   "cell_type": "code",
   "execution_count": 26,
   "id": "831fa2eb",
   "metadata": {},
   "outputs": [],
   "source": [
    "weather = weather.drop(columns=['metar', 'Unnamed: 0'])"
   ]
  },
  {
   "cell_type": "markdown",
   "id": "db7e0bf1",
   "metadata": {},
   "source": [
    "### 1.2.2 Renaming columns and changing data type"
   ]
  },
  {
   "cell_type": "code",
   "execution_count": 27,
   "id": "4f08096a",
   "metadata": {},
   "outputs": [],
   "source": [
    "weather = weather.rename(columns= {'wxcodes': 'weather_codes'})"
   ]
  },
  {
   "cell_type": "code",
   "execution_count": null,
   "id": "9ea87dc1",
   "metadata": {},
   "outputs": [],
   "source": []
  },
  {
   "cell_type": "markdown",
   "id": "9d5b729a",
   "metadata": {},
   "source": [
    "### 1.2.3 Handling null values"
   ]
  },
  {
   "cell_type": "markdown",
   "id": "1ffc8543",
   "metadata": {},
   "source": [
    "**'skyc1', 'skyc2', 'skyc3', 'skyc4'**"
   ]
  },
  {
   "cell_type": "code",
   "execution_count": 28,
   "id": "b0018b65",
   "metadata": {},
   "outputs": [],
   "source": [
    "weather = weather.sort_values('timestamp')"
   ]
  },
  {
   "cell_type": "code",
   "execution_count": 29,
   "id": "fcc8a54a",
   "metadata": {},
   "outputs": [],
   "source": [
    "# filling null values with previous sky coverage state. Limit = 3\n",
    "weather[['skyc1', 'skyc2', 'skyc3', 'skyc4']] = weather[['skyc1', 'skyc2', 'skyc3', 'skyc4']].fillna(method='ffill', limit=3)"
   ]
  },
  {
   "cell_type": "code",
   "execution_count": 30,
   "id": "469f723a",
   "metadata": {},
   "outputs": [],
   "source": [
    "# filling remaining null values with next sky coverage state. Limit = 2\n",
    "weather[['skyc1', 'skyc2', 'skyc3', 'skyc4']] = weather[['skyc1', 'skyc2', 'skyc3', 'skyc4']].fillna(method='bfill', limit=2)"
   ]
  },
  {
   "cell_type": "markdown",
   "id": "c5857091",
   "metadata": {},
   "source": [
    "**peak_wind_time**"
   ]
  },
  {
   "cell_type": "markdown",
   "id": "93330030",
   "metadata": {},
   "source": [
    "Since we already have timestamp there is no need to have it for peak_wind_time"
   ]
  },
  {
   "cell_type": "code",
   "execution_count": 31,
   "id": "ba9aeacb",
   "metadata": {},
   "outputs": [],
   "source": [
    "weather['peak_wind_time'] = weather['peak_wind_time'].notnull().astype(int)"
   ]
  },
  {
   "cell_type": "code",
   "execution_count": 32,
   "id": "eac02972",
   "metadata": {},
   "outputs": [
    {
     "data": {
      "text/plain": [
       "peak_wind_time\n",
       "0    7862\n",
       "1     898\n",
       "Name: count, dtype: int64"
      ]
     },
     "execution_count": 32,
     "metadata": {},
     "output_type": "execute_result"
    }
   ],
   "source": [
    "weather['peak_wind_time'].value_counts()"
   ]
  },
  {
   "cell_type": "markdown",
   "id": "1353e848",
   "metadata": {},
   "source": [
    "**weather_codes**"
   ]
  },
  {
   "cell_type": "code",
   "execution_count": 33,
   "id": "a6aed72c",
   "metadata": {},
   "outputs": [],
   "source": [
    "weather['weather_codes'] = weather['weather_codes'].fillna(method='ffill', limit = 1).fillna(method='bfill', limit=1)"
   ]
  },
  {
   "cell_type": "markdown",
   "id": "df8ae869",
   "metadata": {},
   "source": [
    "**Checking results**"
   ]
  },
  {
   "cell_type": "code",
   "execution_count": 34,
   "id": "b0ea4d4e",
   "metadata": {},
   "outputs": [
    {
     "data": {
      "text/plain": [
       "skyc1                0\n",
       "skyc2             1483\n",
       "skyc3             4092\n",
       "skyc4             7037\n",
       "peak_wind_time       0\n",
       "weather_codes     7232\n",
       "dtype: int64"
      ]
     },
     "execution_count": 34,
     "metadata": {},
     "output_type": "execute_result"
    }
   ],
   "source": [
    "weather[['skyc1', 'skyc2', 'skyc3', 'skyc4', 'peak_wind_time', 'weather_codes']].isnull().sum()"
   ]
  },
  {
   "cell_type": "markdown",
   "id": "a3fd2abb",
   "metadata": {},
   "source": [
    "weather codes don't have clear sky as one of the codes. therefore replacing null values with CLR"
   ]
  },
  {
   "cell_type": "code",
   "execution_count": 35,
   "id": "a025aae8",
   "metadata": {},
   "outputs": [],
   "source": [
    "weather['weather_codes'] = weather['weather_codes'].fillna('CLR')"
   ]
  },
  {
   "cell_type": "markdown",
   "id": "7c78c330",
   "metadata": {},
   "source": [
    "For skyc2 and skyc3 finding spearman correlation. skyc4 will be dropped."
   ]
  },
  {
   "cell_type": "code",
   "execution_count": 36,
   "id": "f8750af7",
   "metadata": {},
   "outputs": [],
   "source": [
    "weather = weather.drop(columns='skyc4')"
   ]
  },
  {
   "cell_type": "markdown",
   "id": "bec30bcb",
   "metadata": {},
   "source": [
    "CLR (Clear): No clouds, clear sky.\n",
    "\n",
    "FEW (Few clouds): Small portion of the sky covered by clouds.\n",
    "\n",
    "SCT (Scattered clouds): Clouds dispersed, covering a portion of the sky.\n",
    "\n",
    "BKN (Broken clouds): Significant cloud cover with breaks or open spaces.\n",
    "\n",
    "OVC (Overcast): Entire sky covered with clouds, no breaks.\n",
    "\n",
    "VV (Vertical visibility): Indicates the height of the cloud base, not directly comparable to the others."
   ]
  },
  {
   "cell_type": "code",
   "execution_count": 37,
   "id": "e17dce1f",
   "metadata": {},
   "outputs": [],
   "source": [
    "ranks = {'CLR': 1, 'FEW': 2, 'SCT': 3, 'BKN': 4, 'OVC': 5, 'VV ': 6}"
   ]
  },
  {
   "cell_type": "code",
   "execution_count": 38,
   "id": "61b751a6",
   "metadata": {},
   "outputs": [],
   "source": [
    "skyc = weather[['skyc1', 'skyc2', 'skyc3']].dropna().replace(ranks)"
   ]
  },
  {
   "cell_type": "code",
   "execution_count": 39,
   "id": "63c9f2cc",
   "metadata": {},
   "outputs": [
    {
     "data": {
      "text/plain": [
       "skyc1\n",
       "2    2434\n",
       "4    1013\n",
       "3     931\n",
       "5     259\n",
       "6      16\n",
       "1      15\n",
       "Name: count, dtype: int64"
      ]
     },
     "execution_count": 39,
     "metadata": {},
     "output_type": "execute_result"
    }
   ],
   "source": [
    "skyc['skyc1'].value_counts()"
   ]
  },
  {
   "cell_type": "code",
   "execution_count": 40,
   "id": "eafb9581",
   "metadata": {},
   "outputs": [
    {
     "name": "stdout",
     "output_type": "stream",
     "text": [
      "Spearman correlation coefficient: 0.5070310637718476\n",
      "P-value: 1.85892898203117e-303\n"
     ]
    }
   ],
   "source": [
    "correlation, p_value = spearmanr(skyc['skyc1'], skyc['skyc2'])\n",
    "\n",
    "print(f\"Spearman correlation coefficient: {correlation}\")\n",
    "print(f\"P-value: {p_value}\")"
   ]
  },
  {
   "cell_type": "code",
   "execution_count": 41,
   "id": "8c2808b8",
   "metadata": {},
   "outputs": [
    {
     "name": "stdout",
     "output_type": "stream",
     "text": [
      "Spearman correlation coefficient: 0.3472791755739815\n",
      "P-value: 2.041025029102612e-132\n"
     ]
    }
   ],
   "source": [
    "correlation, p_value = spearmanr(skyc['skyc1'], skyc['skyc3'])\n",
    "\n",
    "print(f\"Spearman correlation coefficient: {correlation}\")\n",
    "print(f\"P-value: {p_value}\")"
   ]
  },
  {
   "cell_type": "code",
   "execution_count": 42,
   "id": "adc0cefd",
   "metadata": {},
   "outputs": [
    {
     "name": "stdout",
     "output_type": "stream",
     "text": [
      "Spearman correlation coefficient: 0.5841902428087236\n",
      "P-value: 0.0\n"
     ]
    }
   ],
   "source": [
    "correlation, p_value = spearmanr(skyc['skyc2'], skyc['skyc3'])\n",
    "\n",
    "print(f\"Spearman correlation coefficient: {correlation}\")\n",
    "print(f\"P-value: {p_value}\")"
   ]
  },
  {
   "cell_type": "code",
   "execution_count": null,
   "id": "ceee05e1",
   "metadata": {},
   "outputs": [],
   "source": []
  },
  {
   "cell_type": "markdown",
   "id": "9303babf",
   "metadata": {},
   "source": [
    "## 1.3 Numeric data cleaning"
   ]
  },
  {
   "cell_type": "code",
   "execution_count": 43,
   "id": "9c7137d4",
   "metadata": {},
   "outputs": [],
   "source": [
    "float_cols = weather.select_dtypes('float64').columns"
   ]
  },
  {
   "cell_type": "code",
   "execution_count": 44,
   "id": "eeafa21d",
   "metadata": {},
   "outputs": [
    {
     "data": {
      "text/plain": [
       "18"
      ]
     },
     "execution_count": 44,
     "metadata": {},
     "output_type": "execute_result"
    }
   ],
   "source": [
    "len(float_cols)"
   ]
  },
  {
   "cell_type": "code",
   "execution_count": 45,
   "id": "b6870068",
   "metadata": {},
   "outputs": [
    {
     "data": {
      "text/plain": [
       "tmpf                 0\n",
       "dwpf                 0\n",
       "relh                 0\n",
       "drct                62\n",
       "sknt                 1\n",
       "p01i               567\n",
       "alti                 0\n",
       "mslp                46\n",
       "vsby                 1\n",
       "gust              7555\n",
       "skyl1              450\n",
       "skyl2             3381\n",
       "skyl3             6330\n",
       "skyl4             8152\n",
       "peak_wind_gust    7862\n",
       "peak_wind_drct    7862\n",
       "feel                 0\n",
       "snowdepth         8666\n",
       "dtype: int64"
      ]
     },
     "execution_count": 45,
     "metadata": {},
     "output_type": "execute_result"
    }
   ],
   "source": [
    "weather[float_cols].isnull().sum()"
   ]
  },
  {
   "cell_type": "markdown",
   "id": "7a1005d3",
   "metadata": {},
   "source": [
    "### 1.3.1 Dropping columns"
   ]
  },
  {
   "cell_type": "code",
   "execution_count": 46,
   "id": "b3b97031",
   "metadata": {},
   "outputs": [],
   "source": [
    "# Highly correlated columns\n",
    "def correlation(dataset, threshold):\n",
    "    col_corr = set()\n",
    "    corr_matrix = dataset.corr()\n",
    "    for i in range(len(corr_matrix.columns)):\n",
    "        for j in range(i):\n",
    "            if abs(corr_matrix.iloc[i, j]) > threshold:\n",
    "                colname = corr_matrix.columns[i]\n",
    "                colname2 = corr_matrix.columns[j]\n",
    "                col_corr. add (colname)\n",
    "                col_corr. add (colname2)\n",
    "                \n",
    "    return col_corr"
   ]
  },
  {
   "cell_type": "code",
   "execution_count": 47,
   "id": "2831bd99",
   "metadata": {},
   "outputs": [],
   "source": [
    "corr_cols = correlation(weather[float_cols], 0.8)"
   ]
  },
  {
   "cell_type": "code",
   "execution_count": 48,
   "id": "f6453ae6",
   "metadata": {
    "scrolled": false
   },
   "outputs": [
    {
     "data": {
      "image/png": "[encoded data removed]",
      "text/plain": [
       "<Figure size 640x480 with 2 Axes>"
      ]
     },
     "metadata": {},
     "output_type": "display_data"
    }
   ],
   "source": [
    "dataplot = sns.heatmap(weather[list(corr_cols)].corr(), cmap=\"YlGnBu\", annot=True) \n",
    "plt.show() "
   ]
  },
  {
   "cell_type": "markdown",
   "id": "1c32cd98",
   "metadata": {},
   "source": [
    "Removing highly correlated columns and keeping columns with less missing values"
   ]
  },
  {
   "cell_type": "code",
   "execution_count": 49,
   "id": "e54463bf",
   "metadata": {},
   "outputs": [],
   "source": [
    "weather = weather.drop(columns=['peak_wind_drct', 'dwpf', 'dwpf', 'tmpf', 'gust', 'mslp'])"
   ]
  },
  {
   "cell_type": "markdown",
   "id": "162e3bda",
   "metadata": {},
   "source": [
    "### 1.3.2 Renaming columns"
   ]
  },
  {
   "cell_type": "markdown",
   "id": "3b46f317",
   "metadata": {},
   "source": [
    "Renaming columns for better understanding"
   ]
  },
  {
   "cell_type": "code",
   "execution_count": 50,
   "id": "b09392de",
   "metadata": {
    "scrolled": true
   },
   "outputs": [
    {
     "data": {
      "text/plain": [
       "Index(['relh', 'drct', 'sknt', 'p01i', 'alti', 'vsby', 'skyl1', 'skyl2',\n",
       "       'skyl3', 'skyl4', 'peak_wind_gust', 'feel', 'snowdepth'],\n",
       "      dtype='object')"
      ]
     },
     "execution_count": 50,
     "metadata": {},
     "output_type": "execute_result"
    }
   ],
   "source": [
    "weather.select_dtypes('float64').columns"
   ]
  },
  {
   "cell_type": "markdown",
   "id": "29b58626",
   "metadata": {},
   "source": [
    "**relh**: Relative Humidity in %\n",
    "\n",
    "**drct**: Wind Direction in degrees from *true* north\n",
    "\n",
    "**sknt**: Wind Speed in knots\n",
    "\n",
    "**p01i**: One hour precipitation rate\n",
    "\n",
    "**alti**: Pressure altimeter in inches\n",
    "\n",
    "**vsby**: Visibility in miles"
   ]
  },
  {
   "cell_type": "code",
   "execution_count": 51,
   "id": "0925f267",
   "metadata": {},
   "outputs": [],
   "source": [
    "rename_cols = {'relh': 'humidity', 'drct': 'wind_direction', 'sknt': 'wind_speed', 'p01i': 'precipitation', \n",
    "               'alti': 'pressure', 'vsby': 'visibility'}"
   ]
  },
  {
   "cell_type": "code",
   "execution_count": 52,
   "id": "0401d42a",
   "metadata": {},
   "outputs": [],
   "source": [
    "weather = weather.rename(columns=rename_cols)"
   ]
  },
  {
   "cell_type": "markdown",
   "id": "76ed63e7",
   "metadata": {},
   "source": [
    "### 1.3.3 Handling missing values"
   ]
  },
  {
   "cell_type": "code",
   "execution_count": 53,
   "id": "2b035595",
   "metadata": {},
   "outputs": [],
   "source": [
    "# columns with low missing values\n",
    "low_miss_col = ['wind_direction', 'wind_speed', 'visibility']"
   ]
  },
  {
   "cell_type": "code",
   "execution_count": 54,
   "id": "9fa1b3b9",
   "metadata": {},
   "outputs": [],
   "source": [
    "weather[low_miss_col] = weather[low_miss_col].fillna(method='ffill')"
   ]
  },
  {
   "cell_type": "code",
   "execution_count": 55,
   "id": "b51a0fe8",
   "metadata": {},
   "outputs": [],
   "source": [
    "# Sky altitudes"
   ]
  },
  {
   "cell_type": "code",
   "execution_count": 56,
   "id": "ddc8f7ac",
   "metadata": {},
   "outputs": [
    {
     "data": {
      "text/plain": [
       "skyl1     450\n",
       "skyl2    3381\n",
       "skyl3    6330\n",
       "skyl4    8152\n",
       "dtype: int64"
      ]
     },
     "execution_count": 56,
     "metadata": {},
     "output_type": "execute_result"
    }
   ],
   "source": [
    "weather[['skyl1', 'skyl2', 'skyl3', 'skyl4']].isnull().sum()"
   ]
  },
  {
   "cell_type": "code",
   "execution_count": 57,
   "id": "164f3f43",
   "metadata": {},
   "outputs": [],
   "source": [
    "weather = weather.drop(columns='skyl4')"
   ]
  },
  {
   "cell_type": "code",
   "execution_count": 58,
   "id": "29a74009",
   "metadata": {},
   "outputs": [],
   "source": [
    "weather['skyl1'] = weather['skyl1'].fillna(method='ffill', limit = 2).fillna(method='bfill', limit=2)\n",
    "weather['skyl2'] = weather['skyl2'].fillna(method='ffill', limit = 2).fillna(method='bfill', limit=2)\n",
    "weather['skyl3'] = weather['skyl3'].fillna(method='ffill', limit = 2).fillna(method='bfill', limit=2)"
   ]
  },
  {
   "cell_type": "code",
   "execution_count": 59,
   "id": "b2d7cfb6",
   "metadata": {},
   "outputs": [],
   "source": [
    "sky = weather[['skyl1', 'skyl2', 'skyl3']]"
   ]
  },
  {
   "cell_type": "code",
   "execution_count": 60,
   "id": "035ea831",
   "metadata": {},
   "outputs": [
    {
     "name": "stderr",
     "output_type": "stream",
     "text": [
      "/var/folders/m7/67q29b3s6rd557f6xm37t3m00000gn/T/ipykernel_83006/799339051.py:1: SettingWithCopyWarning: \n",
      "A value is trying to be set on a copy of a slice from a DataFrame.\n",
      "Try using .loc[row_indexer,col_indexer] = value instead\n",
      "\n",
      "See the caveats in the documentation: https://pandas.pydata.org/pandas-docs/stable/user_guide/indexing.html#returning-a-view-versus-a-copy\n",
      "  sky['avg_skyl'] = sky[['skyl1', 'skyl2', 'skyl3']].mean(axis=1)\n"
     ]
    }
   ],
   "source": [
    "sky['avg_skyl'] = sky[['skyl1', 'skyl2', 'skyl3']].mean(axis=1)"
   ]
  },
  {
   "cell_type": "code",
   "execution_count": 61,
   "id": "b3ffde57",
   "metadata": {},
   "outputs": [
    {
     "data": {
      "image/png": "[encoded data removed]",
      "text/plain": [
       "<Figure size 640x480 with 2 Axes>"
      ]
     },
     "metadata": {},
     "output_type": "display_data"
    }
   ],
   "source": [
    "dataplot = sns.heatmap(sky.corr(), cmap=\"YlGnBu\", annot=True) \n",
    "plt.show()"
   ]
  },
  {
   "cell_type": "markdown",
   "id": "2e4793c2",
   "metadata": {},
   "source": [
    " Combining and taking average of sky level altitude"
   ]
  },
  {
   "cell_type": "code",
   "execution_count": 62,
   "id": "8b08917f",
   "metadata": {},
   "outputs": [],
   "source": [
    "weather['avg_skyl'] = weather[['skyl1', 'skyl2', 'skyl3']].mean(axis=1)\n",
    "weather = weather.drop(columns=['skyl1', 'skyl2', 'skyl3'])"
   ]
  },
  {
   "cell_type": "code",
   "execution_count": 63,
   "id": "05767647",
   "metadata": {},
   "outputs": [],
   "source": [
    "float_cols = weather.select_dtypes('float64').columns"
   ]
  },
  {
   "cell_type": "code",
   "execution_count": 64,
   "id": "c8e154f4",
   "metadata": {},
   "outputs": [
    {
     "data": {
      "text/plain": [
       "set()"
      ]
     },
     "execution_count": 64,
     "metadata": {},
     "output_type": "execute_result"
    }
   ],
   "source": [
    "# checking for any other high correlated variables\n",
    "correlation(weather[float_cols], 0.7)"
   ]
  },
  {
   "cell_type": "code",
   "execution_count": 65,
   "id": "8d172824",
   "metadata": {},
   "outputs": [
    {
     "data": {
      "text/plain": [
       "humidity             0\n",
       "wind_direction       0\n",
       "wind_speed           0\n",
       "precipitation      567\n",
       "pressure             0\n",
       "visibility           0\n",
       "peak_wind_gust    7862\n",
       "feel                 0\n",
       "snowdepth         8666\n",
       "avg_skyl           174\n",
       "dtype: int64"
      ]
     },
     "execution_count": 65,
     "metadata": {},
     "output_type": "execute_result"
    }
   ],
   "source": [
    "weather[float_cols].isnull().sum()"
   ]
  },
  {
   "cell_type": "code",
   "execution_count": 66,
   "id": "94ae519c",
   "metadata": {},
   "outputs": [
    {
     "data": {
      "text/html": [
       "<div>\n",
       "<style scoped>\n",
       "    .dataframe tbody tr th:only-of-type {\n",
       "        vertical-align: middle;\n",
       "    }\n",
       "\n",
       "    .dataframe tbody tr th {\n",
       "        vertical-align: top;\n",
       "    }\n",
       "\n",
       "    .dataframe thead th {\n",
       "        text-align: right;\n",
       "    }\n",
       "</style>\n",
       "<table border=\"1\" class=\"dataframe\">\n",
       "  <thead>\n",
       "    <tr style=\"text-align: right;\">\n",
       "      <th></th>\n",
       "      <th>precipitation</th>\n",
       "      <th>peak_wind_gust</th>\n",
       "      <th>snowdepth</th>\n",
       "      <th>avg_skyl</th>\n",
       "    </tr>\n",
       "  </thead>\n",
       "  <tbody>\n",
       "    <tr>\n",
       "      <th>count</th>\n",
       "      <td>8193.000000</td>\n",
       "      <td>898.000000</td>\n",
       "      <td>94.000000</td>\n",
       "      <td>8586.000000</td>\n",
       "    </tr>\n",
       "    <tr>\n",
       "      <th>mean</th>\n",
       "      <td>0.004995</td>\n",
       "      <td>30.364143</td>\n",
       "      <td>6.787234</td>\n",
       "      <td>12594.871496</td>\n",
       "    </tr>\n",
       "    <tr>\n",
       "      <th>std</th>\n",
       "      <td>0.032845</td>\n",
       "      <td>4.266214</td>\n",
       "      <td>3.441906</td>\n",
       "      <td>7731.362204</td>\n",
       "    </tr>\n",
       "    <tr>\n",
       "      <th>min</th>\n",
       "      <td>0.000000</td>\n",
       "      <td>26.000000</td>\n",
       "      <td>1.000000</td>\n",
       "      <td>100.000000</td>\n",
       "    </tr>\n",
       "    <tr>\n",
       "      <th>25%</th>\n",
       "      <td>0.000000</td>\n",
       "      <td>27.000000</td>\n",
       "      <td>4.250000</td>\n",
       "      <td>5500.000000</td>\n",
       "    </tr>\n",
       "    <tr>\n",
       "      <th>50%</th>\n",
       "      <td>0.000000</td>\n",
       "      <td>29.000000</td>\n",
       "      <td>7.000000</td>\n",
       "      <td>12566.666667</td>\n",
       "    </tr>\n",
       "    <tr>\n",
       "      <th>75%</th>\n",
       "      <td>0.000000</td>\n",
       "      <td>32.000000</td>\n",
       "      <td>9.000000</td>\n",
       "      <td>18500.000000</td>\n",
       "    </tr>\n",
       "    <tr>\n",
       "      <th>max</th>\n",
       "      <td>0.860000</td>\n",
       "      <td>48.000000</td>\n",
       "      <td>13.000000</td>\n",
       "      <td>31333.333333</td>\n",
       "    </tr>\n",
       "  </tbody>\n",
       "</table>\n",
       "</div>"
      ],
      "text/plain": [
       "       precipitation  peak_wind_gust  snowdepth      avg_skyl\n",
       "count    8193.000000      898.000000  94.000000   8586.000000\n",
       "mean        0.004995       30.364143   6.787234  12594.871496\n",
       "std         0.032845        4.266214   3.441906   7731.362204\n",
       "min         0.000000       26.000000   1.000000    100.000000\n",
       "25%         0.000000       27.000000   4.250000   5500.000000\n",
       "50%         0.000000       29.000000   7.000000  12566.666667\n",
       "75%         0.000000       32.000000   9.000000  18500.000000\n",
       "max         0.860000       48.000000  13.000000  31333.333333"
      ]
     },
     "execution_count": 66,
     "metadata": {},
     "output_type": "execute_result"
    }
   ],
   "source": [
    "weather[['precipitation', 'peak_wind_gust', 'snowdepth', 'avg_skyl']].describe()"
   ]
  },
  {
   "cell_type": "markdown",
   "id": "3b4ad16a",
   "metadata": {},
   "source": [
    "**snowdepth** has min value of 1 which indicates that all null values are 0. i.e there was no snow."
   ]
  },
  {
   "cell_type": "code",
   "execution_count": 67,
   "id": "6e441b1b",
   "metadata": {},
   "outputs": [],
   "source": [
    "weather['snowdepth'] = weather['snowdepth'].fillna(0)"
   ]
  },
  {
   "cell_type": "markdown",
   "id": "a30f5c3b",
   "metadata": {},
   "source": [
    "**peak_wind_gust** : According to the National Weather Service (NWS), in U.S., a gust of wind last less than 20 seconds. Such a short duration is not very effective parameter as a feature for our ML. Also we already have wind speed parameter which has no null values and takes average speed for the entire hour."
   ]
  },
  {
   "cell_type": "code",
   "execution_count": 68,
   "id": "30f5dec3",
   "metadata": {},
   "outputs": [],
   "source": [
    "weather = weather.drop(columns='peak_wind_gust')\n",
    "weather = weather.drop(columns='peak_wind_time')"
   ]
  },
  {
   "cell_type": "markdown",
   "id": "d7c0bba8",
   "metadata": {},
   "source": [
    "**precipitation**: Filling missing values with previous hour values and others with zero"
   ]
  },
  {
   "cell_type": "code",
   "execution_count": 69,
   "id": "9169f7ac",
   "metadata": {},
   "outputs": [],
   "source": [
    "weather['precipitation'] = weather['precipitation'].fillna(method='ffill', limit = 1)"
   ]
  },
  {
   "cell_type": "code",
   "execution_count": 70,
   "id": "ac9003d6",
   "metadata": {},
   "outputs": [],
   "source": [
    "weather['precipitation'] = weather['precipitation'].fillna(0)"
   ]
  },
  {
   "cell_type": "markdown",
   "id": "be632c57",
   "metadata": {},
   "source": [
    "**avg_skyl**: filling remaining values with average values"
   ]
  },
  {
   "cell_type": "code",
   "execution_count": 71,
   "id": "7b42e877",
   "metadata": {},
   "outputs": [],
   "source": [
    "weather['avg_skyl'] = weather['avg_skyl'].fillna(weather['avg_skyl'].mean())"
   ]
  },
  {
   "cell_type": "code",
   "execution_count": null,
   "id": "4ef2fbb0",
   "metadata": {},
   "outputs": [],
   "source": []
  },
  {
   "cell_type": "markdown",
   "id": "aff7af21",
   "metadata": {},
   "source": [
    "# 2. Univariate analysis"
   ]
  },
  {
   "cell_type": "markdown",
   "id": "6575cc70",
   "metadata": {},
   "source": [
    "## 2.1 Numeric data"
   ]
  },
  {
   "cell_type": "code",
   "execution_count": 72,
   "id": "254f30f2",
   "metadata": {},
   "outputs": [],
   "source": [
    "float_cols = weather.select_dtypes('float64').columns"
   ]
  },
  {
   "cell_type": "markdown",
   "id": "552b35a0",
   "metadata": {},
   "source": [
    "### 2.1.1 Central tendency"
   ]
  },
  {
   "cell_type": "code",
   "execution_count": 73,
   "id": "64dcd339",
   "metadata": {},
   "outputs": [
    {
     "data": {
      "text/html": [
       "<div>\n",
       "<style scoped>\n",
       "    .dataframe tbody tr th:only-of-type {\n",
       "        vertical-align: middle;\n",
       "    }\n",
       "\n",
       "    .dataframe tbody tr th {\n",
       "        vertical-align: top;\n",
       "    }\n",
       "\n",
       "    .dataframe thead th {\n",
       "        text-align: right;\n",
       "    }\n",
       "</style>\n",
       "<table border=\"1\" class=\"dataframe\">\n",
       "  <thead>\n",
       "    <tr style=\"text-align: right;\">\n",
       "      <th></th>\n",
       "      <th>humidity</th>\n",
       "      <th>wind_direction</th>\n",
       "      <th>wind_speed</th>\n",
       "      <th>precipitation</th>\n",
       "      <th>pressure</th>\n",
       "      <th>visibility</th>\n",
       "      <th>feel</th>\n",
       "      <th>snowdepth</th>\n",
       "      <th>avg_skyl</th>\n",
       "    </tr>\n",
       "  </thead>\n",
       "  <tbody>\n",
       "    <tr>\n",
       "      <th>count</th>\n",
       "      <td>8760.000000</td>\n",
       "      <td>8760.000000</td>\n",
       "      <td>8760.000000</td>\n",
       "      <td>8760.000000</td>\n",
       "      <td>8760.000000</td>\n",
       "      <td>8760.000000</td>\n",
       "      <td>8760.000000</td>\n",
       "      <td>8760.000000</td>\n",
       "      <td>8760.000000</td>\n",
       "    </tr>\n",
       "    <tr>\n",
       "      <th>mean</th>\n",
       "      <td>66.944371</td>\n",
       "      <td>202.536530</td>\n",
       "      <td>9.715297</td>\n",
       "      <td>0.005426</td>\n",
       "      <td>30.030194</td>\n",
       "      <td>9.402384</td>\n",
       "      <td>53.528398</td>\n",
       "      <td>0.072831</td>\n",
       "      <td>12594.871496</td>\n",
       "    </tr>\n",
       "    <tr>\n",
       "      <th>std</th>\n",
       "      <td>19.752518</td>\n",
       "      <td>107.679145</td>\n",
       "      <td>5.095166</td>\n",
       "      <td>0.034087</td>\n",
       "      <td>0.212245</td>\n",
       "      <td>1.927149</td>\n",
       "      <td>20.252737</td>\n",
       "      <td>0.784128</td>\n",
       "      <td>7654.184147</td>\n",
       "    </tr>\n",
       "    <tr>\n",
       "      <th>min</th>\n",
       "      <td>9.900000</td>\n",
       "      <td>0.000000</td>\n",
       "      <td>0.000000</td>\n",
       "      <td>0.000000</td>\n",
       "      <td>29.340000</td>\n",
       "      <td>0.000000</td>\n",
       "      <td>-2.020000</td>\n",
       "      <td>0.000000</td>\n",
       "      <td>100.000000</td>\n",
       "    </tr>\n",
       "    <tr>\n",
       "      <th>25%</th>\n",
       "      <td>51.802500</td>\n",
       "      <td>130.000000</td>\n",
       "      <td>6.000000</td>\n",
       "      <td>0.000000</td>\n",
       "      <td>29.890000</td>\n",
       "      <td>10.000000</td>\n",
       "      <td>36.190000</td>\n",
       "      <td>0.000000</td>\n",
       "      <td>5662.500000</td>\n",
       "    </tr>\n",
       "    <tr>\n",
       "      <th>50%</th>\n",
       "      <td>68.700000</td>\n",
       "      <td>210.000000</td>\n",
       "      <td>9.000000</td>\n",
       "      <td>0.000000</td>\n",
       "      <td>30.030000</td>\n",
       "      <td>10.000000</td>\n",
       "      <td>55.900000</td>\n",
       "      <td>0.000000</td>\n",
       "      <td>12594.871496</td>\n",
       "    </tr>\n",
       "    <tr>\n",
       "      <th>75%</th>\n",
       "      <td>83.990000</td>\n",
       "      <td>300.000000</td>\n",
       "      <td>13.000000</td>\n",
       "      <td>0.000000</td>\n",
       "      <td>30.180000</td>\n",
       "      <td>10.000000</td>\n",
       "      <td>71.100000</td>\n",
       "      <td>0.000000</td>\n",
       "      <td>18500.000000</td>\n",
       "    </tr>\n",
       "    <tr>\n",
       "      <th>max</th>\n",
       "      <td>100.000000</td>\n",
       "      <td>360.000000</td>\n",
       "      <td>33.000000</td>\n",
       "      <td>0.860000</td>\n",
       "      <td>30.670000</td>\n",
       "      <td>10.000000</td>\n",
       "      <td>100.710000</td>\n",
       "      <td>13.000000</td>\n",
       "      <td>31333.333333</td>\n",
       "    </tr>\n",
       "  </tbody>\n",
       "</table>\n",
       "</div>"
      ],
      "text/plain": [
       "          humidity  wind_direction   wind_speed  precipitation     pressure   \n",
       "count  8760.000000     8760.000000  8760.000000    8760.000000  8760.000000  \\\n",
       "mean     66.944371      202.536530     9.715297       0.005426    30.030194   \n",
       "std      19.752518      107.679145     5.095166       0.034087     0.212245   \n",
       "min       9.900000        0.000000     0.000000       0.000000    29.340000   \n",
       "25%      51.802500      130.000000     6.000000       0.000000    29.890000   \n",
       "50%      68.700000      210.000000     9.000000       0.000000    30.030000   \n",
       "75%      83.990000      300.000000    13.000000       0.000000    30.180000   \n",
       "max     100.000000      360.000000    33.000000       0.860000    30.670000   \n",
       "\n",
       "        visibility         feel    snowdepth      avg_skyl  \n",
       "count  8760.000000  8760.000000  8760.000000   8760.000000  \n",
       "mean      9.402384    53.528398     0.072831  12594.871496  \n",
       "std       1.927149    20.252737     0.784128   7654.184147  \n",
       "min       0.000000    -2.020000     0.000000    100.000000  \n",
       "25%      10.000000    36.190000     0.000000   5662.500000  \n",
       "50%      10.000000    55.900000     0.000000  12594.871496  \n",
       "75%      10.000000    71.100000     0.000000  18500.000000  \n",
       "max      10.000000   100.710000    13.000000  31333.333333  "
      ]
     },
     "execution_count": 73,
     "metadata": {},
     "output_type": "execute_result"
    }
   ],
   "source": [
    "weather[float_cols].describe()"
   ]
  },
  {
   "cell_type": "code",
   "execution_count": 74,
   "id": "5643966e",
   "metadata": {},
   "outputs": [],
   "source": [
    "num_plots = len(float_cols)"
   ]
  },
  {
   "cell_type": "markdown",
   "id": "c2774c7c",
   "metadata": {},
   "source": [
    "### 2.1.2 Skewness and kde plot"
   ]
  },
  {
   "cell_type": "code",
   "execution_count": 75,
   "id": "cfb8ecf5",
   "metadata": {
    "scrolled": true
   },
   "outputs": [
    {
     "data": {
      "text/plain": [
       "humidity          -0.327575\n",
       "wind_direction    -0.391008\n",
       "wind_speed         0.668742\n",
       "precipitation     12.379303\n",
       "pressure          -0.073493\n",
       "visibility        -3.470496\n",
       "feel              -0.255507\n",
       "snowdepth         11.868804\n",
       "avg_skyl           0.192821\n",
       "dtype: float64"
      ]
     },
     "execution_count": 75,
     "metadata": {},
     "output_type": "execute_result"
    }
   ],
   "source": [
    "weather[float_cols].skew()"
   ]
  },
  {
   "cell_type": "code",
   "execution_count": 76,
   "id": "2949a6d4",
   "metadata": {},
   "outputs": [
    {
     "data": {
      "image/png": "[encoded data removed]",
      "text/plain": [
       "<Figure size 500x2700 with 9 Axes>"
      ]
     },
     "metadata": {},
     "output_type": "display_data"
    }
   ],
   "source": [
    "fig, axes = plt.subplots(nrows=num_plots, ncols=1, figsize=(5, 3*num_plots))\n",
    "\n",
    "# Loop through numeric columns and create KDE plots\n",
    "for i, col in enumerate(float_cols):\n",
    "    sns.kdeplot(data=weather, x=col, ax=axes[i], fill=True)\n",
    "    axes[i].set_title(f'KDE Plot for {col}')\n",
    "    axes[i].set_xlabel(col)\n",
    "    axes[i].set_ylabel('Density')\n",
    "\n",
    "# Adjust layout to prevent overlapping\n",
    "plt.tight_layout()\n",
    "\n",
    "# Show the plots\n",
    "plt.show()"
   ]
  },
  {
   "cell_type": "markdown",
   "id": "b36ecdfa",
   "metadata": {},
   "source": [
    "From the above analysis we can clearly see that **precipitation, visibility, snowdepth** are highly skewed."
   ]
  },
  {
   "cell_type": "code",
   "execution_count": 77,
   "id": "3da6ad54",
   "metadata": {
    "scrolled": true
   },
   "outputs": [],
   "source": [
    "# precipitation\n",
    "boxcox_transformed_data, _ = boxcox(weather['precipitation']+1)"
   ]
  },
  {
   "cell_type": "code",
   "execution_count": 78,
   "id": "489fb8df",
   "metadata": {},
   "outputs": [
    {
     "data": {
      "text/plain": [
       "0    3.068052\n",
       "dtype: float64"
      ]
     },
     "execution_count": 78,
     "metadata": {},
     "output_type": "execute_result"
    }
   ],
   "source": [
    "pd.DataFrame(boxcox_transformed_data).skew()"
   ]
  },
  {
   "cell_type": "code",
   "execution_count": 79,
   "id": "0980c1ce",
   "metadata": {
    "scrolled": true
   },
   "outputs": [
    {
     "data": {
      "text/plain": [
       "-2.458098826610499"
      ]
     },
     "execution_count": 79,
     "metadata": {},
     "output_type": "execute_result"
    }
   ],
   "source": [
    "# visibility\n",
    "np.exp(weather['visibility']).skew()"
   ]
  },
  {
   "cell_type": "code",
   "execution_count": 80,
   "id": "d1f395a9",
   "metadata": {},
   "outputs": [],
   "source": [
    "# snowdepth\n",
    "boxcox_transformed_data, _ = boxcox(weather['snowdepth']+1)"
   ]
  },
  {
   "cell_type": "code",
   "execution_count": 81,
   "id": "a2d10c54",
   "metadata": {},
   "outputs": [
    {
     "data": {
      "text/plain": [
       "0    9.499118\n",
       "dtype: float64"
      ]
     },
     "execution_count": 81,
     "metadata": {},
     "output_type": "execute_result"
    }
   ],
   "source": [
    "pd.DataFrame(boxcox_transformed_data).skew()"
   ]
  },
  {
   "cell_type": "markdown",
   "id": "6ef10916",
   "metadata": {},
   "source": [
    "**precipitation**, **visibility** and **snowdepth** are still highly skewed"
   ]
  },
  {
   "cell_type": "code",
   "execution_count": 82,
   "id": "50b3923f",
   "metadata": {},
   "outputs": [],
   "source": [
    "# precipitation"
   ]
  },
  {
   "cell_type": "code",
   "execution_count": 83,
   "id": "8cd3c95b",
   "metadata": {},
   "outputs": [
    {
     "data": {
      "text/plain": [
       "count    723.000000\n",
       "mean       0.065740\n",
       "std        0.100623\n",
       "min        0.010000\n",
       "25%        0.010000\n",
       "50%        0.030000\n",
       "75%        0.070000\n",
       "max        0.860000\n",
       "Name: precipitation, dtype: float64"
      ]
     },
     "execution_count": 83,
     "metadata": {},
     "output_type": "execute_result"
    }
   ],
   "source": [
    "weather[weather['precipitation']>0]['precipitation'].describe()"
   ]
  },
  {
   "cell_type": "markdown",
   "id": "cce46fd2",
   "metadata": {},
   "source": [
    "Classifying rain according to BARANI DESIGN Technologies \n",
    "\n",
    "article: https://www.baranidesign.com/faq-articles/2020/1/19/rain-rate-intensity-classification"
   ]
  },
  {
   "cell_type": "code",
   "execution_count": 84,
   "id": "0b7cb455",
   "metadata": {},
   "outputs": [],
   "source": [
    "# {0: No rain, 1: light rain, 2: moderate rain, 3: heavy rain}\n",
    "def condition(x):\n",
    "    if x==0:\n",
    "        return 0\n",
    "    if x<=0.1:\n",
    "        return 1\n",
    "    if x<=0.3:\n",
    "        return 2\n",
    "    return 3"
   ]
  },
  {
   "cell_type": "code",
   "execution_count": 85,
   "id": "9624245d",
   "metadata": {},
   "outputs": [],
   "source": [
    "weather['precipitation'] = weather['precipitation'].apply(condition)"
   ]
  },
  {
   "cell_type": "code",
   "execution_count": 86,
   "id": "3bcfea83",
   "metadata": {},
   "outputs": [],
   "source": [
    "# visibility"
   ]
  },
  {
   "cell_type": "code",
   "execution_count": 87,
   "id": "79aee906",
   "metadata": {},
   "outputs": [],
   "source": [
    "X = np.array(weather[weather['visibility']<10]['visibility'])\n",
    "X = X.reshape(-1, 1)"
   ]
  },
  {
   "cell_type": "code",
   "execution_count": 88,
   "id": "d566e785",
   "metadata": {},
   "outputs": [
    {
     "data": {
      "text/html": [
       "<style>#sk-container-id-1 {color: black;background-color: white;}#sk-container-id-1 pre{padding: 0;}#sk-container-id-1 div.sk-toggleable {background-color: white;}#sk-container-id-1 label.sk-toggleable__label {cursor: pointer;display: block;width: 100%;margin-bottom: 0;padding: 0.3em;box-sizing: border-box;text-align: center;}#sk-container-id-1 label.sk-toggleable__label-arrow:before {content: \"▸\";float: left;margin-right: 0.25em;color: #696969;}#sk-container-id-1 label.sk-toggleable__label-arrow:hover:before {color: black;}#sk-container-id-1 div.sk-estimator:hover label.sk-toggleable__label-arrow:before {color: black;}#sk-container-id-1 div.sk-toggleable__content {max-height: 0;max-width: 0;overflow: hidden;text-align: left;background-color: #f0f8ff;}#sk-container-id-1 div.sk-toggleable__content pre {margin: 0.2em;color: black;border-radius: 0.25em;background-color: #f0f8ff;}#sk-container-id-1 input.sk-toggleable__control:checked~div.sk-toggleable__content {max-height: 200px;max-width: 100%;overflow: auto;}#sk-container-id-1 input.sk-toggleable__control:checked~label.sk-toggleable__label-arrow:before {content: \"▾\";}#sk-container-id-1 div.sk-estimator input.sk-toggleable__control:checked~label.sk-toggleable__label {background-color: #d4ebff;}#sk-container-id-1 div.sk-label input.sk-toggleable__control:checked~label.sk-toggleable__label {background-color: #d4ebff;}#sk-container-id-1 input.sk-hidden--visually {border: 0;clip: rect(1px 1px 1px 1px);clip: rect(1px, 1px, 1px, 1px);height: 1px;margin: -1px;overflow: hidden;padding: 0;position: absolute;width: 1px;}#sk-container-id-1 div.sk-estimator {font-family: monospace;background-color: #f0f8ff;border: 1px dotted black;border-radius: 0.25em;box-sizing: border-box;margin-bottom: 0.5em;}#sk-container-id-1 div.sk-estimator:hover {background-color: #d4ebff;}#sk-container-id-1 div.sk-parallel-item::after {content: \"\";width: 100%;border-bottom: 1px solid gray;flex-grow: 1;}#sk-container-id-1 div.sk-label:hover label.sk-toggleable__label {background-color: #d4ebff;}#sk-container-id-1 div.sk-serial::before {content: \"\";position: absolute;border-left: 1px solid gray;box-sizing: border-box;top: 0;bottom: 0;left: 50%;z-index: 0;}#sk-container-id-1 div.sk-serial {display: flex;flex-direction: column;align-items: center;background-color: white;padding-right: 0.2em;padding-left: 0.2em;position: relative;}#sk-container-id-1 div.sk-item {position: relative;z-index: 1;}#sk-container-id-1 div.sk-parallel {display: flex;align-items: stretch;justify-content: center;background-color: white;position: relative;}#sk-container-id-1 div.sk-item::before, #sk-container-id-1 div.sk-parallel-item::before {content: \"\";position: absolute;border-left: 1px solid gray;box-sizing: border-box;top: 0;bottom: 0;left: 50%;z-index: -1;}#sk-container-id-1 div.sk-parallel-item {display: flex;flex-direction: column;z-index: 1;position: relative;background-color: white;}#sk-container-id-1 div.sk-parallel-item:first-child::after {align-self: flex-end;width: 50%;}#sk-container-id-1 div.sk-parallel-item:last-child::after {align-self: flex-start;width: 50%;}#sk-container-id-1 div.sk-parallel-item:only-child::after {width: 0;}#sk-container-id-1 div.sk-dashed-wrapped {border: 1px dashed gray;margin: 0 0.4em 0.5em 0.4em;box-sizing: border-box;padding-bottom: 0.4em;background-color: white;}#sk-container-id-1 div.sk-label label {font-family: monospace;font-weight: bold;display: inline-block;line-height: 1.2em;}#sk-container-id-1 div.sk-label-container {text-align: center;}#sk-container-id-1 div.sk-container {/* jupyter's `normalize.less` sets `[hidden] { display: none; }` but bootstrap.min.css set `[hidden] { display: none !important; }` so we also need the `!important` here to be able to override the default hidden behavior on the sphinx rendered scikit-learn.org. See: https://github.com/scikit-learn/scikit-learn/issues/21755 */display: inline-block !important;position: relative;}#sk-container-id-1 div.sk-text-repr-fallback {display: none;}</style><div id=\"sk-container-id-1\" class=\"sk-top-container\"><div class=\"sk-text-repr-fallback\"><pre>KBinsDiscretizer(encode=&#x27;ordinal&#x27;, n_bins=2, subsample=None)</pre><b>In a Jupyter environment, please rerun this cell to show the HTML representation or trust the notebook. <br />On GitHub, the HTML representation is unable to render, please try loading this page with nbviewer.org.</b></div><div class=\"sk-container\" hidden><div class=\"sk-item\"><div class=\"sk-estimator sk-toggleable\"><input class=\"sk-toggleable__control sk-hidden--visually\" id=\"sk-estimator-id-1\" type=\"checkbox\" checked><label for=\"sk-estimator-id-1\" class=\"sk-toggleable__label sk-toggleable__label-arrow\">KBinsDiscretizer</label><div class=\"sk-toggleable__content\"><pre>KBinsDiscretizer(encode=&#x27;ordinal&#x27;, n_bins=2, subsample=None)</pre></div></div></div></div></div>"
      ],
      "text/plain": [
       "KBinsDiscretizer(encode='ordinal', n_bins=2, subsample=None)"
      ]
     },
     "execution_count": 88,
     "metadata": {},
     "output_type": "execute_result"
    }
   ],
   "source": [
    "est = KBinsDiscretizer(n_bins=2, encode='ordinal', strategy='quantile', subsample=None)\n",
    "est.fit(X)"
   ]
  },
  {
   "cell_type": "code",
   "execution_count": 89,
   "id": "ccadea9d",
   "metadata": {},
   "outputs": [
    {
     "data": {
      "text/plain": [
       "array([array([0., 5., 9.])], dtype=object)"
      ]
     },
     "execution_count": 89,
     "metadata": {},
     "output_type": "execute_result"
    }
   ],
   "source": [
    "est.bin_edges_"
   ]
  },
  {
   "cell_type": "code",
   "execution_count": 90,
   "id": "c4e281bd",
   "metadata": {},
   "outputs": [
    {
     "data": {
      "text/plain": [
       "visibility\n",
       "10.00    7731\n",
       "9.00      149\n",
       "6.00      132\n",
       "8.00      116\n",
       "7.00      102\n",
       "3.00       98\n",
       "5.00       96\n",
       "0.50       58\n",
       "0.25       55\n",
       "4.00       54\n",
       "2.00       49\n",
       "1.00       41\n",
       "2.50       24\n",
       "1.50       23\n",
       "0.75       13\n",
       "0.12        9\n",
       "0.06        5\n",
       "0.00        3\n",
       "1.25        2\n",
       "Name: count, dtype: int64"
      ]
     },
     "execution_count": 90,
     "metadata": {},
     "output_type": "execute_result"
    }
   ],
   "source": [
    "weather['visibility'].value_counts()"
   ]
  },
  {
   "cell_type": "code",
   "execution_count": 91,
   "id": "704b0ae5",
   "metadata": {},
   "outputs": [],
   "source": [
    "weather['visibility'] = weather['visibility'].apply(lambda x: 2 if x==10 else (1 if x>6 else 0))"
   ]
  },
  {
   "cell_type": "code",
   "execution_count": 92,
   "id": "dc3da65b",
   "metadata": {},
   "outputs": [
    {
     "data": {
      "text/plain": [
       "visibility\n",
       "2    7731\n",
       "0     662\n",
       "1     367\n",
       "Name: count, dtype: int64"
      ]
     },
     "execution_count": 92,
     "metadata": {},
     "output_type": "execute_result"
    }
   ],
   "source": [
    "weather['visibility'].value_counts()"
   ]
  },
  {
   "cell_type": "code",
   "execution_count": 93,
   "id": "a8132328",
   "metadata": {},
   "outputs": [],
   "source": [
    "# snowdepth"
   ]
  },
  {
   "cell_type": "code",
   "execution_count": 94,
   "id": "f40748bb",
   "metadata": {},
   "outputs": [
    {
     "data": {
      "text/plain": [
       "count    94.000000\n",
       "mean      6.787234\n",
       "std       3.441906\n",
       "min       1.000000\n",
       "25%       4.250000\n",
       "50%       7.000000\n",
       "75%       9.000000\n",
       "max      13.000000\n",
       "Name: snowdepth, dtype: float64"
      ]
     },
     "execution_count": 94,
     "metadata": {},
     "output_type": "execute_result"
    }
   ],
   "source": [
    "weather[weather['snowdepth']>0]['snowdepth'].describe()"
   ]
  },
  {
   "cell_type": "code",
   "execution_count": 95,
   "id": "75ed06b2",
   "metadata": {},
   "outputs": [],
   "source": [
    "X = np.array(weather[weather['snowdepth']>0]['snowdepth'])\n",
    "X = X.reshape(-1, 1)"
   ]
  },
  {
   "cell_type": "code",
   "execution_count": 96,
   "id": "7ce7de5f",
   "metadata": {},
   "outputs": [
    {
     "data": {
      "text/html": [
       "<style>#sk-container-id-2 {color: black;background-color: white;}#sk-container-id-2 pre{padding: 0;}#sk-container-id-2 div.sk-toggleable {background-color: white;}#sk-container-id-2 label.sk-toggleable__label {cursor: pointer;display: block;width: 100%;margin-bottom: 0;padding: 0.3em;box-sizing: border-box;text-align: center;}#sk-container-id-2 label.sk-toggleable__label-arrow:before {content: \"▸\";float: left;margin-right: 0.25em;color: #696969;}#sk-container-id-2 label.sk-toggleable__label-arrow:hover:before {color: black;}#sk-container-id-2 div.sk-estimator:hover label.sk-toggleable__label-arrow:before {color: black;}#sk-container-id-2 div.sk-toggleable__content {max-height: 0;max-width: 0;overflow: hidden;text-align: left;background-color: #f0f8ff;}#sk-container-id-2 div.sk-toggleable__content pre {margin: 0.2em;color: black;border-radius: 0.25em;background-color: #f0f8ff;}#sk-container-id-2 input.sk-toggleable__control:checked~div.sk-toggleable__content {max-height: 200px;max-width: 100%;overflow: auto;}#sk-container-id-2 input.sk-toggleable__control:checked~label.sk-toggleable__label-arrow:before {content: \"▾\";}#sk-container-id-2 div.sk-estimator input.sk-toggleable__control:checked~label.sk-toggleable__label {background-color: #d4ebff;}#sk-container-id-2 div.sk-label input.sk-toggleable__control:checked~label.sk-toggleable__label {background-color: #d4ebff;}#sk-container-id-2 input.sk-hidden--visually {border: 0;clip: rect(1px 1px 1px 1px);clip: rect(1px, 1px, 1px, 1px);height: 1px;margin: -1px;overflow: hidden;padding: 0;position: absolute;width: 1px;}#sk-container-id-2 div.sk-estimator {font-family: monospace;background-color: #f0f8ff;border: 1px dotted black;border-radius: 0.25em;box-sizing: border-box;margin-bottom: 0.5em;}#sk-container-id-2 div.sk-estimator:hover {background-color: #d4ebff;}#sk-container-id-2 div.sk-parallel-item::after {content: \"\";width: 100%;border-bottom: 1px solid gray;flex-grow: 1;}#sk-container-id-2 div.sk-label:hover label.sk-toggleable__label {background-color: #d4ebff;}#sk-container-id-2 div.sk-serial::before {content: \"\";position: absolute;border-left: 1px solid gray;box-sizing: border-box;top: 0;bottom: 0;left: 50%;z-index: 0;}#sk-container-id-2 div.sk-serial {display: flex;flex-direction: column;align-items: center;background-color: white;padding-right: 0.2em;padding-left: 0.2em;position: relative;}#sk-container-id-2 div.sk-item {position: relative;z-index: 1;}#sk-container-id-2 div.sk-parallel {display: flex;align-items: stretch;justify-content: center;background-color: white;position: relative;}#sk-container-id-2 div.sk-item::before, #sk-container-id-2 div.sk-parallel-item::before {content: \"\";position: absolute;border-left: 1px solid gray;box-sizing: border-box;top: 0;bottom: 0;left: 50%;z-index: -1;}#sk-container-id-2 div.sk-parallel-item {display: flex;flex-direction: column;z-index: 1;position: relative;background-color: white;}#sk-container-id-2 div.sk-parallel-item:first-child::after {align-self: flex-end;width: 50%;}#sk-container-id-2 div.sk-parallel-item:last-child::after {align-self: flex-start;width: 50%;}#sk-container-id-2 div.sk-parallel-item:only-child::after {width: 0;}#sk-container-id-2 div.sk-dashed-wrapped {border: 1px dashed gray;margin: 0 0.4em 0.5em 0.4em;box-sizing: border-box;padding-bottom: 0.4em;background-color: white;}#sk-container-id-2 div.sk-label label {font-family: monospace;font-weight: bold;display: inline-block;line-height: 1.2em;}#sk-container-id-2 div.sk-label-container {text-align: center;}#sk-container-id-2 div.sk-container {/* jupyter's `normalize.less` sets `[hidden] { display: none; }` but bootstrap.min.css set `[hidden] { display: none !important; }` so we also need the `!important` here to be able to override the default hidden behavior on the sphinx rendered scikit-learn.org. See: https://github.com/scikit-learn/scikit-learn/issues/21755 */display: inline-block !important;position: relative;}#sk-container-id-2 div.sk-text-repr-fallback {display: none;}</style><div id=\"sk-container-id-2\" class=\"sk-top-container\"><div class=\"sk-text-repr-fallback\"><pre>KBinsDiscretizer(encode=&#x27;ordinal&#x27;, n_bins=2, subsample=None)</pre><b>In a Jupyter environment, please rerun this cell to show the HTML representation or trust the notebook. <br />On GitHub, the HTML representation is unable to render, please try loading this page with nbviewer.org.</b></div><div class=\"sk-container\" hidden><div class=\"sk-item\"><div class=\"sk-estimator sk-toggleable\"><input class=\"sk-toggleable__control sk-hidden--visually\" id=\"sk-estimator-id-2\" type=\"checkbox\" checked><label for=\"sk-estimator-id-2\" class=\"sk-toggleable__label sk-toggleable__label-arrow\">KBinsDiscretizer</label><div class=\"sk-toggleable__content\"><pre>KBinsDiscretizer(encode=&#x27;ordinal&#x27;, n_bins=2, subsample=None)</pre></div></div></div></div></div>"
      ],
      "text/plain": [
       "KBinsDiscretizer(encode='ordinal', n_bins=2, subsample=None)"
      ]
     },
     "execution_count": 96,
     "metadata": {},
     "output_type": "execute_result"
    }
   ],
   "source": [
    "est = KBinsDiscretizer(n_bins=2, encode='ordinal', strategy='quantile', subsample=None)\n",
    "est.fit(X)"
   ]
  },
  {
   "cell_type": "code",
   "execution_count": 97,
   "id": "1fb3beaf",
   "metadata": {},
   "outputs": [
    {
     "data": {
      "text/plain": [
       "array([array([ 1.,  7., 13.])], dtype=object)"
      ]
     },
     "execution_count": 97,
     "metadata": {},
     "output_type": "execute_result"
    }
   ],
   "source": [
    "est.bin_edges_"
   ]
  },
  {
   "cell_type": "code",
   "execution_count": 98,
   "id": "7108c12d",
   "metadata": {},
   "outputs": [],
   "source": [
    "weather['snowdepth'] = weather['snowdepth'].apply(lambda x: 0 if x==0 else (1 if x<7 else 2))"
   ]
  },
  {
   "cell_type": "markdown",
   "id": "ee6ee933",
   "metadata": {},
   "source": [
    "### 2.1.3 Boxplot"
   ]
  },
  {
   "cell_type": "code",
   "execution_count": 99,
   "id": "0b4344b1",
   "metadata": {},
   "outputs": [
    {
     "data": {
      "text/plain": [
       "humidity           -0.827130\n",
       "wind_direction     -0.983497\n",
       "wind_speed          0.515719\n",
       "precipitation      20.540255\n",
       "pressure            0.104529\n",
       "visibility          5.758516\n",
       "feel               -0.915045\n",
       "snowdepth         120.230756\n",
       "avg_skyl           -1.141274\n",
       "dtype: float64"
      ]
     },
     "execution_count": 99,
     "metadata": {},
     "output_type": "execute_result"
    }
   ],
   "source": [
    "weather[float_cols].kurt()"
   ]
  },
  {
   "cell_type": "code",
   "execution_count": 100,
   "id": "b439ef1f",
   "metadata": {},
   "outputs": [
    {
     "data": {
      "image/png": "[encoded data removed]",
      "text/plain": [
       "<Figure size 500x2000 with 9 Axes>"
      ]
     },
     "metadata": {},
     "output_type": "display_data"
    }
   ],
   "source": [
    "fig, axes = plt.subplots(nrows=len(float_cols), figsize=(5, 20))\n",
    "\n",
    "for i, col in enumerate(float_cols):\n",
    "    weather.boxplot(column=col, ax=axes[i])\n",
    "    axes[i].set_title(col)\n",
    "\n",
    "plt.tight_layout()\n",
    "plt.show()"
   ]
  },
  {
   "cell_type": "markdown",
   "id": "4ca4cd71",
   "metadata": {},
   "source": [
    "**windspeed** and **pressure** have some outliers but they represent extreme climate conditions which affect the weather."
   ]
  },
  {
   "cell_type": "markdown",
   "id": "4b9d1401",
   "metadata": {},
   "source": [
    "# 3. Feature engineering"
   ]
  },
  {
   "cell_type": "markdown",
   "id": "1f6214c9",
   "metadata": {},
   "source": [
    "## 3.1 Categorical data"
   ]
  },
  {
   "cell_type": "markdown",
   "id": "a8ae747c",
   "metadata": {},
   "source": [
    "Creating dummies of **weather_codes** "
   ]
  },
  {
   "cell_type": "code",
   "execution_count": 101,
   "id": "9239307e",
   "metadata": {},
   "outputs": [],
   "source": [
    "codes = list(weather['weather_codes'])\n",
    "str_codes = \" \".join(codes)\n",
    "str_codes = str_codes.replace(\"-\",'').replace(\"+\",'')\n",
    "codes = str_codes.split(\" \")"
   ]
  },
  {
   "cell_type": "code",
   "execution_count": 102,
   "id": "a0672fcd",
   "metadata": {},
   "outputs": [],
   "source": [
    "codes_dict = dict(Counter(codes))\n",
    "codes_dict = dict(sorted(codes_dict.items(), key=lambda item: item[1], reverse=True))"
   ]
  },
  {
   "cell_type": "code",
   "execution_count": 103,
   "id": "acc6b71a",
   "metadata": {
    "scrolled": true
   },
   "outputs": [
    {
     "data": {
      "text/plain": [
       "{'CLR': 7232,\n",
       " 'RA': 840,\n",
       " 'BR': 730,\n",
       " 'SN': 133,\n",
       " 'DZ': 82,\n",
       " 'TSRA': 47,\n",
       " 'HZ': 42,\n",
       " 'FG': 37,\n",
       " 'FZDZ': 18,\n",
       " 'VCTS': 13,\n",
       " 'TS': 11,\n",
       " 'BLSN': 10,\n",
       " 'RASN': 9,\n",
       " 'MIFG': 8,\n",
       " 'SNPL': 7,\n",
       " 'SNRA': 6,\n",
       " 'FZRA': 6,\n",
       " 'FZFG': 4,\n",
       " 'FZRAPL': 4,\n",
       " 'VCFG': 3,\n",
       " 'PLSN': 1,\n",
       " 'FZDZSN': 1}"
      ]
     },
     "execution_count": 103,
     "metadata": {},
     "output_type": "execute_result"
    }
   ],
   "source": [
    "codes_dict"
   ]
  },
  {
   "cell_type": "markdown",
   "id": "ec1b09d1",
   "metadata": {},
   "source": [
    "most common weather conditions\n",
    "\n",
    "**CLR**: Clear sky\n",
    "\n",
    "**BR**: Mist\n",
    "\n",
    "**RA** (Rain) Appears in: RA, TSRA, SNRA, FZRA, FZRAPL, RASN\n",
    "\n",
    "**SN** (Snow) Appears in: SN, BLSN, SNPL, RASN, FZDZSN, PLSN, FZRASN, SNRA\n",
    "\n",
    "**DZ** (Drizzle) Appears in: DZ, FZDZ, FZDZSN\n",
    "\n",
    "**TS** (Thunderstorm) Appears in: TS, TSRA, VCTS\n",
    "\n",
    "**FG** (Fog) Appears in: FG, FZFG, VCFG, MIFG\n",
    "\n",
    "**FZ** (Freezing) Appearsn in: FZDZ, FZFG, FZRA, FZDZSN, FZRAPL"
   ]
  },
  {
   "cell_type": "code",
   "execution_count": 104,
   "id": "f9b2a9f2",
   "metadata": {},
   "outputs": [],
   "source": [
    "common_conditions = {\n",
    "    'RA': ['RA', 'TSRA', 'SNRA', 'FZRA', 'FZRAPL', 'RASN'],\n",
    "    'SN': ['SN', 'BLSN', 'SNPL', 'RASN', 'FZDZSN', 'PLSN', 'SNRA'],\n",
    "    'DZ': ['DZ', 'FZDZ', 'FZDZSN'],\n",
    "    'TS': ['TS', 'TSRA', 'FZDZ'],\n",
    "    'FG': ['FG', 'FZFG', 'VCFG', 'MIFG'],\n",
    "    'FZ': ['FZDZ', 'FZFG', 'FZRA', 'FZDZSN', 'FZRAPL'],\n",
    "    'CLR': ['CLR'],\n",
    "    'BR': ['BR']\n",
    "}"
   ]
  },
  {
   "cell_type": "code",
   "execution_count": 105,
   "id": "e3a878b7",
   "metadata": {},
   "outputs": [
    {
     "name": "stdout",
     "output_type": "stream",
     "text": [
      "RA : 912\n",
      "SN : 167\n",
      "DZ : 101\n",
      "TS : 76\n",
      "FG : 52\n",
      "FZ : 33\n",
      "CLR : 7232\n",
      "BR : 730\n"
     ]
    }
   ],
   "source": [
    "for key, value in common_conditions.items():\n",
    "    addition = 0\n",
    "    for v in value:\n",
    "        addition += codes_dict[v]\n",
    "    print(f\"{key} : {addition}\")"
   ]
  },
  {
   "cell_type": "code",
   "execution_count": 106,
   "id": "03980f54",
   "metadata": {},
   "outputs": [],
   "source": [
    "weather['weather_codes_list'] = weather['weather_codes'].str.replace(\"+\",'').str.replace(\"-\",'').str.split()"
   ]
  },
  {
   "cell_type": "code",
   "execution_count": 107,
   "id": "e8c569be",
   "metadata": {},
   "outputs": [],
   "source": [
    "dummy_df = pd.get_dummies(weather['weather_codes_list'].apply(pd.Series).stack())"
   ]
  },
  {
   "cell_type": "code",
   "execution_count": 108,
   "id": "a93d6e94",
   "metadata": {},
   "outputs": [
    {
     "data": {
      "text/html": [
       "<div>\n",
       "<style scoped>\n",
       "    .dataframe tbody tr th:only-of-type {\n",
       "        vertical-align: middle;\n",
       "    }\n",
       "\n",
       "    .dataframe tbody tr th {\n",
       "        vertical-align: top;\n",
       "    }\n",
       "\n",
       "    .dataframe thead th {\n",
       "        text-align: right;\n",
       "    }\n",
       "</style>\n",
       "<table border=\"1\" class=\"dataframe\">\n",
       "  <thead>\n",
       "    <tr style=\"text-align: right;\">\n",
       "      <th></th>\n",
       "      <th></th>\n",
       "      <th>BLSN</th>\n",
       "      <th>BR</th>\n",
       "      <th>CLR</th>\n",
       "      <th>DZ</th>\n",
       "      <th>FG</th>\n",
       "      <th>FZDZ</th>\n",
       "      <th>FZDZSN</th>\n",
       "      <th>FZFG</th>\n",
       "      <th>FZRA</th>\n",
       "      <th>FZRAPL</th>\n",
       "      <th>...</th>\n",
       "      <th>PLSN</th>\n",
       "      <th>RA</th>\n",
       "      <th>RASN</th>\n",
       "      <th>SN</th>\n",
       "      <th>SNPL</th>\n",
       "      <th>SNRA</th>\n",
       "      <th>TS</th>\n",
       "      <th>TSRA</th>\n",
       "      <th>VCFG</th>\n",
       "      <th>VCTS</th>\n",
       "    </tr>\n",
       "  </thead>\n",
       "  <tbody>\n",
       "    <tr>\n",
       "      <th>0</th>\n",
       "      <th>0</th>\n",
       "      <td>False</td>\n",
       "      <td>False</td>\n",
       "      <td>True</td>\n",
       "      <td>False</td>\n",
       "      <td>False</td>\n",
       "      <td>False</td>\n",
       "      <td>False</td>\n",
       "      <td>False</td>\n",
       "      <td>False</td>\n",
       "      <td>False</td>\n",
       "      <td>...</td>\n",
       "      <td>False</td>\n",
       "      <td>False</td>\n",
       "      <td>False</td>\n",
       "      <td>False</td>\n",
       "      <td>False</td>\n",
       "      <td>False</td>\n",
       "      <td>False</td>\n",
       "      <td>False</td>\n",
       "      <td>False</td>\n",
       "      <td>False</td>\n",
       "    </tr>\n",
       "    <tr>\n",
       "      <th>1</th>\n",
       "      <th>0</th>\n",
       "      <td>False</td>\n",
       "      <td>False</td>\n",
       "      <td>True</td>\n",
       "      <td>False</td>\n",
       "      <td>False</td>\n",
       "      <td>False</td>\n",
       "      <td>False</td>\n",
       "      <td>False</td>\n",
       "      <td>False</td>\n",
       "      <td>False</td>\n",
       "      <td>...</td>\n",
       "      <td>False</td>\n",
       "      <td>False</td>\n",
       "      <td>False</td>\n",
       "      <td>False</td>\n",
       "      <td>False</td>\n",
       "      <td>False</td>\n",
       "      <td>False</td>\n",
       "      <td>False</td>\n",
       "      <td>False</td>\n",
       "      <td>False</td>\n",
       "    </tr>\n",
       "    <tr>\n",
       "      <th>2</th>\n",
       "      <th>0</th>\n",
       "      <td>False</td>\n",
       "      <td>False</td>\n",
       "      <td>True</td>\n",
       "      <td>False</td>\n",
       "      <td>False</td>\n",
       "      <td>False</td>\n",
       "      <td>False</td>\n",
       "      <td>False</td>\n",
       "      <td>False</td>\n",
       "      <td>False</td>\n",
       "      <td>...</td>\n",
       "      <td>False</td>\n",
       "      <td>False</td>\n",
       "      <td>False</td>\n",
       "      <td>False</td>\n",
       "      <td>False</td>\n",
       "      <td>False</td>\n",
       "      <td>False</td>\n",
       "      <td>False</td>\n",
       "      <td>False</td>\n",
       "      <td>False</td>\n",
       "    </tr>\n",
       "  </tbody>\n",
       "</table>\n",
       "<p>3 rows × 22 columns</p>\n",
       "</div>"
      ],
      "text/plain": [
       "      BLSN     BR   CLR     DZ     FG   FZDZ  FZDZSN   FZFG   FZRA  FZRAPL   \n",
       "0 0  False  False  True  False  False  False   False  False  False   False  \\\n",
       "1 0  False  False  True  False  False  False   False  False  False   False   \n",
       "2 0  False  False  True  False  False  False   False  False  False   False   \n",
       "\n",
       "     ...   PLSN     RA   RASN     SN   SNPL   SNRA     TS   TSRA   VCFG   VCTS  \n",
       "0 0  ...  False  False  False  False  False  False  False  False  False  False  \n",
       "1 0  ...  False  False  False  False  False  False  False  False  False  False  \n",
       "2 0  ...  False  False  False  False  False  False  False  False  False  False  \n",
       "\n",
       "[3 rows x 22 columns]"
      ]
     },
     "execution_count": 108,
     "metadata": {},
     "output_type": "execute_result"
    }
   ],
   "source": [
    "dummy_df.head(3)"
   ]
  },
  {
   "cell_type": "code",
   "execution_count": 109,
   "id": "637798ec",
   "metadata": {},
   "outputs": [],
   "source": [
    "dummy_df.index.names = ['index1', 'index2']"
   ]
  },
  {
   "cell_type": "code",
   "execution_count": 110,
   "id": "712e5320",
   "metadata": {},
   "outputs": [],
   "source": [
    "dummy_df = dummy_df.groupby(['index1']).sum()"
   ]
  },
  {
   "cell_type": "code",
   "execution_count": 111,
   "id": "50a91157",
   "metadata": {},
   "outputs": [],
   "source": [
    "for key, value in common_conditions.items():\n",
    "    dummy_df[key] = dummy_df[value].sum(axis=1)"
   ]
  },
  {
   "cell_type": "code",
   "execution_count": 112,
   "id": "25e0d198",
   "metadata": {},
   "outputs": [
    {
     "data": {
      "text/plain": [
       "RA      912\n",
       "SN      167\n",
       "DZ      101\n",
       "TS       76\n",
       "FG       52\n",
       "FZ       33\n",
       "CLR    7232\n",
       "BR      730\n",
       "dtype: int64"
      ]
     },
     "execution_count": 112,
     "metadata": {},
     "output_type": "execute_result"
    }
   ],
   "source": [
    "dummy_df[common_conditions.keys()].sum()"
   ]
  },
  {
   "cell_type": "code",
   "execution_count": 113,
   "id": "3c98d1c8",
   "metadata": {},
   "outputs": [
    {
     "data": {
      "text/plain": [
       "RA     1\n",
       "SN     2\n",
       "DZ     1\n",
       "TS     1\n",
       "FG     1\n",
       "FZ     1\n",
       "CLR    1\n",
       "BR     1\n",
       "dtype: int64"
      ]
     },
     "execution_count": 113,
     "metadata": {},
     "output_type": "execute_result"
    }
   ],
   "source": [
    "dummy_df[common_conditions.keys()].max()"
   ]
  },
  {
   "cell_type": "code",
   "execution_count": 114,
   "id": "10968003",
   "metadata": {},
   "outputs": [
    {
     "data": {
      "text/plain": [
       "Index([758, 759, 760, 761, 762, 763, 764, 765, 766, 767], dtype='int64', name='index1')"
      ]
     },
     "execution_count": 114,
     "metadata": {},
     "output_type": "execute_result"
    }
   ],
   "source": [
    "dummy_df[dummy_df['SN']>1].index"
   ]
  },
  {
   "cell_type": "code",
   "execution_count": 115,
   "id": "8c63e10a",
   "metadata": {},
   "outputs": [
    {
     "data": {
      "text/plain": [
       "758    [SN, BLSN, FZFG]\n",
       "759    [SN, BLSN, FZFG]\n",
       "760      [SN, BLSN, BR]\n",
       "761    [SN, BLSN, FZFG]\n",
       "762    [SNPL, BLSN, BR]\n",
       "763      [SN, BLSN, BR]\n",
       "764    [SNPL, BLSN, BR]\n",
       "765    [SNPL, BLSN, BR]\n",
       "766    [SNPL, BLSN, BR]\n",
       "767    [SNPL, BLSN, BR]\n",
       "Name: weather_codes_list, dtype: object"
      ]
     },
     "execution_count": 115,
     "metadata": {},
     "output_type": "execute_result"
    }
   ],
   "source": [
    "weather['weather_codes_list'].iloc[758:768]"
   ]
  },
  {
   "cell_type": "markdown",
   "id": "9d4f5222",
   "metadata": {},
   "source": [
    "BLSN and SN both have snow therefore we have count more than one in our dummy columns dataframe"
   ]
  },
  {
   "cell_type": "code",
   "execution_count": 116,
   "id": "a1390e89",
   "metadata": {},
   "outputs": [],
   "source": [
    "dummy_df = dummy_df.replace(2,1)"
   ]
  },
  {
   "cell_type": "code",
   "execution_count": 117,
   "id": "fae1641c",
   "metadata": {},
   "outputs": [
    {
     "data": {
      "text/plain": [
       "RA      912\n",
       "SN      157\n",
       "DZ      101\n",
       "TS       76\n",
       "FG       52\n",
       "FZ       33\n",
       "CLR    7232\n",
       "BR      730\n",
       "dtype: int64"
      ]
     },
     "execution_count": 117,
     "metadata": {},
     "output_type": "execute_result"
    }
   ],
   "source": [
    "dummy_df[common_conditions.keys()].sum()"
   ]
  },
  {
   "cell_type": "code",
   "execution_count": 118,
   "id": "a9bb95e3",
   "metadata": {
    "scrolled": true
   },
   "outputs": [],
   "source": [
    "weather = pd.concat([weather, dummy_df[common_conditions.keys()]], axis=1)"
   ]
  },
  {
   "cell_type": "code",
   "execution_count": 119,
   "id": "40914a1b",
   "metadata": {},
   "outputs": [],
   "source": [
    "weather = weather.drop(columns=['weather_codes', 'weather_codes_list'])"
   ]
  },
  {
   "cell_type": "code",
   "execution_count": null,
   "id": "8db6acc0",
   "metadata": {},
   "outputs": [],
   "source": []
  },
  {
   "cell_type": "markdown",
   "id": "24d56a4f",
   "metadata": {},
   "source": [
    "## 3.2 Numerical data"
   ]
  },
  {
   "cell_type": "markdown",
   "id": "dcd7836b",
   "metadata": {},
   "source": [
    "Why **wind_direction** is imp? \n",
    "\n",
    "The direction of the wind helps to determine the climate of a region. The wind coming from the humid region brings cool air while that from the dry region would bring hot air. "
   ]
  },
  {
   "cell_type": "markdown",
   "id": "f75b8e39",
   "metadata": {},
   "source": [
    "Binning **wind_direction** to avoid overfitting"
   ]
  },
  {
   "cell_type": "code",
   "execution_count": 120,
   "id": "318f3eb9",
   "metadata": {},
   "outputs": [
    {
     "data": {
      "text/plain": [
       "array([320., 350., 340., 360.,  30.,  40.,  20.,  50., 120.,  70.,  90.,\n",
       "        80.,  60.,  10., 300., 330., 290., 260., 250., 270., 280., 310.,\n",
       "         0., 210., 230., 220., 240., 190., 200., 110., 100., 170., 150.,\n",
       "       140., 160., 180., 130.])"
      ]
     },
     "execution_count": 120,
     "metadata": {},
     "output_type": "execute_result"
    }
   ],
   "source": [
    "weather.wind_direction.unique()"
   ]
  },
  {
   "cell_type": "code",
   "execution_count": 121,
   "id": "14ef33be",
   "metadata": {},
   "outputs": [],
   "source": [
    "def bin_wind_direction(angle):\n",
    "    directions = ['N', 'NE', 'E', 'SE', 'S', 'SW', 'W', 'NW']\n",
    "    angle = (angle % 360 + 360) % 360\n",
    "\n",
    "    index = round(angle / 45) % 8\n",
    "    return directions[index]"
   ]
  },
  {
   "cell_type": "code",
   "execution_count": 122,
   "id": "a1276d8c",
   "metadata": {},
   "outputs": [],
   "source": [
    "weather['wind_direction'] = weather['wind_direction'].apply(bin_wind_direction)"
   ]
  },
  {
   "cell_type": "code",
   "execution_count": 123,
   "id": "7027eb64",
   "metadata": {},
   "outputs": [
    {
     "data": {
      "text/plain": [
       "wind_direction\n",
       "S     1645\n",
       "N     1590\n",
       "NW    1481\n",
       "W     1127\n",
       "SW    1094\n",
       "NE     777\n",
       "E      549\n",
       "SE     497\n",
       "Name: count, dtype: int64"
      ]
     },
     "execution_count": 123,
     "metadata": {},
     "output_type": "execute_result"
    }
   ],
   "source": [
    "weather['wind_direction'].value_counts()"
   ]
  },
  {
   "cell_type": "code",
   "execution_count": null,
   "id": "5daca425",
   "metadata": {},
   "outputs": [],
   "source": []
  },
  {
   "cell_type": "markdown",
   "id": "e38ddbaf",
   "metadata": {},
   "source": [
    "# 4 Remaining analysis"
   ]
  },
  {
   "cell_type": "markdown",
   "id": "0bc109cc",
   "metadata": {},
   "source": [
    "##### Dealing with null values in skyc2 and skyc3"
   ]
  },
  {
   "cell_type": "code",
   "execution_count": 124,
   "id": "3824d6eb",
   "metadata": {},
   "outputs": [
    {
     "data": {
      "text/plain": [
       "skyc2    1483\n",
       "skyc3    4092\n",
       "dtype: int64"
      ]
     },
     "execution_count": 124,
     "metadata": {},
     "output_type": "execute_result"
    }
   ],
   "source": [
    "weather[['skyc2', 'skyc3']].isnull().sum()"
   ]
  },
  {
   "cell_type": "markdown",
   "id": "219231d2",
   "metadata": {},
   "source": [
    "***Note:*** _Tried using ML models but accuracy and correlation of skyc is low with other variables_"
   ]
  },
  {
   "cell_type": "code",
   "execution_count": 125,
   "id": "0df2670d",
   "metadata": {},
   "outputs": [],
   "source": [
    "weather[['skyc2', 'skyc3']] = weather[['skyc2', 'skyc3']].fillna('missing')"
   ]
  },
  {
   "cell_type": "code",
   "execution_count": 130,
   "id": "e8498f92",
   "metadata": {},
   "outputs": [],
   "source": [
    "weather = weather.set_index('timestamp')"
   ]
  },
  {
   "cell_type": "code",
   "execution_count": 131,
   "id": "af6195b3",
   "metadata": {},
   "outputs": [
    {
     "data": {
      "text/html": [
       "<div>\n",
       "<style scoped>\n",
       "    .dataframe tbody tr th:only-of-type {\n",
       "        vertical-align: middle;\n",
       "    }\n",
       "\n",
       "    .dataframe tbody tr th {\n",
       "        vertical-align: top;\n",
       "    }\n",
       "\n",
       "    .dataframe thead th {\n",
       "        text-align: right;\n",
       "    }\n",
       "</style>\n",
       "<table border=\"1\" class=\"dataframe\">\n",
       "  <thead>\n",
       "    <tr style=\"text-align: right;\">\n",
       "      <th></th>\n",
       "      <th>humidity</th>\n",
       "      <th>wind_direction</th>\n",
       "      <th>wind_speed</th>\n",
       "      <th>precipitation</th>\n",
       "      <th>pressure</th>\n",
       "      <th>visibility</th>\n",
       "      <th>skyc1</th>\n",
       "      <th>skyc2</th>\n",
       "      <th>skyc3</th>\n",
       "      <th>feel</th>\n",
       "      <th>...</th>\n",
       "      <th>month</th>\n",
       "      <th>avg_skyl</th>\n",
       "      <th>RA</th>\n",
       "      <th>SN</th>\n",
       "      <th>DZ</th>\n",
       "      <th>TS</th>\n",
       "      <th>FG</th>\n",
       "      <th>FZ</th>\n",
       "      <th>CLR</th>\n",
       "      <th>BR</th>\n",
       "    </tr>\n",
       "    <tr>\n",
       "      <th>timestamp</th>\n",
       "      <th></th>\n",
       "      <th></th>\n",
       "      <th></th>\n",
       "      <th></th>\n",
       "      <th></th>\n",
       "      <th></th>\n",
       "      <th></th>\n",
       "      <th></th>\n",
       "      <th></th>\n",
       "      <th></th>\n",
       "      <th></th>\n",
       "      <th></th>\n",
       "      <th></th>\n",
       "      <th></th>\n",
       "      <th></th>\n",
       "      <th></th>\n",
       "      <th></th>\n",
       "      <th></th>\n",
       "      <th></th>\n",
       "      <th></th>\n",
       "      <th></th>\n",
       "    </tr>\n",
       "  </thead>\n",
       "  <tbody>\n",
       "    <tr>\n",
       "      <th>2021-06-14 18:51:00</th>\n",
       "      <td>73.22</td>\n",
       "      <td>S</td>\n",
       "      <td>11.0</td>\n",
       "      <td>0</td>\n",
       "      <td>29.83</td>\n",
       "      <td>2</td>\n",
       "      <td>FEW</td>\n",
       "      <td>SCT</td>\n",
       "      <td>BKN</td>\n",
       "      <td>71.10</td>\n",
       "      <td>...</td>\n",
       "      <td>6</td>\n",
       "      <td>4733.333333</td>\n",
       "      <td>0</td>\n",
       "      <td>0</td>\n",
       "      <td>0</td>\n",
       "      <td>0</td>\n",
       "      <td>0</td>\n",
       "      <td>0</td>\n",
       "      <td>1</td>\n",
       "      <td>0</td>\n",
       "    </tr>\n",
       "    <tr>\n",
       "      <th>2021-06-16 23:51:00</th>\n",
       "      <td>28.25</td>\n",
       "      <td>W</td>\n",
       "      <td>10.0</td>\n",
       "      <td>0</td>\n",
       "      <td>29.87</td>\n",
       "      <td>2</td>\n",
       "      <td>FEW</td>\n",
       "      <td>FEW</td>\n",
       "      <td>missing</td>\n",
       "      <td>73.90</td>\n",
       "      <td>...</td>\n",
       "      <td>6</td>\n",
       "      <td>16750.000000</td>\n",
       "      <td>0</td>\n",
       "      <td>0</td>\n",
       "      <td>0</td>\n",
       "      <td>0</td>\n",
       "      <td>0</td>\n",
       "      <td>0</td>\n",
       "      <td>1</td>\n",
       "      <td>0</td>\n",
       "    </tr>\n",
       "    <tr>\n",
       "      <th>2021-01-26 02:51:00</th>\n",
       "      <td>44.89</td>\n",
       "      <td>N</td>\n",
       "      <td>8.0</td>\n",
       "      <td>0</td>\n",
       "      <td>30.10</td>\n",
       "      <td>2</td>\n",
       "      <td>OVC</td>\n",
       "      <td>OVC</td>\n",
       "      <td>missing</td>\n",
       "      <td>25.47</td>\n",
       "      <td>...</td>\n",
       "      <td>1</td>\n",
       "      <td>18500.000000</td>\n",
       "      <td>0</td>\n",
       "      <td>0</td>\n",
       "      <td>0</td>\n",
       "      <td>0</td>\n",
       "      <td>0</td>\n",
       "      <td>0</td>\n",
       "      <td>1</td>\n",
       "      <td>0</td>\n",
       "    </tr>\n",
       "    <tr>\n",
       "      <th>2021-05-03 19:51:00</th>\n",
       "      <td>59.98</td>\n",
       "      <td>SE</td>\n",
       "      <td>9.0</td>\n",
       "      <td>0</td>\n",
       "      <td>29.83</td>\n",
       "      <td>2</td>\n",
       "      <td>BKN</td>\n",
       "      <td>OVC</td>\n",
       "      <td>OVC</td>\n",
       "      <td>63.00</td>\n",
       "      <td>...</td>\n",
       "      <td>5</td>\n",
       "      <td>9833.333333</td>\n",
       "      <td>0</td>\n",
       "      <td>0</td>\n",
       "      <td>0</td>\n",
       "      <td>0</td>\n",
       "      <td>0</td>\n",
       "      <td>0</td>\n",
       "      <td>1</td>\n",
       "      <td>0</td>\n",
       "    </tr>\n",
       "    <tr>\n",
       "      <th>2021-11-17 14:51:00</th>\n",
       "      <td>51.81</td>\n",
       "      <td>SE</td>\n",
       "      <td>7.0</td>\n",
       "      <td>0</td>\n",
       "      <td>30.34</td>\n",
       "      <td>2</td>\n",
       "      <td>FEW</td>\n",
       "      <td>SCT</td>\n",
       "      <td>BKN</td>\n",
       "      <td>51.10</td>\n",
       "      <td>...</td>\n",
       "      <td>11</td>\n",
       "      <td>13833.333333</td>\n",
       "      <td>0</td>\n",
       "      <td>0</td>\n",
       "      <td>0</td>\n",
       "      <td>0</td>\n",
       "      <td>0</td>\n",
       "      <td>0</td>\n",
       "      <td>1</td>\n",
       "      <td>0</td>\n",
       "    </tr>\n",
       "  </tbody>\n",
       "</table>\n",
       "<p>5 rows × 23 columns</p>\n",
       "</div>"
      ],
      "text/plain": [
       "                     humidity wind_direction  wind_speed  precipitation   \n",
       "timestamp                                                                 \n",
       "2021-06-14 18:51:00     73.22              S        11.0              0  \\\n",
       "2021-06-16 23:51:00     28.25              W        10.0              0   \n",
       "2021-01-26 02:51:00     44.89              N         8.0              0   \n",
       "2021-05-03 19:51:00     59.98             SE         9.0              0   \n",
       "2021-11-17 14:51:00     51.81             SE         7.0              0   \n",
       "\n",
       "                     pressure  visibility skyc1 skyc2    skyc3   feel  ...   \n",
       "timestamp                                                              ...   \n",
       "2021-06-14 18:51:00     29.83           2   FEW   SCT      BKN  71.10  ...  \\\n",
       "2021-06-16 23:51:00     29.87           2   FEW   FEW  missing  73.90  ...   \n",
       "2021-01-26 02:51:00     30.10           2   OVC   OVC  missing  25.47  ...   \n",
       "2021-05-03 19:51:00     29.83           2   BKN   OVC      OVC  63.00  ...   \n",
       "2021-11-17 14:51:00     30.34           2   FEW   SCT      BKN  51.10  ...   \n",
       "\n",
       "                     month      avg_skyl  RA  SN  DZ  TS  FG  FZ  CLR  BR  \n",
       "timestamp                                                                  \n",
       "2021-06-14 18:51:00      6   4733.333333   0   0   0   0   0   0    1   0  \n",
       "2021-06-16 23:51:00      6  16750.000000   0   0   0   0   0   0    1   0  \n",
       "2021-01-26 02:51:00      1  18500.000000   0   0   0   0   0   0    1   0  \n",
       "2021-05-03 19:51:00      5   9833.333333   0   0   0   0   0   0    1   0  \n",
       "2021-11-17 14:51:00     11  13833.333333   0   0   0   0   0   0    1   0  \n",
       "\n",
       "[5 rows x 23 columns]"
      ]
     },
     "execution_count": 131,
     "metadata": {},
     "output_type": "execute_result"
    }
   ],
   "source": [
    "weather.sample(5)"
   ]
  },
  {
   "cell_type": "code",
   "execution_count": 132,
   "id": "22a43aa5",
   "metadata": {},
   "outputs": [],
   "source": [
    "# weather.to_csv(f\"{path}/dataset/weather_processed.csv\")"
   ]
  },
  {
   "cell_type": "code",
   "execution_count": null,
   "id": "8c1fc224",
   "metadata": {},
   "outputs": [],
   "source": []
  }
 ],
 "metadata": {
  "kernelspec": {
   "display_name": "Python 3.10 (tensorflow)",
   "language": "python",
   "name": "tensorflow"
  },
  "language_info": {
   "codemirror_mode": {
    "name": "ipython",
    "version": 3
   },
   "file_extension": ".py",
   "mimetype": "text/x-python",
   "name": "python",
   "nbconvert_exporter": "python",
   "pygments_lexer": "ipython3",
   "version": "3.10.11"
  }
 },
 "nbformat": 4,
 "nbformat_minor": 5
}
