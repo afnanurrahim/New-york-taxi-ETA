{
 "cells": [
  {
   "cell_type": "code",
   "execution_count": 1,
   "id": "f360d8fc",
   "metadata": {},
   "outputs": [],
   "source": [
    "import os\n",
    "import polars as pl\n",
    "from sklearn.preprocessing import LabelEncoder\n",
    "from sklearn.model_selection import train_test_split\n",
    "from xgboost.sklearn import XGBRegressor\n",
    "from sklearn.linear_model import LinearRegression\n",
    "from sklearn.model_selection import RandomizedSearchCV\n",
    "import matplotlib.pyplot as plt\n",
    "from sklearn.metrics import mean_absolute_error as MAE"
   ]
  },
  {
   "cell_type": "code",
   "execution_count": null,
   "id": "1754edb7",
   "metadata": {},
   "outputs": [],
   "source": []
  },
  {
   "cell_type": "markdown",
   "id": "437c7a1f",
   "metadata": {},
   "source": [
    "### Importing data"
   ]
  },
  {
   "cell_type": "code",
   "execution_count": 2,
   "id": "50694729",
   "metadata": {},
   "outputs": [],
   "source": [
    "path = \"/Users/afnan/Desktop/python/Data_science_Notes/Uber_data/4_ETA/preprocessed\""
   ]
  },
  {
   "cell_type": "code",
   "execution_count": 3,
   "id": "009cf8fa",
   "metadata": {},
   "outputs": [],
   "source": [
    "all_files = os.listdir(\"preprocessed/\")\n",
    "parquet_files = [file for file in all_files if file.endswith(\".parquet\")]"
   ]
  },
  {
   "cell_type": "code",
   "execution_count": 4,
   "id": "7b8ea9ac",
   "metadata": {},
   "outputs": [],
   "source": [
    "feature_cols = ['taxi_company', 'trip_miles',  'wav_request_flag', 'wav_match_flag', 'dispatching_base_num', \n",
    "                'PULocationID', 'PUBorough', 'PUservice_zone', 'DOLocationID', 'DOBorough', 'DOservice_zone', \n",
    "                'any_tolls', 'hour_of_day', 'day_of_week', 'month', 'traffic',\n",
    "                'feel', 'humidity', 'BR', 'CLR', 'SN', 'wind_speed', 'wind_direction',\n",
    "                'trip_time', 'minutes_per_mile']"
   ]
  },
  {
   "cell_type": "code",
   "execution_count": 5,
   "id": "a1dca5e7",
   "metadata": {},
   "outputs": [
    {
     "data": {
      "text/plain": [
       "25"
      ]
     },
     "execution_count": 5,
     "metadata": {},
     "output_type": "execute_result"
    }
   ],
   "source": [
    "len(feature_cols)"
   ]
  },
  {
   "cell_type": "code",
   "execution_count": 6,
   "id": "755afcae",
   "metadata": {},
   "outputs": [],
   "source": [
    "df1 = pl.read_parquet(f\"{path}/{parquet_files[0]}\", columns=feature_cols)\n",
    "df2 = pl.read_parquet(f\"{path}/{parquet_files[1]}\", columns=feature_cols)\n",
    "df3 = pl.read_parquet(f\"{path}/{parquet_files[2]}\", columns=feature_cols)\n",
    "df4 = pl.read_parquet(f\"{path}/{parquet_files[3]}\", columns=feature_cols)\n",
    "df5 = pl.read_parquet(f\"{path}/{parquet_files[4]}\", columns=feature_cols)\n",
    "df6 = pl.read_parquet(f\"{path}/{parquet_files[5]}\", columns=feature_cols)\n",
    "df7 = pl.read_parquet(f\"{path}/{parquet_files[6]}\", columns=feature_cols)\n",
    "df8 = pl.read_parquet(f\"{path}/{parquet_files[7]}\", columns=feature_cols)"
   ]
  },
  {
   "cell_type": "code",
   "execution_count": 7,
   "id": "3b0c6564",
   "metadata": {},
   "outputs": [],
   "source": [
    "dfs = [df1, df2, df3, df4, df5, df6, df7, df8]"
   ]
  },
  {
   "cell_type": "code",
   "execution_count": 8,
   "id": "fab73308",
   "metadata": {},
   "outputs": [],
   "source": [
    "combined_df = pl.concat(dfs)"
   ]
  },
  {
   "cell_type": "code",
   "execution_count": 9,
   "id": "ab20ff50",
   "metadata": {},
   "outputs": [
    {
     "data": {
      "text/html": [
       "<div><style>\n",
       ".dataframe > thead > tr,\n",
       ".dataframe > tbody > tr {\n",
       "  text-align: right;\n",
       "  white-space: pre-wrap;\n",
       "}\n",
       "</style>\n",
       "<small>shape: (5, 25)</small><table border=\"1\" class=\"dataframe\"><thead><tr><th>taxi_company</th><th>trip_miles</th><th>wav_request_flag</th><th>wav_match_flag</th><th>dispatching_base_num</th><th>PULocationID</th><th>PUBorough</th><th>PUservice_zone</th><th>DOLocationID</th><th>DOBorough</th><th>DOservice_zone</th><th>any_tolls</th><th>hour_of_day</th><th>day_of_week</th><th>month</th><th>traffic</th><th>feel</th><th>humidity</th><th>BR</th><th>CLR</th><th>SN</th><th>wind_speed</th><th>wind_direction</th><th>trip_time</th><th>minutes_per_mile</th></tr><tr><td>str</td><td>f64</td><td>i32</td><td>i32</td><td>str</td><td>i64</td><td>str</td><td>str</td><td>i64</td><td>str</td><td>str</td><td>i32</td><td>i32</td><td>str</td><td>str</td><td>i32</td><td>f64</td><td>f64</td><td>i64</td><td>i64</td><td>i64</td><td>f64</td><td>str</td><td>f64</td><td>f64</td></tr></thead><tbody><tr><td>&quot;Lyft&quot;</td><td>2.1</td><td>0</td><td>0</td><td>&quot;B02510&quot;</td><td>39</td><td>&quot;Brooklyn&quot;</td><td>&quot;Boro Zone&quot;</td><td>72</td><td>&quot;Brooklyn&quot;</td><td>&quot;Boro Zone&quot;</td><td>0</td><td>14</td><td>&quot;Sunday&quot;</td><td>&quot;July&quot;</td><td>24000</td><td>73.9</td><td>81.82</td><td>0</td><td>1</td><td>0</td><td>9.0</td><td>&quot;SE&quot;</td><td>11.55</td><td>5.5</td></tr><tr><td>&quot;Uber&quot;</td><td>1.99</td><td>0</td><td>0</td><td>&quot;B02866&quot;</td><td>141</td><td>&quot;Manhattan&quot;</td><td>&quot;Yellow Zone&quot;</td><td>164</td><td>&quot;Manhattan&quot;</td><td>&quot;Yellow Zone&quot;</td><td>0</td><td>14</td><td>&quot;Sunday&quot;</td><td>&quot;July&quot;</td><td>24000</td><td>73.9</td><td>81.82</td><td>0</td><td>1</td><td>0</td><td>9.0</td><td>&quot;SE&quot;</td><td>11.366667</td><td>5.711893</td></tr><tr><td>&quot;Uber&quot;</td><td>1.1</td><td>0</td><td>0</td><td>&quot;B02764&quot;</td><td>222</td><td>&quot;Brooklyn&quot;</td><td>&quot;Boro Zone&quot;</td><td>76</td><td>&quot;Brooklyn&quot;</td><td>&quot;Boro Zone&quot;</td><td>0</td><td>14</td><td>&quot;Sunday&quot;</td><td>&quot;July&quot;</td><td>24000</td><td>73.9</td><td>81.82</td><td>0</td><td>1</td><td>0</td><td>9.0</td><td>&quot;SE&quot;</td><td>6.916667</td><td>6.287879</td></tr><tr><td>&quot;Uber&quot;</td><td>1.7</td><td>0</td><td>0</td><td>&quot;B02836&quot;</td><td>250</td><td>&quot;Bronx&quot;</td><td>&quot;Boro Zone&quot;</td><td>242</td><td>&quot;Bronx&quot;</td><td>&quot;Boro Zone&quot;</td><td>0</td><td>14</td><td>&quot;Sunday&quot;</td><td>&quot;July&quot;</td><td>24000</td><td>73.9</td><td>81.82</td><td>0</td><td>1</td><td>0</td><td>9.0</td><td>&quot;SE&quot;</td><td>10.25</td><td>6.029412</td></tr><tr><td>&quot;Uber&quot;</td><td>3.73</td><td>0</td><td>0</td><td>&quot;B02872&quot;</td><td>256</td><td>&quot;Brooklyn&quot;</td><td>&quot;Boro Zone&quot;</td><td>148</td><td>&quot;Manhattan&quot;</td><td>&quot;Yellow Zone&quot;</td><td>0</td><td>14</td><td>&quot;Sunday&quot;</td><td>&quot;July&quot;</td><td>24000</td><td>73.9</td><td>81.82</td><td>0</td><td>1</td><td>0</td><td>9.0</td><td>&quot;SE&quot;</td><td>18.966667</td><td>5.084897</td></tr></tbody></table></div>"
      ],
      "text/plain": [
       "shape: (5, 25)\n",
       "┌───────────┬───────────┬───────────┬───────────┬───┬───────────┬───────────┬───────────┬──────────┐\n",
       "│ taxi_comp ┆ trip_mile ┆ wav_reque ┆ wav_match ┆ … ┆ wind_spee ┆ wind_dire ┆ trip_time ┆ minutes_ │\n",
       "│ any       ┆ s         ┆ st_flag   ┆ _flag     ┆   ┆ d         ┆ ction     ┆ ---       ┆ per_mile │\n",
       "│ ---       ┆ ---       ┆ ---       ┆ ---       ┆   ┆ ---       ┆ ---       ┆ f64       ┆ ---      │\n",
       "│ str       ┆ f64       ┆ i32       ┆ i32       ┆   ┆ f64       ┆ str       ┆           ┆ f64      │\n",
       "╞═══════════╪═══════════╪═══════════╪═══════════╪═══╪═══════════╪═══════════╪═══════════╪══════════╡\n",
       "│ Lyft      ┆ 2.1       ┆ 0         ┆ 0         ┆ … ┆ 9.0       ┆ SE        ┆ 11.55     ┆ 5.5      │\n",
       "│ Uber      ┆ 1.99      ┆ 0         ┆ 0         ┆ … ┆ 9.0       ┆ SE        ┆ 11.366667 ┆ 5.711893 │\n",
       "│ Uber      ┆ 1.1       ┆ 0         ┆ 0         ┆ … ┆ 9.0       ┆ SE        ┆ 6.916667  ┆ 6.287879 │\n",
       "│ Uber      ┆ 1.7       ┆ 0         ┆ 0         ┆ … ┆ 9.0       ┆ SE        ┆ 10.25     ┆ 6.029412 │\n",
       "│ Uber      ┆ 3.73      ┆ 0         ┆ 0         ┆ … ┆ 9.0       ┆ SE        ┆ 18.966667 ┆ 5.084897 │\n",
       "└───────────┴───────────┴───────────┴───────────┴───┴───────────┴───────────┴───────────┴──────────┘"
      ]
     },
     "execution_count": 9,
     "metadata": {},
     "output_type": "execute_result"
    }
   ],
   "source": [
    "combined_df.head()"
   ]
  },
  {
   "cell_type": "markdown",
   "id": "bc9eb3ab",
   "metadata": {},
   "source": [
    "##### Label encoding"
   ]
  },
  {
   "cell_type": "code",
   "execution_count": 10,
   "id": "e928337b",
   "metadata": {},
   "outputs": [],
   "source": [
    "month_mapping = { \"January\": 1, \"February\": 2, \"March\": 3, \"April\": 4, \"May\": 5, \"June\": 6, \"July\": 7,\n",
    "                  \"August\": 8, \"September\": 9, \"October\": 10, \"November\": 11, \"December\": 12\n",
    "                }\n",
    "\n",
    "day_of_week_mapping = {\n",
    "    \"Monday\": 1, \"Tuesday\": 2, \"Wednesday\": 3, \"Thursday\": 4, \"Friday\": 5, \"Saturday\": 6, \"Sunday\": 7\n",
    "}\n",
    "\n",
    "borough_mapping = { \"Queens\": 1, \"Manhattan\": 2, \"Bronx\": 3, \"Staten Island\": 4, \"Brooklyn\": 5, \"EWR\": 6 }\n",
    "zone_mapping = {\"Yellow Zone\":1, \"Boro Zone\":2, \"Airports\":3}"
   ]
  },
  {
   "cell_type": "code",
   "execution_count": 11,
   "id": "12e1e6c5",
   "metadata": {},
   "outputs": [],
   "source": [
    "combined_df = combined_df.with_columns(pl.col(\"month\").replace(month_mapping).cast(pl.Int64, strict=False))\n",
    "\n",
    "combined_df = combined_df.with_columns(pl.col(\"day_of_week\").replace(day_of_week_mapping).cast(pl.Int64, strict=False))\n",
    "\n",
    "combined_df = combined_df.with_columns(pl.col(\"PUBorough\").replace(borough_mapping).cast(pl.Int64, strict=False))\n",
    "combined_df = combined_df.with_columns(pl.col(\"DOBorough\").replace(borough_mapping).cast(pl.Int64, strict=False))\n",
    "\n",
    "combined_df = combined_df.with_columns(pl.col(\"PUservice_zone\").replace(zone_mapping).cast(pl.Int64, strict=False))\n",
    "combined_df = combined_df.with_columns(pl.col(\"DOservice_zone\").replace(zone_mapping).cast(pl.Int64, strict=False))"
   ]
  },
  {
   "cell_type": "code",
   "execution_count": 12,
   "id": "e621c95a",
   "metadata": {},
   "outputs": [],
   "source": [
    "string_columns = combined_df.select([pl.col(pl.String)]).columns"
   ]
  },
  {
   "cell_type": "code",
   "execution_count": 13,
   "id": "a9922a0f",
   "metadata": {
    "scrolled": true
   },
   "outputs": [
    {
     "name": "stdout",
     "output_type": "stream",
     "text": [
      "{'Lyft': 0, 'Uber': 1, 'Via': 2}\n",
      "{'B02510': 1, 'B02866': 13, 'B02764': 5, 'B02836': 9, 'B02872': 18, 'B02887': 28, 'B02765': 6, 'B02867': 14, 'B02877': 21, 'B02835': 8, 'B02883': 26, 'B02682': 4, 'B02876': 20, 'B02617': 3, 'B02882': 25, 'B02512': 2, 'B02869': 15, 'B02871': 17, 'B02878': 22, 'B02870': 16, 'B02864': 11, 'B02884': 27, 'B02395': 0, 'B02875': 19, 'B02865': 12, 'B02880': 24, 'B02889': 30, 'B02888': 29, 'B02879': 23, 'B02800': 7, 'B02844': 10, 'B03136': 31, 'B03406': 33, 'B03404': 32}\n",
      "{'SE': 5, 'NW': 3, 'NE': 2, 'S': 4, 'N': 1, 'E': 0, 'SW': 6, 'W': 7}\n"
     ]
    }
   ],
   "source": [
    "for column in string_columns:\n",
    "    le = LabelEncoder()\n",
    "    encoded_values = le.fit(combined_df[column])\n",
    "    column_map = dict(zip(combined_df[column], le.transform(combined_df[column])))\n",
    "    print(column_map)\n",
    "    combined_df = combined_df.with_columns(pl.col(column).replace(column_map).cast(pl.Int64, strict=False))"
   ]
  },
  {
   "cell_type": "markdown",
   "id": "1d83e4f3",
   "metadata": {},
   "source": [
    "##### Training columns"
   ]
  },
  {
   "cell_type": "code",
   "execution_count": 14,
   "id": "7751f611",
   "metadata": {},
   "outputs": [],
   "source": [
    "train_cols = [x for x in feature_cols if x not in ['trip_time', 'minutes_per_mile']]"
   ]
  },
  {
   "cell_type": "markdown",
   "id": "0c1ef7af",
   "metadata": {},
   "source": [
    "### Hyperparameter tuning"
   ]
  },
  {
   "cell_type": "code",
   "execution_count": 15,
   "id": "a95050b2",
   "metadata": {},
   "outputs": [],
   "source": [
    "# Dataset for hyperparameter tuning\n",
    "tuning_df = combined_df[::20]"
   ]
  },
  {
   "cell_type": "code",
   "execution_count": 16,
   "id": "744a6d2e",
   "metadata": {},
   "outputs": [
    {
     "data": {
      "text/plain": [
       "(813858, 25)"
      ]
     },
     "execution_count": 16,
     "metadata": {},
     "output_type": "execute_result"
    }
   ],
   "source": [
    "tuning_df.shape"
   ]
  },
  {
   "cell_type": "code",
   "execution_count": 17,
   "id": "e90873d7",
   "metadata": {},
   "outputs": [],
   "source": [
    "train_X, X_test, train_y, y_test = train_test_split(tuning_df[train_cols], tuning_df[['minutes_per_mile', 'trip_time']], \n",
    "                                                    test_size=0.2, random_state=42)"
   ]
  },
  {
   "cell_type": "code",
   "execution_count": 18,
   "id": "2c1c1990",
   "metadata": {},
   "outputs": [],
   "source": [
    "X_train, X_val, y_train, y_val = train_test_split(train_X, train_y, \n",
    "                                                    test_size=0.1, random_state=42)"
   ]
  },
  {
   "cell_type": "code",
   "execution_count": null,
   "id": "58d7ba9c",
   "metadata": {},
   "outputs": [],
   "source": []
  },
  {
   "cell_type": "code",
   "execution_count": 19,
   "id": "1a386e78",
   "metadata": {},
   "outputs": [],
   "source": [
    "# RandomizedSearchCV"
   ]
  },
  {
   "cell_type": "code",
   "execution_count": 20,
   "id": "9d92582e",
   "metadata": {},
   "outputs": [],
   "source": [
    "param_grid = {\"max_depth\":    [10, 15, 20],\n",
    "              \"learning_rate\": [0.1, 0.2, 0.3]} "
   ]
  },
  {
   "cell_type": "code",
   "execution_count": 21,
   "id": "863a328b",
   "metadata": {},
   "outputs": [],
   "source": [
    "model = XGBRegressor(eval_metric='mae', early_stopping_rounds=10)"
   ]
  },
  {
   "cell_type": "code",
   "execution_count": 22,
   "id": "167ea5a2",
   "metadata": {
    "scrolled": true
   },
   "outputs": [],
   "source": [
    "# grid = RandomizedSearchCV(model, param_grid).fit(X_train, y_train['minutes_per_mile'], \n",
    "#                          eval_set=[(X_val, y_val['minutes_per_mile'])])"
   ]
  },
  {
   "cell_type": "code",
   "execution_count": 23,
   "id": "b0792692",
   "metadata": {},
   "outputs": [],
   "source": [
    "# best parameter: max_depth = 10, learning_rate = 0.2"
   ]
  },
  {
   "cell_type": "code",
   "execution_count": 24,
   "id": "a481438b",
   "metadata": {},
   "outputs": [],
   "source": [
    "minute_model = XGBRegressor(eval_metric='mae', early_stopping_rounds=10,\n",
    "                            n_estimators = 500, \n",
    "                            max_depth = 10,\n",
    "                            learning_rate = 0.2)"
   ]
  },
  {
   "cell_type": "code",
   "execution_count": 25,
   "id": "87e987aa",
   "metadata": {},
   "outputs": [],
   "source": [
    "eval_sets = [(X_train, y_train['minutes_per_mile']), (X_val, y_val['minutes_per_mile'])]"
   ]
  },
  {
   "cell_type": "code",
   "execution_count": 26,
   "id": "35433c0c",
   "metadata": {
    "scrolled": true
   },
   "outputs": [
    {
     "name": "stdout",
     "output_type": "stream",
     "text": [
      "[0]\tvalidation_0-mae:3.73614\tvalidation_1-mae:3.73961\n",
      "[1]\tvalidation_0-mae:2.99008\tvalidation_1-mae:2.99170\n",
      "[2]\tvalidation_0-mae:2.39802\tvalidation_1-mae:2.39879\n",
      "[3]\tvalidation_0-mae:1.94202\tvalidation_1-mae:1.94275\n",
      "[4]\tvalidation_0-mae:1.60680\tvalidation_1-mae:1.60926\n",
      "[5]\tvalidation_0-mae:1.37271\tvalidation_1-mae:1.37827\n",
      "[6]\tvalidation_0-mae:1.21546\tvalidation_1-mae:1.22424\n",
      "[7]\tvalidation_0-mae:1.11227\tvalidation_1-mae:1.12381\n",
      "[8]\tvalidation_0-mae:1.04640\tvalidation_1-mae:1.06051\n",
      "[9]\tvalidation_0-mae:1.00392\tvalidation_1-mae:1.02014\n",
      "[10]\tvalidation_0-mae:0.97739\tvalidation_1-mae:0.99532\n",
      "[11]\tvalidation_0-mae:0.96085\tvalidation_1-mae:0.98094\n",
      "[12]\tvalidation_0-mae:0.94993\tvalidation_1-mae:0.97166\n",
      "[13]\tvalidation_0-mae:0.94248\tvalidation_1-mae:0.96600\n",
      "[14]\tvalidation_0-mae:0.93731\tvalidation_1-mae:0.96197\n",
      "[15]\tvalidation_0-mae:0.93087\tvalidation_1-mae:0.95689\n",
      "[16]\tvalidation_0-mae:0.92735\tvalidation_1-mae:0.95460\n",
      "[17]\tvalidation_0-mae:0.92416\tvalidation_1-mae:0.95285\n",
      "[18]\tvalidation_0-mae:0.92067\tvalidation_1-mae:0.95031\n",
      "[19]\tvalidation_0-mae:0.91863\tvalidation_1-mae:0.94974\n",
      "[20]\tvalidation_0-mae:0.91603\tvalidation_1-mae:0.94803\n",
      "[21]\tvalidation_0-mae:0.91182\tvalidation_1-mae:0.94535\n",
      "[22]\tvalidation_0-mae:0.91058\tvalidation_1-mae:0.94490\n",
      "[23]\tvalidation_0-mae:0.90490\tvalidation_1-mae:0.94049\n",
      "[24]\tvalidation_0-mae:0.90284\tvalidation_1-mae:0.93931\n",
      "[25]\tvalidation_0-mae:0.89715\tvalidation_1-mae:0.93474\n",
      "[26]\tvalidation_0-mae:0.89512\tvalidation_1-mae:0.93398\n",
      "[27]\tvalidation_0-mae:0.88972\tvalidation_1-mae:0.92995\n",
      "[28]\tvalidation_0-mae:0.88749\tvalidation_1-mae:0.92869\n",
      "[29]\tvalidation_0-mae:0.88492\tvalidation_1-mae:0.92729\n",
      "[30]\tvalidation_0-mae:0.88295\tvalidation_1-mae:0.92615\n",
      "[31]\tvalidation_0-mae:0.88138\tvalidation_1-mae:0.92535\n",
      "[32]\tvalidation_0-mae:0.87927\tvalidation_1-mae:0.92434\n",
      "[33]\tvalidation_0-mae:0.87690\tvalidation_1-mae:0.92295\n",
      "[34]\tvalidation_0-mae:0.87372\tvalidation_1-mae:0.92137\n",
      "[35]\tvalidation_0-mae:0.87170\tvalidation_1-mae:0.92024\n",
      "[36]\tvalidation_0-mae:0.86963\tvalidation_1-mae:0.91875\n",
      "[37]\tvalidation_0-mae:0.86791\tvalidation_1-mae:0.91811\n",
      "[38]\tvalidation_0-mae:0.86466\tvalidation_1-mae:0.91562\n",
      "[39]\tvalidation_0-mae:0.86308\tvalidation_1-mae:0.91503\n",
      "[40]\tvalidation_0-mae:0.86189\tvalidation_1-mae:0.91461\n",
      "[41]\tvalidation_0-mae:0.85883\tvalidation_1-mae:0.91254\n",
      "[42]\tvalidation_0-mae:0.85746\tvalidation_1-mae:0.91214\n",
      "[43]\tvalidation_0-mae:0.85435\tvalidation_1-mae:0.91015\n",
      "[44]\tvalidation_0-mae:0.85210\tvalidation_1-mae:0.90889\n",
      "[45]\tvalidation_0-mae:0.85020\tvalidation_1-mae:0.90797\n",
      "[46]\tvalidation_0-mae:0.84844\tvalidation_1-mae:0.90723\n",
      "[47]\tvalidation_0-mae:0.84732\tvalidation_1-mae:0.90707\n",
      "[48]\tvalidation_0-mae:0.84487\tvalidation_1-mae:0.90575\n",
      "[49]\tvalidation_0-mae:0.84350\tvalidation_1-mae:0.90526\n",
      "[50]\tvalidation_0-mae:0.84117\tvalidation_1-mae:0.90415\n",
      "[51]\tvalidation_0-mae:0.83985\tvalidation_1-mae:0.90375\n",
      "[52]\tvalidation_0-mae:0.83694\tvalidation_1-mae:0.90189\n",
      "[53]\tvalidation_0-mae:0.83519\tvalidation_1-mae:0.90105\n",
      "[54]\tvalidation_0-mae:0.83364\tvalidation_1-mae:0.90052\n",
      "[55]\tvalidation_0-mae:0.83292\tvalidation_1-mae:0.90035\n",
      "[56]\tvalidation_0-mae:0.83135\tvalidation_1-mae:0.89970\n",
      "[57]\tvalidation_0-mae:0.83016\tvalidation_1-mae:0.89950\n",
      "[58]\tvalidation_0-mae:0.82897\tvalidation_1-mae:0.89919\n",
      "[59]\tvalidation_0-mae:0.82783\tvalidation_1-mae:0.89899\n",
      "[60]\tvalidation_0-mae:0.82595\tvalidation_1-mae:0.89812\n",
      "[61]\tvalidation_0-mae:0.82474\tvalidation_1-mae:0.89770\n",
      "[62]\tvalidation_0-mae:0.82284\tvalidation_1-mae:0.89672\n",
      "[63]\tvalidation_0-mae:0.82219\tvalidation_1-mae:0.89666\n",
      "[64]\tvalidation_0-mae:0.82136\tvalidation_1-mae:0.89638\n",
      "[65]\tvalidation_0-mae:0.81918\tvalidation_1-mae:0.89545\n",
      "[66]\tvalidation_0-mae:0.81799\tvalidation_1-mae:0.89498\n",
      "[67]\tvalidation_0-mae:0.81716\tvalidation_1-mae:0.89487\n",
      "[68]\tvalidation_0-mae:0.81601\tvalidation_1-mae:0.89473\n",
      "[69]\tvalidation_0-mae:0.81494\tvalidation_1-mae:0.89469\n",
      "[70]\tvalidation_0-mae:0.81316\tvalidation_1-mae:0.89386\n",
      "[71]\tvalidation_0-mae:0.81233\tvalidation_1-mae:0.89368\n",
      "[72]\tvalidation_0-mae:0.81169\tvalidation_1-mae:0.89361\n",
      "[73]\tvalidation_0-mae:0.81067\tvalidation_1-mae:0.89328\n",
      "[74]\tvalidation_0-mae:0.80926\tvalidation_1-mae:0.89290\n",
      "[75]\tvalidation_0-mae:0.80852\tvalidation_1-mae:0.89281\n",
      "[76]\tvalidation_0-mae:0.80696\tvalidation_1-mae:0.89232\n",
      "[77]\tvalidation_0-mae:0.80624\tvalidation_1-mae:0.89212\n",
      "[78]\tvalidation_0-mae:0.80473\tvalidation_1-mae:0.89185\n",
      "[79]\tvalidation_0-mae:0.80395\tvalidation_1-mae:0.89160\n",
      "[80]\tvalidation_0-mae:0.80281\tvalidation_1-mae:0.89137\n",
      "[81]\tvalidation_0-mae:0.80114\tvalidation_1-mae:0.89085\n",
      "[82]\tvalidation_0-mae:0.80027\tvalidation_1-mae:0.89058\n",
      "[83]\tvalidation_0-mae:0.79927\tvalidation_1-mae:0.89053\n",
      "[84]\tvalidation_0-mae:0.79763\tvalidation_1-mae:0.89000\n",
      "[85]\tvalidation_0-mae:0.79696\tvalidation_1-mae:0.89000\n",
      "[86]\tvalidation_0-mae:0.79569\tvalidation_1-mae:0.88961\n",
      "[87]\tvalidation_0-mae:0.79429\tvalidation_1-mae:0.88950\n",
      "[88]\tvalidation_0-mae:0.79352\tvalidation_1-mae:0.88941\n",
      "[89]\tvalidation_0-mae:0.79200\tvalidation_1-mae:0.88866\n",
      "[90]\tvalidation_0-mae:0.79158\tvalidation_1-mae:0.88872\n",
      "[91]\tvalidation_0-mae:0.79031\tvalidation_1-mae:0.88866\n",
      "[92]\tvalidation_0-mae:0.78920\tvalidation_1-mae:0.88817\n",
      "[93]\tvalidation_0-mae:0.78804\tvalidation_1-mae:0.88810\n",
      "[94]\tvalidation_0-mae:0.78682\tvalidation_1-mae:0.88795\n",
      "[95]\tvalidation_0-mae:0.78623\tvalidation_1-mae:0.88796\n",
      "[96]\tvalidation_0-mae:0.78567\tvalidation_1-mae:0.88785\n",
      "[97]\tvalidation_0-mae:0.78479\tvalidation_1-mae:0.88783\n",
      "[98]\tvalidation_0-mae:0.78415\tvalidation_1-mae:0.88777\n",
      "[99]\tvalidation_0-mae:0.78302\tvalidation_1-mae:0.88776\n",
      "[100]\tvalidation_0-mae:0.78241\tvalidation_1-mae:0.88771\n",
      "[101]\tvalidation_0-mae:0.78175\tvalidation_1-mae:0.88755\n",
      "[102]\tvalidation_0-mae:0.78136\tvalidation_1-mae:0.88750\n",
      "[103]\tvalidation_0-mae:0.78082\tvalidation_1-mae:0.88730\n",
      "[104]\tvalidation_0-mae:0.78009\tvalidation_1-mae:0.88729\n",
      "[105]\tvalidation_0-mae:0.77895\tvalidation_1-mae:0.88692\n",
      "[106]\tvalidation_0-mae:0.77778\tvalidation_1-mae:0.88688\n",
      "[107]\tvalidation_0-mae:0.77746\tvalidation_1-mae:0.88684\n",
      "[108]\tvalidation_0-mae:0.77677\tvalidation_1-mae:0.88685\n",
      "[109]\tvalidation_0-mae:0.77558\tvalidation_1-mae:0.88653\n",
      "[110]\tvalidation_0-mae:0.77513\tvalidation_1-mae:0.88647\n",
      "[111]\tvalidation_0-mae:0.77425\tvalidation_1-mae:0.88617\n",
      "[112]\tvalidation_0-mae:0.77307\tvalidation_1-mae:0.88597\n",
      "[113]\tvalidation_0-mae:0.77274\tvalidation_1-mae:0.88595\n",
      "[114]\tvalidation_0-mae:0.77144\tvalidation_1-mae:0.88574\n",
      "[115]\tvalidation_0-mae:0.77061\tvalidation_1-mae:0.88573\n",
      "[116]\tvalidation_0-mae:0.77002\tvalidation_1-mae:0.88576\n",
      "[117]\tvalidation_0-mae:0.76952\tvalidation_1-mae:0.88562\n",
      "[118]\tvalidation_0-mae:0.76877\tvalidation_1-mae:0.88547\n",
      "[119]\tvalidation_0-mae:0.76850\tvalidation_1-mae:0.88554\n",
      "[120]\tvalidation_0-mae:0.76753\tvalidation_1-mae:0.88540\n",
      "[121]\tvalidation_0-mae:0.76699\tvalidation_1-mae:0.88542\n",
      "[122]\tvalidation_0-mae:0.76616\tvalidation_1-mae:0.88509\n",
      "[123]\tvalidation_0-mae:0.76530\tvalidation_1-mae:0.88497\n",
      "[124]\tvalidation_0-mae:0.76426\tvalidation_1-mae:0.88483\n",
      "[125]\tvalidation_0-mae:0.76329\tvalidation_1-mae:0.88489\n",
      "[126]\tvalidation_0-mae:0.76196\tvalidation_1-mae:0.88444\n",
      "[127]\tvalidation_0-mae:0.76102\tvalidation_1-mae:0.88440\n",
      "[128]\tvalidation_0-mae:0.76028\tvalidation_1-mae:0.88427\n",
      "[129]\tvalidation_0-mae:0.75961\tvalidation_1-mae:0.88414\n",
      "[130]\tvalidation_0-mae:0.75851\tvalidation_1-mae:0.88400\n",
      "[131]\tvalidation_0-mae:0.75750\tvalidation_1-mae:0.88380\n",
      "[132]\tvalidation_0-mae:0.75655\tvalidation_1-mae:0.88361\n",
      "[133]\tvalidation_0-mae:0.75626\tvalidation_1-mae:0.88352\n",
      "[134]\tvalidation_0-mae:0.75534\tvalidation_1-mae:0.88333\n",
      "[135]\tvalidation_0-mae:0.75442\tvalidation_1-mae:0.88336\n",
      "[136]\tvalidation_0-mae:0.75341\tvalidation_1-mae:0.88302\n",
      "[137]\tvalidation_0-mae:0.75260\tvalidation_1-mae:0.88296\n",
      "[138]\tvalidation_0-mae:0.75173\tvalidation_1-mae:0.88311\n",
      "[139]\tvalidation_0-mae:0.75124\tvalidation_1-mae:0.88311\n",
      "[140]\tvalidation_0-mae:0.75033\tvalidation_1-mae:0.88313\n",
      "[141]\tvalidation_0-mae:0.74956\tvalidation_1-mae:0.88321\n",
      "[142]\tvalidation_0-mae:0.74886\tvalidation_1-mae:0.88331\n",
      "[143]\tvalidation_0-mae:0.74834\tvalidation_1-mae:0.88322\n",
      "[144]\tvalidation_0-mae:0.74772\tvalidation_1-mae:0.88306\n",
      "[145]\tvalidation_0-mae:0.74696\tvalidation_1-mae:0.88292\n",
      "[146]\tvalidation_0-mae:0.74603\tvalidation_1-mae:0.88270\n",
      "[147]\tvalidation_0-mae:0.74535\tvalidation_1-mae:0.88263\n",
      "[148]\tvalidation_0-mae:0.74480\tvalidation_1-mae:0.88255\n"
     ]
    },
    {
     "name": "stdout",
     "output_type": "stream",
     "text": [
      "[149]\tvalidation_0-mae:0.74430\tvalidation_1-mae:0.88256\n",
      "[150]\tvalidation_0-mae:0.74355\tvalidation_1-mae:0.88235\n",
      "[151]\tvalidation_0-mae:0.74305\tvalidation_1-mae:0.88238\n",
      "[152]\tvalidation_0-mae:0.74196\tvalidation_1-mae:0.88236\n",
      "[153]\tvalidation_0-mae:0.74141\tvalidation_1-mae:0.88241\n",
      "[154]\tvalidation_0-mae:0.74082\tvalidation_1-mae:0.88239\n",
      "[155]\tvalidation_0-mae:0.74034\tvalidation_1-mae:0.88243\n",
      "[156]\tvalidation_0-mae:0.73961\tvalidation_1-mae:0.88240\n",
      "[157]\tvalidation_0-mae:0.73888\tvalidation_1-mae:0.88249\n",
      "[158]\tvalidation_0-mae:0.73784\tvalidation_1-mae:0.88246\n",
      "[159]\tvalidation_0-mae:0.73698\tvalidation_1-mae:0.88223\n",
      "[160]\tvalidation_0-mae:0.73658\tvalidation_1-mae:0.88222\n",
      "[161]\tvalidation_0-mae:0.73573\tvalidation_1-mae:0.88230\n",
      "[162]\tvalidation_0-mae:0.73547\tvalidation_1-mae:0.88229\n",
      "[163]\tvalidation_0-mae:0.73446\tvalidation_1-mae:0.88218\n",
      "[164]\tvalidation_0-mae:0.73352\tvalidation_1-mae:0.88205\n",
      "[165]\tvalidation_0-mae:0.73252\tvalidation_1-mae:0.88189\n",
      "[166]\tvalidation_0-mae:0.73159\tvalidation_1-mae:0.88173\n",
      "[167]\tvalidation_0-mae:0.73097\tvalidation_1-mae:0.88166\n",
      "[168]\tvalidation_0-mae:0.73043\tvalidation_1-mae:0.88173\n",
      "[169]\tvalidation_0-mae:0.72978\tvalidation_1-mae:0.88171\n",
      "[170]\tvalidation_0-mae:0.72925\tvalidation_1-mae:0.88184\n",
      "[171]\tvalidation_0-mae:0.72901\tvalidation_1-mae:0.88174\n",
      "[172]\tvalidation_0-mae:0.72840\tvalidation_1-mae:0.88179\n",
      "[173]\tvalidation_0-mae:0.72796\tvalidation_1-mae:0.88177\n",
      "[174]\tvalidation_0-mae:0.72777\tvalidation_1-mae:0.88180\n",
      "[175]\tvalidation_0-mae:0.72722\tvalidation_1-mae:0.88175\n",
      "[176]\tvalidation_0-mae:0.72678\tvalidation_1-mae:0.88169\n"
     ]
    },
    {
     "data": {
      "text/html": [
       "<style>#sk-container-id-1 {color: black;background-color: white;}#sk-container-id-1 pre{padding: 0;}#sk-container-id-1 div.sk-toggleable {background-color: white;}#sk-container-id-1 label.sk-toggleable__label {cursor: pointer;display: block;width: 100%;margin-bottom: 0;padding: 0.3em;box-sizing: border-box;text-align: center;}#sk-container-id-1 label.sk-toggleable__label-arrow:before {content: \"▸\";float: left;margin-right: 0.25em;color: #696969;}#sk-container-id-1 label.sk-toggleable__label-arrow:hover:before {color: black;}#sk-container-id-1 div.sk-estimator:hover label.sk-toggleable__label-arrow:before {color: black;}#sk-container-id-1 div.sk-toggleable__content {max-height: 0;max-width: 0;overflow: hidden;text-align: left;background-color: #f0f8ff;}#sk-container-id-1 div.sk-toggleable__content pre {margin: 0.2em;color: black;border-radius: 0.25em;background-color: #f0f8ff;}#sk-container-id-1 input.sk-toggleable__control:checked~div.sk-toggleable__content {max-height: 200px;max-width: 100%;overflow: auto;}#sk-container-id-1 input.sk-toggleable__control:checked~label.sk-toggleable__label-arrow:before {content: \"▾\";}#sk-container-id-1 div.sk-estimator input.sk-toggleable__control:checked~label.sk-toggleable__label {background-color: #d4ebff;}#sk-container-id-1 div.sk-label input.sk-toggleable__control:checked~label.sk-toggleable__label {background-color: #d4ebff;}#sk-container-id-1 input.sk-hidden--visually {border: 0;clip: rect(1px 1px 1px 1px);clip: rect(1px, 1px, 1px, 1px);height: 1px;margin: -1px;overflow: hidden;padding: 0;position: absolute;width: 1px;}#sk-container-id-1 div.sk-estimator {font-family: monospace;background-color: #f0f8ff;border: 1px dotted black;border-radius: 0.25em;box-sizing: border-box;margin-bottom: 0.5em;}#sk-container-id-1 div.sk-estimator:hover {background-color: #d4ebff;}#sk-container-id-1 div.sk-parallel-item::after {content: \"\";width: 100%;border-bottom: 1px solid gray;flex-grow: 1;}#sk-container-id-1 div.sk-label:hover label.sk-toggleable__label {background-color: #d4ebff;}#sk-container-id-1 div.sk-serial::before {content: \"\";position: absolute;border-left: 1px solid gray;box-sizing: border-box;top: 0;bottom: 0;left: 50%;z-index: 0;}#sk-container-id-1 div.sk-serial {display: flex;flex-direction: column;align-items: center;background-color: white;padding-right: 0.2em;padding-left: 0.2em;position: relative;}#sk-container-id-1 div.sk-item {position: relative;z-index: 1;}#sk-container-id-1 div.sk-parallel {display: flex;align-items: stretch;justify-content: center;background-color: white;position: relative;}#sk-container-id-1 div.sk-item::before, #sk-container-id-1 div.sk-parallel-item::before {content: \"\";position: absolute;border-left: 1px solid gray;box-sizing: border-box;top: 0;bottom: 0;left: 50%;z-index: -1;}#sk-container-id-1 div.sk-parallel-item {display: flex;flex-direction: column;z-index: 1;position: relative;background-color: white;}#sk-container-id-1 div.sk-parallel-item:first-child::after {align-self: flex-end;width: 50%;}#sk-container-id-1 div.sk-parallel-item:last-child::after {align-self: flex-start;width: 50%;}#sk-container-id-1 div.sk-parallel-item:only-child::after {width: 0;}#sk-container-id-1 div.sk-dashed-wrapped {border: 1px dashed gray;margin: 0 0.4em 0.5em 0.4em;box-sizing: border-box;padding-bottom: 0.4em;background-color: white;}#sk-container-id-1 div.sk-label label {font-family: monospace;font-weight: bold;display: inline-block;line-height: 1.2em;}#sk-container-id-1 div.sk-label-container {text-align: center;}#sk-container-id-1 div.sk-container {/* jupyter's `normalize.less` sets `[hidden] { display: none; }` but bootstrap.min.css set `[hidden] { display: none !important; }` so we also need the `!important` here to be able to override the default hidden behavior on the sphinx rendered scikit-learn.org. See: https://github.com/scikit-learn/scikit-learn/issues/21755 */display: inline-block !important;position: relative;}#sk-container-id-1 div.sk-text-repr-fallback {display: none;}</style><div id=\"sk-container-id-1\" class=\"sk-top-container\"><div class=\"sk-text-repr-fallback\"><pre>XGBRegressor(base_score=None, booster=None, callbacks=None,\n",
       "             colsample_bylevel=None, colsample_bynode=None,\n",
       "             colsample_bytree=None, early_stopping_rounds=10,\n",
       "             enable_categorical=False, eval_metric=&#x27;mae&#x27;, feature_types=None,\n",
       "             gamma=None, gpu_id=None, grow_policy=None, importance_type=None,\n",
       "             interaction_constraints=None, learning_rate=0.2, max_bin=None,\n",
       "             max_cat_threshold=None, max_cat_to_onehot=None,\n",
       "             max_delta_step=None, max_depth=10, max_leaves=None,\n",
       "             min_child_weight=None, missing=nan, monotone_constraints=None,\n",
       "             n_estimators=500, n_jobs=None, num_parallel_tree=None,\n",
       "             predictor=None, random_state=None, ...)</pre><b>In a Jupyter environment, please rerun this cell to show the HTML representation or trust the notebook. <br />On GitHub, the HTML representation is unable to render, please try loading this page with nbviewer.org.</b></div><div class=\"sk-container\" hidden><div class=\"sk-item\"><div class=\"sk-estimator sk-toggleable\"><input class=\"sk-toggleable__control sk-hidden--visually\" id=\"sk-estimator-id-1\" type=\"checkbox\" checked><label for=\"sk-estimator-id-1\" class=\"sk-toggleable__label sk-toggleable__label-arrow\">XGBRegressor</label><div class=\"sk-toggleable__content\"><pre>XGBRegressor(base_score=None, booster=None, callbacks=None,\n",
       "             colsample_bylevel=None, colsample_bynode=None,\n",
       "             colsample_bytree=None, early_stopping_rounds=10,\n",
       "             enable_categorical=False, eval_metric=&#x27;mae&#x27;, feature_types=None,\n",
       "             gamma=None, gpu_id=None, grow_policy=None, importance_type=None,\n",
       "             interaction_constraints=None, learning_rate=0.2, max_bin=None,\n",
       "             max_cat_threshold=None, max_cat_to_onehot=None,\n",
       "             max_delta_step=None, max_depth=10, max_leaves=None,\n",
       "             min_child_weight=None, missing=nan, monotone_constraints=None,\n",
       "             n_estimators=500, n_jobs=None, num_parallel_tree=None,\n",
       "             predictor=None, random_state=None, ...)</pre></div></div></div></div></div>"
      ],
      "text/plain": [
       "XGBRegressor(base_score=None, booster=None, callbacks=None,\n",
       "             colsample_bylevel=None, colsample_bynode=None,\n",
       "             colsample_bytree=None, early_stopping_rounds=10,\n",
       "             enable_categorical=False, eval_metric='mae', feature_types=None,\n",
       "             gamma=None, gpu_id=None, grow_policy=None, importance_type=None,\n",
       "             interaction_constraints=None, learning_rate=0.2, max_bin=None,\n",
       "             max_cat_threshold=None, max_cat_to_onehot=None,\n",
       "             max_delta_step=None, max_depth=10, max_leaves=None,\n",
       "             min_child_weight=None, missing=nan, monotone_constraints=None,\n",
       "             n_estimators=500, n_jobs=None, num_parallel_tree=None,\n",
       "             predictor=None, random_state=None, ...)"
      ]
     },
     "execution_count": 26,
     "metadata": {},
     "output_type": "execute_result"
    }
   ],
   "source": [
    "minute_model.fit(X_train, y_train['minutes_per_mile'], eval_set=eval_sets)"
   ]
  },
  {
   "cell_type": "code",
   "execution_count": 27,
   "id": "22b7754b",
   "metadata": {},
   "outputs": [],
   "source": [
    "eval_results = minute_model.evals_result()"
   ]
  },
  {
   "cell_type": "code",
   "execution_count": 28,
   "id": "366620ce",
   "metadata": {},
   "outputs": [],
   "source": [
    "train_scores = eval_results['validation_0']['mae']\n",
    "val_scores = eval_results['validation_1']['mae']\n",
    "epochs = range(1, len(train_scores) + 1)"
   ]
  },
  {
   "cell_type": "code",
   "execution_count": 29,
   "id": "36f9e77b",
   "metadata": {
    "scrolled": false
   },
   "outputs": [
    {
     "data": {
      "image/png": "[encoded data removed]",
      "text/plain": [
       "<Figure size 800x400 with 1 Axes>"
      ]
     },
     "metadata": {},
     "output_type": "display_data"
    }
   ],
   "source": [
    "plt.figure(figsize=(8, 4))\n",
    "plt.plot(epochs, train_scores, label='Train')\n",
    "plt.plot(epochs, val_scores, label='Validation')\n",
    "plt.xlabel('Number of Rounds')\n",
    "plt.ylabel('Mean Absolute Error (MAE)')\n",
    "plt.title('Accuracy Graph on Validation Set')\n",
    "plt.legend()\n",
    "plt.grid(True)\n",
    "plt.show()"
   ]
  },
  {
   "cell_type": "code",
   "execution_count": 30,
   "id": "01c2bfaa",
   "metadata": {},
   "outputs": [],
   "source": [
    "# Prediction on test data"
   ]
  },
  {
   "cell_type": "code",
   "execution_count": 31,
   "id": "9cf16f37",
   "metadata": {},
   "outputs": [],
   "source": [
    "minute_pred = minute_model.predict(X_test)"
   ]
  },
  {
   "cell_type": "code",
   "execution_count": 32,
   "id": "81785d8b",
   "metadata": {},
   "outputs": [],
   "source": [
    "pred = minute_pred*X_test['trip_miles']"
   ]
  },
  {
   "cell_type": "code",
   "execution_count": 33,
   "id": "ab4247a0",
   "metadata": {
    "scrolled": true
   },
   "outputs": [
    {
     "data": {
      "text/plain": [
       "2.8864585377275978"
      ]
     },
     "execution_count": 33,
     "metadata": {},
     "output_type": "execute_result"
    }
   ],
   "source": [
    "MAE(y_test['trip_time'], pred)"
   ]
  },
  {
   "cell_type": "code",
   "execution_count": null,
   "id": "899ae416",
   "metadata": {},
   "outputs": [],
   "source": []
  },
  {
   "cell_type": "markdown",
   "id": "5ba10cff",
   "metadata": {},
   "source": [
    "### Model training on entire data"
   ]
  },
  {
   "cell_type": "code",
   "execution_count": 34,
   "id": "f6d11c80",
   "metadata": {},
   "outputs": [],
   "source": [
    "train_X, X_test, train_y, y_test = train_test_split(combined_df[train_cols], combined_df[['minutes_per_mile', 'trip_time']], \n",
    "                                                    test_size=0.01, random_state=42)"
   ]
  },
  {
   "cell_type": "code",
   "execution_count": 35,
   "id": "a0d09f1d",
   "metadata": {},
   "outputs": [],
   "source": [
    "X_train, X_val, y_train, y_val = train_test_split(train_X, train_y,\n",
    "                                                    test_size=0.05, random_state=42)"
   ]
  },
  {
   "cell_type": "code",
   "execution_count": null,
   "id": "bb36512e",
   "metadata": {},
   "outputs": [],
   "source": []
  },
  {
   "cell_type": "markdown",
   "id": "7c327557",
   "metadata": {},
   "source": [
    "##### Linear regression model"
   ]
  },
  {
   "cell_type": "code",
   "execution_count": 36,
   "id": "27120672",
   "metadata": {},
   "outputs": [],
   "source": [
    "reg = LinearRegression().fit(train_X[['trip_miles']], train_y['trip_time'])"
   ]
  },
  {
   "cell_type": "code",
   "execution_count": 37,
   "id": "f347c907",
   "metadata": {},
   "outputs": [],
   "source": [
    "minute_reg_pred = reg.predict(X_test[['trip_miles']])"
   ]
  },
  {
   "cell_type": "code",
   "execution_count": 38,
   "id": "9872c3d1",
   "metadata": {},
   "outputs": [
    {
     "data": {
      "text/plain": [
       "4.770922064831976"
      ]
     },
     "execution_count": 38,
     "metadata": {},
     "output_type": "execute_result"
    }
   ],
   "source": [
    "MAE(y_test['trip_time'], minute_reg_pred)"
   ]
  },
  {
   "cell_type": "markdown",
   "id": "5972efbb",
   "metadata": {},
   "source": [
    "##### XGBRegressor"
   ]
  },
  {
   "cell_type": "code",
   "execution_count": 39,
   "id": "5d1368e4",
   "metadata": {},
   "outputs": [],
   "source": [
    "minute_model = XGBRegressor(eval_metric='mae', early_stopping_rounds=10,\n",
    "                            n_estimators = 500, \n",
    "                            max_depth = 10,\n",
    "                            learning_rate = 0.2)"
   ]
  },
  {
   "cell_type": "code",
   "execution_count": 40,
   "id": "07c1aa44",
   "metadata": {},
   "outputs": [],
   "source": [
    "eval_sets = [(X_train, y_train['minutes_per_mile']), (X_val, y_val['minutes_per_mile'])]"
   ]
  },
  {
   "cell_type": "code",
   "execution_count": 41,
   "id": "e7ef360b",
   "metadata": {
    "scrolled": true
   },
   "outputs": [
    {
     "name": "stdout",
     "output_type": "stream",
     "text": [
      "[0]\tvalidation_0-mae:3.73442\tvalidation_1-mae:3.73257\n",
      "[1]\tvalidation_0-mae:2.98794\tvalidation_1-mae:2.98591\n",
      "[2]\tvalidation_0-mae:2.39606\tvalidation_1-mae:2.39396\n",
      "[3]\tvalidation_0-mae:1.94063\tvalidation_1-mae:1.93861\n",
      "[4]\tvalidation_0-mae:1.60735\tvalidation_1-mae:1.60555\n",
      "[5]\tvalidation_0-mae:1.37450\tvalidation_1-mae:1.37299\n",
      "[6]\tvalidation_0-mae:1.21959\tvalidation_1-mae:1.21855\n",
      "[7]\tvalidation_0-mae:1.11860\tvalidation_1-mae:1.11805\n",
      "[8]\tvalidation_0-mae:1.05292\tvalidation_1-mae:1.05291\n",
      "[9]\tvalidation_0-mae:1.01313\tvalidation_1-mae:1.01337\n",
      "[10]\tvalidation_0-mae:0.98836\tvalidation_1-mae:0.98883\n",
      "[11]\tvalidation_0-mae:0.97242\tvalidation_1-mae:0.97302\n",
      "[12]\tvalidation_0-mae:0.96292\tvalidation_1-mae:0.96366\n",
      "[13]\tvalidation_0-mae:0.95626\tvalidation_1-mae:0.95718\n",
      "[14]\tvalidation_0-mae:0.95268\tvalidation_1-mae:0.95376\n",
      "[15]\tvalidation_0-mae:0.94955\tvalidation_1-mae:0.95077\n",
      "[16]\tvalidation_0-mae:0.94624\tvalidation_1-mae:0.94764\n",
      "[17]\tvalidation_0-mae:0.94115\tvalidation_1-mae:0.94267\n",
      "[18]\tvalidation_0-mae:0.94021\tvalidation_1-mae:0.94185\n",
      "[19]\tvalidation_0-mae:0.93866\tvalidation_1-mae:0.94034\n",
      "[20]\tvalidation_0-mae:0.93752\tvalidation_1-mae:0.93931\n",
      "[21]\tvalidation_0-mae:0.93327\tvalidation_1-mae:0.93516\n",
      "[22]\tvalidation_0-mae:0.93197\tvalidation_1-mae:0.93391\n",
      "[23]\tvalidation_0-mae:0.93013\tvalidation_1-mae:0.93212\n",
      "[24]\tvalidation_0-mae:0.92816\tvalidation_1-mae:0.93022\n",
      "[25]\tvalidation_0-mae:0.92538\tvalidation_1-mae:0.92756\n",
      "[26]\tvalidation_0-mae:0.92323\tvalidation_1-mae:0.92544\n",
      "[27]\tvalidation_0-mae:0.91896\tvalidation_1-mae:0.92122\n",
      "[28]\tvalidation_0-mae:0.91744\tvalidation_1-mae:0.91973\n",
      "[29]\tvalidation_0-mae:0.91651\tvalidation_1-mae:0.91885\n",
      "[30]\tvalidation_0-mae:0.91410\tvalidation_1-mae:0.91648\n",
      "[31]\tvalidation_0-mae:0.91280\tvalidation_1-mae:0.91521\n",
      "[32]\tvalidation_0-mae:0.91191\tvalidation_1-mae:0.91438\n",
      "[33]\tvalidation_0-mae:0.90933\tvalidation_1-mae:0.91182\n",
      "[34]\tvalidation_0-mae:0.90757\tvalidation_1-mae:0.91012\n",
      "[35]\tvalidation_0-mae:0.90636\tvalidation_1-mae:0.90898\n",
      "[36]\tvalidation_0-mae:0.90497\tvalidation_1-mae:0.90763\n",
      "[37]\tvalidation_0-mae:0.90372\tvalidation_1-mae:0.90643\n",
      "[38]\tvalidation_0-mae:0.90195\tvalidation_1-mae:0.90462\n",
      "[39]\tvalidation_0-mae:0.90129\tvalidation_1-mae:0.90396\n",
      "[40]\tvalidation_0-mae:0.89828\tvalidation_1-mae:0.90098\n",
      "[41]\tvalidation_0-mae:0.89656\tvalidation_1-mae:0.89931\n",
      "[42]\tvalidation_0-mae:0.89546\tvalidation_1-mae:0.89826\n",
      "[43]\tvalidation_0-mae:0.89452\tvalidation_1-mae:0.89737\n",
      "[44]\tvalidation_0-mae:0.89340\tvalidation_1-mae:0.89630\n",
      "[45]\tvalidation_0-mae:0.89207\tvalidation_1-mae:0.89497\n",
      "[46]\tvalidation_0-mae:0.89144\tvalidation_1-mae:0.89440\n",
      "[47]\tvalidation_0-mae:0.88996\tvalidation_1-mae:0.89294\n",
      "[48]\tvalidation_0-mae:0.88811\tvalidation_1-mae:0.89114\n",
      "[49]\tvalidation_0-mae:0.88694\tvalidation_1-mae:0.89003\n",
      "[50]\tvalidation_0-mae:0.88617\tvalidation_1-mae:0.88933\n",
      "[51]\tvalidation_0-mae:0.88535\tvalidation_1-mae:0.88857\n",
      "[52]\tvalidation_0-mae:0.88448\tvalidation_1-mae:0.88775\n",
      "[53]\tvalidation_0-mae:0.88207\tvalidation_1-mae:0.88541\n",
      "[54]\tvalidation_0-mae:0.88104\tvalidation_1-mae:0.88440\n",
      "[55]\tvalidation_0-mae:0.88073\tvalidation_1-mae:0.88414\n",
      "[56]\tvalidation_0-mae:0.87940\tvalidation_1-mae:0.88284\n",
      "[57]\tvalidation_0-mae:0.87877\tvalidation_1-mae:0.88224\n",
      "[58]\tvalidation_0-mae:0.87754\tvalidation_1-mae:0.88107\n",
      "[59]\tvalidation_0-mae:0.87579\tvalidation_1-mae:0.87938\n",
      "[60]\tvalidation_0-mae:0.87496\tvalidation_1-mae:0.87860\n",
      "[61]\tvalidation_0-mae:0.87444\tvalidation_1-mae:0.87814\n",
      "[62]\tvalidation_0-mae:0.87358\tvalidation_1-mae:0.87733\n",
      "[63]\tvalidation_0-mae:0.87312\tvalidation_1-mae:0.87692\n",
      "[64]\tvalidation_0-mae:0.87199\tvalidation_1-mae:0.87585\n",
      "[65]\tvalidation_0-mae:0.87110\tvalidation_1-mae:0.87498\n",
      "[66]\tvalidation_0-mae:0.87073\tvalidation_1-mae:0.87466\n",
      "[67]\tvalidation_0-mae:0.87009\tvalidation_1-mae:0.87406\n",
      "[68]\tvalidation_0-mae:0.86893\tvalidation_1-mae:0.87297\n",
      "[69]\tvalidation_0-mae:0.86848\tvalidation_1-mae:0.87256\n",
      "[70]\tvalidation_0-mae:0.86809\tvalidation_1-mae:0.87221\n",
      "[71]\tvalidation_0-mae:0.86760\tvalidation_1-mae:0.87176\n",
      "[72]\tvalidation_0-mae:0.86717\tvalidation_1-mae:0.87137\n",
      "[73]\tvalidation_0-mae:0.86604\tvalidation_1-mae:0.87032\n",
      "[74]\tvalidation_0-mae:0.86452\tvalidation_1-mae:0.86884\n",
      "[75]\tvalidation_0-mae:0.86422\tvalidation_1-mae:0.86858\n",
      "[76]\tvalidation_0-mae:0.86358\tvalidation_1-mae:0.86797\n",
      "[77]\tvalidation_0-mae:0.86240\tvalidation_1-mae:0.86681\n",
      "[78]\tvalidation_0-mae:0.86172\tvalidation_1-mae:0.86615\n",
      "[79]\tvalidation_0-mae:0.86143\tvalidation_1-mae:0.86591\n",
      "[80]\tvalidation_0-mae:0.86067\tvalidation_1-mae:0.86524\n",
      "[81]\tvalidation_0-mae:0.85988\tvalidation_1-mae:0.86449\n",
      "[82]\tvalidation_0-mae:0.85955\tvalidation_1-mae:0.86422\n",
      "[83]\tvalidation_0-mae:0.85915\tvalidation_1-mae:0.86391\n",
      "[84]\tvalidation_0-mae:0.85846\tvalidation_1-mae:0.86325\n",
      "[85]\tvalidation_0-mae:0.85795\tvalidation_1-mae:0.86275\n",
      "[86]\tvalidation_0-mae:0.85729\tvalidation_1-mae:0.86213\n",
      "[87]\tvalidation_0-mae:0.85701\tvalidation_1-mae:0.86192\n",
      "[88]\tvalidation_0-mae:0.85676\tvalidation_1-mae:0.86172\n",
      "[89]\tvalidation_0-mae:0.85624\tvalidation_1-mae:0.86124\n",
      "[90]\tvalidation_0-mae:0.85593\tvalidation_1-mae:0.86099\n",
      "[91]\tvalidation_0-mae:0.85537\tvalidation_1-mae:0.86047\n",
      "[92]\tvalidation_0-mae:0.85518\tvalidation_1-mae:0.86032\n",
      "[93]\tvalidation_0-mae:0.85494\tvalidation_1-mae:0.86012\n",
      "[94]\tvalidation_0-mae:0.85447\tvalidation_1-mae:0.85970\n",
      "[95]\tvalidation_0-mae:0.85406\tvalidation_1-mae:0.85936\n",
      "[96]\tvalidation_0-mae:0.85357\tvalidation_1-mae:0.85891\n",
      "[97]\tvalidation_0-mae:0.85320\tvalidation_1-mae:0.85857\n",
      "[98]\tvalidation_0-mae:0.85247\tvalidation_1-mae:0.85789\n",
      "[99]\tvalidation_0-mae:0.85208\tvalidation_1-mae:0.85754\n",
      "[100]\tvalidation_0-mae:0.85103\tvalidation_1-mae:0.85654\n",
      "[101]\tvalidation_0-mae:0.85073\tvalidation_1-mae:0.85628\n",
      "[102]\tvalidation_0-mae:0.85011\tvalidation_1-mae:0.85569\n",
      "[103]\tvalidation_0-mae:0.84985\tvalidation_1-mae:0.85546\n",
      "[104]\tvalidation_0-mae:0.84952\tvalidation_1-mae:0.85518\n",
      "[105]\tvalidation_0-mae:0.84924\tvalidation_1-mae:0.85496\n",
      "[106]\tvalidation_0-mae:0.84867\tvalidation_1-mae:0.85445\n",
      "[107]\tvalidation_0-mae:0.84841\tvalidation_1-mae:0.85424\n",
      "[108]\tvalidation_0-mae:0.84826\tvalidation_1-mae:0.85413\n",
      "[109]\tvalidation_0-mae:0.84798\tvalidation_1-mae:0.85388\n",
      "[110]\tvalidation_0-mae:0.84779\tvalidation_1-mae:0.85373\n",
      "[111]\tvalidation_0-mae:0.84756\tvalidation_1-mae:0.85354\n",
      "[112]\tvalidation_0-mae:0.84724\tvalidation_1-mae:0.85326\n",
      "[113]\tvalidation_0-mae:0.84688\tvalidation_1-mae:0.85294\n",
      "[114]\tvalidation_0-mae:0.84617\tvalidation_1-mae:0.85227\n",
      "[115]\tvalidation_0-mae:0.84569\tvalidation_1-mae:0.85184\n",
      "[116]\tvalidation_0-mae:0.84554\tvalidation_1-mae:0.85174\n",
      "[117]\tvalidation_0-mae:0.84517\tvalidation_1-mae:0.85142\n",
      "[118]\tvalidation_0-mae:0.84473\tvalidation_1-mae:0.85102\n",
      "[119]\tvalidation_0-mae:0.84454\tvalidation_1-mae:0.85086\n",
      "[120]\tvalidation_0-mae:0.84414\tvalidation_1-mae:0.85054\n",
      "[121]\tvalidation_0-mae:0.84356\tvalidation_1-mae:0.85001\n",
      "[122]\tvalidation_0-mae:0.84318\tvalidation_1-mae:0.84967\n",
      "[123]\tvalidation_0-mae:0.84274\tvalidation_1-mae:0.84929\n",
      "[124]\tvalidation_0-mae:0.84201\tvalidation_1-mae:0.84860\n",
      "[125]\tvalidation_0-mae:0.84165\tvalidation_1-mae:0.84830\n",
      "[126]\tvalidation_0-mae:0.84127\tvalidation_1-mae:0.84797\n",
      "[127]\tvalidation_0-mae:0.84075\tvalidation_1-mae:0.84749\n",
      "[128]\tvalidation_0-mae:0.84052\tvalidation_1-mae:0.84733\n",
      "[129]\tvalidation_0-mae:0.84016\tvalidation_1-mae:0.84703\n",
      "[130]\tvalidation_0-mae:0.83956\tvalidation_1-mae:0.84650\n",
      "[131]\tvalidation_0-mae:0.83918\tvalidation_1-mae:0.84617\n",
      "[132]\tvalidation_0-mae:0.83893\tvalidation_1-mae:0.84596\n",
      "[133]\tvalidation_0-mae:0.83871\tvalidation_1-mae:0.84577\n",
      "[134]\tvalidation_0-mae:0.83844\tvalidation_1-mae:0.84555\n",
      "[135]\tvalidation_0-mae:0.83828\tvalidation_1-mae:0.84544\n",
      "[136]\tvalidation_0-mae:0.83814\tvalidation_1-mae:0.84534\n",
      "[137]\tvalidation_0-mae:0.83788\tvalidation_1-mae:0.84513\n",
      "[138]\tvalidation_0-mae:0.83762\tvalidation_1-mae:0.84491\n",
      "[139]\tvalidation_0-mae:0.83749\tvalidation_1-mae:0.84481\n",
      "[140]\tvalidation_0-mae:0.83714\tvalidation_1-mae:0.84450\n",
      "[141]\tvalidation_0-mae:0.83693\tvalidation_1-mae:0.84433\n",
      "[142]\tvalidation_0-mae:0.83669\tvalidation_1-mae:0.84416\n",
      "[143]\tvalidation_0-mae:0.83631\tvalidation_1-mae:0.84382\n",
      "[144]\tvalidation_0-mae:0.83569\tvalidation_1-mae:0.84323\n",
      "[145]\tvalidation_0-mae:0.83545\tvalidation_1-mae:0.84305\n",
      "[146]\tvalidation_0-mae:0.83517\tvalidation_1-mae:0.84282\n",
      "[147]\tvalidation_0-mae:0.83466\tvalidation_1-mae:0.84234\n",
      "[148]\tvalidation_0-mae:0.83440\tvalidation_1-mae:0.84213\n"
     ]
    },
    {
     "name": "stdout",
     "output_type": "stream",
     "text": [
      "[149]\tvalidation_0-mae:0.83410\tvalidation_1-mae:0.84189\n",
      "[150]\tvalidation_0-mae:0.83382\tvalidation_1-mae:0.84164\n",
      "[151]\tvalidation_0-mae:0.83363\tvalidation_1-mae:0.84147\n",
      "[152]\tvalidation_0-mae:0.83319\tvalidation_1-mae:0.84108\n",
      "[153]\tvalidation_0-mae:0.83305\tvalidation_1-mae:0.84101\n",
      "[154]\tvalidation_0-mae:0.83275\tvalidation_1-mae:0.84075\n",
      "[155]\tvalidation_0-mae:0.83262\tvalidation_1-mae:0.84068\n",
      "[156]\tvalidation_0-mae:0.83217\tvalidation_1-mae:0.84027\n",
      "[157]\tvalidation_0-mae:0.83149\tvalidation_1-mae:0.83963\n",
      "[158]\tvalidation_0-mae:0.83132\tvalidation_1-mae:0.83949\n",
      "[159]\tvalidation_0-mae:0.83105\tvalidation_1-mae:0.83926\n",
      "[160]\tvalidation_0-mae:0.83083\tvalidation_1-mae:0.83907\n",
      "[161]\tvalidation_0-mae:0.83074\tvalidation_1-mae:0.83902\n",
      "[162]\tvalidation_0-mae:0.83039\tvalidation_1-mae:0.83872\n",
      "[163]\tvalidation_0-mae:0.83016\tvalidation_1-mae:0.83853\n",
      "[164]\tvalidation_0-mae:0.83002\tvalidation_1-mae:0.83845\n",
      "[165]\tvalidation_0-mae:0.82985\tvalidation_1-mae:0.83832\n",
      "[166]\tvalidation_0-mae:0.82974\tvalidation_1-mae:0.83825\n",
      "[167]\tvalidation_0-mae:0.82945\tvalidation_1-mae:0.83799\n",
      "[168]\tvalidation_0-mae:0.82923\tvalidation_1-mae:0.83782\n",
      "[169]\tvalidation_0-mae:0.82910\tvalidation_1-mae:0.83776\n",
      "[170]\tvalidation_0-mae:0.82889\tvalidation_1-mae:0.83758\n",
      "[171]\tvalidation_0-mae:0.82870\tvalidation_1-mae:0.83744\n",
      "[172]\tvalidation_0-mae:0.82851\tvalidation_1-mae:0.83726\n",
      "[173]\tvalidation_0-mae:0.82833\tvalidation_1-mae:0.83711\n",
      "[174]\tvalidation_0-mae:0.82807\tvalidation_1-mae:0.83691\n",
      "[175]\tvalidation_0-mae:0.82791\tvalidation_1-mae:0.83679\n",
      "[176]\tvalidation_0-mae:0.82761\tvalidation_1-mae:0.83652\n",
      "[177]\tvalidation_0-mae:0.82719\tvalidation_1-mae:0.83616\n",
      "[178]\tvalidation_0-mae:0.82706\tvalidation_1-mae:0.83605\n",
      "[179]\tvalidation_0-mae:0.82683\tvalidation_1-mae:0.83585\n",
      "[180]\tvalidation_0-mae:0.82674\tvalidation_1-mae:0.83581\n",
      "[181]\tvalidation_0-mae:0.82646\tvalidation_1-mae:0.83556\n",
      "[182]\tvalidation_0-mae:0.82628\tvalidation_1-mae:0.83543\n",
      "[183]\tvalidation_0-mae:0.82600\tvalidation_1-mae:0.83518\n",
      "[184]\tvalidation_0-mae:0.82585\tvalidation_1-mae:0.83508\n",
      "[185]\tvalidation_0-mae:0.82571\tvalidation_1-mae:0.83500\n",
      "[186]\tvalidation_0-mae:0.82538\tvalidation_1-mae:0.83476\n",
      "[187]\tvalidation_0-mae:0.82504\tvalidation_1-mae:0.83444\n",
      "[188]\tvalidation_0-mae:0.82489\tvalidation_1-mae:0.83432\n",
      "[189]\tvalidation_0-mae:0.82463\tvalidation_1-mae:0.83413\n",
      "[190]\tvalidation_0-mae:0.82453\tvalidation_1-mae:0.83408\n",
      "[191]\tvalidation_0-mae:0.82435\tvalidation_1-mae:0.83396\n",
      "[192]\tvalidation_0-mae:0.82399\tvalidation_1-mae:0.83365\n",
      "[193]\tvalidation_0-mae:0.82379\tvalidation_1-mae:0.83350\n",
      "[194]\tvalidation_0-mae:0.82348\tvalidation_1-mae:0.83323\n",
      "[195]\tvalidation_0-mae:0.82329\tvalidation_1-mae:0.83310\n",
      "[196]\tvalidation_0-mae:0.82314\tvalidation_1-mae:0.83303\n",
      "[197]\tvalidation_0-mae:0.82303\tvalidation_1-mae:0.83296\n",
      "[198]\tvalidation_0-mae:0.82285\tvalidation_1-mae:0.83284\n",
      "[199]\tvalidation_0-mae:0.82271\tvalidation_1-mae:0.83274\n",
      "[200]\tvalidation_0-mae:0.82248\tvalidation_1-mae:0.83254\n",
      "[201]\tvalidation_0-mae:0.82236\tvalidation_1-mae:0.83248\n",
      "[202]\tvalidation_0-mae:0.82226\tvalidation_1-mae:0.83242\n",
      "[203]\tvalidation_0-mae:0.82201\tvalidation_1-mae:0.83223\n",
      "[204]\tvalidation_0-mae:0.82185\tvalidation_1-mae:0.83212\n",
      "[205]\tvalidation_0-mae:0.82158\tvalidation_1-mae:0.83191\n",
      "[206]\tvalidation_0-mae:0.82144\tvalidation_1-mae:0.83179\n",
      "[207]\tvalidation_0-mae:0.82135\tvalidation_1-mae:0.83173\n",
      "[208]\tvalidation_0-mae:0.82127\tvalidation_1-mae:0.83170\n",
      "[209]\tvalidation_0-mae:0.82118\tvalidation_1-mae:0.83166\n",
      "[210]\tvalidation_0-mae:0.82089\tvalidation_1-mae:0.83142\n",
      "[211]\tvalidation_0-mae:0.82073\tvalidation_1-mae:0.83130\n",
      "[212]\tvalidation_0-mae:0.82058\tvalidation_1-mae:0.83118\n",
      "[213]\tvalidation_0-mae:0.82036\tvalidation_1-mae:0.83102\n",
      "[214]\tvalidation_0-mae:0.82018\tvalidation_1-mae:0.83087\n",
      "[215]\tvalidation_0-mae:0.81999\tvalidation_1-mae:0.83073\n",
      "[216]\tvalidation_0-mae:0.81967\tvalidation_1-mae:0.83044\n",
      "[217]\tvalidation_0-mae:0.81957\tvalidation_1-mae:0.83039\n",
      "[218]\tvalidation_0-mae:0.81951\tvalidation_1-mae:0.83038\n",
      "[219]\tvalidation_0-mae:0.81935\tvalidation_1-mae:0.83028\n",
      "[220]\tvalidation_0-mae:0.81916\tvalidation_1-mae:0.83014\n",
      "[221]\tvalidation_0-mae:0.81896\tvalidation_1-mae:0.82997\n",
      "[222]\tvalidation_0-mae:0.81884\tvalidation_1-mae:0.82989\n",
      "[223]\tvalidation_0-mae:0.81876\tvalidation_1-mae:0.82988\n",
      "[224]\tvalidation_0-mae:0.81860\tvalidation_1-mae:0.82977\n",
      "[225]\tvalidation_0-mae:0.81851\tvalidation_1-mae:0.82975\n",
      "[226]\tvalidation_0-mae:0.81815\tvalidation_1-mae:0.82943\n",
      "[227]\tvalidation_0-mae:0.81799\tvalidation_1-mae:0.82930\n",
      "[228]\tvalidation_0-mae:0.81777\tvalidation_1-mae:0.82912\n",
      "[229]\tvalidation_0-mae:0.81768\tvalidation_1-mae:0.82907\n",
      "[230]\tvalidation_0-mae:0.81755\tvalidation_1-mae:0.82897\n",
      "[231]\tvalidation_0-mae:0.81743\tvalidation_1-mae:0.82890\n",
      "[232]\tvalidation_0-mae:0.81732\tvalidation_1-mae:0.82882\n",
      "[233]\tvalidation_0-mae:0.81712\tvalidation_1-mae:0.82866\n",
      "[234]\tvalidation_0-mae:0.81691\tvalidation_1-mae:0.82851\n",
      "[235]\tvalidation_0-mae:0.81668\tvalidation_1-mae:0.82834\n",
      "[236]\tvalidation_0-mae:0.81654\tvalidation_1-mae:0.82826\n",
      "[237]\tvalidation_0-mae:0.81638\tvalidation_1-mae:0.82816\n",
      "[238]\tvalidation_0-mae:0.81629\tvalidation_1-mae:0.82808\n",
      "[239]\tvalidation_0-mae:0.81602\tvalidation_1-mae:0.82786\n",
      "[240]\tvalidation_0-mae:0.81594\tvalidation_1-mae:0.82782\n",
      "[241]\tvalidation_0-mae:0.81573\tvalidation_1-mae:0.82765\n",
      "[242]\tvalidation_0-mae:0.81553\tvalidation_1-mae:0.82749\n",
      "[243]\tvalidation_0-mae:0.81522\tvalidation_1-mae:0.82722\n",
      "[244]\tvalidation_0-mae:0.81503\tvalidation_1-mae:0.82708\n",
      "[245]\tvalidation_0-mae:0.81484\tvalidation_1-mae:0.82693\n",
      "[246]\tvalidation_0-mae:0.81458\tvalidation_1-mae:0.82673\n",
      "[247]\tvalidation_0-mae:0.81446\tvalidation_1-mae:0.82665\n",
      "[248]\tvalidation_0-mae:0.81429\tvalidation_1-mae:0.82655\n",
      "[249]\tvalidation_0-mae:0.81417\tvalidation_1-mae:0.82647\n",
      "[250]\tvalidation_0-mae:0.81402\tvalidation_1-mae:0.82639\n",
      "[251]\tvalidation_0-mae:0.81380\tvalidation_1-mae:0.82620\n",
      "[252]\tvalidation_0-mae:0.81374\tvalidation_1-mae:0.82619\n",
      "[253]\tvalidation_0-mae:0.81367\tvalidation_1-mae:0.82615\n",
      "[254]\tvalidation_0-mae:0.81353\tvalidation_1-mae:0.82608\n",
      "[255]\tvalidation_0-mae:0.81345\tvalidation_1-mae:0.82603\n",
      "[256]\tvalidation_0-mae:0.81335\tvalidation_1-mae:0.82597\n",
      "[257]\tvalidation_0-mae:0.81326\tvalidation_1-mae:0.82591\n",
      "[258]\tvalidation_0-mae:0.81312\tvalidation_1-mae:0.82581\n",
      "[259]\tvalidation_0-mae:0.81290\tvalidation_1-mae:0.82563\n",
      "[260]\tvalidation_0-mae:0.81265\tvalidation_1-mae:0.82543\n",
      "[261]\tvalidation_0-mae:0.81254\tvalidation_1-mae:0.82538\n",
      "[262]\tvalidation_0-mae:0.81246\tvalidation_1-mae:0.82533\n",
      "[263]\tvalidation_0-mae:0.81228\tvalidation_1-mae:0.82520\n",
      "[264]\tvalidation_0-mae:0.81215\tvalidation_1-mae:0.82512\n",
      "[265]\tvalidation_0-mae:0.81208\tvalidation_1-mae:0.82510\n",
      "[266]\tvalidation_0-mae:0.81197\tvalidation_1-mae:0.82505\n",
      "[267]\tvalidation_0-mae:0.81191\tvalidation_1-mae:0.82501\n",
      "[268]\tvalidation_0-mae:0.81176\tvalidation_1-mae:0.82490\n",
      "[269]\tvalidation_0-mae:0.81168\tvalidation_1-mae:0.82488\n",
      "[270]\tvalidation_0-mae:0.81140\tvalidation_1-mae:0.82465\n",
      "[271]\tvalidation_0-mae:0.81131\tvalidation_1-mae:0.82462\n",
      "[272]\tvalidation_0-mae:0.81124\tvalidation_1-mae:0.82458\n",
      "[273]\tvalidation_0-mae:0.81110\tvalidation_1-mae:0.82447\n",
      "[274]\tvalidation_0-mae:0.81093\tvalidation_1-mae:0.82435\n",
      "[275]\tvalidation_0-mae:0.81072\tvalidation_1-mae:0.82419\n",
      "[276]\tvalidation_0-mae:0.81047\tvalidation_1-mae:0.82399\n",
      "[277]\tvalidation_0-mae:0.81031\tvalidation_1-mae:0.82386\n",
      "[278]\tvalidation_0-mae:0.81012\tvalidation_1-mae:0.82371\n",
      "[279]\tvalidation_0-mae:0.80995\tvalidation_1-mae:0.82359\n",
      "[280]\tvalidation_0-mae:0.80988\tvalidation_1-mae:0.82359\n",
      "[281]\tvalidation_0-mae:0.80971\tvalidation_1-mae:0.82346\n",
      "[282]\tvalidation_0-mae:0.80963\tvalidation_1-mae:0.82345\n",
      "[283]\tvalidation_0-mae:0.80945\tvalidation_1-mae:0.82332\n",
      "[284]\tvalidation_0-mae:0.80938\tvalidation_1-mae:0.82331\n",
      "[285]\tvalidation_0-mae:0.80926\tvalidation_1-mae:0.82325\n",
      "[286]\tvalidation_0-mae:0.80920\tvalidation_1-mae:0.82324\n",
      "[287]\tvalidation_0-mae:0.80911\tvalidation_1-mae:0.82322\n",
      "[288]\tvalidation_0-mae:0.80888\tvalidation_1-mae:0.82304\n",
      "[289]\tvalidation_0-mae:0.80873\tvalidation_1-mae:0.82293\n",
      "[290]\tvalidation_0-mae:0.80867\tvalidation_1-mae:0.82291\n",
      "[291]\tvalidation_0-mae:0.80858\tvalidation_1-mae:0.82285\n",
      "[292]\tvalidation_0-mae:0.80852\tvalidation_1-mae:0.82282\n",
      "[293]\tvalidation_0-mae:0.80846\tvalidation_1-mae:0.82278\n",
      "[294]\tvalidation_0-mae:0.80831\tvalidation_1-mae:0.82268\n",
      "[295]\tvalidation_0-mae:0.80806\tvalidation_1-mae:0.82246\n"
     ]
    },
    {
     "name": "stdout",
     "output_type": "stream",
     "text": [
      "[296]\tvalidation_0-mae:0.80783\tvalidation_1-mae:0.82228\n",
      "[297]\tvalidation_0-mae:0.80778\tvalidation_1-mae:0.82226\n",
      "[298]\tvalidation_0-mae:0.80770\tvalidation_1-mae:0.82222\n",
      "[299]\tvalidation_0-mae:0.80765\tvalidation_1-mae:0.82221\n",
      "[300]\tvalidation_0-mae:0.80754\tvalidation_1-mae:0.82213\n",
      "[301]\tvalidation_0-mae:0.80745\tvalidation_1-mae:0.82209\n",
      "[302]\tvalidation_0-mae:0.80718\tvalidation_1-mae:0.82186\n",
      "[303]\tvalidation_0-mae:0.80711\tvalidation_1-mae:0.82185\n",
      "[304]\tvalidation_0-mae:0.80693\tvalidation_1-mae:0.82171\n",
      "[305]\tvalidation_0-mae:0.80684\tvalidation_1-mae:0.82167\n",
      "[306]\tvalidation_0-mae:0.80677\tvalidation_1-mae:0.82165\n",
      "[307]\tvalidation_0-mae:0.80663\tvalidation_1-mae:0.82156\n",
      "[308]\tvalidation_0-mae:0.80657\tvalidation_1-mae:0.82154\n",
      "[309]\tvalidation_0-mae:0.80649\tvalidation_1-mae:0.82149\n",
      "[310]\tvalidation_0-mae:0.80639\tvalidation_1-mae:0.82146\n",
      "[311]\tvalidation_0-mae:0.80624\tvalidation_1-mae:0.82134\n",
      "[312]\tvalidation_0-mae:0.80611\tvalidation_1-mae:0.82126\n",
      "[313]\tvalidation_0-mae:0.80593\tvalidation_1-mae:0.82113\n",
      "[314]\tvalidation_0-mae:0.80575\tvalidation_1-mae:0.82100\n",
      "[315]\tvalidation_0-mae:0.80558\tvalidation_1-mae:0.82089\n",
      "[316]\tvalidation_0-mae:0.80533\tvalidation_1-mae:0.82069\n",
      "[317]\tvalidation_0-mae:0.80515\tvalidation_1-mae:0.82054\n",
      "[318]\tvalidation_0-mae:0.80509\tvalidation_1-mae:0.82052\n",
      "[319]\tvalidation_0-mae:0.80497\tvalidation_1-mae:0.82045\n",
      "[320]\tvalidation_0-mae:0.80482\tvalidation_1-mae:0.82037\n",
      "[321]\tvalidation_0-mae:0.80471\tvalidation_1-mae:0.82031\n",
      "[322]\tvalidation_0-mae:0.80461\tvalidation_1-mae:0.82026\n",
      "[323]\tvalidation_0-mae:0.80448\tvalidation_1-mae:0.82018\n",
      "[324]\tvalidation_0-mae:0.80443\tvalidation_1-mae:0.82016\n",
      "[325]\tvalidation_0-mae:0.80429\tvalidation_1-mae:0.82005\n",
      "[326]\tvalidation_0-mae:0.80410\tvalidation_1-mae:0.81989\n",
      "[327]\tvalidation_0-mae:0.80383\tvalidation_1-mae:0.81968\n",
      "[328]\tvalidation_0-mae:0.80367\tvalidation_1-mae:0.81957\n",
      "[329]\tvalidation_0-mae:0.80357\tvalidation_1-mae:0.81954\n",
      "[330]\tvalidation_0-mae:0.80339\tvalidation_1-mae:0.81941\n",
      "[331]\tvalidation_0-mae:0.80316\tvalidation_1-mae:0.81921\n",
      "[332]\tvalidation_0-mae:0.80310\tvalidation_1-mae:0.81918\n",
      "[333]\tvalidation_0-mae:0.80292\tvalidation_1-mae:0.81906\n",
      "[334]\tvalidation_0-mae:0.80282\tvalidation_1-mae:0.81901\n",
      "[335]\tvalidation_0-mae:0.80266\tvalidation_1-mae:0.81890\n",
      "[336]\tvalidation_0-mae:0.80257\tvalidation_1-mae:0.81887\n",
      "[337]\tvalidation_0-mae:0.80247\tvalidation_1-mae:0.81882\n",
      "[338]\tvalidation_0-mae:0.80242\tvalidation_1-mae:0.81880\n",
      "[339]\tvalidation_0-mae:0.80233\tvalidation_1-mae:0.81875\n",
      "[340]\tvalidation_0-mae:0.80222\tvalidation_1-mae:0.81869\n",
      "[341]\tvalidation_0-mae:0.80208\tvalidation_1-mae:0.81859\n",
      "[342]\tvalidation_0-mae:0.80194\tvalidation_1-mae:0.81850\n",
      "[343]\tvalidation_0-mae:0.80185\tvalidation_1-mae:0.81844\n",
      "[344]\tvalidation_0-mae:0.80175\tvalidation_1-mae:0.81839\n",
      "[345]\tvalidation_0-mae:0.80165\tvalidation_1-mae:0.81833\n",
      "[346]\tvalidation_0-mae:0.80160\tvalidation_1-mae:0.81832\n",
      "[347]\tvalidation_0-mae:0.80148\tvalidation_1-mae:0.81825\n",
      "[348]\tvalidation_0-mae:0.80139\tvalidation_1-mae:0.81820\n",
      "[349]\tvalidation_0-mae:0.80129\tvalidation_1-mae:0.81814\n",
      "[350]\tvalidation_0-mae:0.80119\tvalidation_1-mae:0.81809\n",
      "[351]\tvalidation_0-mae:0.80113\tvalidation_1-mae:0.81805\n",
      "[352]\tvalidation_0-mae:0.80106\tvalidation_1-mae:0.81802\n",
      "[353]\tvalidation_0-mae:0.80098\tvalidation_1-mae:0.81798\n",
      "[354]\tvalidation_0-mae:0.80088\tvalidation_1-mae:0.81792\n",
      "[355]\tvalidation_0-mae:0.80073\tvalidation_1-mae:0.81783\n",
      "[356]\tvalidation_0-mae:0.80065\tvalidation_1-mae:0.81783\n",
      "[357]\tvalidation_0-mae:0.80058\tvalidation_1-mae:0.81779\n",
      "[358]\tvalidation_0-mae:0.80040\tvalidation_1-mae:0.81765\n",
      "[359]\tvalidation_0-mae:0.80030\tvalidation_1-mae:0.81761\n",
      "[360]\tvalidation_0-mae:0.80023\tvalidation_1-mae:0.81761\n",
      "[361]\tvalidation_0-mae:0.80008\tvalidation_1-mae:0.81750\n",
      "[362]\tvalidation_0-mae:0.79997\tvalidation_1-mae:0.81744\n",
      "[363]\tvalidation_0-mae:0.79978\tvalidation_1-mae:0.81731\n",
      "[364]\tvalidation_0-mae:0.79969\tvalidation_1-mae:0.81726\n",
      "[365]\tvalidation_0-mae:0.79957\tvalidation_1-mae:0.81719\n",
      "[366]\tvalidation_0-mae:0.79943\tvalidation_1-mae:0.81708\n",
      "[367]\tvalidation_0-mae:0.79937\tvalidation_1-mae:0.81709\n",
      "[368]\tvalidation_0-mae:0.79931\tvalidation_1-mae:0.81706\n",
      "[369]\tvalidation_0-mae:0.79918\tvalidation_1-mae:0.81699\n",
      "[370]\tvalidation_0-mae:0.79896\tvalidation_1-mae:0.81679\n",
      "[371]\tvalidation_0-mae:0.79890\tvalidation_1-mae:0.81676\n",
      "[372]\tvalidation_0-mae:0.79874\tvalidation_1-mae:0.81665\n",
      "[373]\tvalidation_0-mae:0.79864\tvalidation_1-mae:0.81661\n",
      "[374]\tvalidation_0-mae:0.79857\tvalidation_1-mae:0.81660\n",
      "[375]\tvalidation_0-mae:0.79851\tvalidation_1-mae:0.81659\n",
      "[376]\tvalidation_0-mae:0.79846\tvalidation_1-mae:0.81658\n",
      "[377]\tvalidation_0-mae:0.79835\tvalidation_1-mae:0.81651\n",
      "[378]\tvalidation_0-mae:0.79825\tvalidation_1-mae:0.81645\n",
      "[379]\tvalidation_0-mae:0.79819\tvalidation_1-mae:0.81643\n",
      "[380]\tvalidation_0-mae:0.79803\tvalidation_1-mae:0.81632\n",
      "[381]\tvalidation_0-mae:0.79795\tvalidation_1-mae:0.81626\n",
      "[382]\tvalidation_0-mae:0.79787\tvalidation_1-mae:0.81621\n",
      "[383]\tvalidation_0-mae:0.79779\tvalidation_1-mae:0.81619\n",
      "[384]\tvalidation_0-mae:0.79771\tvalidation_1-mae:0.81615\n",
      "[385]\tvalidation_0-mae:0.79763\tvalidation_1-mae:0.81613\n",
      "[386]\tvalidation_0-mae:0.79754\tvalidation_1-mae:0.81611\n",
      "[387]\tvalidation_0-mae:0.79749\tvalidation_1-mae:0.81608\n",
      "[388]\tvalidation_0-mae:0.79743\tvalidation_1-mae:0.81605\n",
      "[389]\tvalidation_0-mae:0.79737\tvalidation_1-mae:0.81604\n",
      "[390]\tvalidation_0-mae:0.79728\tvalidation_1-mae:0.81601\n",
      "[391]\tvalidation_0-mae:0.79723\tvalidation_1-mae:0.81600\n",
      "[392]\tvalidation_0-mae:0.79713\tvalidation_1-mae:0.81595\n",
      "[393]\tvalidation_0-mae:0.79707\tvalidation_1-mae:0.81593\n",
      "[394]\tvalidation_0-mae:0.79699\tvalidation_1-mae:0.81590\n",
      "[395]\tvalidation_0-mae:0.79692\tvalidation_1-mae:0.81587\n",
      "[396]\tvalidation_0-mae:0.79688\tvalidation_1-mae:0.81585\n",
      "[397]\tvalidation_0-mae:0.79670\tvalidation_1-mae:0.81571\n",
      "[398]\tvalidation_0-mae:0.79658\tvalidation_1-mae:0.81564\n",
      "[399]\tvalidation_0-mae:0.79652\tvalidation_1-mae:0.81561\n",
      "[400]\tvalidation_0-mae:0.79647\tvalidation_1-mae:0.81557\n",
      "[401]\tvalidation_0-mae:0.79635\tvalidation_1-mae:0.81552\n",
      "[402]\tvalidation_0-mae:0.79627\tvalidation_1-mae:0.81548\n",
      "[403]\tvalidation_0-mae:0.79622\tvalidation_1-mae:0.81546\n",
      "[404]\tvalidation_0-mae:0.79609\tvalidation_1-mae:0.81539\n",
      "[405]\tvalidation_0-mae:0.79597\tvalidation_1-mae:0.81532\n",
      "[406]\tvalidation_0-mae:0.79590\tvalidation_1-mae:0.81529\n",
      "[407]\tvalidation_0-mae:0.79586\tvalidation_1-mae:0.81527\n",
      "[408]\tvalidation_0-mae:0.79575\tvalidation_1-mae:0.81521\n",
      "[409]\tvalidation_0-mae:0.79566\tvalidation_1-mae:0.81517\n",
      "[410]\tvalidation_0-mae:0.79561\tvalidation_1-mae:0.81514\n",
      "[411]\tvalidation_0-mae:0.79556\tvalidation_1-mae:0.81514\n",
      "[412]\tvalidation_0-mae:0.79550\tvalidation_1-mae:0.81514\n",
      "[413]\tvalidation_0-mae:0.79528\tvalidation_1-mae:0.81496\n",
      "[414]\tvalidation_0-mae:0.79518\tvalidation_1-mae:0.81488\n",
      "[415]\tvalidation_0-mae:0.79505\tvalidation_1-mae:0.81480\n",
      "[416]\tvalidation_0-mae:0.79490\tvalidation_1-mae:0.81469\n",
      "[417]\tvalidation_0-mae:0.79476\tvalidation_1-mae:0.81460\n",
      "[418]\tvalidation_0-mae:0.79463\tvalidation_1-mae:0.81452\n",
      "[419]\tvalidation_0-mae:0.79449\tvalidation_1-mae:0.81440\n",
      "[420]\tvalidation_0-mae:0.79442\tvalidation_1-mae:0.81436\n",
      "[421]\tvalidation_0-mae:0.79435\tvalidation_1-mae:0.81432\n",
      "[422]\tvalidation_0-mae:0.79429\tvalidation_1-mae:0.81431\n",
      "[423]\tvalidation_0-mae:0.79399\tvalidation_1-mae:0.81404\n",
      "[424]\tvalidation_0-mae:0.79387\tvalidation_1-mae:0.81397\n",
      "[425]\tvalidation_0-mae:0.79376\tvalidation_1-mae:0.81390\n",
      "[426]\tvalidation_0-mae:0.79366\tvalidation_1-mae:0.81384\n",
      "[427]\tvalidation_0-mae:0.79354\tvalidation_1-mae:0.81375\n",
      "[428]\tvalidation_0-mae:0.79342\tvalidation_1-mae:0.81367\n",
      "[429]\tvalidation_0-mae:0.79337\tvalidation_1-mae:0.81365\n",
      "[430]\tvalidation_0-mae:0.79328\tvalidation_1-mae:0.81361\n",
      "[431]\tvalidation_0-mae:0.79315\tvalidation_1-mae:0.81352\n",
      "[432]\tvalidation_0-mae:0.79300\tvalidation_1-mae:0.81343\n",
      "[433]\tvalidation_0-mae:0.79294\tvalidation_1-mae:0.81340\n",
      "[434]\tvalidation_0-mae:0.79282\tvalidation_1-mae:0.81333\n",
      "[435]\tvalidation_0-mae:0.79273\tvalidation_1-mae:0.81327\n",
      "[436]\tvalidation_0-mae:0.79265\tvalidation_1-mae:0.81322\n",
      "[437]\tvalidation_0-mae:0.79254\tvalidation_1-mae:0.81316\n",
      "[438]\tvalidation_0-mae:0.79242\tvalidation_1-mae:0.81309\n",
      "[439]\tvalidation_0-mae:0.79230\tvalidation_1-mae:0.81301\n",
      "[440]\tvalidation_0-mae:0.79213\tvalidation_1-mae:0.81288\n",
      "[441]\tvalidation_0-mae:0.79208\tvalidation_1-mae:0.81288\n",
      "[442]\tvalidation_0-mae:0.79200\tvalidation_1-mae:0.81283\n"
     ]
    },
    {
     "name": "stdout",
     "output_type": "stream",
     "text": [
      "[443]\tvalidation_0-mae:0.79182\tvalidation_1-mae:0.81269\n",
      "[444]\tvalidation_0-mae:0.79175\tvalidation_1-mae:0.81267\n",
      "[445]\tvalidation_0-mae:0.79167\tvalidation_1-mae:0.81264\n",
      "[446]\tvalidation_0-mae:0.79159\tvalidation_1-mae:0.81263\n",
      "[447]\tvalidation_0-mae:0.79152\tvalidation_1-mae:0.81260\n",
      "[448]\tvalidation_0-mae:0.79146\tvalidation_1-mae:0.81257\n",
      "[449]\tvalidation_0-mae:0.79142\tvalidation_1-mae:0.81255\n",
      "[450]\tvalidation_0-mae:0.79136\tvalidation_1-mae:0.81253\n",
      "[451]\tvalidation_0-mae:0.79128\tvalidation_1-mae:0.81249\n",
      "[452]\tvalidation_0-mae:0.79117\tvalidation_1-mae:0.81243\n",
      "[453]\tvalidation_0-mae:0.79111\tvalidation_1-mae:0.81242\n",
      "[454]\tvalidation_0-mae:0.79106\tvalidation_1-mae:0.81241\n",
      "[455]\tvalidation_0-mae:0.79101\tvalidation_1-mae:0.81240\n",
      "[456]\tvalidation_0-mae:0.79092\tvalidation_1-mae:0.81237\n",
      "[457]\tvalidation_0-mae:0.79088\tvalidation_1-mae:0.81238\n",
      "[458]\tvalidation_0-mae:0.79083\tvalidation_1-mae:0.81238\n",
      "[459]\tvalidation_0-mae:0.79077\tvalidation_1-mae:0.81237\n",
      "[460]\tvalidation_0-mae:0.79072\tvalidation_1-mae:0.81236\n",
      "[461]\tvalidation_0-mae:0.79067\tvalidation_1-mae:0.81235\n",
      "[462]\tvalidation_0-mae:0.79061\tvalidation_1-mae:0.81233\n",
      "[463]\tvalidation_0-mae:0.79055\tvalidation_1-mae:0.81230\n",
      "[464]\tvalidation_0-mae:0.79045\tvalidation_1-mae:0.81225\n",
      "[465]\tvalidation_0-mae:0.79038\tvalidation_1-mae:0.81221\n",
      "[466]\tvalidation_0-mae:0.79033\tvalidation_1-mae:0.81221\n",
      "[467]\tvalidation_0-mae:0.79024\tvalidation_1-mae:0.81218\n",
      "[468]\tvalidation_0-mae:0.79011\tvalidation_1-mae:0.81210\n",
      "[469]\tvalidation_0-mae:0.78999\tvalidation_1-mae:0.81203\n",
      "[470]\tvalidation_0-mae:0.78993\tvalidation_1-mae:0.81201\n",
      "[471]\tvalidation_0-mae:0.78982\tvalidation_1-mae:0.81195\n",
      "[472]\tvalidation_0-mae:0.78966\tvalidation_1-mae:0.81184\n",
      "[473]\tvalidation_0-mae:0.78959\tvalidation_1-mae:0.81182\n",
      "[474]\tvalidation_0-mae:0.78950\tvalidation_1-mae:0.81179\n",
      "[475]\tvalidation_0-mae:0.78938\tvalidation_1-mae:0.81169\n",
      "[476]\tvalidation_0-mae:0.78929\tvalidation_1-mae:0.81166\n",
      "[477]\tvalidation_0-mae:0.78922\tvalidation_1-mae:0.81165\n",
      "[478]\tvalidation_0-mae:0.78919\tvalidation_1-mae:0.81165\n",
      "[479]\tvalidation_0-mae:0.78908\tvalidation_1-mae:0.81160\n",
      "[480]\tvalidation_0-mae:0.78899\tvalidation_1-mae:0.81155\n",
      "[481]\tvalidation_0-mae:0.78892\tvalidation_1-mae:0.81153\n",
      "[482]\tvalidation_0-mae:0.78883\tvalidation_1-mae:0.81150\n",
      "[483]\tvalidation_0-mae:0.78876\tvalidation_1-mae:0.81148\n",
      "[484]\tvalidation_0-mae:0.78869\tvalidation_1-mae:0.81145\n",
      "[485]\tvalidation_0-mae:0.78858\tvalidation_1-mae:0.81136\n",
      "[486]\tvalidation_0-mae:0.78848\tvalidation_1-mae:0.81130\n",
      "[487]\tvalidation_0-mae:0.78842\tvalidation_1-mae:0.81131\n",
      "[488]\tvalidation_0-mae:0.78838\tvalidation_1-mae:0.81130\n",
      "[489]\tvalidation_0-mae:0.78833\tvalidation_1-mae:0.81127\n",
      "[490]\tvalidation_0-mae:0.78826\tvalidation_1-mae:0.81124\n",
      "[491]\tvalidation_0-mae:0.78818\tvalidation_1-mae:0.81121\n",
      "[492]\tvalidation_0-mae:0.78811\tvalidation_1-mae:0.81120\n",
      "[493]\tvalidation_0-mae:0.78801\tvalidation_1-mae:0.81116\n",
      "[494]\tvalidation_0-mae:0.78794\tvalidation_1-mae:0.81113\n",
      "[495]\tvalidation_0-mae:0.78786\tvalidation_1-mae:0.81110\n",
      "[496]\tvalidation_0-mae:0.78776\tvalidation_1-mae:0.81104\n",
      "[497]\tvalidation_0-mae:0.78772\tvalidation_1-mae:0.81103\n",
      "[498]\tvalidation_0-mae:0.78768\tvalidation_1-mae:0.81102\n",
      "[499]\tvalidation_0-mae:0.78763\tvalidation_1-mae:0.81101\n"
     ]
    },
    {
     "data": {
      "text/html": [
       "<style>#sk-container-id-2 {color: black;background-color: white;}#sk-container-id-2 pre{padding: 0;}#sk-container-id-2 div.sk-toggleable {background-color: white;}#sk-container-id-2 label.sk-toggleable__label {cursor: pointer;display: block;width: 100%;margin-bottom: 0;padding: 0.3em;box-sizing: border-box;text-align: center;}#sk-container-id-2 label.sk-toggleable__label-arrow:before {content: \"▸\";float: left;margin-right: 0.25em;color: #696969;}#sk-container-id-2 label.sk-toggleable__label-arrow:hover:before {color: black;}#sk-container-id-2 div.sk-estimator:hover label.sk-toggleable__label-arrow:before {color: black;}#sk-container-id-2 div.sk-toggleable__content {max-height: 0;max-width: 0;overflow: hidden;text-align: left;background-color: #f0f8ff;}#sk-container-id-2 div.sk-toggleable__content pre {margin: 0.2em;color: black;border-radius: 0.25em;background-color: #f0f8ff;}#sk-container-id-2 input.sk-toggleable__control:checked~div.sk-toggleable__content {max-height: 200px;max-width: 100%;overflow: auto;}#sk-container-id-2 input.sk-toggleable__control:checked~label.sk-toggleable__label-arrow:before {content: \"▾\";}#sk-container-id-2 div.sk-estimator input.sk-toggleable__control:checked~label.sk-toggleable__label {background-color: #d4ebff;}#sk-container-id-2 div.sk-label input.sk-toggleable__control:checked~label.sk-toggleable__label {background-color: #d4ebff;}#sk-container-id-2 input.sk-hidden--visually {border: 0;clip: rect(1px 1px 1px 1px);clip: rect(1px, 1px, 1px, 1px);height: 1px;margin: -1px;overflow: hidden;padding: 0;position: absolute;width: 1px;}#sk-container-id-2 div.sk-estimator {font-family: monospace;background-color: #f0f8ff;border: 1px dotted black;border-radius: 0.25em;box-sizing: border-box;margin-bottom: 0.5em;}#sk-container-id-2 div.sk-estimator:hover {background-color: #d4ebff;}#sk-container-id-2 div.sk-parallel-item::after {content: \"\";width: 100%;border-bottom: 1px solid gray;flex-grow: 1;}#sk-container-id-2 div.sk-label:hover label.sk-toggleable__label {background-color: #d4ebff;}#sk-container-id-2 div.sk-serial::before {content: \"\";position: absolute;border-left: 1px solid gray;box-sizing: border-box;top: 0;bottom: 0;left: 50%;z-index: 0;}#sk-container-id-2 div.sk-serial {display: flex;flex-direction: column;align-items: center;background-color: white;padding-right: 0.2em;padding-left: 0.2em;position: relative;}#sk-container-id-2 div.sk-item {position: relative;z-index: 1;}#sk-container-id-2 div.sk-parallel {display: flex;align-items: stretch;justify-content: center;background-color: white;position: relative;}#sk-container-id-2 div.sk-item::before, #sk-container-id-2 div.sk-parallel-item::before {content: \"\";position: absolute;border-left: 1px solid gray;box-sizing: border-box;top: 0;bottom: 0;left: 50%;z-index: -1;}#sk-container-id-2 div.sk-parallel-item {display: flex;flex-direction: column;z-index: 1;position: relative;background-color: white;}#sk-container-id-2 div.sk-parallel-item:first-child::after {align-self: flex-end;width: 50%;}#sk-container-id-2 div.sk-parallel-item:last-child::after {align-self: flex-start;width: 50%;}#sk-container-id-2 div.sk-parallel-item:only-child::after {width: 0;}#sk-container-id-2 div.sk-dashed-wrapped {border: 1px dashed gray;margin: 0 0.4em 0.5em 0.4em;box-sizing: border-box;padding-bottom: 0.4em;background-color: white;}#sk-container-id-2 div.sk-label label {font-family: monospace;font-weight: bold;display: inline-block;line-height: 1.2em;}#sk-container-id-2 div.sk-label-container {text-align: center;}#sk-container-id-2 div.sk-container {/* jupyter's `normalize.less` sets `[hidden] { display: none; }` but bootstrap.min.css set `[hidden] { display: none !important; }` so we also need the `!important` here to be able to override the default hidden behavior on the sphinx rendered scikit-learn.org. See: https://github.com/scikit-learn/scikit-learn/issues/21755 */display: inline-block !important;position: relative;}#sk-container-id-2 div.sk-text-repr-fallback {display: none;}</style><div id=\"sk-container-id-2\" class=\"sk-top-container\"><div class=\"sk-text-repr-fallback\"><pre>XGBRegressor(base_score=None, booster=None, callbacks=None,\n",
       "             colsample_bylevel=None, colsample_bynode=None,\n",
       "             colsample_bytree=None, early_stopping_rounds=10,\n",
       "             enable_categorical=False, eval_metric=&#x27;mae&#x27;, feature_types=None,\n",
       "             gamma=None, gpu_id=None, grow_policy=None, importance_type=None,\n",
       "             interaction_constraints=None, learning_rate=0.2, max_bin=None,\n",
       "             max_cat_threshold=None, max_cat_to_onehot=None,\n",
       "             max_delta_step=None, max_depth=10, max_leaves=None,\n",
       "             min_child_weight=None, missing=nan, monotone_constraints=None,\n",
       "             n_estimators=500, n_jobs=None, num_parallel_tree=None,\n",
       "             predictor=None, random_state=None, ...)</pre><b>In a Jupyter environment, please rerun this cell to show the HTML representation or trust the notebook. <br />On GitHub, the HTML representation is unable to render, please try loading this page with nbviewer.org.</b></div><div class=\"sk-container\" hidden><div class=\"sk-item\"><div class=\"sk-estimator sk-toggleable\"><input class=\"sk-toggleable__control sk-hidden--visually\" id=\"sk-estimator-id-2\" type=\"checkbox\" checked><label for=\"sk-estimator-id-2\" class=\"sk-toggleable__label sk-toggleable__label-arrow\">XGBRegressor</label><div class=\"sk-toggleable__content\"><pre>XGBRegressor(base_score=None, booster=None, callbacks=None,\n",
       "             colsample_bylevel=None, colsample_bynode=None,\n",
       "             colsample_bytree=None, early_stopping_rounds=10,\n",
       "             enable_categorical=False, eval_metric=&#x27;mae&#x27;, feature_types=None,\n",
       "             gamma=None, gpu_id=None, grow_policy=None, importance_type=None,\n",
       "             interaction_constraints=None, learning_rate=0.2, max_bin=None,\n",
       "             max_cat_threshold=None, max_cat_to_onehot=None,\n",
       "             max_delta_step=None, max_depth=10, max_leaves=None,\n",
       "             min_child_weight=None, missing=nan, monotone_constraints=None,\n",
       "             n_estimators=500, n_jobs=None, num_parallel_tree=None,\n",
       "             predictor=None, random_state=None, ...)</pre></div></div></div></div></div>"
      ],
      "text/plain": [
       "XGBRegressor(base_score=None, booster=None, callbacks=None,\n",
       "             colsample_bylevel=None, colsample_bynode=None,\n",
       "             colsample_bytree=None, early_stopping_rounds=10,\n",
       "             enable_categorical=False, eval_metric='mae', feature_types=None,\n",
       "             gamma=None, gpu_id=None, grow_policy=None, importance_type=None,\n",
       "             interaction_constraints=None, learning_rate=0.2, max_bin=None,\n",
       "             max_cat_threshold=None, max_cat_to_onehot=None,\n",
       "             max_delta_step=None, max_depth=10, max_leaves=None,\n",
       "             min_child_weight=None, missing=nan, monotone_constraints=None,\n",
       "             n_estimators=500, n_jobs=None, num_parallel_tree=None,\n",
       "             predictor=None, random_state=None, ...)"
      ]
     },
     "execution_count": 41,
     "metadata": {},
     "output_type": "execute_result"
    }
   ],
   "source": [
    "minute_model.fit(X_train, y_train['minutes_per_mile'], eval_set=eval_sets)"
   ]
  },
  {
   "cell_type": "code",
   "execution_count": 42,
   "id": "bf8585f0",
   "metadata": {},
   "outputs": [],
   "source": [
    "eval_results = minute_model.evals_result()"
   ]
  },
  {
   "cell_type": "code",
   "execution_count": 43,
   "id": "3631bb57",
   "metadata": {},
   "outputs": [],
   "source": [
    "train_scores = eval_results['validation_0']['mae']\n",
    "val_scores = eval_results['validation_1']['mae']\n",
    "epochs = range(1, len(train_scores) + 1)"
   ]
  },
  {
   "cell_type": "code",
   "execution_count": 44,
   "id": "edf5310c",
   "metadata": {},
   "outputs": [
    {
     "data": {
      "image/png": "[encoded data removed]",
      "text/plain": [
       "<Figure size 800x400 with 1 Axes>"
      ]
     },
     "metadata": {},
     "output_type": "display_data"
    }
   ],
   "source": [
    "plt.figure(figsize=(8, 4))\n",
    "plt.plot(epochs, train_scores, label='Train')\n",
    "plt.plot(epochs, val_scores, label='Validation')\n",
    "plt.xlabel('Number of Rounds')\n",
    "plt.ylabel('Mean Absolute Error (MAE)')\n",
    "plt.title('Accuracy Graph on Validation Set')\n",
    "plt.legend()\n",
    "plt.grid(True)\n",
    "plt.show()"
   ]
  },
  {
   "cell_type": "code",
   "execution_count": 45,
   "id": "28838bcb",
   "metadata": {},
   "outputs": [],
   "source": [
    "# Prediction on test data"
   ]
  },
  {
   "cell_type": "code",
   "execution_count": 46,
   "id": "e2649b0f",
   "metadata": {},
   "outputs": [],
   "source": [
    "minute_pred = minute_model.predict(X_test)"
   ]
  },
  {
   "cell_type": "code",
   "execution_count": 47,
   "id": "0719816d",
   "metadata": {},
   "outputs": [],
   "source": [
    "pred = minute_pred*X_test['trip_miles']"
   ]
  },
  {
   "cell_type": "code",
   "execution_count": 48,
   "id": "32e46433",
   "metadata": {},
   "outputs": [
    {
     "data": {
      "text/plain": [
       "2.602361981274182"
      ]
     },
     "execution_count": 48,
     "metadata": {},
     "output_type": "execute_result"
    }
   ],
   "source": [
    "MAE(y_test['trip_time'], pred)"
   ]
  },
  {
   "cell_type": "code",
   "execution_count": null,
   "id": "182b8115",
   "metadata": {},
   "outputs": [],
   "source": []
  },
  {
   "cell_type": "markdown",
   "id": "450a6cb3",
   "metadata": {},
   "source": [
    "**Percentage Improvement:**\n",
    "\n",
    "=  $\\frac{LinearRegression − XGBoost}{LinearRegression}$ *x 100*\n",
    "\n",
    "=  $\\frac{4.77 - 2.6}{4.77}$ *x 100*\n",
    "\n",
    "= ***45.4 %***"
   ]
  },
  {
   "cell_type": "code",
   "execution_count": null,
   "id": "39d2fd97",
   "metadata": {},
   "outputs": [],
   "source": []
  },
  {
   "cell_type": "markdown",
   "id": "3e4e3b24",
   "metadata": {},
   "source": [
    "### Saving model"
   ]
  },
  {
   "cell_type": "code",
   "execution_count": 118,
   "id": "90fea015",
   "metadata": {},
   "outputs": [],
   "source": [
    "# import pickle\n",
    "# pickle_out = open(\"xgb_model.pkl\", 'wb')\n",
    "# pickle.dump(minute_model, pickle_out)\n",
    "# pickle_out.close()"
   ]
  },
  {
   "cell_type": "code",
   "execution_count": null,
   "id": "11a87e31",
   "metadata": {},
   "outputs": [],
   "source": []
  }
 ],
 "metadata": {
  "kernelspec": {
   "display_name": "Python 3.10 (tensorflow)",
   "language": "python",
   "name": "tensorflow"
  },
  "language_info": {
   "codemirror_mode": {
    "name": "ipython",
    "version": 3
   },
   "file_extension": ".py",
   "mimetype": "text/x-python",
   "name": "python",
   "nbconvert_exporter": "python",
   "pygments_lexer": "ipython3",
   "version": "3.10.11"
  }
 },
 "nbformat": 4,
 "nbformat_minor": 5
}
