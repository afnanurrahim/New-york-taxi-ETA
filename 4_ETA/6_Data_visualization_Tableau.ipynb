{
 "cells": [
  {
   "cell_type": "markdown",
   "id": "8e638e5f",
   "metadata": {},
   "source": [
    "### Importing data"
   ]
  },
  {
   "cell_type": "code",
   "execution_count": 1,
   "id": "077bd528",
   "metadata": {},
   "outputs": [],
   "source": [
    "import os\n",
    "import sys\n",
    "from pyspark.sql import SparkSession, DataFrame\n",
    "from functools import reduce\n",
    "import pyspark.sql.functions as F \n",
    "import pandas as pd\n",
    "import geopy"
   ]
  },
  {
   "cell_type": "code",
   "execution_count": 2,
   "id": "d26ca72d",
   "metadata": {},
   "outputs": [],
   "source": [
    "os.environ['PYSPARK_PYTHON'] = sys.executable\n",
    "os.environ['PYSPARK_DRIVER_PYTHON'] = sys.executable"
   ]
  },
  {
   "cell_type": "code",
   "execution_count": 3,
   "id": "a45d5f33",
   "metadata": {},
   "outputs": [
    {
     "name": "stderr",
     "output_type": "stream",
     "text": [
      "24/02/04 13:38:19 WARN Utils: Your hostname, Afnanurrahim.local resolves to a loopback address: 127.0.0.1; using 192.168.29.10 instead (on interface en0)\n",
      "24/02/04 13:38:19 WARN Utils: Set SPARK_LOCAL_IP if you need to bind to another address\n",
      "Setting default log level to \"WARN\".\n",
      "To adjust logging level use sc.setLogLevel(newLevel). For SparkR, use setLogLevel(newLevel).\n",
      "24/02/04 13:38:19 WARN NativeCodeLoader: Unable to load native-hadoop library for your platform... using builtin-java classes where applicable\n"
     ]
    }
   ],
   "source": [
    "spark = SparkSession.builder.appName(\"Tableau\").getOrCreate()"
   ]
  },
  {
   "cell_type": "code",
   "execution_count": 4,
   "id": "50694729",
   "metadata": {},
   "outputs": [],
   "source": [
    "path = \"/Users/afnan/Desktop/python/Data_science_Notes/Uber_data\""
   ]
  },
  {
   "cell_type": "code",
   "execution_count": 5,
   "id": "009cf8fa",
   "metadata": {},
   "outputs": [],
   "source": [
    "all_files = os.listdir(f\"{path}/4_ETA/preprocessed/\")\n",
    "parquet_files = [file for file in all_files if file.endswith(\".parquet\")]"
   ]
  },
  {
   "cell_type": "code",
   "execution_count": 6,
   "id": "755afcae",
   "metadata": {},
   "outputs": [
    {
     "name": "stderr",
     "output_type": "stream",
     "text": [
      "                                                                                \r"
     ]
    }
   ],
   "source": [
    "df1 = spark.read.parquet(f\"{path}/4_ETA/preprocessed/{parquet_files[0]}\")\n",
    "df2 = spark.read.parquet(f\"{path}/4_ETA/preprocessed/{parquet_files[1]}\")\n",
    "df3 = spark.read.parquet(f\"{path}/4_ETA/preprocessed/{parquet_files[2]}\")\n",
    "df4 = spark.read.parquet(f\"{path}/4_ETA/preprocessed/{parquet_files[3]}\")\n",
    "df5 = spark.read.parquet(f\"{path}/4_ETA/preprocessed/{parquet_files[4]}\")\n",
    "df6 = spark.read.parquet(f\"{path}/4_ETA/preprocessed/{parquet_files[5]}\")\n",
    "df7 = spark.read.parquet(f\"{path}/4_ETA/preprocessed/{parquet_files[6]}\")\n",
    "df8 = spark.read.parquet(f\"{path}/4_ETA/preprocessed/{parquet_files[7]}\")"
   ]
  },
  {
   "cell_type": "code",
   "execution_count": 7,
   "id": "3b0c6564",
   "metadata": {},
   "outputs": [],
   "source": [
    "dfs = [df1, df2, df3, df4, df5, df6, df7, df8]\n",
    "combined_df = reduce(DataFrame.union, dfs)"
   ]
  },
  {
   "cell_type": "markdown",
   "id": "746c45ec",
   "metadata": {},
   "source": [
    "**Target feature**"
   ]
  },
  {
   "cell_type": "markdown",
   "id": "d4ae0ec4",
   "metadata": {},
   "source": [
    "The visualizations would focus on minutes_per_mile and traffic, keeping them as the main focus."
   ]
  },
  {
   "cell_type": "markdown",
   "id": "0c3cf829",
   "metadata": {},
   "source": [
    "## Time"
   ]
  },
  {
   "cell_type": "markdown",
   "id": "eded43ad",
   "metadata": {},
   "source": [
    "Imp time features include :- \"hour_of_day\",  \"day_of_week\",  \"holiday\"  and  \"month\""
   ]
  },
  {
   "cell_type": "code",
   "execution_count": 9,
   "id": "35a356e6",
   "metadata": {},
   "outputs": [
    {
     "name": "stderr",
     "output_type": "stream",
     "text": [
      "                                                                                \r"
     ]
    }
   ],
   "source": [
    "time_df = combined_df.groupBy('pickup_date', 'month', 'day_of_week', 'Holiday', 'hour_of_day')\\\n",
    "                        .agg(F.median('minutes_per_mile').alias('minutes_per_mile'),\n",
    "                             F.count('*').alias('traffic')).toPandas()"
   ]
  },
  {
   "cell_type": "code",
   "execution_count": 10,
   "id": "362abd86",
   "metadata": {},
   "outputs": [
    {
     "data": {
      "text/plain": [
       "(8760, 7)"
      ]
     },
     "execution_count": 10,
     "metadata": {},
     "output_type": "execute_result"
    }
   ],
   "source": [
    "time_df.shape"
   ]
  },
  {
   "cell_type": "code",
   "execution_count": 11,
   "id": "107c1165",
   "metadata": {},
   "outputs": [],
   "source": [
    "# Since the data is derived from the sample data which is 10% of actual data\n",
    "time_df['traffic'] *= 10"
   ]
  },
  {
   "cell_type": "code",
   "execution_count": 12,
   "id": "b4da7483",
   "metadata": {},
   "outputs": [
    {
     "data": {
      "text/html": [
       "<div>\n",
       "<style scoped>\n",
       "    .dataframe tbody tr th:only-of-type {\n",
       "        vertical-align: middle;\n",
       "    }\n",
       "\n",
       "    .dataframe tbody tr th {\n",
       "        vertical-align: top;\n",
       "    }\n",
       "\n",
       "    .dataframe thead th {\n",
       "        text-align: right;\n",
       "    }\n",
       "</style>\n",
       "<table border=\"1\" class=\"dataframe\">\n",
       "  <thead>\n",
       "    <tr style=\"text-align: right;\">\n",
       "      <th></th>\n",
       "      <th>pickup_date</th>\n",
       "      <th>month</th>\n",
       "      <th>day_of_week</th>\n",
       "      <th>Holiday</th>\n",
       "      <th>hour_of_day</th>\n",
       "      <th>minutes_per_mile</th>\n",
       "      <th>traffic</th>\n",
       "    </tr>\n",
       "  </thead>\n",
       "  <tbody>\n",
       "    <tr>\n",
       "      <th>8005</th>\n",
       "      <td>2021-06-05</td>\n",
       "      <td>June</td>\n",
       "      <td>Saturday</td>\n",
       "      <td>NA</td>\n",
       "      <td>7</td>\n",
       "      <td>3.633041</td>\n",
       "      <td>11770</td>\n",
       "    </tr>\n",
       "    <tr>\n",
       "      <th>735</th>\n",
       "      <td>2021-09-02</td>\n",
       "      <td>September</td>\n",
       "      <td>Thursday</td>\n",
       "      <td>NA</td>\n",
       "      <td>8</td>\n",
       "      <td>5.379310</td>\n",
       "      <td>18570</td>\n",
       "    </tr>\n",
       "    <tr>\n",
       "      <th>3285</th>\n",
       "      <td>2021-01-17</td>\n",
       "      <td>January</td>\n",
       "      <td>Sunday</td>\n",
       "      <td>NA</td>\n",
       "      <td>20</td>\n",
       "      <td>4.376440</td>\n",
       "      <td>17090</td>\n",
       "    </tr>\n",
       "  </tbody>\n",
       "</table>\n",
       "</div>"
      ],
      "text/plain": [
       "     pickup_date      month day_of_week Holiday  hour_of_day   \n",
       "8005  2021-06-05       June    Saturday      NA            7  \\\n",
       "735   2021-09-02  September    Thursday      NA            8   \n",
       "3285  2021-01-17    January      Sunday      NA           20   \n",
       "\n",
       "      minutes_per_mile  traffic  \n",
       "8005          3.633041    11770  \n",
       "735           5.379310    18570  \n",
       "3285          4.376440    17090  "
      ]
     },
     "execution_count": 12,
     "metadata": {},
     "output_type": "execute_result"
    }
   ],
   "source": [
    "time_df.sample(3)"
   ]
  },
  {
   "cell_type": "code",
   "execution_count": 13,
   "id": "786e045c",
   "metadata": {},
   "outputs": [],
   "source": [
    "# time_df.to_csv('Tableau/time_only.csv')"
   ]
  },
  {
   "cell_type": "code",
   "execution_count": null,
   "id": "51d26b11",
   "metadata": {},
   "outputs": [],
   "source": []
  },
  {
   "cell_type": "markdown",
   "id": "746d5692",
   "metadata": {},
   "source": [
    "## Time & location"
   ]
  },
  {
   "cell_type": "code",
   "execution_count": 14,
   "id": "74d2fb53",
   "metadata": {},
   "outputs": [],
   "source": [
    "# LocationID's relation with hour_of_day and day_of_week"
   ]
  },
  {
   "cell_type": "code",
   "execution_count": 15,
   "id": "b7762200",
   "metadata": {},
   "outputs": [
    {
     "name": "stderr",
     "output_type": "stream",
     "text": [
      "                                                                                \r"
     ]
    }
   ],
   "source": [
    "location_df = combined_df.groupBy('PULocationID', 'DOLocationID', 'hour_of_day', 'day_of_week')\\\n",
    "                        .agg(F.median('minutes_per_mile').alias('minutes_per_mile'),\n",
    "                             F.count('*').alias('traffic')).toPandas()"
   ]
  },
  {
   "cell_type": "code",
   "execution_count": 16,
   "id": "512a0471",
   "metadata": {},
   "outputs": [
    {
     "data": {
      "text/plain": [
       "(3044582, 6)"
      ]
     },
     "execution_count": 16,
     "metadata": {},
     "output_type": "execute_result"
    }
   ],
   "source": [
    "location_df.shape"
   ]
  },
  {
   "cell_type": "code",
   "execution_count": 17,
   "id": "60e44786",
   "metadata": {},
   "outputs": [],
   "source": [
    "location_df['traffic'] *= 10"
   ]
  },
  {
   "cell_type": "code",
   "execution_count": 18,
   "id": "f79ac6c3",
   "metadata": {},
   "outputs": [
    {
     "data": {
      "text/html": [
       "<div>\n",
       "<style scoped>\n",
       "    .dataframe tbody tr th:only-of-type {\n",
       "        vertical-align: middle;\n",
       "    }\n",
       "\n",
       "    .dataframe tbody tr th {\n",
       "        vertical-align: top;\n",
       "    }\n",
       "\n",
       "    .dataframe thead th {\n",
       "        text-align: right;\n",
       "    }\n",
       "</style>\n",
       "<table border=\"1\" class=\"dataframe\">\n",
       "  <thead>\n",
       "    <tr style=\"text-align: right;\">\n",
       "      <th></th>\n",
       "      <th>PULocationID</th>\n",
       "      <th>DOLocationID</th>\n",
       "      <th>hour_of_day</th>\n",
       "      <th>day_of_week</th>\n",
       "      <th>minutes_per_mile</th>\n",
       "      <th>traffic</th>\n",
       "    </tr>\n",
       "  </thead>\n",
       "  <tbody>\n",
       "    <tr>\n",
       "      <th>2184938</th>\n",
       "      <td>232</td>\n",
       "      <td>25</td>\n",
       "      <td>14</td>\n",
       "      <td>Sunday</td>\n",
       "      <td>4.794154</td>\n",
       "      <td>60</td>\n",
       "    </tr>\n",
       "    <tr>\n",
       "      <th>114219</th>\n",
       "      <td>85</td>\n",
       "      <td>91</td>\n",
       "      <td>8</td>\n",
       "      <td>Tuesday</td>\n",
       "      <td>5.412458</td>\n",
       "      <td>190</td>\n",
       "    </tr>\n",
       "    <tr>\n",
       "      <th>1763816</th>\n",
       "      <td>192</td>\n",
       "      <td>260</td>\n",
       "      <td>12</td>\n",
       "      <td>Saturday</td>\n",
       "      <td>2.927986</td>\n",
       "      <td>30</td>\n",
       "    </tr>\n",
       "  </tbody>\n",
       "</table>\n",
       "</div>"
      ],
      "text/plain": [
       "         PULocationID  DOLocationID  hour_of_day day_of_week   \n",
       "2184938           232            25           14      Sunday  \\\n",
       "114219             85            91            8     Tuesday   \n",
       "1763816           192           260           12    Saturday   \n",
       "\n",
       "         minutes_per_mile  traffic  \n",
       "2184938          4.794154       60  \n",
       "114219           5.412458      190  \n",
       "1763816          2.927986       30  "
      ]
     },
     "execution_count": 18,
     "metadata": {},
     "output_type": "execute_result"
    }
   ],
   "source": [
    "location_df.sample(3)"
   ]
  },
  {
   "cell_type": "code",
   "execution_count": 19,
   "id": "befa3c4c",
   "metadata": {},
   "outputs": [],
   "source": [
    "# neighborhood"
   ]
  },
  {
   "cell_type": "code",
   "execution_count": 20,
   "id": "66502e5c",
   "metadata": {},
   "outputs": [
    {
     "data": {
      "text/html": [
       "<div>\n",
       "<style scoped>\n",
       "    .dataframe tbody tr th:only-of-type {\n",
       "        vertical-align: middle;\n",
       "    }\n",
       "\n",
       "    .dataframe tbody tr th {\n",
       "        vertical-align: top;\n",
       "    }\n",
       "\n",
       "    .dataframe thead th {\n",
       "        text-align: right;\n",
       "    }\n",
       "</style>\n",
       "<table border=\"1\" class=\"dataframe\">\n",
       "  <thead>\n",
       "    <tr style=\"text-align: right;\">\n",
       "      <th></th>\n",
       "      <th>LocationID</th>\n",
       "      <th>Borough</th>\n",
       "      <th>Zone</th>\n",
       "      <th>service_zone</th>\n",
       "    </tr>\n",
       "  </thead>\n",
       "  <tbody>\n",
       "    <tr>\n",
       "      <th>0</th>\n",
       "      <td>1</td>\n",
       "      <td>EWR</td>\n",
       "      <td>Newark Airport</td>\n",
       "      <td>EWR</td>\n",
       "    </tr>\n",
       "    <tr>\n",
       "      <th>1</th>\n",
       "      <td>2</td>\n",
       "      <td>Queens</td>\n",
       "      <td>Jamaica Bay</td>\n",
       "      <td>Boro Zone</td>\n",
       "    </tr>\n",
       "    <tr>\n",
       "      <th>2</th>\n",
       "      <td>3</td>\n",
       "      <td>Bronx</td>\n",
       "      <td>Allerton/Pelham Gardens</td>\n",
       "      <td>Boro Zone</td>\n",
       "    </tr>\n",
       "    <tr>\n",
       "      <th>3</th>\n",
       "      <td>4</td>\n",
       "      <td>Manhattan</td>\n",
       "      <td>Alphabet City</td>\n",
       "      <td>Yellow Zone</td>\n",
       "    </tr>\n",
       "    <tr>\n",
       "      <th>4</th>\n",
       "      <td>5</td>\n",
       "      <td>Staten Island</td>\n",
       "      <td>Arden Heights</td>\n",
       "      <td>Boro Zone</td>\n",
       "    </tr>\n",
       "  </tbody>\n",
       "</table>\n",
       "</div>"
      ],
      "text/plain": [
       "   LocationID        Borough                     Zone service_zone\n",
       "0           1            EWR           Newark Airport          EWR\n",
       "1           2         Queens              Jamaica Bay    Boro Zone\n",
       "2           3          Bronx  Allerton/Pelham Gardens    Boro Zone\n",
       "3           4      Manhattan            Alphabet City  Yellow Zone\n",
       "4           5  Staten Island            Arden Heights    Boro Zone"
      ]
     },
     "execution_count": 20,
     "metadata": {},
     "output_type": "execute_result"
    }
   ],
   "source": [
    "taxi_zone_lookup = pd.read_csv(f'{path}/dataset/taxi_zone_lookup.csv')\n",
    "taxi_zone_lookup.head()"
   ]
  },
  {
   "cell_type": "code",
   "execution_count": 21,
   "id": "bcf6c082",
   "metadata": {},
   "outputs": [],
   "source": [
    "# zipcodes"
   ]
  },
  {
   "cell_type": "code",
   "execution_count": 22,
   "id": "0aa7948a",
   "metadata": {},
   "outputs": [],
   "source": [
    "lat_long_df = pd.read_csv(f\"{path}/dataset/taxi_zones/location_lat_long.csv\", \n",
    "                          usecols=[\"LocationID\", \"c_latitude\", \"c_longitude\"])"
   ]
  },
  {
   "cell_type": "code",
   "execution_count": 23,
   "id": "f7328d98",
   "metadata": {},
   "outputs": [],
   "source": [
    "def get_zipcode(df, geolocator, lat_field, lon_field, i):\n",
    "    location = geolocator.reverse((df[lat_field][i], df[lon_field][i]))\n",
    "    return location.raw['address']['postcode']"
   ]
  },
  {
   "cell_type": "code",
   "execution_count": 24,
   "id": "04caafa5",
   "metadata": {},
   "outputs": [],
   "source": [
    "geolocator = geopy.Nominatim(user_agent='user_agent')"
   ]
  },
  {
   "cell_type": "code",
   "execution_count": 25,
   "id": "61497a0b",
   "metadata": {},
   "outputs": [],
   "source": [
    "zipcodes = {}"
   ]
  },
  {
   "cell_type": "code",
   "execution_count": 26,
   "id": "f1fba689",
   "metadata": {},
   "outputs": [],
   "source": [
    "for i, loc in lat_long_df.iterrows():\n",
    "    try:\n",
    "        zipcodes[loc['LocationID']] = get_zipcode(lat_long_df, geolocator, 'c_latitude', 'c_longitude', i)\n",
    "    except:\n",
    "        pass"
   ]
  },
  {
   "cell_type": "code",
   "execution_count": 27,
   "id": "c70739e6",
   "metadata": {},
   "outputs": [],
   "source": [
    "zip_df = pd.DataFrame({\"LocationID\": zipcodes.keys(), \"zipcode\": zipcodes.values()})"
   ]
  },
  {
   "cell_type": "code",
   "execution_count": 28,
   "id": "b3572231",
   "metadata": {},
   "outputs": [],
   "source": [
    "zip_df['LocationID'] = zip_df['LocationID'].astype('int')"
   ]
  },
  {
   "cell_type": "code",
   "execution_count": null,
   "id": "b7dabf4f",
   "metadata": {},
   "outputs": [],
   "source": []
  },
  {
   "cell_type": "code",
   "execution_count": 29,
   "id": "b0cd6420",
   "metadata": {},
   "outputs": [],
   "source": [
    "location_df = location_df.merge(taxi_zone_lookup[['LocationID', 'Zone', 'Borough']], \n",
    "                                left_on='PULocationID', right_on='LocationID')\\\n",
    "                        .drop(columns='LocationID')\\\n",
    "                        .rename(columns={'Zone': 'PULocation', \"Borough\": \"PUBorough\"})\n",
    "\n",
    "location_df = location_df.merge(taxi_zone_lookup[['LocationID', 'Zone', 'Borough']], \n",
    "                                left_on='DOLocationID', right_on='LocationID')\\\n",
    "                        .drop(columns='LocationID')\\\n",
    "                        .rename(columns={'Zone': 'DOLocation', \"Borough\": \"DOBorough\"})"
   ]
  },
  {
   "cell_type": "code",
   "execution_count": 30,
   "id": "70522893",
   "metadata": {},
   "outputs": [
    {
     "data": {
      "text/html": [
       "<div>\n",
       "<style scoped>\n",
       "    .dataframe tbody tr th:only-of-type {\n",
       "        vertical-align: middle;\n",
       "    }\n",
       "\n",
       "    .dataframe tbody tr th {\n",
       "        vertical-align: top;\n",
       "    }\n",
       "\n",
       "    .dataframe thead th {\n",
       "        text-align: right;\n",
       "    }\n",
       "</style>\n",
       "<table border=\"1\" class=\"dataframe\">\n",
       "  <thead>\n",
       "    <tr style=\"text-align: right;\">\n",
       "      <th></th>\n",
       "      <th>PULocationID</th>\n",
       "      <th>DOLocationID</th>\n",
       "      <th>hour_of_day</th>\n",
       "      <th>day_of_week</th>\n",
       "      <th>minutes_per_mile</th>\n",
       "      <th>traffic</th>\n",
       "      <th>PULocation</th>\n",
       "      <th>PUBorough</th>\n",
       "      <th>DOLocation</th>\n",
       "      <th>DOBorough</th>\n",
       "    </tr>\n",
       "  </thead>\n",
       "  <tbody>\n",
       "    <tr>\n",
       "      <th>1535478</th>\n",
       "      <td>168</td>\n",
       "      <td>76</td>\n",
       "      <td>12</td>\n",
       "      <td>Sunday</td>\n",
       "      <td>1.882892</td>\n",
       "      <td>20</td>\n",
       "      <td>Mott Haven/Port Morris</td>\n",
       "      <td>Bronx</td>\n",
       "      <td>East New York</td>\n",
       "      <td>Brooklyn</td>\n",
       "    </tr>\n",
       "  </tbody>\n",
       "</table>\n",
       "</div>"
      ],
      "text/plain": [
       "         PULocationID  DOLocationID  hour_of_day day_of_week   \n",
       "1535478           168            76           12      Sunday  \\\n",
       "\n",
       "         minutes_per_mile  traffic              PULocation PUBorough   \n",
       "1535478          1.882892       20  Mott Haven/Port Morris     Bronx  \\\n",
       "\n",
       "            DOLocation DOBorough  \n",
       "1535478  East New York  Brooklyn  "
      ]
     },
     "execution_count": 30,
     "metadata": {},
     "output_type": "execute_result"
    }
   ],
   "source": [
    "location_df.sample()"
   ]
  },
  {
   "cell_type": "code",
   "execution_count": 31,
   "id": "0ee8db72",
   "metadata": {},
   "outputs": [
    {
     "data": {
      "text/plain": [
       "(36776, 10)"
      ]
     },
     "execution_count": 31,
     "metadata": {},
     "output_type": "execute_result"
    }
   ],
   "source": [
    "# trip taking place in same location\n",
    "location_df[location_df['PULocation']==location_df['DOLocation']].shape"
   ]
  },
  {
   "cell_type": "code",
   "execution_count": 32,
   "id": "fed99ea7",
   "metadata": {},
   "outputs": [],
   "source": [
    "# pickup_location != drop-off_location\n",
    "\n",
    "pulocation_df = location_df[location_df['PULocation']!=location_df['DOLocation']].copy()\n",
    "dolocation_df = location_df[location_df['PULocation']!=location_df['DOLocation']].copy()"
   ]
  },
  {
   "cell_type": "code",
   "execution_count": 33,
   "id": "d630f176",
   "metadata": {},
   "outputs": [],
   "source": [
    "pulocation_df['Location'] = pulocation_df['PULocation']\n",
    "dolocation_df['Location'] = dolocation_df['DOLocation']"
   ]
  },
  {
   "cell_type": "code",
   "execution_count": 34,
   "id": "75612e26",
   "metadata": {},
   "outputs": [],
   "source": [
    "pulocation_df['LocationID'] = pulocation_df['PULocationID']\n",
    "dolocation_df['LocationID'] = dolocation_df['DOLocationID']"
   ]
  },
  {
   "cell_type": "code",
   "execution_count": 35,
   "id": "417f08f3",
   "metadata": {},
   "outputs": [],
   "source": [
    "pulocation_df['Borough'] = pulocation_df['PUBorough']\n",
    "dolocation_df['Borough'] = dolocation_df['DOBorough']"
   ]
  },
  {
   "cell_type": "code",
   "execution_count": 36,
   "id": "450c2714",
   "metadata": {},
   "outputs": [],
   "source": [
    "diff_df = pd.concat([pulocation_df, dolocation_df])"
   ]
  },
  {
   "cell_type": "code",
   "execution_count": 37,
   "id": "5ead8af6",
   "metadata": {},
   "outputs": [],
   "source": [
    "diff_df = diff_df.groupby(['LocationID', 'Location', \"Borough\", 'hour_of_day', 'day_of_week'], as_index=False)\\\n",
    "                .agg({'minutes_per_mile': 'median', 'traffic':'sum'})"
   ]
  },
  {
   "cell_type": "code",
   "execution_count": 38,
   "id": "45061d4e",
   "metadata": {},
   "outputs": [],
   "source": [
    "# pickup_location == drop-off_location\n",
    "\n",
    "same_df = location_df[location_df['PULocation']==location_df['DOLocation']]"
   ]
  },
  {
   "cell_type": "code",
   "execution_count": 39,
   "id": "f416a257",
   "metadata": {},
   "outputs": [],
   "source": [
    "same_df = same_df.rename(columns={'PULocation': 'Location', 'PULocationID': 'LocationID', \"PUBorough\": 'Borough'})\\\n",
    "                .drop(columns=['DOLocationID', 'DOLocation', \"DOBorough\"])"
   ]
  },
  {
   "cell_type": "code",
   "execution_count": 40,
   "id": "00a38a0b",
   "metadata": {},
   "outputs": [],
   "source": [
    "individual_location_df = pd.concat([same_df, diff_df])"
   ]
  },
  {
   "cell_type": "code",
   "execution_count": 41,
   "id": "8efe2b88",
   "metadata": {},
   "outputs": [],
   "source": [
    "individual_location_df = individual_location_df.merge(zip_df, on='LocationID')"
   ]
  },
  {
   "cell_type": "code",
   "execution_count": 42,
   "id": "e5bb0dcc",
   "metadata": {},
   "outputs": [
    {
     "data": {
      "text/html": [
       "<div>\n",
       "<style scoped>\n",
       "    .dataframe tbody tr th:only-of-type {\n",
       "        vertical-align: middle;\n",
       "    }\n",
       "\n",
       "    .dataframe tbody tr th {\n",
       "        vertical-align: top;\n",
       "    }\n",
       "\n",
       "    .dataframe thead th {\n",
       "        text-align: right;\n",
       "    }\n",
       "</style>\n",
       "<table border=\"1\" class=\"dataframe\">\n",
       "  <thead>\n",
       "    <tr style=\"text-align: right;\">\n",
       "      <th></th>\n",
       "      <th>LocationID</th>\n",
       "      <th>hour_of_day</th>\n",
       "      <th>day_of_week</th>\n",
       "      <th>minutes_per_mile</th>\n",
       "      <th>traffic</th>\n",
       "      <th>Location</th>\n",
       "      <th>Borough</th>\n",
       "      <th>zipcode</th>\n",
       "    </tr>\n",
       "  </thead>\n",
       "  <tbody>\n",
       "    <tr>\n",
       "      <th>0</th>\n",
       "      <td>22</td>\n",
       "      <td>3</td>\n",
       "      <td>Friday</td>\n",
       "      <td>4.868421</td>\n",
       "      <td>70</td>\n",
       "      <td>Bensonhurst West</td>\n",
       "      <td>Brooklyn</td>\n",
       "      <td>11214</td>\n",
       "    </tr>\n",
       "    <tr>\n",
       "      <th>1</th>\n",
       "      <td>22</td>\n",
       "      <td>3</td>\n",
       "      <td>Tuesday</td>\n",
       "      <td>4.498645</td>\n",
       "      <td>30</td>\n",
       "      <td>Bensonhurst West</td>\n",
       "      <td>Brooklyn</td>\n",
       "      <td>11214</td>\n",
       "    </tr>\n",
       "    <tr>\n",
       "      <th>2</th>\n",
       "      <td>22</td>\n",
       "      <td>4</td>\n",
       "      <td>Sunday</td>\n",
       "      <td>5.057971</td>\n",
       "      <td>50</td>\n",
       "      <td>Bensonhurst West</td>\n",
       "      <td>Brooklyn</td>\n",
       "      <td>11214</td>\n",
       "    </tr>\n",
       "    <tr>\n",
       "      <th>3</th>\n",
       "      <td>22</td>\n",
       "      <td>6</td>\n",
       "      <td>Saturday</td>\n",
       "      <td>5.164835</td>\n",
       "      <td>170</td>\n",
       "      <td>Bensonhurst West</td>\n",
       "      <td>Brooklyn</td>\n",
       "      <td>11214</td>\n",
       "    </tr>\n",
       "    <tr>\n",
       "      <th>4</th>\n",
       "      <td>22</td>\n",
       "      <td>6</td>\n",
       "      <td>Tuesday</td>\n",
       "      <td>5.820767</td>\n",
       "      <td>120</td>\n",
       "      <td>Bensonhurst West</td>\n",
       "      <td>Brooklyn</td>\n",
       "      <td>11214</td>\n",
       "    </tr>\n",
       "  </tbody>\n",
       "</table>\n",
       "</div>"
      ],
      "text/plain": [
       "   LocationID  hour_of_day day_of_week  minutes_per_mile  traffic   \n",
       "0          22            3      Friday          4.868421       70  \\\n",
       "1          22            3     Tuesday          4.498645       30   \n",
       "2          22            4      Sunday          5.057971       50   \n",
       "3          22            6    Saturday          5.164835      170   \n",
       "4          22            6     Tuesday          5.820767      120   \n",
       "\n",
       "           Location   Borough zipcode  \n",
       "0  Bensonhurst West  Brooklyn   11214  \n",
       "1  Bensonhurst West  Brooklyn   11214  \n",
       "2  Bensonhurst West  Brooklyn   11214  \n",
       "3  Bensonhurst West  Brooklyn   11214  \n",
       "4  Bensonhurst West  Brooklyn   11214  "
      ]
     },
     "execution_count": 42,
     "metadata": {},
     "output_type": "execute_result"
    }
   ],
   "source": [
    "individual_location_df.head()"
   ]
  },
  {
   "cell_type": "code",
   "execution_count": 43,
   "id": "909af45e",
   "metadata": {},
   "outputs": [],
   "source": [
    "# individual_location_df.to_csv('Tableau/location_info.csv')"
   ]
  },
  {
   "cell_type": "code",
   "execution_count": null,
   "id": "e416debe",
   "metadata": {},
   "outputs": [],
   "source": []
  },
  {
   "cell_type": "markdown",
   "id": "5c768230",
   "metadata": {},
   "source": [
    "## Time & Borough"
   ]
  },
  {
   "cell_type": "code",
   "execution_count": 44,
   "id": "f966ac96",
   "metadata": {},
   "outputs": [
    {
     "name": "stderr",
     "output_type": "stream",
     "text": [
      "                                                                                \r"
     ]
    }
   ],
   "source": [
    "borough_df = combined_df.groupBy('PUBorough', 'DOBorough')\\\n",
    "                        .agg(F.count('*').alias('no_of_trips')).toPandas()"
   ]
  },
  {
   "cell_type": "code",
   "execution_count": 45,
   "id": "c0d6b180",
   "metadata": {},
   "outputs": [
    {
     "data": {
      "text/plain": [
       "(36, 3)"
      ]
     },
     "execution_count": 45,
     "metadata": {},
     "output_type": "execute_result"
    }
   ],
   "source": [
    "borough_df.shape"
   ]
  },
  {
   "cell_type": "code",
   "execution_count": 46,
   "id": "4fdeacf0",
   "metadata": {},
   "outputs": [],
   "source": [
    "borough_df['no_of_trips'] *= 10"
   ]
  },
  {
   "cell_type": "code",
   "execution_count": 47,
   "id": "5d823564",
   "metadata": {},
   "outputs": [
    {
     "data": {
      "text/html": [
       "<div>\n",
       "<style scoped>\n",
       "    .dataframe tbody tr th:only-of-type {\n",
       "        vertical-align: middle;\n",
       "    }\n",
       "\n",
       "    .dataframe tbody tr th {\n",
       "        vertical-align: top;\n",
       "    }\n",
       "\n",
       "    .dataframe thead th {\n",
       "        text-align: right;\n",
       "    }\n",
       "</style>\n",
       "<table border=\"1\" class=\"dataframe\">\n",
       "  <thead>\n",
       "    <tr style=\"text-align: right;\">\n",
       "      <th></th>\n",
       "      <th>PUBorough</th>\n",
       "      <th>DOBorough</th>\n",
       "      <th>no_of_trips</th>\n",
       "    </tr>\n",
       "  </thead>\n",
       "  <tbody>\n",
       "    <tr>\n",
       "      <th>0</th>\n",
       "      <td>EWR</td>\n",
       "      <td>Brooklyn</td>\n",
       "      <td>370</td>\n",
       "    </tr>\n",
       "    <tr>\n",
       "      <th>1</th>\n",
       "      <td>Brooklyn</td>\n",
       "      <td>Manhattan</td>\n",
       "      <td>5679500</td>\n",
       "    </tr>\n",
       "  </tbody>\n",
       "</table>\n",
       "</div>"
      ],
      "text/plain": [
       "  PUBorough  DOBorough  no_of_trips\n",
       "0       EWR   Brooklyn          370\n",
       "1  Brooklyn  Manhattan      5679500"
      ]
     },
     "execution_count": 47,
     "metadata": {},
     "output_type": "execute_result"
    }
   ],
   "source": [
    "borough_df.head(2)"
   ]
  },
  {
   "cell_type": "markdown",
   "id": "1dd383a6",
   "metadata": {},
   "source": [
    "**1. Info about trip b/w pickup and drop-off location**"
   ]
  },
  {
   "cell_type": "code",
   "execution_count": 48,
   "id": "b7fbb6fc",
   "metadata": {},
   "outputs": [],
   "source": [
    "borough_coordinates = {\n",
    "    'Borough': ['Bronx', 'Brooklyn', 'Manhattan', 'Queens', 'Staten Island', 'EWR'],\n",
    "    'Latitude': [40.8448, 40.6782, 40.7831, 40.7282, 40.5795, 40.689491],\n",
    "    'Longitude': [-73.8648, -73.9442, -73.9712, -73.7949, -74.1502, -74.174538]\n",
    "}"
   ]
  },
  {
   "cell_type": "code",
   "execution_count": 49,
   "id": "0102bb8f",
   "metadata": {},
   "outputs": [],
   "source": [
    "coordinates_df = pd.DataFrame(borough_coordinates)"
   ]
  },
  {
   "cell_type": "code",
   "execution_count": 50,
   "id": "36c431f7",
   "metadata": {},
   "outputs": [
    {
     "data": {
      "text/html": [
       "<div>\n",
       "<style scoped>\n",
       "    .dataframe tbody tr th:only-of-type {\n",
       "        vertical-align: middle;\n",
       "    }\n",
       "\n",
       "    .dataframe tbody tr th {\n",
       "        vertical-align: top;\n",
       "    }\n",
       "\n",
       "    .dataframe thead th {\n",
       "        text-align: right;\n",
       "    }\n",
       "</style>\n",
       "<table border=\"1\" class=\"dataframe\">\n",
       "  <thead>\n",
       "    <tr style=\"text-align: right;\">\n",
       "      <th></th>\n",
       "      <th>Borough</th>\n",
       "      <th>Latitude</th>\n",
       "      <th>Longitude</th>\n",
       "    </tr>\n",
       "  </thead>\n",
       "  <tbody>\n",
       "    <tr>\n",
       "      <th>0</th>\n",
       "      <td>Bronx</td>\n",
       "      <td>40.844800</td>\n",
       "      <td>-73.864800</td>\n",
       "    </tr>\n",
       "    <tr>\n",
       "      <th>1</th>\n",
       "      <td>Brooklyn</td>\n",
       "      <td>40.678200</td>\n",
       "      <td>-73.944200</td>\n",
       "    </tr>\n",
       "    <tr>\n",
       "      <th>2</th>\n",
       "      <td>Manhattan</td>\n",
       "      <td>40.783100</td>\n",
       "      <td>-73.971200</td>\n",
       "    </tr>\n",
       "    <tr>\n",
       "      <th>3</th>\n",
       "      <td>Queens</td>\n",
       "      <td>40.728200</td>\n",
       "      <td>-73.794900</td>\n",
       "    </tr>\n",
       "    <tr>\n",
       "      <th>4</th>\n",
       "      <td>Staten Island</td>\n",
       "      <td>40.579500</td>\n",
       "      <td>-74.150200</td>\n",
       "    </tr>\n",
       "    <tr>\n",
       "      <th>5</th>\n",
       "      <td>EWR</td>\n",
       "      <td>40.689491</td>\n",
       "      <td>-74.174538</td>\n",
       "    </tr>\n",
       "  </tbody>\n",
       "</table>\n",
       "</div>"
      ],
      "text/plain": [
       "         Borough   Latitude  Longitude\n",
       "0          Bronx  40.844800 -73.864800\n",
       "1       Brooklyn  40.678200 -73.944200\n",
       "2      Manhattan  40.783100 -73.971200\n",
       "3         Queens  40.728200 -73.794900\n",
       "4  Staten Island  40.579500 -74.150200\n",
       "5            EWR  40.689491 -74.174538"
      ]
     },
     "execution_count": 50,
     "metadata": {},
     "output_type": "execute_result"
    }
   ],
   "source": [
    "coordinates_df"
   ]
  },
  {
   "cell_type": "code",
   "execution_count": 51,
   "id": "7e4ed476",
   "metadata": {},
   "outputs": [],
   "source": [
    "borough_df = borough_df.merge(coordinates_df, left_on=\"PUBorough\", right_on='Borough')\\\n",
    "                        .drop(columns='Borough')\\\n",
    "                        .rename(columns={'Latitude': 'PULatitude', 'Longitude': 'PULongitude'})\n",
    "\n",
    "borough_df = borough_df.merge(coordinates_df, left_on=\"DOBorough\", right_on='Borough')\\\n",
    "                        .drop(columns='Borough')\\\n",
    "                        .rename(columns={'Latitude': 'DOLatitude', 'Longitude': 'DOLongitude'})"
   ]
  },
  {
   "cell_type": "code",
   "execution_count": 52,
   "id": "41d3afde",
   "metadata": {},
   "outputs": [
    {
     "data": {
      "text/html": [
       "<div>\n",
       "<style scoped>\n",
       "    .dataframe tbody tr th:only-of-type {\n",
       "        vertical-align: middle;\n",
       "    }\n",
       "\n",
       "    .dataframe tbody tr th {\n",
       "        vertical-align: top;\n",
       "    }\n",
       "\n",
       "    .dataframe thead th {\n",
       "        text-align: right;\n",
       "    }\n",
       "</style>\n",
       "<table border=\"1\" class=\"dataframe\">\n",
       "  <thead>\n",
       "    <tr style=\"text-align: right;\">\n",
       "      <th></th>\n",
       "      <th>PUBorough</th>\n",
       "      <th>DOBorough</th>\n",
       "      <th>no_of_trips</th>\n",
       "      <th>PULatitude</th>\n",
       "      <th>PULongitude</th>\n",
       "      <th>DOLatitude</th>\n",
       "      <th>DOLongitude</th>\n",
       "    </tr>\n",
       "  </thead>\n",
       "  <tbody>\n",
       "    <tr>\n",
       "      <th>0</th>\n",
       "      <td>EWR</td>\n",
       "      <td>Brooklyn</td>\n",
       "      <td>370</td>\n",
       "      <td>40.689491</td>\n",
       "      <td>-74.174538</td>\n",
       "      <td>40.6782</td>\n",
       "      <td>-73.9442</td>\n",
       "    </tr>\n",
       "    <tr>\n",
       "      <th>1</th>\n",
       "      <td>Brooklyn</td>\n",
       "      <td>Brooklyn</td>\n",
       "      <td>35873000</td>\n",
       "      <td>40.678200</td>\n",
       "      <td>-73.944200</td>\n",
       "      <td>40.6782</td>\n",
       "      <td>-73.9442</td>\n",
       "    </tr>\n",
       "    <tr>\n",
       "      <th>2</th>\n",
       "      <td>Manhattan</td>\n",
       "      <td>Brooklyn</td>\n",
       "      <td>5763900</td>\n",
       "      <td>40.783100</td>\n",
       "      <td>-73.971200</td>\n",
       "      <td>40.6782</td>\n",
       "      <td>-73.9442</td>\n",
       "    </tr>\n",
       "  </tbody>\n",
       "</table>\n",
       "</div>"
      ],
      "text/plain": [
       "   PUBorough DOBorough  no_of_trips  PULatitude  PULongitude  DOLatitude   \n",
       "0        EWR  Brooklyn          370   40.689491   -74.174538     40.6782  \\\n",
       "1   Brooklyn  Brooklyn     35873000   40.678200   -73.944200     40.6782   \n",
       "2  Manhattan  Brooklyn      5763900   40.783100   -73.971200     40.6782   \n",
       "\n",
       "   DOLongitude  \n",
       "0     -73.9442  \n",
       "1     -73.9442  \n",
       "2     -73.9442  "
      ]
     },
     "execution_count": 52,
     "metadata": {},
     "output_type": "execute_result"
    }
   ],
   "source": [
    "borough_df.head(3)"
   ]
  },
  {
   "cell_type": "code",
   "execution_count": 53,
   "id": "38d2882b",
   "metadata": {},
   "outputs": [],
   "source": [
    "borough_df = borough_df[borough_df['PUBorough']!=borough_df['DOBorough']]"
   ]
  },
  {
   "cell_type": "code",
   "execution_count": 54,
   "id": "4ce5af3b",
   "metadata": {},
   "outputs": [],
   "source": [
    "# borough_df.to_csv('Tableau/borough_path.csv')"
   ]
  },
  {
   "cell_type": "markdown",
   "id": "b93168f5",
   "metadata": {},
   "source": [
    "**2. Individual borough's info**"
   ]
  },
  {
   "cell_type": "code",
   "execution_count": 60,
   "id": "a8babf1f",
   "metadata": {},
   "outputs": [
    {
     "name": "stderr",
     "output_type": "stream",
     "text": [
      "                                                                                \r"
     ]
    }
   ],
   "source": [
    "borough_df = combined_df.groupBy('PUBorough', 'DOBorough', 'hour_of_day', 'day_of_week')\\\n",
    "                        .agg(F.median('minutes_per_mile').alias('minutes_per_mile'),\n",
    "                             F.count('*').alias('traffic')).toPandas()"
   ]
  },
  {
   "cell_type": "code",
   "execution_count": 61,
   "id": "1ba69bc0",
   "metadata": {},
   "outputs": [
    {
     "data": {
      "text/plain": [
       "(841, 6)"
      ]
     },
     "execution_count": 61,
     "metadata": {},
     "output_type": "execute_result"
    }
   ],
   "source": [
    "borough_df[borough_df['PUBorough']==borough_df['DOBorough']].shape"
   ]
  },
  {
   "cell_type": "code",
   "execution_count": 62,
   "id": "1e9a3058",
   "metadata": {},
   "outputs": [],
   "source": [
    "# Different PU and DO borough\n",
    "\n",
    "puborough_df = borough_df[borough_df['PUBorough']!=borough_df['DOBorough']].copy()\n",
    "doborough_df = borough_df[borough_df['PUBorough']!=borough_df['DOBorough']].copy()"
   ]
  },
  {
   "cell_type": "code",
   "execution_count": 63,
   "id": "b787a148",
   "metadata": {},
   "outputs": [],
   "source": [
    "puborough_df['Borough'] = puborough_df['PUBorough']\n",
    "doborough_df['Borough'] = doborough_df['DOBorough']"
   ]
  },
  {
   "cell_type": "code",
   "execution_count": 64,
   "id": "b4761655",
   "metadata": {},
   "outputs": [],
   "source": [
    "diff_df = pd.concat([puborough_df, doborough_df])"
   ]
  },
  {
   "cell_type": "code",
   "execution_count": 65,
   "id": "02c7e77f",
   "metadata": {},
   "outputs": [],
   "source": [
    "diff_df = diff_df.groupby(['Borough', 'hour_of_day', 'day_of_week'], as_index=False)\\\n",
    "                .agg({'minutes_per_mile': 'median', 'traffic':'sum'})"
   ]
  },
  {
   "cell_type": "code",
   "execution_count": 66,
   "id": "3d0aef4b",
   "metadata": {},
   "outputs": [],
   "source": [
    "# Same PU and DO borough\n",
    "\n",
    "same_df = borough_df[borough_df['PUBorough']==borough_df['DOBorough']]"
   ]
  },
  {
   "cell_type": "code",
   "execution_count": 67,
   "id": "df728e46",
   "metadata": {},
   "outputs": [],
   "source": [
    "same_df = same_df.rename(columns={'PUBorough': 'Borough'}).drop(columns='DOBorough')"
   ]
  },
  {
   "cell_type": "code",
   "execution_count": 68,
   "id": "802874cf",
   "metadata": {},
   "outputs": [],
   "source": [
    "# pd.concat([same_df, diff_df]).to_csv('Tableau/borough_info.csv')"
   ]
  },
  {
   "cell_type": "code",
   "execution_count": null,
   "id": "867e925f",
   "metadata": {},
   "outputs": [],
   "source": []
  }
 ],
 "metadata": {
  "kernelspec": {
   "display_name": "Python 3.10 (tensorflow)",
   "language": "python",
   "name": "tensorflow"
  },
  "language_info": {
   "codemirror_mode": {
    "name": "ipython",
    "version": 3
   },
   "file_extension": ".py",
   "mimetype": "text/x-python",
   "name": "python",
   "nbconvert_exporter": "python",
   "pygments_lexer": "ipython3",
   "version": "3.10.11"
  }
 },
 "nbformat": 4,
 "nbformat_minor": 5
}
